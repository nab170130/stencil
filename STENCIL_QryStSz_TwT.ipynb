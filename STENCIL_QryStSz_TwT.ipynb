{
  "cells": [
    {
      "cell_type": "markdown",
      "metadata": {
        "id": "fv_c0RzmVPJ3"
      },
      "source": [
        "# **Analysis of the effect of Query Set Size on the performance of Submodular methods used to solve Cold Start Problem with Twitter Sentiment Dataset**"
      ]
    },
    {
      "cell_type": "markdown",
      "metadata": {
        "id": "s_kv5luKWKDv"
      },
      "source": [
        "# Setup"
      ]
    },
    {
      "cell_type": "markdown",
      "metadata": {
        "id": "hSVRpyLgWLfY"
      },
      "source": [
        "## Get Distil and Submodlib from Decile Repo"
      ]
    },
    {
      "cell_type": "code",
      "execution_count": null,
      "metadata": {
        "colab": {
          "base_uri": "https://localhost:8080/"
        },
        "id": "t2vX5gm1RKeZ",
        "outputId": "37ae4537-a6a6-4e24-e64d-fae26bc3b791"
      },
      "outputs": [
        {
          "output_type": "stream",
          "name": "stdout",
          "text": [
            "Cloning into 'distil'...\n",
            "remote: Enumerating objects: 3498, done.\u001b[K\n",
            "remote: Counting objects: 100% (453/453), done.\u001b[K\n",
            "remote: Compressing objects: 100% (174/174), done.\u001b[K\n",
            "remote: Total 3498 (delta 302), reused 336 (delta 279), pack-reused 3045\u001b[K\n",
            "Receiving objects: 100% (3498/3498), 23.10 MiB | 21.99 MiB/s, done.\n",
            "Resolving deltas: 100% (2246/2246), done.\n",
            "Cloning into 'submodlib'...\n",
            "remote: Enumerating objects: 2570, done.\u001b[K\n",
            "remote: Counting objects: 100% (11/11), done.\u001b[K\n",
            "remote: Compressing objects: 100% (11/11), done.\u001b[K\n",
            "remote: Total 2570 (delta 2), reused 0 (delta 0), pack-reused 2559\u001b[K\n",
            "Receiving objects: 100% (2570/2570), 30.57 MiB | 13.46 MiB/s, done.\n",
            "Resolving deltas: 100% (1911/1911), done.\n"
          ]
        }
      ],
      "source": [
        "# Get DISTIL\n",
        "!git clone https://github.com/decile-team/distil.git\n",
        "\n",
        "# Get submodlib\n",
        "!git clone https://github.com/decile-team/submodlib.git"
      ]
    },
    {
      "cell_type": "markdown",
      "metadata": {
        "id": "Nu7AI_-nWnGP"
      },
      "source": [
        "## Installations"
      ]
    },
    {
      "cell_type": "markdown",
      "metadata": {
        "id": "khCtWi4OWrR0"
      },
      "source": [
        "#### *Restart runtime from here after initial install is complete*"
      ]
    },
    {
      "cell_type": "code",
      "execution_count": null,
      "metadata": {
        "colab": {
          "base_uri": "https://localhost:8080/"
        },
        "id": "eMIVziVQWqYF",
        "outputId": "0d1b0489-afd7-4d97-b546-3d12a90dfe22"
      },
      "outputs": [
        {
          "output_type": "stream",
          "name": "stdout",
          "text": [
            "\u001b[31mERROR: Could not open requirements file: [Errno 2] No such file or directory: 'distil/requirements/requirements.txt'\u001b[0m\u001b[31m\n",
            "\u001b[0mLooking in indexes: https://test.pypi.org/simple/, https://pypi.org/simple/\n",
            "Collecting sphinxcontrib-bibtex>=2.3.0 (from -r distil/requirements/requirements.txt (line 1))\n",
            "  Using cached sphinxcontrib_bibtex-2.6.1-py3-none-any.whl (40 kB)\n",
            "Collecting multipledispatch==0.6.0 (from -r distil/requirements/requirements.txt (line 2))\n",
            "  Using cached multipledispatch-0.6.0-py3-none-any.whl (11 kB)\n",
            "Collecting scikit-learn==0.23.0 (from -r distil/requirements/requirements.txt (line 3))\n",
            "  Using cached scikit-learn-0.23.0.tar.gz (7.2 MB)\n",
            "  \u001b[1;31merror\u001b[0m: \u001b[1msubprocess-exited-with-error\u001b[0m\n",
            "  \n",
            "  \u001b[31m×\u001b[0m \u001b[32mpip subprocess to install build dependencies\u001b[0m did not run successfully.\n",
            "  \u001b[31m│\u001b[0m exit code: \u001b[1;36m1\u001b[0m\n",
            "  \u001b[31m╰─>\u001b[0m See above for output.\n",
            "  \n",
            "  \u001b[1;35mnote\u001b[0m: This error originates from a subprocess, and is likely not a problem with pip.\n",
            "  Installing build dependencies ... \u001b[?25l\u001b[?25herror\n",
            "\u001b[1;31merror\u001b[0m: \u001b[1msubprocess-exited-with-error\u001b[0m\n",
            "\n",
            "\u001b[31m×\u001b[0m \u001b[32mpip subprocess to install build dependencies\u001b[0m did not run successfully.\n",
            "\u001b[31m│\u001b[0m exit code: \u001b[1;36m1\u001b[0m\n",
            "\u001b[31m╰─>\u001b[0m See above for output.\n",
            "\n",
            "\u001b[1;35mnote\u001b[0m: This error originates from a subprocess, and is likely not a problem with pip.\n",
            "Requirement already satisfied: transformers in /usr/local/lib/python3.10/dist-packages (4.35.2)\n",
            "Requirement already satisfied: filelock in /usr/local/lib/python3.10/dist-packages (from transformers) (3.13.1)\n",
            "Requirement already satisfied: huggingface-hub<1.0,>=0.16.4 in /usr/local/lib/python3.10/dist-packages (from transformers) (0.19.3)\n",
            "Requirement already satisfied: numpy>=1.17 in /usr/local/lib/python3.10/dist-packages (from transformers) (1.22.0)\n",
            "Requirement already satisfied: packaging>=20.0 in /usr/local/lib/python3.10/dist-packages (from transformers) (23.2)\n",
            "Requirement already satisfied: pyyaml>=5.1 in /usr/local/lib/python3.10/dist-packages (from transformers) (6.0.1)\n",
            "Requirement already satisfied: regex!=2019.12.17 in /usr/local/lib/python3.10/dist-packages (from transformers) (2023.6.3)\n",
            "Requirement already satisfied: requests in /usr/local/lib/python3.10/dist-packages (from transformers) (2.31.0)\n",
            "Requirement already satisfied: tokenizers<0.19,>=0.14 in /usr/local/lib/python3.10/dist-packages (from transformers) (0.15.0)\n",
            "Requirement already satisfied: safetensors>=0.3.1 in /usr/local/lib/python3.10/dist-packages (from transformers) (0.4.0)\n",
            "Requirement already satisfied: tqdm>=4.27 in /usr/local/lib/python3.10/dist-packages (from transformers) (4.66.1)\n",
            "Requirement already satisfied: fsspec>=2023.5.0 in /usr/local/lib/python3.10/dist-packages (from huggingface-hub<1.0,>=0.16.4->transformers) (2023.6.0)\n",
            "Requirement already satisfied: typing-extensions>=3.7.4.3 in /usr/local/lib/python3.10/dist-packages (from huggingface-hub<1.0,>=0.16.4->transformers) (4.5.0)\n",
            "Requirement already satisfied: charset-normalizer<4,>=2 in /usr/local/lib/python3.10/dist-packages (from requests->transformers) (3.3.2)\n",
            "Requirement already satisfied: idna<4,>=2.5 in /usr/local/lib/python3.10/dist-packages (from requests->transformers) (3.4)\n",
            "Requirement already satisfied: urllib3<3,>=1.21.1 in /usr/local/lib/python3.10/dist-packages (from requests->transformers) (2.0.7)\n",
            "Requirement already satisfied: certifi>=2017.4.17 in /usr/local/lib/python3.10/dist-packages (from requests->transformers) (2023.7.22)\n",
            "Requirement already satisfied: datasets in /usr/local/lib/python3.10/dist-packages (2.15.0)\n",
            "Requirement already satisfied: numpy>=1.17 in /usr/local/lib/python3.10/dist-packages (from datasets) (1.22.0)\n",
            "Requirement already satisfied: pyarrow>=8.0.0 in /usr/local/lib/python3.10/dist-packages (from datasets) (9.0.0)\n",
            "Requirement already satisfied: pyarrow-hotfix in /usr/local/lib/python3.10/dist-packages (from datasets) (0.5)\n",
            "Requirement already satisfied: dill<0.3.8,>=0.3.0 in /usr/local/lib/python3.10/dist-packages (from datasets) (0.3.7)\n",
            "Requirement already satisfied: pandas in /usr/local/lib/python3.10/dist-packages (from datasets) (1.5.3)\n",
            "Requirement already satisfied: requests>=2.19.0 in /usr/local/lib/python3.10/dist-packages (from datasets) (2.31.0)\n",
            "Requirement already satisfied: tqdm>=4.62.1 in /usr/local/lib/python3.10/dist-packages (from datasets) (4.66.1)\n",
            "Requirement already satisfied: xxhash in /usr/local/lib/python3.10/dist-packages (from datasets) (3.4.1)\n",
            "Requirement already satisfied: multiprocess in /usr/local/lib/python3.10/dist-packages (from datasets) (0.70.15)\n",
            "Requirement already satisfied: fsspec[http]<=2023.10.0,>=2023.1.0 in /usr/local/lib/python3.10/dist-packages (from datasets) (2023.6.0)\n",
            "Requirement already satisfied: aiohttp in /usr/local/lib/python3.10/dist-packages (from datasets) (3.8.6)\n",
            "Requirement already satisfied: huggingface-hub>=0.18.0 in /usr/local/lib/python3.10/dist-packages (from datasets) (0.19.3)\n",
            "Requirement already satisfied: packaging in /usr/local/lib/python3.10/dist-packages (from datasets) (23.2)\n",
            "Requirement already satisfied: pyyaml>=5.1 in /usr/local/lib/python3.10/dist-packages (from datasets) (6.0.1)\n",
            "Requirement already satisfied: attrs>=17.3.0 in /usr/local/lib/python3.10/dist-packages (from aiohttp->datasets) (23.1.0)\n",
            "Requirement already satisfied: charset-normalizer<4.0,>=2.0 in /usr/local/lib/python3.10/dist-packages (from aiohttp->datasets) (3.3.2)\n",
            "Requirement already satisfied: multidict<7.0,>=4.5 in /usr/local/lib/python3.10/dist-packages (from aiohttp->datasets) (6.0.4)\n",
            "Requirement already satisfied: async-timeout<5.0,>=4.0.0a3 in /usr/local/lib/python3.10/dist-packages (from aiohttp->datasets) (4.0.3)\n",
            "Requirement already satisfied: yarl<2.0,>=1.0 in /usr/local/lib/python3.10/dist-packages (from aiohttp->datasets) (1.9.2)\n",
            "Requirement already satisfied: frozenlist>=1.1.1 in /usr/local/lib/python3.10/dist-packages (from aiohttp->datasets) (1.4.0)\n",
            "Requirement already satisfied: aiosignal>=1.1.2 in /usr/local/lib/python3.10/dist-packages (from aiohttp->datasets) (1.3.1)\n",
            "Requirement already satisfied: filelock in /usr/local/lib/python3.10/dist-packages (from huggingface-hub>=0.18.0->datasets) (3.13.1)\n",
            "Requirement already satisfied: typing-extensions>=3.7.4.3 in /usr/local/lib/python3.10/dist-packages (from huggingface-hub>=0.18.0->datasets) (4.5.0)\n",
            "Requirement already satisfied: idna<4,>=2.5 in /usr/local/lib/python3.10/dist-packages (from requests>=2.19.0->datasets) (3.4)\n",
            "Requirement already satisfied: urllib3<3,>=1.21.1 in /usr/local/lib/python3.10/dist-packages (from requests>=2.19.0->datasets) (2.0.7)\n",
            "Requirement already satisfied: certifi>=2017.4.17 in /usr/local/lib/python3.10/dist-packages (from requests>=2.19.0->datasets) (2023.7.22)\n",
            "Requirement already satisfied: python-dateutil>=2.8.1 in /usr/local/lib/python3.10/dist-packages (from pandas->datasets) (2.8.2)\n",
            "Requirement already satisfied: pytz>=2020.1 in /usr/local/lib/python3.10/dist-packages (from pandas->datasets) (2023.3.post1)\n",
            "Requirement already satisfied: six>=1.5 in /usr/local/lib/python3.10/dist-packages (from python-dateutil>=2.8.1->pandas->datasets) (1.16.0)\n",
            "Obtaining file:///content/submodlib\n",
            "  Installing build dependencies ... \u001b[?25l\u001b[?25hdone\n",
            "  Checking if build backend supports build_editable ... \u001b[?25l\u001b[?25hdone\n",
            "  Getting requirements to build editable ... \u001b[?25l\u001b[?25hdone\n",
            "  Preparing editable metadata (pyproject.toml) ... \u001b[?25l\u001b[?25hdone\n",
            "Requirement already satisfied: numpy==1.22.0 in /usr/local/lib/python3.10/dist-packages (from submodlib==1.1.5) (1.22.0)\n",
            "Requirement already satisfied: scipy in /usr/local/lib/python3.10/dist-packages (from submodlib==1.1.5) (1.11.3)\n",
            "Requirement already satisfied: scikit-learn in /usr/local/lib/python3.10/dist-packages (from submodlib==1.1.5) (1.2.2)\n",
            "Requirement already satisfied: numba in /usr/local/lib/python3.10/dist-packages (from submodlib==1.1.5) (0.58.1)\n",
            "Requirement already satisfied: llvmlite<0.42,>=0.41.0dev0 in /usr/local/lib/python3.10/dist-packages (from numba->submodlib==1.1.5) (0.41.1)\n",
            "Requirement already satisfied: joblib>=1.1.1 in /usr/local/lib/python3.10/dist-packages (from scikit-learn->submodlib==1.1.5) (1.3.2)\n",
            "Requirement already satisfied: threadpoolctl>=2.0.0 in /usr/local/lib/python3.10/dist-packages (from scikit-learn->submodlib==1.1.5) (3.2.0)\n",
            "Building wheels for collected packages: submodlib\n",
            "  Building editable for submodlib (pyproject.toml) ... \u001b[?25l\u001b[?25hdone\n",
            "  Created wheel for submodlib: filename=submodlib-1.1.5-0.editable-cp310-cp310-linux_x86_64.whl size=6907 sha256=ed305557bf987faa3f4954f21b48f0fcbd5f0a10f6cd9816d5e5526f8dc8092b\n",
            "  Stored in directory: /tmp/pip-ephem-wheel-cache-__3vxzqp/wheels/38/8a/82/dcc1be631ad42bd42b29737e6f518581c869e8a7e861adfba8\n",
            "Successfully built submodlib\n",
            "Installing collected packages: submodlib\n",
            "  Attempting uninstall: submodlib\n",
            "    Found existing installation: submodlib 1.1.5\n",
            "    Uninstalling submodlib-1.1.5:\n",
            "      Successfully uninstalled submodlib-1.1.5\n",
            "Successfully installed submodlib-1.1.5\n"
          ]
        }
      ],
      "source": [
        "# Installations for DISTIL\n",
        "!cd distil && pip install -r distil/requirements/requirements.txt\n",
        "!pip install -r distil/requirements/requirements.txt\n",
        "\n",
        "# Required installations\n",
        "!pip install transformers\n",
        "!pip install datasets\n",
        "\n",
        "# Installations for Submodlib\n",
        "!pip install -e ./submodlib/"
      ]
    },
    {
      "cell_type": "markdown",
      "metadata": {
        "id": "hYX8W3kJXc_w"
      },
      "source": [
        "## Imports"
      ]
    },
    {
      "cell_type": "code",
      "execution_count": null,
      "metadata": {
        "id": "fFAzKKW6XfD4"
      },
      "outputs": [],
      "source": [
        "# Standard imports\n",
        "import copy\n",
        "import html\n",
        "import math\n",
        "import matplotlib.pyplot as plt\n",
        "import nltk\n",
        "from nltk.corpus import stopwords\n",
        "from nltk.tokenize import word_tokenize\n",
        "import numpy as np\n",
        "import os\n",
        "import pandas as pd\n",
        "import random # Import for query size sampling\n",
        "import re # Import for baseline regex matching\n",
        "from sklearn.metrics import confusion_matrix\n",
        "from sklearn.model_selection import train_test_split\n",
        "from sklearn.utils import shuffle\n",
        "import statistics as stat\n",
        "import string\n",
        "import sys\n",
        "import torch\n",
        "import torch.nn as nn\n",
        "import torch.nn.functional as F\n",
        "from torch import optim\n",
        "from torchtext.data import get_tokenizer\n",
        "from torchtext.vocab import GloVe\n",
        "import unicodedata\n",
        "\n",
        "# Imports for datasets\n",
        "from collections import Counter\n",
        "from datasets import Dataset as D\n",
        "from datasets import load_dataset, load_metric, concatenate_datasets\n",
        "from io import BytesIO\n",
        "import requests\n",
        "from torch.utils.data import DataLoader, TensorDataset, Dataset, Subset, ConcatDataset\n",
        "from tqdm.auto import tqdm\n",
        "import zipfile\n",
        "\n",
        "# Additional Imports\n",
        "from transformers import AutoTokenizer, get_scheduler, BertConfig, AdamW, BertModel\n",
        "\n",
        "# Imports for active learning\n",
        "sys.path.append('submodlib/')\n",
        "sys.path.append('distil/')\n",
        "from distil.active_learning_strategies import BADGE, SMI, EntropySampling, LeastConfidenceSampling, MarginSampling, RandomSampling   # All active learning strategies showcased in this example\n",
        "from distil.utils.utils import LabeledToUnlabeledDataset # A utility wrapper class that removes labels from labeled PyTorch dataset objects"
      ]
    },
    {
      "cell_type": "markdown",
      "metadata": {
        "id": "cVndIOjhXqb5"
      },
      "source": [
        "## Download GloVe vectorizer"
      ]
    },
    {
      "cell_type": "code",
      "execution_count": null,
      "metadata": {
        "colab": {
          "base_uri": "https://localhost:8080/"
        },
        "id": "zphCsZEhX0y-",
        "outputId": "1b3e5317-7f9a-40a8-de9e-65dd98bff050"
      },
      "outputs": [
        {
          "output_type": "stream",
          "name": "stderr",
          "text": [
            ".vector_cache/glove.6B.zip: 862MB [02:40, 5.38MB/s]                           \n",
            "100%|█████████▉| 399999/400000 [01:06<00:00, 6011.84it/s]\n"
          ]
        }
      ],
      "source": [
        "# Get a simple tokenizer from torchtext. Use GloVe embeddings from torchtext, which will automatically download them.\n",
        "glove_tokenizer     = get_tokenizer(\"basic_english\")\n",
        "glove_vectorizer    = GloVe(name='6B', dim=300)"
      ]
    },
    {
      "cell_type": "markdown",
      "metadata": {
        "id": "1rMjoK1aYbT-"
      },
      "source": [
        "The above procedure should take 15-30 minutes. The rest of the code should run quicker."
      ]
    },
    {
      "cell_type": "markdown",
      "metadata": {
        "id": "o8cBgxlqYZg1"
      },
      "source": [
        "# Data loading, sampling and pre-processing"
      ]
    },
    {
      "cell_type": "markdown",
      "metadata": {
        "id": "7KixFEv0Y6wK"
      },
      "source": [
        "## Load data from UCI_ML/Github Repository"
      ]
    },
    {
      "cell_type": "code",
      "execution_count": null,
      "metadata": {
        "id": "dyzA0jHJZg6t",
        "colab": {
          "base_uri": "https://localhost:8080/",
          "height": 603
        },
        "outputId": "7c692f04-b386-4b93-d474-0b2e78e07614"
      },
      "outputs": [
        {
          "output_type": "execute_result",
          "data": {
            "text/plain": [
              "       tweet_id airline_sentiment  airline_sentiment_confidence  \\\n",
              "0  5.703061e+17           neutral                        1.0000   \n",
              "1  5.703011e+17          positive                        0.3486   \n",
              "2  5.703011e+17           neutral                        0.6837   \n",
              "3  5.703010e+17          negative                        1.0000   \n",
              "4  5.703008e+17          negative                        1.0000   \n",
              "5  5.703008e+17          negative                        1.0000   \n",
              "6  5.703006e+17          positive                        0.6745   \n",
              "7  5.703002e+17           neutral                        0.6340   \n",
              "8  5.703000e+17          positive                        0.6559   \n",
              "9  5.702955e+17          positive                        1.0000   \n",
              "\n",
              "  negativereason  negativereason_confidence         airline  \\\n",
              "0            NaN                        NaN  Virgin America   \n",
              "1            NaN                     0.0000  Virgin America   \n",
              "2            NaN                        NaN  Virgin America   \n",
              "3     Bad Flight                     0.7033  Virgin America   \n",
              "4     Can't Tell                     1.0000  Virgin America   \n",
              "5     Can't Tell                     0.6842  Virgin America   \n",
              "6            NaN                     0.0000  Virgin America   \n",
              "7            NaN                        NaN  Virgin America   \n",
              "8            NaN                        NaN  Virgin America   \n",
              "9            NaN                        NaN  Virgin America   \n",
              "\n",
              "  airline_sentiment_gold        name negativereason_gold  retweet_count  ...  \\\n",
              "0                    NaN     cairdin                 NaN              0  ...   \n",
              "1                    NaN    jnardino                 NaN              0  ...   \n",
              "2                    NaN  yvonnalynn                 NaN              0  ...   \n",
              "3                    NaN    jnardino                 NaN              0  ...   \n",
              "4                    NaN    jnardino                 NaN              0  ...   \n",
              "5                    NaN    jnardino                 NaN              0  ...   \n",
              "6                    NaN  cjmcginnis                 NaN              0  ...   \n",
              "7                    NaN       pilot                 NaN              0  ...   \n",
              "8                    NaN    dhepburn                 NaN              0  ...   \n",
              "9                    NaN  YupitsTate                 NaN              0  ...   \n",
              "\n",
              "  tweet_coord              tweet_created    tweet_location  \\\n",
              "0         NaN  2015-02-24 11:35:52 -0800               NaN   \n",
              "1         NaN  2015-02-24 11:15:59 -0800               NaN   \n",
              "2         NaN  2015-02-24 11:15:48 -0800         Lets Play   \n",
              "3         NaN  2015-02-24 11:15:36 -0800               NaN   \n",
              "4         NaN  2015-02-24 11:14:45 -0800               NaN   \n",
              "5         NaN  2015-02-24 11:14:33 -0800               NaN   \n",
              "6         NaN  2015-02-24 11:13:57 -0800  San Francisco CA   \n",
              "7         NaN  2015-02-24 11:12:29 -0800       Los Angeles   \n",
              "8         NaN  2015-02-24 11:11:19 -0800         San Diego   \n",
              "9         NaN  2015-02-24 10:53:27 -0800       Los Angeles   \n",
              "\n",
              "                user_timezone Unnamed: 15  Unnamed: 16  Unnamed: 17  \\\n",
              "0  Eastern Time (US & Canada)         NaN          NaN          NaN   \n",
              "1  Pacific Time (US & Canada)         NaN          NaN          NaN   \n",
              "2  Central Time (US & Canada)         NaN          NaN          NaN   \n",
              "3  Pacific Time (US & Canada)         NaN          NaN          NaN   \n",
              "4  Pacific Time (US & Canada)         NaN          NaN          NaN   \n",
              "5  Pacific Time (US & Canada)         NaN          NaN          NaN   \n",
              "6  Pacific Time (US & Canada)         NaN          NaN          NaN   \n",
              "7  Pacific Time (US & Canada)         NaN          NaN          NaN   \n",
              "8  Pacific Time (US & Canada)         NaN          NaN          NaN   \n",
              "9  Eastern Time (US & Canada)         NaN          NaN          NaN   \n",
              "\n",
              "   Unnamed: 18  Unnamed: 19  Unnamed: 20  \n",
              "0          NaN          NaN          NaN  \n",
              "1          NaN          NaN          NaN  \n",
              "2          NaN          NaN          NaN  \n",
              "3          NaN          NaN          NaN  \n",
              "4          NaN          NaN          NaN  \n",
              "5          NaN          NaN          NaN  \n",
              "6          NaN          NaN          NaN  \n",
              "7          NaN          NaN          NaN  \n",
              "8          NaN          NaN          NaN  \n",
              "9          NaN          NaN          NaN  \n",
              "\n",
              "[10 rows x 21 columns]"
            ],
            "text/html": [
              "\n",
              "  <div id=\"df-bfbdf587-eee9-4136-ac8b-50841dae7ae2\" class=\"colab-df-container\">\n",
              "    <div>\n",
              "<style scoped>\n",
              "    .dataframe tbody tr th:only-of-type {\n",
              "        vertical-align: middle;\n",
              "    }\n",
              "\n",
              "    .dataframe tbody tr th {\n",
              "        vertical-align: top;\n",
              "    }\n",
              "\n",
              "    .dataframe thead th {\n",
              "        text-align: right;\n",
              "    }\n",
              "</style>\n",
              "<table border=\"1\" class=\"dataframe\">\n",
              "  <thead>\n",
              "    <tr style=\"text-align: right;\">\n",
              "      <th></th>\n",
              "      <th>tweet_id</th>\n",
              "      <th>airline_sentiment</th>\n",
              "      <th>airline_sentiment_confidence</th>\n",
              "      <th>negativereason</th>\n",
              "      <th>negativereason_confidence</th>\n",
              "      <th>airline</th>\n",
              "      <th>airline_sentiment_gold</th>\n",
              "      <th>name</th>\n",
              "      <th>negativereason_gold</th>\n",
              "      <th>retweet_count</th>\n",
              "      <th>...</th>\n",
              "      <th>tweet_coord</th>\n",
              "      <th>tweet_created</th>\n",
              "      <th>tweet_location</th>\n",
              "      <th>user_timezone</th>\n",
              "      <th>Unnamed: 15</th>\n",
              "      <th>Unnamed: 16</th>\n",
              "      <th>Unnamed: 17</th>\n",
              "      <th>Unnamed: 18</th>\n",
              "      <th>Unnamed: 19</th>\n",
              "      <th>Unnamed: 20</th>\n",
              "    </tr>\n",
              "  </thead>\n",
              "  <tbody>\n",
              "    <tr>\n",
              "      <th>0</th>\n",
              "      <td>5.703061e+17</td>\n",
              "      <td>neutral</td>\n",
              "      <td>1.0000</td>\n",
              "      <td>NaN</td>\n",
              "      <td>NaN</td>\n",
              "      <td>Virgin America</td>\n",
              "      <td>NaN</td>\n",
              "      <td>cairdin</td>\n",
              "      <td>NaN</td>\n",
              "      <td>0</td>\n",
              "      <td>...</td>\n",
              "      <td>NaN</td>\n",
              "      <td>2015-02-24 11:35:52 -0800</td>\n",
              "      <td>NaN</td>\n",
              "      <td>Eastern Time (US &amp; Canada)</td>\n",
              "      <td>NaN</td>\n",
              "      <td>NaN</td>\n",
              "      <td>NaN</td>\n",
              "      <td>NaN</td>\n",
              "      <td>NaN</td>\n",
              "      <td>NaN</td>\n",
              "    </tr>\n",
              "    <tr>\n",
              "      <th>1</th>\n",
              "      <td>5.703011e+17</td>\n",
              "      <td>positive</td>\n",
              "      <td>0.3486</td>\n",
              "      <td>NaN</td>\n",
              "      <td>0.0000</td>\n",
              "      <td>Virgin America</td>\n",
              "      <td>NaN</td>\n",
              "      <td>jnardino</td>\n",
              "      <td>NaN</td>\n",
              "      <td>0</td>\n",
              "      <td>...</td>\n",
              "      <td>NaN</td>\n",
              "      <td>2015-02-24 11:15:59 -0800</td>\n",
              "      <td>NaN</td>\n",
              "      <td>Pacific Time (US &amp; Canada)</td>\n",
              "      <td>NaN</td>\n",
              "      <td>NaN</td>\n",
              "      <td>NaN</td>\n",
              "      <td>NaN</td>\n",
              "      <td>NaN</td>\n",
              "      <td>NaN</td>\n",
              "    </tr>\n",
              "    <tr>\n",
              "      <th>2</th>\n",
              "      <td>5.703011e+17</td>\n",
              "      <td>neutral</td>\n",
              "      <td>0.6837</td>\n",
              "      <td>NaN</td>\n",
              "      <td>NaN</td>\n",
              "      <td>Virgin America</td>\n",
              "      <td>NaN</td>\n",
              "      <td>yvonnalynn</td>\n",
              "      <td>NaN</td>\n",
              "      <td>0</td>\n",
              "      <td>...</td>\n",
              "      <td>NaN</td>\n",
              "      <td>2015-02-24 11:15:48 -0800</td>\n",
              "      <td>Lets Play</td>\n",
              "      <td>Central Time (US &amp; Canada)</td>\n",
              "      <td>NaN</td>\n",
              "      <td>NaN</td>\n",
              "      <td>NaN</td>\n",
              "      <td>NaN</td>\n",
              "      <td>NaN</td>\n",
              "      <td>NaN</td>\n",
              "    </tr>\n",
              "    <tr>\n",
              "      <th>3</th>\n",
              "      <td>5.703010e+17</td>\n",
              "      <td>negative</td>\n",
              "      <td>1.0000</td>\n",
              "      <td>Bad Flight</td>\n",
              "      <td>0.7033</td>\n",
              "      <td>Virgin America</td>\n",
              "      <td>NaN</td>\n",
              "      <td>jnardino</td>\n",
              "      <td>NaN</td>\n",
              "      <td>0</td>\n",
              "      <td>...</td>\n",
              "      <td>NaN</td>\n",
              "      <td>2015-02-24 11:15:36 -0800</td>\n",
              "      <td>NaN</td>\n",
              "      <td>Pacific Time (US &amp; Canada)</td>\n",
              "      <td>NaN</td>\n",
              "      <td>NaN</td>\n",
              "      <td>NaN</td>\n",
              "      <td>NaN</td>\n",
              "      <td>NaN</td>\n",
              "      <td>NaN</td>\n",
              "    </tr>\n",
              "    <tr>\n",
              "      <th>4</th>\n",
              "      <td>5.703008e+17</td>\n",
              "      <td>negative</td>\n",
              "      <td>1.0000</td>\n",
              "      <td>Can't Tell</td>\n",
              "      <td>1.0000</td>\n",
              "      <td>Virgin America</td>\n",
              "      <td>NaN</td>\n",
              "      <td>jnardino</td>\n",
              "      <td>NaN</td>\n",
              "      <td>0</td>\n",
              "      <td>...</td>\n",
              "      <td>NaN</td>\n",
              "      <td>2015-02-24 11:14:45 -0800</td>\n",
              "      <td>NaN</td>\n",
              "      <td>Pacific Time (US &amp; Canada)</td>\n",
              "      <td>NaN</td>\n",
              "      <td>NaN</td>\n",
              "      <td>NaN</td>\n",
              "      <td>NaN</td>\n",
              "      <td>NaN</td>\n",
              "      <td>NaN</td>\n",
              "    </tr>\n",
              "    <tr>\n",
              "      <th>5</th>\n",
              "      <td>5.703008e+17</td>\n",
              "      <td>negative</td>\n",
              "      <td>1.0000</td>\n",
              "      <td>Can't Tell</td>\n",
              "      <td>0.6842</td>\n",
              "      <td>Virgin America</td>\n",
              "      <td>NaN</td>\n",
              "      <td>jnardino</td>\n",
              "      <td>NaN</td>\n",
              "      <td>0</td>\n",
              "      <td>...</td>\n",
              "      <td>NaN</td>\n",
              "      <td>2015-02-24 11:14:33 -0800</td>\n",
              "      <td>NaN</td>\n",
              "      <td>Pacific Time (US &amp; Canada)</td>\n",
              "      <td>NaN</td>\n",
              "      <td>NaN</td>\n",
              "      <td>NaN</td>\n",
              "      <td>NaN</td>\n",
              "      <td>NaN</td>\n",
              "      <td>NaN</td>\n",
              "    </tr>\n",
              "    <tr>\n",
              "      <th>6</th>\n",
              "      <td>5.703006e+17</td>\n",
              "      <td>positive</td>\n",
              "      <td>0.6745</td>\n",
              "      <td>NaN</td>\n",
              "      <td>0.0000</td>\n",
              "      <td>Virgin America</td>\n",
              "      <td>NaN</td>\n",
              "      <td>cjmcginnis</td>\n",
              "      <td>NaN</td>\n",
              "      <td>0</td>\n",
              "      <td>...</td>\n",
              "      <td>NaN</td>\n",
              "      <td>2015-02-24 11:13:57 -0800</td>\n",
              "      <td>San Francisco CA</td>\n",
              "      <td>Pacific Time (US &amp; Canada)</td>\n",
              "      <td>NaN</td>\n",
              "      <td>NaN</td>\n",
              "      <td>NaN</td>\n",
              "      <td>NaN</td>\n",
              "      <td>NaN</td>\n",
              "      <td>NaN</td>\n",
              "    </tr>\n",
              "    <tr>\n",
              "      <th>7</th>\n",
              "      <td>5.703002e+17</td>\n",
              "      <td>neutral</td>\n",
              "      <td>0.6340</td>\n",
              "      <td>NaN</td>\n",
              "      <td>NaN</td>\n",
              "      <td>Virgin America</td>\n",
              "      <td>NaN</td>\n",
              "      <td>pilot</td>\n",
              "      <td>NaN</td>\n",
              "      <td>0</td>\n",
              "      <td>...</td>\n",
              "      <td>NaN</td>\n",
              "      <td>2015-02-24 11:12:29 -0800</td>\n",
              "      <td>Los Angeles</td>\n",
              "      <td>Pacific Time (US &amp; Canada)</td>\n",
              "      <td>NaN</td>\n",
              "      <td>NaN</td>\n",
              "      <td>NaN</td>\n",
              "      <td>NaN</td>\n",
              "      <td>NaN</td>\n",
              "      <td>NaN</td>\n",
              "    </tr>\n",
              "    <tr>\n",
              "      <th>8</th>\n",
              "      <td>5.703000e+17</td>\n",
              "      <td>positive</td>\n",
              "      <td>0.6559</td>\n",
              "      <td>NaN</td>\n",
              "      <td>NaN</td>\n",
              "      <td>Virgin America</td>\n",
              "      <td>NaN</td>\n",
              "      <td>dhepburn</td>\n",
              "      <td>NaN</td>\n",
              "      <td>0</td>\n",
              "      <td>...</td>\n",
              "      <td>NaN</td>\n",
              "      <td>2015-02-24 11:11:19 -0800</td>\n",
              "      <td>San Diego</td>\n",
              "      <td>Pacific Time (US &amp; Canada)</td>\n",
              "      <td>NaN</td>\n",
              "      <td>NaN</td>\n",
              "      <td>NaN</td>\n",
              "      <td>NaN</td>\n",
              "      <td>NaN</td>\n",
              "      <td>NaN</td>\n",
              "    </tr>\n",
              "    <tr>\n",
              "      <th>9</th>\n",
              "      <td>5.702955e+17</td>\n",
              "      <td>positive</td>\n",
              "      <td>1.0000</td>\n",
              "      <td>NaN</td>\n",
              "      <td>NaN</td>\n",
              "      <td>Virgin America</td>\n",
              "      <td>NaN</td>\n",
              "      <td>YupitsTate</td>\n",
              "      <td>NaN</td>\n",
              "      <td>0</td>\n",
              "      <td>...</td>\n",
              "      <td>NaN</td>\n",
              "      <td>2015-02-24 10:53:27 -0800</td>\n",
              "      <td>Los Angeles</td>\n",
              "      <td>Eastern Time (US &amp; Canada)</td>\n",
              "      <td>NaN</td>\n",
              "      <td>NaN</td>\n",
              "      <td>NaN</td>\n",
              "      <td>NaN</td>\n",
              "      <td>NaN</td>\n",
              "      <td>NaN</td>\n",
              "    </tr>\n",
              "  </tbody>\n",
              "</table>\n",
              "<p>10 rows × 21 columns</p>\n",
              "</div>\n",
              "    <div class=\"colab-df-buttons\">\n",
              "\n",
              "  <div class=\"colab-df-container\">\n",
              "    <button class=\"colab-df-convert\" onclick=\"convertToInteractive('df-bfbdf587-eee9-4136-ac8b-50841dae7ae2')\"\n",
              "            title=\"Convert this dataframe to an interactive table.\"\n",
              "            style=\"display:none;\">\n",
              "\n",
              "  <svg xmlns=\"http://www.w3.org/2000/svg\" height=\"24px\" viewBox=\"0 -960 960 960\">\n",
              "    <path d=\"M120-120v-720h720v720H120Zm60-500h600v-160H180v160Zm220 220h160v-160H400v160Zm0 220h160v-160H400v160ZM180-400h160v-160H180v160Zm440 0h160v-160H620v160ZM180-180h160v-160H180v160Zm440 0h160v-160H620v160Z\"/>\n",
              "  </svg>\n",
              "    </button>\n",
              "\n",
              "  <style>\n",
              "    .colab-df-container {\n",
              "      display:flex;\n",
              "      gap: 12px;\n",
              "    }\n",
              "\n",
              "    .colab-df-convert {\n",
              "      background-color: #E8F0FE;\n",
              "      border: none;\n",
              "      border-radius: 50%;\n",
              "      cursor: pointer;\n",
              "      display: none;\n",
              "      fill: #1967D2;\n",
              "      height: 32px;\n",
              "      padding: 0 0 0 0;\n",
              "      width: 32px;\n",
              "    }\n",
              "\n",
              "    .colab-df-convert:hover {\n",
              "      background-color: #E2EBFA;\n",
              "      box-shadow: 0px 1px 2px rgba(60, 64, 67, 0.3), 0px 1px 3px 1px rgba(60, 64, 67, 0.15);\n",
              "      fill: #174EA6;\n",
              "    }\n",
              "\n",
              "    .colab-df-buttons div {\n",
              "      margin-bottom: 4px;\n",
              "    }\n",
              "\n",
              "    [theme=dark] .colab-df-convert {\n",
              "      background-color: #3B4455;\n",
              "      fill: #D2E3FC;\n",
              "    }\n",
              "\n",
              "    [theme=dark] .colab-df-convert:hover {\n",
              "      background-color: #434B5C;\n",
              "      box-shadow: 0px 1px 3px 1px rgba(0, 0, 0, 0.15);\n",
              "      filter: drop-shadow(0px 1px 2px rgba(0, 0, 0, 0.3));\n",
              "      fill: #FFFFFF;\n",
              "    }\n",
              "  </style>\n",
              "\n",
              "    <script>\n",
              "      const buttonEl =\n",
              "        document.querySelector('#df-bfbdf587-eee9-4136-ac8b-50841dae7ae2 button.colab-df-convert');\n",
              "      buttonEl.style.display =\n",
              "        google.colab.kernel.accessAllowed ? 'block' : 'none';\n",
              "\n",
              "      async function convertToInteractive(key) {\n",
              "        const element = document.querySelector('#df-bfbdf587-eee9-4136-ac8b-50841dae7ae2');\n",
              "        const dataTable =\n",
              "          await google.colab.kernel.invokeFunction('convertToInteractive',\n",
              "                                                    [key], {});\n",
              "        if (!dataTable) return;\n",
              "\n",
              "        const docLinkHtml = 'Like what you see? Visit the ' +\n",
              "          '<a target=\"_blank\" href=https://colab.research.google.com/notebooks/data_table.ipynb>data table notebook</a>'\n",
              "          + ' to learn more about interactive tables.';\n",
              "        element.innerHTML = '';\n",
              "        dataTable['output_type'] = 'display_data';\n",
              "        await google.colab.output.renderOutput(dataTable, element);\n",
              "        const docLink = document.createElement('div');\n",
              "        docLink.innerHTML = docLinkHtml;\n",
              "        element.appendChild(docLink);\n",
              "      }\n",
              "    </script>\n",
              "  </div>\n",
              "\n",
              "\n",
              "<div id=\"df-0b8cd72a-d482-4575-8949-af9a5a484ce9\">\n",
              "  <button class=\"colab-df-quickchart\" onclick=\"quickchart('df-0b8cd72a-d482-4575-8949-af9a5a484ce9')\"\n",
              "            title=\"Suggest charts\"\n",
              "            style=\"display:none;\">\n",
              "\n",
              "<svg xmlns=\"http://www.w3.org/2000/svg\" height=\"24px\"viewBox=\"0 0 24 24\"\n",
              "     width=\"24px\">\n",
              "    <g>\n",
              "        <path d=\"M19 3H5c-1.1 0-2 .9-2 2v14c0 1.1.9 2 2 2h14c1.1 0 2-.9 2-2V5c0-1.1-.9-2-2-2zM9 17H7v-7h2v7zm4 0h-2V7h2v10zm4 0h-2v-4h2v4z\"/>\n",
              "    </g>\n",
              "</svg>\n",
              "  </button>\n",
              "\n",
              "<style>\n",
              "  .colab-df-quickchart {\n",
              "      --bg-color: #E8F0FE;\n",
              "      --fill-color: #1967D2;\n",
              "      --hover-bg-color: #E2EBFA;\n",
              "      --hover-fill-color: #174EA6;\n",
              "      --disabled-fill-color: #AAA;\n",
              "      --disabled-bg-color: #DDD;\n",
              "  }\n",
              "\n",
              "  [theme=dark] .colab-df-quickchart {\n",
              "      --bg-color: #3B4455;\n",
              "      --fill-color: #D2E3FC;\n",
              "      --hover-bg-color: #434B5C;\n",
              "      --hover-fill-color: #FFFFFF;\n",
              "      --disabled-bg-color: #3B4455;\n",
              "      --disabled-fill-color: #666;\n",
              "  }\n",
              "\n",
              "  .colab-df-quickchart {\n",
              "    background-color: var(--bg-color);\n",
              "    border: none;\n",
              "    border-radius: 50%;\n",
              "    cursor: pointer;\n",
              "    display: none;\n",
              "    fill: var(--fill-color);\n",
              "    height: 32px;\n",
              "    padding: 0;\n",
              "    width: 32px;\n",
              "  }\n",
              "\n",
              "  .colab-df-quickchart:hover {\n",
              "    background-color: var(--hover-bg-color);\n",
              "    box-shadow: 0 1px 2px rgba(60, 64, 67, 0.3), 0 1px 3px 1px rgba(60, 64, 67, 0.15);\n",
              "    fill: var(--button-hover-fill-color);\n",
              "  }\n",
              "\n",
              "  .colab-df-quickchart-complete:disabled,\n",
              "  .colab-df-quickchart-complete:disabled:hover {\n",
              "    background-color: var(--disabled-bg-color);\n",
              "    fill: var(--disabled-fill-color);\n",
              "    box-shadow: none;\n",
              "  }\n",
              "\n",
              "  .colab-df-spinner {\n",
              "    border: 2px solid var(--fill-color);\n",
              "    border-color: transparent;\n",
              "    border-bottom-color: var(--fill-color);\n",
              "    animation:\n",
              "      spin 1s steps(1) infinite;\n",
              "  }\n",
              "\n",
              "  @keyframes spin {\n",
              "    0% {\n",
              "      border-color: transparent;\n",
              "      border-bottom-color: var(--fill-color);\n",
              "      border-left-color: var(--fill-color);\n",
              "    }\n",
              "    20% {\n",
              "      border-color: transparent;\n",
              "      border-left-color: var(--fill-color);\n",
              "      border-top-color: var(--fill-color);\n",
              "    }\n",
              "    30% {\n",
              "      border-color: transparent;\n",
              "      border-left-color: var(--fill-color);\n",
              "      border-top-color: var(--fill-color);\n",
              "      border-right-color: var(--fill-color);\n",
              "    }\n",
              "    40% {\n",
              "      border-color: transparent;\n",
              "      border-right-color: var(--fill-color);\n",
              "      border-top-color: var(--fill-color);\n",
              "    }\n",
              "    60% {\n",
              "      border-color: transparent;\n",
              "      border-right-color: var(--fill-color);\n",
              "    }\n",
              "    80% {\n",
              "      border-color: transparent;\n",
              "      border-right-color: var(--fill-color);\n",
              "      border-bottom-color: var(--fill-color);\n",
              "    }\n",
              "    90% {\n",
              "      border-color: transparent;\n",
              "      border-bottom-color: var(--fill-color);\n",
              "    }\n",
              "  }\n",
              "</style>\n",
              "\n",
              "  <script>\n",
              "    async function quickchart(key) {\n",
              "      const quickchartButtonEl =\n",
              "        document.querySelector('#' + key + ' button');\n",
              "      quickchartButtonEl.disabled = true;  // To prevent multiple clicks.\n",
              "      quickchartButtonEl.classList.add('colab-df-spinner');\n",
              "      try {\n",
              "        const charts = await google.colab.kernel.invokeFunction(\n",
              "            'suggestCharts', [key], {});\n",
              "      } catch (error) {\n",
              "        console.error('Error during call to suggestCharts:', error);\n",
              "      }\n",
              "      quickchartButtonEl.classList.remove('colab-df-spinner');\n",
              "      quickchartButtonEl.classList.add('colab-df-quickchart-complete');\n",
              "    }\n",
              "    (() => {\n",
              "      let quickchartButtonEl =\n",
              "        document.querySelector('#df-0b8cd72a-d482-4575-8949-af9a5a484ce9 button');\n",
              "      quickchartButtonEl.style.display =\n",
              "        google.colab.kernel.accessAllowed ? 'block' : 'none';\n",
              "    })();\n",
              "  </script>\n",
              "</div>\n",
              "    </div>\n",
              "  </div>\n"
            ]
          },
          "metadata": {},
          "execution_count": 4
        }
      ],
      "source": [
        "# URL of the CSV file containing the Tweet Sentiment Collection dataset\n",
        "tweet_url = \"https://raw.github.com/ayushbits/robust-aggregate-lfs/main/reef/data/twitter/Tweets.csv\"\n",
        "\n",
        "# Load the data, skipping bad lines\n",
        "tweet_df = pd.read_csv(tweet_url, on_bad_lines='skip')\n",
        "\n",
        "# Display tweet dataframe data\n",
        "tweet_df.head(10)"
      ]
    },
    {
      "cell_type": "markdown",
      "metadata": {
        "id": "7511yzYmZ-7B"
      },
      "source": [
        "### Drop irrelevant columns and rename the sentiment column and labels"
      ]
    },
    {
      "cell_type": "code",
      "execution_count": null,
      "metadata": {
        "id": "EBA538ymaCfN"
      },
      "outputs": [],
      "source": [
        "# Rename the columns\n",
        "tweet_df = tweet_df.rename(columns={'airline_sentiment': 'labels'})\n",
        "\n",
        "# Keep only text and labels columns\n",
        "tweet_df = tweet_df[['text', 'labels']]\n",
        "\n",
        "# Replace 'positive' with 1 and 'negative' with 0 (we will not be using neutral sentiment)\n",
        "tweet_df['labels'] = tweet_df['labels'].replace({'positive': 1, 'negative': 0})"
      ]
    },
    {
      "cell_type": "code",
      "execution_count": null,
      "metadata": {
        "id": "hrbLu5StXjLf",
        "colab": {
          "base_uri": "https://localhost:8080/",
          "height": 363
        },
        "outputId": "e6e691ea-38b6-40f9-b482-77781975dbaa"
      },
      "outputs": [
        {
          "output_type": "execute_result",
          "data": {
            "text/plain": [
              "                                                text   labels\n",
              "0                @VirginAmerica What @dhepburn said.  neutral\n",
              "1  @VirginAmerica plus you've added commercials t...        1\n",
              "2  @VirginAmerica I didn't today... Must mean I n...  neutral\n",
              "3  @VirginAmerica it's really aggressive to blast...        0\n",
              "4  @VirginAmerica and it's a really big bad thing...        0\n",
              "5  @VirginAmerica seriously would pay $30 a fligh...        0\n",
              "6  @VirginAmerica yes, nearly every time I fly VX...        1\n",
              "7  @VirginAmerica Really missed a prime opportuni...  neutral\n",
              "8    @virginamerica Well, I didn't…but NOW I DO! :-D        1\n",
              "9  @VirginAmerica it was amazing, and arrived an ...        1"
            ],
            "text/html": [
              "\n",
              "  <div id=\"df-89e68252-d7e0-4e3a-8925-82d1a0c8a655\" class=\"colab-df-container\">\n",
              "    <div>\n",
              "<style scoped>\n",
              "    .dataframe tbody tr th:only-of-type {\n",
              "        vertical-align: middle;\n",
              "    }\n",
              "\n",
              "    .dataframe tbody tr th {\n",
              "        vertical-align: top;\n",
              "    }\n",
              "\n",
              "    .dataframe thead th {\n",
              "        text-align: right;\n",
              "    }\n",
              "</style>\n",
              "<table border=\"1\" class=\"dataframe\">\n",
              "  <thead>\n",
              "    <tr style=\"text-align: right;\">\n",
              "      <th></th>\n",
              "      <th>text</th>\n",
              "      <th>labels</th>\n",
              "    </tr>\n",
              "  </thead>\n",
              "  <tbody>\n",
              "    <tr>\n",
              "      <th>0</th>\n",
              "      <td>@VirginAmerica What @dhepburn said.</td>\n",
              "      <td>neutral</td>\n",
              "    </tr>\n",
              "    <tr>\n",
              "      <th>1</th>\n",
              "      <td>@VirginAmerica plus you've added commercials t...</td>\n",
              "      <td>1</td>\n",
              "    </tr>\n",
              "    <tr>\n",
              "      <th>2</th>\n",
              "      <td>@VirginAmerica I didn't today... Must mean I n...</td>\n",
              "      <td>neutral</td>\n",
              "    </tr>\n",
              "    <tr>\n",
              "      <th>3</th>\n",
              "      <td>@VirginAmerica it's really aggressive to blast...</td>\n",
              "      <td>0</td>\n",
              "    </tr>\n",
              "    <tr>\n",
              "      <th>4</th>\n",
              "      <td>@VirginAmerica and it's a really big bad thing...</td>\n",
              "      <td>0</td>\n",
              "    </tr>\n",
              "    <tr>\n",
              "      <th>5</th>\n",
              "      <td>@VirginAmerica seriously would pay $30 a fligh...</td>\n",
              "      <td>0</td>\n",
              "    </tr>\n",
              "    <tr>\n",
              "      <th>6</th>\n",
              "      <td>@VirginAmerica yes, nearly every time I fly VX...</td>\n",
              "      <td>1</td>\n",
              "    </tr>\n",
              "    <tr>\n",
              "      <th>7</th>\n",
              "      <td>@VirginAmerica Really missed a prime opportuni...</td>\n",
              "      <td>neutral</td>\n",
              "    </tr>\n",
              "    <tr>\n",
              "      <th>8</th>\n",
              "      <td>@virginamerica Well, I didn't…but NOW I DO! :-D</td>\n",
              "      <td>1</td>\n",
              "    </tr>\n",
              "    <tr>\n",
              "      <th>9</th>\n",
              "      <td>@VirginAmerica it was amazing, and arrived an ...</td>\n",
              "      <td>1</td>\n",
              "    </tr>\n",
              "  </tbody>\n",
              "</table>\n",
              "</div>\n",
              "    <div class=\"colab-df-buttons\">\n",
              "\n",
              "  <div class=\"colab-df-container\">\n",
              "    <button class=\"colab-df-convert\" onclick=\"convertToInteractive('df-89e68252-d7e0-4e3a-8925-82d1a0c8a655')\"\n",
              "            title=\"Convert this dataframe to an interactive table.\"\n",
              "            style=\"display:none;\">\n",
              "\n",
              "  <svg xmlns=\"http://www.w3.org/2000/svg\" height=\"24px\" viewBox=\"0 -960 960 960\">\n",
              "    <path d=\"M120-120v-720h720v720H120Zm60-500h600v-160H180v160Zm220 220h160v-160H400v160Zm0 220h160v-160H400v160ZM180-400h160v-160H180v160Zm440 0h160v-160H620v160ZM180-180h160v-160H180v160Zm440 0h160v-160H620v160Z\"/>\n",
              "  </svg>\n",
              "    </button>\n",
              "\n",
              "  <style>\n",
              "    .colab-df-container {\n",
              "      display:flex;\n",
              "      gap: 12px;\n",
              "    }\n",
              "\n",
              "    .colab-df-convert {\n",
              "      background-color: #E8F0FE;\n",
              "      border: none;\n",
              "      border-radius: 50%;\n",
              "      cursor: pointer;\n",
              "      display: none;\n",
              "      fill: #1967D2;\n",
              "      height: 32px;\n",
              "      padding: 0 0 0 0;\n",
              "      width: 32px;\n",
              "    }\n",
              "\n",
              "    .colab-df-convert:hover {\n",
              "      background-color: #E2EBFA;\n",
              "      box-shadow: 0px 1px 2px rgba(60, 64, 67, 0.3), 0px 1px 3px 1px rgba(60, 64, 67, 0.15);\n",
              "      fill: #174EA6;\n",
              "    }\n",
              "\n",
              "    .colab-df-buttons div {\n",
              "      margin-bottom: 4px;\n",
              "    }\n",
              "\n",
              "    [theme=dark] .colab-df-convert {\n",
              "      background-color: #3B4455;\n",
              "      fill: #D2E3FC;\n",
              "    }\n",
              "\n",
              "    [theme=dark] .colab-df-convert:hover {\n",
              "      background-color: #434B5C;\n",
              "      box-shadow: 0px 1px 3px 1px rgba(0, 0, 0, 0.15);\n",
              "      filter: drop-shadow(0px 1px 2px rgba(0, 0, 0, 0.3));\n",
              "      fill: #FFFFFF;\n",
              "    }\n",
              "  </style>\n",
              "\n",
              "    <script>\n",
              "      const buttonEl =\n",
              "        document.querySelector('#df-89e68252-d7e0-4e3a-8925-82d1a0c8a655 button.colab-df-convert');\n",
              "      buttonEl.style.display =\n",
              "        google.colab.kernel.accessAllowed ? 'block' : 'none';\n",
              "\n",
              "      async function convertToInteractive(key) {\n",
              "        const element = document.querySelector('#df-89e68252-d7e0-4e3a-8925-82d1a0c8a655');\n",
              "        const dataTable =\n",
              "          await google.colab.kernel.invokeFunction('convertToInteractive',\n",
              "                                                    [key], {});\n",
              "        if (!dataTable) return;\n",
              "\n",
              "        const docLinkHtml = 'Like what you see? Visit the ' +\n",
              "          '<a target=\"_blank\" href=https://colab.research.google.com/notebooks/data_table.ipynb>data table notebook</a>'\n",
              "          + ' to learn more about interactive tables.';\n",
              "        element.innerHTML = '';\n",
              "        dataTable['output_type'] = 'display_data';\n",
              "        await google.colab.output.renderOutput(dataTable, element);\n",
              "        const docLink = document.createElement('div');\n",
              "        docLink.innerHTML = docLinkHtml;\n",
              "        element.appendChild(docLink);\n",
              "      }\n",
              "    </script>\n",
              "  </div>\n",
              "\n",
              "\n",
              "<div id=\"df-0ceebfff-78ec-4527-9c79-c6e6b5643de8\">\n",
              "  <button class=\"colab-df-quickchart\" onclick=\"quickchart('df-0ceebfff-78ec-4527-9c79-c6e6b5643de8')\"\n",
              "            title=\"Suggest charts\"\n",
              "            style=\"display:none;\">\n",
              "\n",
              "<svg xmlns=\"http://www.w3.org/2000/svg\" height=\"24px\"viewBox=\"0 0 24 24\"\n",
              "     width=\"24px\">\n",
              "    <g>\n",
              "        <path d=\"M19 3H5c-1.1 0-2 .9-2 2v14c0 1.1.9 2 2 2h14c1.1 0 2-.9 2-2V5c0-1.1-.9-2-2-2zM9 17H7v-7h2v7zm4 0h-2V7h2v10zm4 0h-2v-4h2v4z\"/>\n",
              "    </g>\n",
              "</svg>\n",
              "  </button>\n",
              "\n",
              "<style>\n",
              "  .colab-df-quickchart {\n",
              "      --bg-color: #E8F0FE;\n",
              "      --fill-color: #1967D2;\n",
              "      --hover-bg-color: #E2EBFA;\n",
              "      --hover-fill-color: #174EA6;\n",
              "      --disabled-fill-color: #AAA;\n",
              "      --disabled-bg-color: #DDD;\n",
              "  }\n",
              "\n",
              "  [theme=dark] .colab-df-quickchart {\n",
              "      --bg-color: #3B4455;\n",
              "      --fill-color: #D2E3FC;\n",
              "      --hover-bg-color: #434B5C;\n",
              "      --hover-fill-color: #FFFFFF;\n",
              "      --disabled-bg-color: #3B4455;\n",
              "      --disabled-fill-color: #666;\n",
              "  }\n",
              "\n",
              "  .colab-df-quickchart {\n",
              "    background-color: var(--bg-color);\n",
              "    border: none;\n",
              "    border-radius: 50%;\n",
              "    cursor: pointer;\n",
              "    display: none;\n",
              "    fill: var(--fill-color);\n",
              "    height: 32px;\n",
              "    padding: 0;\n",
              "    width: 32px;\n",
              "  }\n",
              "\n",
              "  .colab-df-quickchart:hover {\n",
              "    background-color: var(--hover-bg-color);\n",
              "    box-shadow: 0 1px 2px rgba(60, 64, 67, 0.3), 0 1px 3px 1px rgba(60, 64, 67, 0.15);\n",
              "    fill: var(--button-hover-fill-color);\n",
              "  }\n",
              "\n",
              "  .colab-df-quickchart-complete:disabled,\n",
              "  .colab-df-quickchart-complete:disabled:hover {\n",
              "    background-color: var(--disabled-bg-color);\n",
              "    fill: var(--disabled-fill-color);\n",
              "    box-shadow: none;\n",
              "  }\n",
              "\n",
              "  .colab-df-spinner {\n",
              "    border: 2px solid var(--fill-color);\n",
              "    border-color: transparent;\n",
              "    border-bottom-color: var(--fill-color);\n",
              "    animation:\n",
              "      spin 1s steps(1) infinite;\n",
              "  }\n",
              "\n",
              "  @keyframes spin {\n",
              "    0% {\n",
              "      border-color: transparent;\n",
              "      border-bottom-color: var(--fill-color);\n",
              "      border-left-color: var(--fill-color);\n",
              "    }\n",
              "    20% {\n",
              "      border-color: transparent;\n",
              "      border-left-color: var(--fill-color);\n",
              "      border-top-color: var(--fill-color);\n",
              "    }\n",
              "    30% {\n",
              "      border-color: transparent;\n",
              "      border-left-color: var(--fill-color);\n",
              "      border-top-color: var(--fill-color);\n",
              "      border-right-color: var(--fill-color);\n",
              "    }\n",
              "    40% {\n",
              "      border-color: transparent;\n",
              "      border-right-color: var(--fill-color);\n",
              "      border-top-color: var(--fill-color);\n",
              "    }\n",
              "    60% {\n",
              "      border-color: transparent;\n",
              "      border-right-color: var(--fill-color);\n",
              "    }\n",
              "    80% {\n",
              "      border-color: transparent;\n",
              "      border-right-color: var(--fill-color);\n",
              "      border-bottom-color: var(--fill-color);\n",
              "    }\n",
              "    90% {\n",
              "      border-color: transparent;\n",
              "      border-bottom-color: var(--fill-color);\n",
              "    }\n",
              "  }\n",
              "</style>\n",
              "\n",
              "  <script>\n",
              "    async function quickchart(key) {\n",
              "      const quickchartButtonEl =\n",
              "        document.querySelector('#' + key + ' button');\n",
              "      quickchartButtonEl.disabled = true;  // To prevent multiple clicks.\n",
              "      quickchartButtonEl.classList.add('colab-df-spinner');\n",
              "      try {\n",
              "        const charts = await google.colab.kernel.invokeFunction(\n",
              "            'suggestCharts', [key], {});\n",
              "      } catch (error) {\n",
              "        console.error('Error during call to suggestCharts:', error);\n",
              "      }\n",
              "      quickchartButtonEl.classList.remove('colab-df-spinner');\n",
              "      quickchartButtonEl.classList.add('colab-df-quickchart-complete');\n",
              "    }\n",
              "    (() => {\n",
              "      let quickchartButtonEl =\n",
              "        document.querySelector('#df-0ceebfff-78ec-4527-9c79-c6e6b5643de8 button');\n",
              "      quickchartButtonEl.style.display =\n",
              "        google.colab.kernel.accessAllowed ? 'block' : 'none';\n",
              "    })();\n",
              "  </script>\n",
              "</div>\n",
              "    </div>\n",
              "  </div>\n"
            ]
          },
          "metadata": {},
          "execution_count": 6
        }
      ],
      "source": [
        "tweet_df.head(10)"
      ]
    },
    {
      "cell_type": "code",
      "source": [
        "tweet_df['labels'].value_counts()"
      ],
      "metadata": {
        "id": "wkccSJrVCdvB",
        "colab": {
          "base_uri": "https://localhost:8080/"
        },
        "outputId": "bd1470dd-c2b4-4973-893c-c4996a808825"
      },
      "execution_count": null,
      "outputs": [
        {
          "output_type": "execute_result",
          "data": {
            "text/plain": [
              "0          9087\n",
              "neutral    3053\n",
              "1          2338\n",
              "Name: labels, dtype: int64"
            ]
          },
          "metadata": {},
          "execution_count": 7
        }
      ]
    },
    {
      "cell_type": "code",
      "source": [
        "len(tweet_df)"
      ],
      "metadata": {
        "id": "cg0UIHeGCe7g",
        "colab": {
          "base_uri": "https://localhost:8080/"
        },
        "outputId": "1f91b185-04f2-4592-eb6e-3d9237ddf5af"
      },
      "execution_count": null,
      "outputs": [
        {
          "output_type": "execute_result",
          "data": {
            "text/plain": [
              "14478"
            ]
          },
          "metadata": {},
          "execution_count": 8
        }
      ]
    },
    {
      "cell_type": "markdown",
      "source": [
        "### Discard neutral sentiment data points (Tweet Dataset only)"
      ],
      "metadata": {
        "id": "_HBHs132CjR5"
      }
    },
    {
      "cell_type": "code",
      "source": [
        "# Retain only negative and positive points in tweet data\n",
        "negative_df = tweet_df[tweet_df['labels']==0]\n",
        "positive_df = tweet_df[tweet_df['labels']==1]\n",
        "binary_df = pd.concat([negative_df, positive_df], ignore_index=True)"
      ],
      "metadata": {
        "id": "a6F_R6dlCkcV"
      },
      "execution_count": null,
      "outputs": []
    },
    {
      "cell_type": "code",
      "source": [
        "print(negative_df.head())\n",
        "print(positive_df.head())"
      ],
      "metadata": {
        "id": "Wqzm-SxiCnBB",
        "colab": {
          "base_uri": "https://localhost:8080/"
        },
        "outputId": "6688b931-2e3f-4a52-b69d-71dd29b23f9f"
      },
      "execution_count": null,
      "outputs": [
        {
          "output_type": "stream",
          "name": "stdout",
          "text": [
            "                                                 text labels\n",
            "3   @VirginAmerica it's really aggressive to blast...      0\n",
            "4   @VirginAmerica and it's a really big bad thing...      0\n",
            "5   @VirginAmerica seriously would pay $30 a fligh...      0\n",
            "15      @VirginAmerica SFO-PDX schedule is still MIA.      0\n",
            "17  @VirginAmerica  I flew from NYC to SFO last we...      0\n",
            "                                                 text labels\n",
            "1   @VirginAmerica plus you've added commercials t...      1\n",
            "6   @VirginAmerica yes, nearly every time I fly VX...      1\n",
            "8     @virginamerica Well, I didn't…but NOW I DO! :-D      1\n",
            "9   @VirginAmerica it was amazing, and arrived an ...      1\n",
            "11  @VirginAmerica I &lt;3 pretty graphics. so muc...      1\n"
          ]
        }
      ]
    },
    {
      "cell_type": "markdown",
      "metadata": {
        "id": "kV5ri2AyaT2T"
      },
      "source": [
        "## Define data pre-processing"
      ]
    },
    {
      "cell_type": "markdown",
      "metadata": {
        "id": "T-fGoLAAaWoP"
      },
      "source": [
        "### Text pre-processing"
      ]
    },
    {
      "cell_type": "code",
      "execution_count": null,
      "metadata": {
        "id": "ZyWs6nbYNJHD",
        "colab": {
          "base_uri": "https://localhost:8080/"
        },
        "outputId": "38f22e74-2949-4388-9302-1b9d3659534d"
      },
      "outputs": [
        {
          "output_type": "stream",
          "name": "stderr",
          "text": [
            "[nltk_data] Downloading package stopwords to /root/nltk_data...\n",
            "[nltk_data]   Unzipping corpora/stopwords.zip.\n",
            "[nltk_data] Downloading package punkt to /root/nltk_data...\n",
            "[nltk_data]   Unzipping tokenizers/punkt.zip.\n"
          ]
        },
        {
          "output_type": "execute_result",
          "data": {
            "text/plain": [
              "True"
            ]
          },
          "metadata": {},
          "execution_count": 11
        }
      ],
      "source": [
        "# NLTK Downloads\n",
        "nltk.download('stopwords')\n",
        "nltk.download('punkt')"
      ]
    },
    {
      "cell_type": "code",
      "execution_count": null,
      "metadata": {
        "id": "7oJEE6Nsah9n"
      },
      "outputs": [],
      "source": [
        "# Set of punctuation special characters to remove from text\n",
        "punctuation = set(string.punctuation)\n",
        "\n",
        "# List of stopwords (commonly used words in English)\n",
        "english_stopwords = set(stopwords.words('english'))"
      ]
    },
    {
      "cell_type": "code",
      "execution_count": null,
      "metadata": {
        "id": "_96KzXkiak1w"
      },
      "outputs": [],
      "source": [
        "# Converts all text to lowercase\n",
        "def to_lower(text):\n",
        "    return text.lower()\n",
        "\n",
        "# Removes punctuation from the text\n",
        "def remove_punc(text):\n",
        "    return ''.join(x if x not in punctuation else ' ' for x in text)\n",
        "\n",
        "# Decodes HTML entities and converts accented text to normal\n",
        "def to_ascii(text):\n",
        "    decoded_text = html.unescape(text)  # Decoding HTML entities\n",
        "    return ''.join(x for x in unicodedata.normalize('NFD', decoded_text) if unicodedata.category(x) != 'Mn')\n",
        "\n",
        "# Removes stopwords\n",
        "def remove_stopwords(text):\n",
        "    return ' '.join(x for x in word_tokenize(text) if x not in english_stopwords)\n",
        "\n",
        "# Removes BOM Unicode\n",
        "def remove_bom(text):\n",
        "    return text.replace('\\ufeff', '')\n",
        "\n",
        "# Remove excess whitespace\n",
        "def remove_xtra(text):\n",
        "    return ' '.join(text.split()).strip()\n",
        "\n",
        "# Process the data by making all text lowercase, removing puncuation, removing stopwords, and converting to ascii\n",
        "def process_data(data):\n",
        "    data['text'] = data['text'].apply(to_lower)\n",
        "    data['text'] = data['text'].apply(to_ascii)\n",
        "    data['text'] = data['text'].apply(remove_punc)\n",
        "    data['text'] = data['text'].apply(remove_stopwords)\n",
        "    data['text'] = data['text'].apply(remove_bom)\n",
        "    data['text'] = data['text'].apply(remove_xtra)\n",
        "    return data"
      ]
    },
    {
      "cell_type": "markdown",
      "metadata": {
        "id": "rIheIDNvaY_d"
      },
      "source": [
        "### GloVe embeddings"
      ]
    },
    {
      "cell_type": "code",
      "execution_count": null,
      "metadata": {
        "id": "Bm-j3263aoUE"
      },
      "outputs": [],
      "source": [
        "# Create a full dataset wrapper. This will return a dictionary of 3 items:\n",
        "#   1. glove_embeddings:    The embedding vectors for the sentence, padded to the max length.\n",
        "#   2. input_mask:          A tensor that denotes the start idx of the padded part of the sequence\n",
        "#   3. labels:              A single-element tensor denoting the class.\n",
        "#\n",
        "# Creating such an object this way will allow us to utilize DISTIL's interfaces without issue and will also be compatible with the model defined above.\n",
        "class FullDatasetWrapper(Dataset):\n",
        "\n",
        "    # Here's how we can get embeddings for each sentence. This will create a list of tensors, which will have varying sizes.\n",
        "    # We will need to pad each tensor for batching, so we will also need to keep track of the actual final token in each batch so that we do not compute on padded input.\n",
        "    def __init__(self, datalist, labels):\n",
        "        self.glove_embeddings   = [glove_vectorizer.get_vecs_by_tokens(glove_tokenizer(data_text), lower_case_backup=True) for data_text in datalist] # Convert text into glove embeddings\n",
        "        self.labels             = torch.tensor(labels)\n",
        "        self.pad_length         = max([glove_embedding.shape[0] for glove_embedding in self.glove_embeddings]) # Max sequence length\n",
        "\n",
        "\n",
        "    def __init__(self, dataframe):\n",
        "        self.glove_embeddings = []\n",
        "        valid_labels = []\n",
        "        for ind in dataframe.index:\n",
        "            data_text, data_label = dataframe['text'][ind], dataframe['labels'][ind]\n",
        "            tokens = glove_tokenizer(data_text)\n",
        "            if not tokens:   # Check if token list is empty\n",
        "                # print(f\"Warning: No tokens for text: {data_text}\")\n",
        "                continue\n",
        "            glove_embedding = glove_vectorizer.get_vecs_by_tokens(tokens, lower_case_backup=True)\n",
        "            if glove_embedding.shape[0] == 0:  # Check if no embeddings found\n",
        "                # print(f\"Warning: No embeddings for tokens: {tokens} in text: {data_text}\")\n",
        "                continue\n",
        "            self.glove_embeddings.append(glove_embedding)\n",
        "            valid_labels.append(data_label)\n",
        "        self.labels             = torch.tensor(valid_labels)\n",
        "        self.pad_length         = max([glove_embedding.shape[0] for glove_embedding in self.glove_embeddings]) # Max sequence length\n",
        "\n",
        "    def __getitem__(self, index):\n",
        "        glove_embedding                                     = self.glove_embeddings[index]                              # Get the glove embeddings for sentence\n",
        "        padded_glove_embedding                              = torch.zeros(self.pad_length, glove_embedding.shape[1])    # Create a padded tensor of zeros to hold them\n",
        "        padded_glove_embedding[:glove_embedding.shape[0]]   = glove_embedding                                           # Populate the front of the tensor w/ glove embeddings\n",
        "        input_mask                                          = torch.tensor(glove_embedding.shape[0])                    # Create a single-element tensor denoting index to start ignoring hidden states\n",
        "        label                                               = self.labels[index]                                        # Get the label and form the dictionary.\n",
        "        item_dict                                           =   {\"glove_embeddings\":    padded_glove_embedding,\n",
        "                                                                \"input_mask\":           input_mask,\n",
        "                                                                \"labels\":               label}\n",
        "        return item_dict\n",
        "\n",
        "    def __len__(self):\n",
        "        return len(self.glove_embeddings)"
      ]
    },
    {
      "cell_type": "markdown",
      "metadata": {
        "id": "ROvvhM8Whd4o"
      },
      "source": [
        "### AL Label Removal"
      ]
    },
    {
      "cell_type": "code",
      "execution_count": null,
      "metadata": {
        "id": "iCtFW7fohjw0"
      },
      "outputs": [],
      "source": [
        "class Labeled_to_unlabel(Dataset):\n",
        "\n",
        "  def __init__(self, wrapped_dataset):\n",
        "        self.wrapped_dataset = wrapped_dataset\n",
        "        # give the words here\n",
        "\n",
        "  def __getitem__(self, index):\n",
        "\n",
        "        #label = self.wrapped_dataset[index]['labels']\n",
        "        data = {key:self.wrapped_dataset[index][key] for key in self.wrapped_dataset[index] if key != 'labels'}\n",
        "\n",
        "        #data = self.wrapped_dataset[index]\n",
        "        return data\n",
        "\n",
        "  def __len__(self):\n",
        "        return len(self.wrapped_dataset)"
      ]
    },
    {
      "cell_type": "markdown",
      "metadata": {
        "id": "aJUIrkiwbNAJ"
      },
      "source": [
        "## Data split and sampling"
      ]
    },
    {
      "cell_type": "code",
      "execution_count": null,
      "metadata": {
        "id": "-0d_nVM8bbB9"
      },
      "outputs": [],
      "source": [
        "seed_values = [42, 96, 35, 52, 11, 87, 26, 75, 60, 49]"
      ]
    },
    {
      "cell_type": "markdown",
      "metadata": {
        "id": "cLc3McIUbVOY"
      },
      "source": [
        "#### *Use Ctrl+F10 from here for experiment re-runs (after changing exp_num)*"
      ]
    },
    {
      "cell_type": "code",
      "execution_count": null,
      "metadata": {
        "id": "0H4lGCaObPR_"
      },
      "outputs": [],
      "source": [
        "exp_num = 10 # CHANGE ME"
      ]
    },
    {
      "cell_type": "code",
      "execution_count": null,
      "metadata": {
        "id": "X6P8wMuxbdrv",
        "colab": {
          "base_uri": "https://localhost:8080/"
        },
        "outputId": "b165f30e-7679-4c62-f77f-ee0de1904395"
      },
      "outputs": [
        {
          "output_type": "stream",
          "name": "stdout",
          "text": [
            "Experiment number: 10 \tSeed value = 49\n"
          ]
        }
      ],
      "source": [
        "# DEFINE RAND_STATE FOR EXPERIMENT RUN\n",
        "RAND_STATE = seed_values[exp_num-1]\n",
        "print('Experiment number: {} \\tSeed value = {}'.format(exp_num, RAND_STATE))\n",
        "with open('logs.txt', 'a') as logfile:\n",
        "    logfile.write('\\n\\nExperiment number: {} \\tSeed value = {}  [Tweet Data]\\n'.format(exp_num, RAND_STATE))"
      ]
    },
    {
      "cell_type": "markdown",
      "metadata": {
        "id": "1vRNZJD-bwEa"
      },
      "source": [
        "### Create test-train split"
      ]
    },
    {
      "cell_type": "code",
      "execution_count": null,
      "metadata": {
        "id": "z2YgHAOhby9O"
      },
      "outputs": [],
      "source": [
        "# Separate the dataset into two based on the labels\n",
        "df_0 = binary_df[binary_df['labels'] == 0]\n",
        "df_1 = binary_df[binary_df['labels'] == 1]\n",
        "\n",
        "# Specify the features (X) and target (y) columns\n",
        "X_0, y_0 = df_0['text'], df_0['labels']\n",
        "X_1, y_1 = df_1['text'], df_1['labels']\n",
        "\n",
        "# Perform the train-test split while varying the class distribution\n",
        "X_train_0, X_test_0, y_train_0, y_test_0 = train_test_split(X_0, y_0, test_size=0.1, random_state=RAND_STATE, stratify=y_0)\n",
        "X_train_1, X_test_1, y_train_1, y_test_1 = train_test_split(X_1, y_1, test_size=0.4, random_state=RAND_STATE, stratify=y_1)\n",
        "\n",
        "# Concatenate the train parts and test parts\n",
        "X_train = pd.concat([X_train_0, X_train_1])\n",
        "y_train = pd.concat([y_train_0, y_train_1])\n",
        "X_test = pd.concat([X_test_0, X_test_1])\n",
        "y_test = pd.concat([y_test_0, y_test_1])\n",
        "\n",
        "# Create the train_df and test_df DataFrames\n",
        "train_df = pd.concat([X_train, y_train], axis=1)\n",
        "test_df = pd.concat([X_test, y_test], axis=1)\n",
        "\n",
        "# Shuffle the train and test dataframes\n",
        "train_df = train_df.sample(frac=1, random_state=RAND_STATE).reset_index(drop=True)\n",
        "test_df = test_df.sample(frac=1, random_state=RAND_STATE).reset_index(drop=True)"
      ]
    },
    {
      "cell_type": "markdown",
      "metadata": {
        "id": "rL_GuBDJDp3i"
      },
      "source": [
        "### Find data distribution and calculate imbalance factor"
      ]
    },
    {
      "cell_type": "code",
      "execution_count": null,
      "metadata": {
        "id": "M_N2mOYMDse2",
        "colab": {
          "base_uri": "https://localhost:8080/"
        },
        "outputId": "60aa4ed6-03b5-4ee4-ebfa-1df25af73471"
      },
      "outputs": [
        {
          "output_type": "stream",
          "name": "stdout",
          "text": [
            "\t  Negative     Positive\n",
            "Training    8178 \t 1402\n",
            "Testing      909 \t  936\n"
          ]
        }
      ],
      "source": [
        "print('\\t  Negative     Positive')\n",
        "train_class_counts = train_df['labels'].value_counts()\n",
        "print('Training   ', train_class_counts[0], '\\t', train_class_counts[1])\n",
        "test_class_counts = test_df['labels'].value_counts()\n",
        "print('Testing     ', test_class_counts[0], '\\t ', test_class_counts[1])"
      ]
    },
    {
      "cell_type": "code",
      "execution_count": null,
      "metadata": {
        "id": "jVx6boCIcXI7",
        "colab": {
          "base_uri": "https://localhost:8080/"
        },
        "outputId": "af67b8fd-db4e-451f-813f-79b5c2d12598"
      },
      "outputs": [
        {
          "output_type": "stream",
          "name": "stdout",
          "text": [
            "Rare class to majority class ratio ~ 1 : 6\n"
          ]
        }
      ],
      "source": [
        "print(\"Rare class to majority class ratio ~ 1 :\", round(train_class_counts[0]/train_class_counts[1]))"
      ]
    },
    {
      "cell_type": "code",
      "execution_count": null,
      "metadata": {
        "id": "P7eMzCTqRtU-",
        "colab": {
          "base_uri": "https://localhost:8080/"
        },
        "outputId": "ccb8effa-a2c0-4bd5-a11a-876058be105a"
      },
      "outputs": [
        {
          "output_type": "stream",
          "name": "stdout",
          "text": [
            "Effective test-train split = 16:84\n"
          ]
        }
      ],
      "source": [
        "a, b = len(test_df), len(train_df)\n",
        "print(\"Effective test-train split = {}:{}\".format(round((100*a)/(a+b)), round((100*b)/(a+b))))"
      ]
    },
    {
      "cell_type": "markdown",
      "metadata": {
        "id": "iPP3o_W1c9eR"
      },
      "source": [
        "### Create query set"
      ]
    },
    {
      "cell_type": "code",
      "execution_count": null,
      "metadata": {
        "id": "bK6osYCsdBJL"
      },
      "outputs": [],
      "source": [
        "# List of commonly found phrases in positive sentiment tweets\n",
        "freq_twt_positive_phrases = [\n",
        "    \"Absolutely love\", \"Amazing job\", \"Can't wait for\", \"Extremely happy to\",\n",
        "    \"Feeling blessed\", \"Feeling inspired by\", \"Feeling optimistic about\",\n",
        "    \"Feeling very proud of\", \"Had a great time\", \"Highly recommend\",\n",
        "    \"Incredible experience\", \"Overwhelmed with happiness\", \"Really excited about\",\n",
        "    \"So grateful for\", \"Such a beautiful\", \"Thank you so much\",\n",
        "    \"Totally loving the\", \"Truly amazing\", \"Very successful\", \"Wonderful day\"\n",
        "]\n",
        "query_set_size = len(freq_twt_positive_phrases)\n",
        "query_data = pd.DataFrame({\n",
        "    'text':freq_twt_positive_phrases, 'labels': [1]*query_set_size\n",
        "})"
      ]
    },
    {
      "cell_type": "markdown",
      "metadata": {
        "id": "7_IZsUoVcxUe"
      },
      "source": [
        "## Apply pre-processing"
      ]
    },
    {
      "cell_type": "markdown",
      "metadata": {
        "id": "CzU5J00Ef4HV"
      },
      "source": [
        "### Apply text processing"
      ]
    },
    {
      "cell_type": "code",
      "execution_count": null,
      "metadata": {
        "id": "BBZTt-U4dyJK",
        "colab": {
          "base_uri": "https://localhost:8080/",
          "height": 206
        },
        "outputId": "8077dd07-2dd0-4aa4-ee53-1fa54577a995"
      },
      "outputs": [
        {
          "output_type": "execute_result",
          "data": {
            "text/plain": [
              "                                                text labels\n",
              "0  southwestair wrote customer support monday can...      0\n",
              "1            united website says 10 days 16 counting      0\n",
              "2               americanair trouble getting rebooked      0\n",
              "3          united direct messaged hear anything back      0\n",
              "4  jetblue mean take time write physical letter f...      0"
            ],
            "text/html": [
              "\n",
              "  <div id=\"df-4166ab40-0693-4696-8cb0-fdbec3da7ec7\" class=\"colab-df-container\">\n",
              "    <div>\n",
              "<style scoped>\n",
              "    .dataframe tbody tr th:only-of-type {\n",
              "        vertical-align: middle;\n",
              "    }\n",
              "\n",
              "    .dataframe tbody tr th {\n",
              "        vertical-align: top;\n",
              "    }\n",
              "\n",
              "    .dataframe thead th {\n",
              "        text-align: right;\n",
              "    }\n",
              "</style>\n",
              "<table border=\"1\" class=\"dataframe\">\n",
              "  <thead>\n",
              "    <tr style=\"text-align: right;\">\n",
              "      <th></th>\n",
              "      <th>text</th>\n",
              "      <th>labels</th>\n",
              "    </tr>\n",
              "  </thead>\n",
              "  <tbody>\n",
              "    <tr>\n",
              "      <th>0</th>\n",
              "      <td>southwestair wrote customer support monday can...</td>\n",
              "      <td>0</td>\n",
              "    </tr>\n",
              "    <tr>\n",
              "      <th>1</th>\n",
              "      <td>united website says 10 days 16 counting</td>\n",
              "      <td>0</td>\n",
              "    </tr>\n",
              "    <tr>\n",
              "      <th>2</th>\n",
              "      <td>americanair trouble getting rebooked</td>\n",
              "      <td>0</td>\n",
              "    </tr>\n",
              "    <tr>\n",
              "      <th>3</th>\n",
              "      <td>united direct messaged hear anything back</td>\n",
              "      <td>0</td>\n",
              "    </tr>\n",
              "    <tr>\n",
              "      <th>4</th>\n",
              "      <td>jetblue mean take time write physical letter f...</td>\n",
              "      <td>0</td>\n",
              "    </tr>\n",
              "  </tbody>\n",
              "</table>\n",
              "</div>\n",
              "    <div class=\"colab-df-buttons\">\n",
              "\n",
              "  <div class=\"colab-df-container\">\n",
              "    <button class=\"colab-df-convert\" onclick=\"convertToInteractive('df-4166ab40-0693-4696-8cb0-fdbec3da7ec7')\"\n",
              "            title=\"Convert this dataframe to an interactive table.\"\n",
              "            style=\"display:none;\">\n",
              "\n",
              "  <svg xmlns=\"http://www.w3.org/2000/svg\" height=\"24px\" viewBox=\"0 -960 960 960\">\n",
              "    <path d=\"M120-120v-720h720v720H120Zm60-500h600v-160H180v160Zm220 220h160v-160H400v160Zm0 220h160v-160H400v160ZM180-400h160v-160H180v160Zm440 0h160v-160H620v160ZM180-180h160v-160H180v160Zm440 0h160v-160H620v160Z\"/>\n",
              "  </svg>\n",
              "    </button>\n",
              "\n",
              "  <style>\n",
              "    .colab-df-container {\n",
              "      display:flex;\n",
              "      gap: 12px;\n",
              "    }\n",
              "\n",
              "    .colab-df-convert {\n",
              "      background-color: #E8F0FE;\n",
              "      border: none;\n",
              "      border-radius: 50%;\n",
              "      cursor: pointer;\n",
              "      display: none;\n",
              "      fill: #1967D2;\n",
              "      height: 32px;\n",
              "      padding: 0 0 0 0;\n",
              "      width: 32px;\n",
              "    }\n",
              "\n",
              "    .colab-df-convert:hover {\n",
              "      background-color: #E2EBFA;\n",
              "      box-shadow: 0px 1px 2px rgba(60, 64, 67, 0.3), 0px 1px 3px 1px rgba(60, 64, 67, 0.15);\n",
              "      fill: #174EA6;\n",
              "    }\n",
              "\n",
              "    .colab-df-buttons div {\n",
              "      margin-bottom: 4px;\n",
              "    }\n",
              "\n",
              "    [theme=dark] .colab-df-convert {\n",
              "      background-color: #3B4455;\n",
              "      fill: #D2E3FC;\n",
              "    }\n",
              "\n",
              "    [theme=dark] .colab-df-convert:hover {\n",
              "      background-color: #434B5C;\n",
              "      box-shadow: 0px 1px 3px 1px rgba(0, 0, 0, 0.15);\n",
              "      filter: drop-shadow(0px 1px 2px rgba(0, 0, 0, 0.3));\n",
              "      fill: #FFFFFF;\n",
              "    }\n",
              "  </style>\n",
              "\n",
              "    <script>\n",
              "      const buttonEl =\n",
              "        document.querySelector('#df-4166ab40-0693-4696-8cb0-fdbec3da7ec7 button.colab-df-convert');\n",
              "      buttonEl.style.display =\n",
              "        google.colab.kernel.accessAllowed ? 'block' : 'none';\n",
              "\n",
              "      async function convertToInteractive(key) {\n",
              "        const element = document.querySelector('#df-4166ab40-0693-4696-8cb0-fdbec3da7ec7');\n",
              "        const dataTable =\n",
              "          await google.colab.kernel.invokeFunction('convertToInteractive',\n",
              "                                                    [key], {});\n",
              "        if (!dataTable) return;\n",
              "\n",
              "        const docLinkHtml = 'Like what you see? Visit the ' +\n",
              "          '<a target=\"_blank\" href=https://colab.research.google.com/notebooks/data_table.ipynb>data table notebook</a>'\n",
              "          + ' to learn more about interactive tables.';\n",
              "        element.innerHTML = '';\n",
              "        dataTable['output_type'] = 'display_data';\n",
              "        await google.colab.output.renderOutput(dataTable, element);\n",
              "        const docLink = document.createElement('div');\n",
              "        docLink.innerHTML = docLinkHtml;\n",
              "        element.appendChild(docLink);\n",
              "      }\n",
              "    </script>\n",
              "  </div>\n",
              "\n",
              "\n",
              "<div id=\"df-dfb9a257-2b31-4e8d-ad7d-e233e91714e2\">\n",
              "  <button class=\"colab-df-quickchart\" onclick=\"quickchart('df-dfb9a257-2b31-4e8d-ad7d-e233e91714e2')\"\n",
              "            title=\"Suggest charts\"\n",
              "            style=\"display:none;\">\n",
              "\n",
              "<svg xmlns=\"http://www.w3.org/2000/svg\" height=\"24px\"viewBox=\"0 0 24 24\"\n",
              "     width=\"24px\">\n",
              "    <g>\n",
              "        <path d=\"M19 3H5c-1.1 0-2 .9-2 2v14c0 1.1.9 2 2 2h14c1.1 0 2-.9 2-2V5c0-1.1-.9-2-2-2zM9 17H7v-7h2v7zm4 0h-2V7h2v10zm4 0h-2v-4h2v4z\"/>\n",
              "    </g>\n",
              "</svg>\n",
              "  </button>\n",
              "\n",
              "<style>\n",
              "  .colab-df-quickchart {\n",
              "      --bg-color: #E8F0FE;\n",
              "      --fill-color: #1967D2;\n",
              "      --hover-bg-color: #E2EBFA;\n",
              "      --hover-fill-color: #174EA6;\n",
              "      --disabled-fill-color: #AAA;\n",
              "      --disabled-bg-color: #DDD;\n",
              "  }\n",
              "\n",
              "  [theme=dark] .colab-df-quickchart {\n",
              "      --bg-color: #3B4455;\n",
              "      --fill-color: #D2E3FC;\n",
              "      --hover-bg-color: #434B5C;\n",
              "      --hover-fill-color: #FFFFFF;\n",
              "      --disabled-bg-color: #3B4455;\n",
              "      --disabled-fill-color: #666;\n",
              "  }\n",
              "\n",
              "  .colab-df-quickchart {\n",
              "    background-color: var(--bg-color);\n",
              "    border: none;\n",
              "    border-radius: 50%;\n",
              "    cursor: pointer;\n",
              "    display: none;\n",
              "    fill: var(--fill-color);\n",
              "    height: 32px;\n",
              "    padding: 0;\n",
              "    width: 32px;\n",
              "  }\n",
              "\n",
              "  .colab-df-quickchart:hover {\n",
              "    background-color: var(--hover-bg-color);\n",
              "    box-shadow: 0 1px 2px rgba(60, 64, 67, 0.3), 0 1px 3px 1px rgba(60, 64, 67, 0.15);\n",
              "    fill: var(--button-hover-fill-color);\n",
              "  }\n",
              "\n",
              "  .colab-df-quickchart-complete:disabled,\n",
              "  .colab-df-quickchart-complete:disabled:hover {\n",
              "    background-color: var(--disabled-bg-color);\n",
              "    fill: var(--disabled-fill-color);\n",
              "    box-shadow: none;\n",
              "  }\n",
              "\n",
              "  .colab-df-spinner {\n",
              "    border: 2px solid var(--fill-color);\n",
              "    border-color: transparent;\n",
              "    border-bottom-color: var(--fill-color);\n",
              "    animation:\n",
              "      spin 1s steps(1) infinite;\n",
              "  }\n",
              "\n",
              "  @keyframes spin {\n",
              "    0% {\n",
              "      border-color: transparent;\n",
              "      border-bottom-color: var(--fill-color);\n",
              "      border-left-color: var(--fill-color);\n",
              "    }\n",
              "    20% {\n",
              "      border-color: transparent;\n",
              "      border-left-color: var(--fill-color);\n",
              "      border-top-color: var(--fill-color);\n",
              "    }\n",
              "    30% {\n",
              "      border-color: transparent;\n",
              "      border-left-color: var(--fill-color);\n",
              "      border-top-color: var(--fill-color);\n",
              "      border-right-color: var(--fill-color);\n",
              "    }\n",
              "    40% {\n",
              "      border-color: transparent;\n",
              "      border-right-color: var(--fill-color);\n",
              "      border-top-color: var(--fill-color);\n",
              "    }\n",
              "    60% {\n",
              "      border-color: transparent;\n",
              "      border-right-color: var(--fill-color);\n",
              "    }\n",
              "    80% {\n",
              "      border-color: transparent;\n",
              "      border-right-color: var(--fill-color);\n",
              "      border-bottom-color: var(--fill-color);\n",
              "    }\n",
              "    90% {\n",
              "      border-color: transparent;\n",
              "      border-bottom-color: var(--fill-color);\n",
              "    }\n",
              "  }\n",
              "</style>\n",
              "\n",
              "  <script>\n",
              "    async function quickchart(key) {\n",
              "      const quickchartButtonEl =\n",
              "        document.querySelector('#' + key + ' button');\n",
              "      quickchartButtonEl.disabled = true;  // To prevent multiple clicks.\n",
              "      quickchartButtonEl.classList.add('colab-df-spinner');\n",
              "      try {\n",
              "        const charts = await google.colab.kernel.invokeFunction(\n",
              "            'suggestCharts', [key], {});\n",
              "      } catch (error) {\n",
              "        console.error('Error during call to suggestCharts:', error);\n",
              "      }\n",
              "      quickchartButtonEl.classList.remove('colab-df-spinner');\n",
              "      quickchartButtonEl.classList.add('colab-df-quickchart-complete');\n",
              "    }\n",
              "    (() => {\n",
              "      let quickchartButtonEl =\n",
              "        document.querySelector('#df-dfb9a257-2b31-4e8d-ad7d-e233e91714e2 button');\n",
              "      quickchartButtonEl.style.display =\n",
              "        google.colab.kernel.accessAllowed ? 'block' : 'none';\n",
              "    })();\n",
              "  </script>\n",
              "</div>\n",
              "    </div>\n",
              "  </div>\n"
            ]
          },
          "metadata": {},
          "execution_count": 1193
        }
      ],
      "source": [
        "train_processed_df = process_data(train_df)\n",
        "# train_processed_df.iloc[10:25]\n",
        "train_processed_df.head()"
      ]
    },
    {
      "cell_type": "code",
      "execution_count": null,
      "metadata": {
        "id": "YoHKdx04e1EF",
        "colab": {
          "base_uri": "https://localhost:8080/",
          "height": 206
        },
        "outputId": "c15973f1-a0cc-4b5a-812d-f897846688cd"
      },
      "outputs": [
        {
          "output_type": "execute_result",
          "data": {
            "text/plain": [
              "              text  labels\n",
              "0  absolutely love       1\n",
              "1      amazing job       1\n",
              "2             wait       1\n",
              "3  extremely happy       1\n",
              "4  feeling blessed       1"
            ],
            "text/html": [
              "\n",
              "  <div id=\"df-23718c68-d18a-41a8-b3dc-37cd13788a44\" class=\"colab-df-container\">\n",
              "    <div>\n",
              "<style scoped>\n",
              "    .dataframe tbody tr th:only-of-type {\n",
              "        vertical-align: middle;\n",
              "    }\n",
              "\n",
              "    .dataframe tbody tr th {\n",
              "        vertical-align: top;\n",
              "    }\n",
              "\n",
              "    .dataframe thead th {\n",
              "        text-align: right;\n",
              "    }\n",
              "</style>\n",
              "<table border=\"1\" class=\"dataframe\">\n",
              "  <thead>\n",
              "    <tr style=\"text-align: right;\">\n",
              "      <th></th>\n",
              "      <th>text</th>\n",
              "      <th>labels</th>\n",
              "    </tr>\n",
              "  </thead>\n",
              "  <tbody>\n",
              "    <tr>\n",
              "      <th>0</th>\n",
              "      <td>absolutely love</td>\n",
              "      <td>1</td>\n",
              "    </tr>\n",
              "    <tr>\n",
              "      <th>1</th>\n",
              "      <td>amazing job</td>\n",
              "      <td>1</td>\n",
              "    </tr>\n",
              "    <tr>\n",
              "      <th>2</th>\n",
              "      <td>wait</td>\n",
              "      <td>1</td>\n",
              "    </tr>\n",
              "    <tr>\n",
              "      <th>3</th>\n",
              "      <td>extremely happy</td>\n",
              "      <td>1</td>\n",
              "    </tr>\n",
              "    <tr>\n",
              "      <th>4</th>\n",
              "      <td>feeling blessed</td>\n",
              "      <td>1</td>\n",
              "    </tr>\n",
              "  </tbody>\n",
              "</table>\n",
              "</div>\n",
              "    <div class=\"colab-df-buttons\">\n",
              "\n",
              "  <div class=\"colab-df-container\">\n",
              "    <button class=\"colab-df-convert\" onclick=\"convertToInteractive('df-23718c68-d18a-41a8-b3dc-37cd13788a44')\"\n",
              "            title=\"Convert this dataframe to an interactive table.\"\n",
              "            style=\"display:none;\">\n",
              "\n",
              "  <svg xmlns=\"http://www.w3.org/2000/svg\" height=\"24px\" viewBox=\"0 -960 960 960\">\n",
              "    <path d=\"M120-120v-720h720v720H120Zm60-500h600v-160H180v160Zm220 220h160v-160H400v160Zm0 220h160v-160H400v160ZM180-400h160v-160H180v160Zm440 0h160v-160H620v160ZM180-180h160v-160H180v160Zm440 0h160v-160H620v160Z\"/>\n",
              "  </svg>\n",
              "    </button>\n",
              "\n",
              "  <style>\n",
              "    .colab-df-container {\n",
              "      display:flex;\n",
              "      gap: 12px;\n",
              "    }\n",
              "\n",
              "    .colab-df-convert {\n",
              "      background-color: #E8F0FE;\n",
              "      border: none;\n",
              "      border-radius: 50%;\n",
              "      cursor: pointer;\n",
              "      display: none;\n",
              "      fill: #1967D2;\n",
              "      height: 32px;\n",
              "      padding: 0 0 0 0;\n",
              "      width: 32px;\n",
              "    }\n",
              "\n",
              "    .colab-df-convert:hover {\n",
              "      background-color: #E2EBFA;\n",
              "      box-shadow: 0px 1px 2px rgba(60, 64, 67, 0.3), 0px 1px 3px 1px rgba(60, 64, 67, 0.15);\n",
              "      fill: #174EA6;\n",
              "    }\n",
              "\n",
              "    .colab-df-buttons div {\n",
              "      margin-bottom: 4px;\n",
              "    }\n",
              "\n",
              "    [theme=dark] .colab-df-convert {\n",
              "      background-color: #3B4455;\n",
              "      fill: #D2E3FC;\n",
              "    }\n",
              "\n",
              "    [theme=dark] .colab-df-convert:hover {\n",
              "      background-color: #434B5C;\n",
              "      box-shadow: 0px 1px 3px 1px rgba(0, 0, 0, 0.15);\n",
              "      filter: drop-shadow(0px 1px 2px rgba(0, 0, 0, 0.3));\n",
              "      fill: #FFFFFF;\n",
              "    }\n",
              "  </style>\n",
              "\n",
              "    <script>\n",
              "      const buttonEl =\n",
              "        document.querySelector('#df-23718c68-d18a-41a8-b3dc-37cd13788a44 button.colab-df-convert');\n",
              "      buttonEl.style.display =\n",
              "        google.colab.kernel.accessAllowed ? 'block' : 'none';\n",
              "\n",
              "      async function convertToInteractive(key) {\n",
              "        const element = document.querySelector('#df-23718c68-d18a-41a8-b3dc-37cd13788a44');\n",
              "        const dataTable =\n",
              "          await google.colab.kernel.invokeFunction('convertToInteractive',\n",
              "                                                    [key], {});\n",
              "        if (!dataTable) return;\n",
              "\n",
              "        const docLinkHtml = 'Like what you see? Visit the ' +\n",
              "          '<a target=\"_blank\" href=https://colab.research.google.com/notebooks/data_table.ipynb>data table notebook</a>'\n",
              "          + ' to learn more about interactive tables.';\n",
              "        element.innerHTML = '';\n",
              "        dataTable['output_type'] = 'display_data';\n",
              "        await google.colab.output.renderOutput(dataTable, element);\n",
              "        const docLink = document.createElement('div');\n",
              "        docLink.innerHTML = docLinkHtml;\n",
              "        element.appendChild(docLink);\n",
              "      }\n",
              "    </script>\n",
              "  </div>\n",
              "\n",
              "\n",
              "<div id=\"df-ec207fea-9928-49ed-9926-e06090b18bc0\">\n",
              "  <button class=\"colab-df-quickchart\" onclick=\"quickchart('df-ec207fea-9928-49ed-9926-e06090b18bc0')\"\n",
              "            title=\"Suggest charts\"\n",
              "            style=\"display:none;\">\n",
              "\n",
              "<svg xmlns=\"http://www.w3.org/2000/svg\" height=\"24px\"viewBox=\"0 0 24 24\"\n",
              "     width=\"24px\">\n",
              "    <g>\n",
              "        <path d=\"M19 3H5c-1.1 0-2 .9-2 2v14c0 1.1.9 2 2 2h14c1.1 0 2-.9 2-2V5c0-1.1-.9-2-2-2zM9 17H7v-7h2v7zm4 0h-2V7h2v10zm4 0h-2v-4h2v4z\"/>\n",
              "    </g>\n",
              "</svg>\n",
              "  </button>\n",
              "\n",
              "<style>\n",
              "  .colab-df-quickchart {\n",
              "      --bg-color: #E8F0FE;\n",
              "      --fill-color: #1967D2;\n",
              "      --hover-bg-color: #E2EBFA;\n",
              "      --hover-fill-color: #174EA6;\n",
              "      --disabled-fill-color: #AAA;\n",
              "      --disabled-bg-color: #DDD;\n",
              "  }\n",
              "\n",
              "  [theme=dark] .colab-df-quickchart {\n",
              "      --bg-color: #3B4455;\n",
              "      --fill-color: #D2E3FC;\n",
              "      --hover-bg-color: #434B5C;\n",
              "      --hover-fill-color: #FFFFFF;\n",
              "      --disabled-bg-color: #3B4455;\n",
              "      --disabled-fill-color: #666;\n",
              "  }\n",
              "\n",
              "  .colab-df-quickchart {\n",
              "    background-color: var(--bg-color);\n",
              "    border: none;\n",
              "    border-radius: 50%;\n",
              "    cursor: pointer;\n",
              "    display: none;\n",
              "    fill: var(--fill-color);\n",
              "    height: 32px;\n",
              "    padding: 0;\n",
              "    width: 32px;\n",
              "  }\n",
              "\n",
              "  .colab-df-quickchart:hover {\n",
              "    background-color: var(--hover-bg-color);\n",
              "    box-shadow: 0 1px 2px rgba(60, 64, 67, 0.3), 0 1px 3px 1px rgba(60, 64, 67, 0.15);\n",
              "    fill: var(--button-hover-fill-color);\n",
              "  }\n",
              "\n",
              "  .colab-df-quickchart-complete:disabled,\n",
              "  .colab-df-quickchart-complete:disabled:hover {\n",
              "    background-color: var(--disabled-bg-color);\n",
              "    fill: var(--disabled-fill-color);\n",
              "    box-shadow: none;\n",
              "  }\n",
              "\n",
              "  .colab-df-spinner {\n",
              "    border: 2px solid var(--fill-color);\n",
              "    border-color: transparent;\n",
              "    border-bottom-color: var(--fill-color);\n",
              "    animation:\n",
              "      spin 1s steps(1) infinite;\n",
              "  }\n",
              "\n",
              "  @keyframes spin {\n",
              "    0% {\n",
              "      border-color: transparent;\n",
              "      border-bottom-color: var(--fill-color);\n",
              "      border-left-color: var(--fill-color);\n",
              "    }\n",
              "    20% {\n",
              "      border-color: transparent;\n",
              "      border-left-color: var(--fill-color);\n",
              "      border-top-color: var(--fill-color);\n",
              "    }\n",
              "    30% {\n",
              "      border-color: transparent;\n",
              "      border-left-color: var(--fill-color);\n",
              "      border-top-color: var(--fill-color);\n",
              "      border-right-color: var(--fill-color);\n",
              "    }\n",
              "    40% {\n",
              "      border-color: transparent;\n",
              "      border-right-color: var(--fill-color);\n",
              "      border-top-color: var(--fill-color);\n",
              "    }\n",
              "    60% {\n",
              "      border-color: transparent;\n",
              "      border-right-color: var(--fill-color);\n",
              "    }\n",
              "    80% {\n",
              "      border-color: transparent;\n",
              "      border-right-color: var(--fill-color);\n",
              "      border-bottom-color: var(--fill-color);\n",
              "    }\n",
              "    90% {\n",
              "      border-color: transparent;\n",
              "      border-bottom-color: var(--fill-color);\n",
              "    }\n",
              "  }\n",
              "</style>\n",
              "\n",
              "  <script>\n",
              "    async function quickchart(key) {\n",
              "      const quickchartButtonEl =\n",
              "        document.querySelector('#' + key + ' button');\n",
              "      quickchartButtonEl.disabled = true;  // To prevent multiple clicks.\n",
              "      quickchartButtonEl.classList.add('colab-df-spinner');\n",
              "      try {\n",
              "        const charts = await google.colab.kernel.invokeFunction(\n",
              "            'suggestCharts', [key], {});\n",
              "      } catch (error) {\n",
              "        console.error('Error during call to suggestCharts:', error);\n",
              "      }\n",
              "      quickchartButtonEl.classList.remove('colab-df-spinner');\n",
              "      quickchartButtonEl.classList.add('colab-df-quickchart-complete');\n",
              "    }\n",
              "    (() => {\n",
              "      let quickchartButtonEl =\n",
              "        document.querySelector('#df-ec207fea-9928-49ed-9926-e06090b18bc0 button');\n",
              "      quickchartButtonEl.style.display =\n",
              "        google.colab.kernel.accessAllowed ? 'block' : 'none';\n",
              "    })();\n",
              "  </script>\n",
              "</div>\n",
              "    </div>\n",
              "  </div>\n"
            ]
          },
          "metadata": {},
          "execution_count": 1194
        }
      ],
      "source": [
        "query_df = process_data(query_data)\n",
        "query_df.head()"
      ]
    },
    {
      "cell_type": "code",
      "execution_count": null,
      "metadata": {
        "id": "04evjw7xe0M5"
      },
      "outputs": [],
      "source": [
        "test_df = process_data(test_df)"
      ]
    },
    {
      "cell_type": "markdown",
      "metadata": {
        "id": "6k9MK5wuf69Q"
      },
      "source": [
        "### Get dataset with embeddings"
      ]
    },
    {
      "cell_type": "code",
      "execution_count": null,
      "metadata": {
        "id": "_T1WW59QgFIt"
      },
      "outputs": [],
      "source": [
        "# GloVe Embeddings for Training Dataset\n",
        "training_dataset = FullDatasetWrapper(train_processed_df)\n",
        "# GloVe Embeddings for Query Datas\n",
        "rare_class_query_set = FullDatasetWrapper(query_df)\n",
        "# GloVe Embeddings for Testing Dataset\n",
        "testing_dataset = FullDatasetWrapper(test_df)"
      ]
    },
    {
      "cell_type": "markdown",
      "metadata": {
        "id": "Qp5_lKnegdJc"
      },
      "source": [
        "# Custom LSTM Model"
      ]
    },
    {
      "cell_type": "markdown",
      "metadata": {
        "id": "YWNXuY1xgf8_"
      },
      "source": [
        "## Model Definition"
      ]
    },
    {
      "cell_type": "code",
      "execution_count": null,
      "metadata": {
        "id": "8NOyZtuNghvn"
      },
      "outputs": [],
      "source": [
        "class Average(nn.Module):\n",
        "\n",
        "    def __init__(self):\n",
        "        super().__init__()\n",
        "\n",
        "    def forward(self, batch_sentence_token_embeddings, input_mask):\n",
        "        avgs = []\n",
        "        with torch.no_grad():\n",
        "            for i in range(batch_sentence_token_embeddings.shape[0]):\n",
        "                avg = torch.mean(batch_sentence_token_embeddings[i,:input_mask[i],:], dim=0)\n",
        "                avgs.append(avg)\n",
        "        return torch.stack(avgs, dim=0)\n",
        "\n",
        "\n",
        "class SimpleGloVeRNN(nn.Module):\n",
        "\n",
        "    def __init__(self, num_classes, hidden_dim=512, embedding_dim=256, num_rnn_stacks=1, num_mlp_layers=1):\n",
        "\n",
        "        super().__init__()\n",
        "        self.average  = Average()\n",
        "        self.rnn      = nn.LSTM(batch_first=True, input_size=300, hidden_size=hidden_dim, num_layers=num_rnn_stacks)\n",
        "        self.activ    = nn.ReLU()\n",
        "\n",
        "        mlp_layers  = []\n",
        "        for i in range(num_mlp_layers - 1):\n",
        "            linear      = nn.Linear(hidden_dim, hidden_dim)\n",
        "            bn          = nn.BatchNorm1d(hidden_dim)\n",
        "            mlp_layers.append(linear)\n",
        "            mlp_layers.append(bn)\n",
        "            mlp_layers.append(self.activ)\n",
        "        embed_linear    = nn.Linear(hidden_dim, embedding_dim)\n",
        "        embed_bn        = nn.BatchNorm1d(hidden_dim)\n",
        "        mlp_layers.append(embed_linear)\n",
        "        mlp_layers.append(embed_bn)\n",
        "\n",
        "        self.mlp            = nn.Sequential(*mlp_layers)\n",
        "        self.cls            = nn.Linear(embedding_dim, num_classes)\n",
        "        self.embedding_dim  = embedding_dim\n",
        "        self.hidden_dim     = hidden_dim\n",
        "\n",
        "\n",
        "    def get_embedding_dim(self):\n",
        "        return self.embedding_dim\n",
        "\n",
        "\n",
        "    def forward(self, glove_embeddings, input_mask, labels=None, freeze=False, last=False):\n",
        "\n",
        "        if freeze:\n",
        "            with torch.no_grad():\n",
        "                ignore_this         = self.average(glove_embeddings, input_mask)\n",
        "                hidden_states, _    = self.rnn(glove_embeddings)\n",
        "                # last_hidden_states  = torch.gather(hidden_states, 1, input_mask.reshape(-1,1,1).repeat(1,1,self.hidden_dim) - 1).squeeze()  # Using the mask, get the hidden vectors that correspond to the end of each sequence in the batch.\n",
        "                last_hidden_states = torch.gather(hidden_states, 1, input_mask.reshape(-1,1,1).repeat(1,1,self.hidden_dim) - 1)\n",
        "                if last_hidden_states.size(1) == 1:\n",
        "                    last_hidden_states = last_hidden_states.squeeze(1) # Squeeze the second dimension if it's 1\n",
        "                else:\n",
        "                    last_hidden_states = last_hidden_states.squeeze() # Or just squeeze the last dimension\n",
        "                # print(last_hidden_states.shape, glove_embeddings.shape, input_mask.shape)\n",
        "                sentence_embed      = self.mlp(last_hidden_states)\n",
        "        else:\n",
        "            ignore_this         = self.average(glove_embeddings, input_mask)                                                            # Added so we can use hooks to get input values for DISTIL's SMI.\n",
        "            hidden_states, _    = self.rnn(glove_embeddings)                                                                            # Apply RNN\n",
        "            # last_hidden_states  = torch.gather(hidden_states, 1, input_mask.reshape(-1,1,1).repeat(1,1,self.hidden_dim) - 1).squeeze()  # Using the mask, get the hidden vectors that correspond to the end of each sequence in the batch.\n",
        "            last_hidden_states = torch.gather(hidden_states, 1, input_mask.reshape(-1,1,1).repeat(1,1,self.hidden_dim) - 1)\n",
        "            if last_hidden_states.size(1) == 1:\n",
        "                last_hidden_states = last_hidden_states.squeeze(1) # Squeeze the second dimension if it's 1\n",
        "            else:\n",
        "                last_hidden_states = last_hidden_states.squeeze() # Or just squeeze the last dimension\n",
        "            # print(last_hidden_states.shape, glove_embeddings.shape, input_mask.shape)\n",
        "            sentence_embed      = self.mlp(last_hidden_states)                                                                          # Then, apply the MLP on top of the hidden states.\n",
        "        logits  = self.cls(self.activ(sentence_embed))\n",
        "        if last:\n",
        "            return logits, sentence_embed\n",
        "        else:\n",
        "            return logits"
      ]
    },
    {
      "cell_type": "markdown",
      "metadata": {
        "id": "_P8heLVxgizW"
      },
      "source": [
        "## Custom Training Method"
      ]
    },
    {
      "cell_type": "code",
      "execution_count": null,
      "metadata": {
        "id": "ZVCJR785gm6j"
      },
      "outputs": [],
      "source": [
        "class data_train:\n",
        "\n",
        "    def __init__(self, num_cls=2, hidden_dim=256, embedding_dim=256, num_rnn_stacks=2, mlp_layers=2, batch_size=20) -> None:\n",
        "        self.model = SimpleGloVeRNN(num_cls, hidden_dim, embedding_dim, num_rnn_stacks, mlp_layers)\n",
        "        self.num_cls = num_cls\n",
        "        self.hidden_dim = hidden_dim\n",
        "        self.embedding_dim = embedding_dim\n",
        "        self.num_rnn_stacks = num_rnn_stacks\n",
        "        self.mlp_layers = mlp_layers\n",
        "        self.batch_size = batch_size\n",
        "        self.device = \"cuda\" if torch.cuda.is_available() else \"cpu\"\n",
        "        self.model.to(self.device)\n",
        "\n",
        "    def get_param_count(self):\n",
        "        # How many parameters? Should be MUCH less than BERT (110 million)! Can configure above params to make the model larger/smaller.\n",
        "        param_count = 0\n",
        "        for param in self.model.parameters():\n",
        "            size_list   = param.size()\n",
        "            param_count += torch.prod(torch.tensor(size_list)).item()\n",
        "        print(\"Parameters:\", F\"{param_count:,}\")\n",
        "        return param_count\n",
        "\n",
        "    def check_batching(self, training_dataset):\n",
        "        dataloader = DataLoader(training_dataset, batch_size=2, shuffle=False)\n",
        "        for batch_dict in dataloader:\n",
        "            batch_dict = {k:v.to(self.device) for k,v in batch_dict.items()}\n",
        "            output = self.model(**batch_dict)\n",
        "            print(output.shape)\n",
        "\n",
        "    def train(self, training_dataset, epochs=150, lr=1e-2):\n",
        "        dataloader = DataLoader(training_dataset, batch_size=self.batch_size, shuffle=False)\n",
        "        optimizer = optim.SGD(self.model.parameters(), lr=1e-2)\n",
        "        self.model.train()\n",
        "        losses = []\n",
        "        for i in range(epochs):\n",
        "            epoch_loss, num_batches = 0, 0\n",
        "            for batch_dict in dataloader:\n",
        "                batch_dict = {k:v.to(self.device) for k,v in batch_dict.items()}\n",
        "                optimizer.zero_grad()\n",
        "                out   = self.model(**batch_dict)\n",
        "                loss  = torch.nn.functional.cross_entropy(out, batch_dict[\"labels\"])\n",
        "                loss.backward()\n",
        "                optimizer.step()\n",
        "                epoch_loss, num_batches = epoch_loss+loss.item(), num_batches+1\n",
        "            avg_loss = epoch_loss/num_batches if num_batches>0 else 0\n",
        "            if (i+1)%5==0:\n",
        "                print('Epoch:', (i+1), '\\tLoss =', avg_loss)\n",
        "            losses.append(avg_loss)\n",
        "        self.model.eval()\n",
        "        return losses\n",
        "\n",
        "    def verify_output_emeddings(self, training_dataset):\n",
        "        dataloader = DataLoader(training_dataset, batch_size=2, shuffle=False)\n",
        "        for batch_dict in dataloader:\n",
        "            batch_dict = {k:v.to(self.device) for k,v in batch_dict.items()}\n",
        "            output, embeddings = self.model(**batch_dict, last=True, freeze=True)\n",
        "            print(output)\n",
        "            print(embeddings.shape)\n",
        "\n",
        "    def get_test_metrics(self, testing_dataset):\n",
        "        dataloader = DataLoader(testing_dataset, batch_size=self.batch_size, shuffle=False)\n",
        "        # Initialize counters\n",
        "        tp = fp = fn = tn = 0\n",
        "\n",
        "        self.model.eval()\n",
        "        with torch.no_grad():\n",
        "            for batch_dict in dataloader:\n",
        "                batch_dict = {k:v.to(self.device) for k,v in batch_dict.items()}\n",
        "                # Get model outputs\n",
        "                outputs = self.model(**batch_dict)\n",
        "                # Calculate predictions from outputs (assuming binary classification with threshold at 0.5)\n",
        "                # Modify the threshold and prediction calculation if necessary\n",
        "                predictions = torch.argmax(outputs, dim=1)\n",
        "                # Get true labels\n",
        "                true_labels = batch_dict[\"labels\"]\n",
        "                # Update confusion matrix\n",
        "                conf_mat = confusion_matrix(true_labels.cpu().numpy(), predictions.cpu().numpy(), labels=[0, 1])\n",
        "                tn_, fp_, fn_, tp_ = conf_mat.ravel() if conf_mat.size == 4 else (0, 0, 0, 0)\n",
        "                tp, fp, fn, tn = tp+tp_, fp+fp_, fn+fn_, tn+tn_\n",
        "\n",
        "        acc = (tp + tn) / (tp + fp + fn + tn) if (tp + fp + fn + tn) > 0 else 0\n",
        "        ppv = tp / (tp + fp) if (tp + fp) > 0 else 0\n",
        "        tpr = tp / (tp + fn) if (tp + fn) > 0 else 0\n",
        "        f1 = (2 * tp) / (2 * tp + fp + fn) if (2 * tp + fp + fn) > 0 else 0\n",
        "        fpr = fp / (fp + tn) if (fp + tn) > 0 else 0\n",
        "        fnr = fn / (tp + fn) if (tp + fn) > 0 else 0\n",
        "        tnr = tn / (tn + fp) if (tn + fp) > 0 else 0\n",
        "        npv = tn / (tn + fn) if (tn + fn) > 0 else 0\n",
        "        fdr = fp / (tp + fp) if (tp + fp) > 0 else 0\n",
        "        mcc_numerator = (tp * tn) - (fp * fn)\n",
        "        mcc_denominator = ((tp + fp) * (tp + fn) * (tn + fp) * (tn + fn)) ** 0.5\n",
        "        mcc = mcc_numerator / mcc_denominator if mcc_denominator > 0 else 0\n",
        "\n",
        "        metrics = {\n",
        "            'tp': tp, 'fp': fp, 'fn': fn, 'tn': tn, 'acc': acc, 'f1': f1,\n",
        "            'ppv': ppv, 'tpr': tpr, 'fpr': fpr, 'fnr': fnr,\n",
        "            'tnr': tnr, 'npv': npv, 'fdr': fdr, 'mcc': mcc\n",
        "        }\n",
        "\n",
        "        return metrics\n"
      ]
    },
    {
      "cell_type": "markdown",
      "metadata": {
        "id": "p5L4BO7c3yLQ"
      },
      "source": [
        "### Metric_dict Definition"
      ]
    },
    {
      "cell_type": "code",
      "execution_count": null,
      "metadata": {
        "id": "41aAygRWgaNB",
        "colab": {
          "base_uri": "https://localhost:8080/"
        },
        "outputId": "14a0c195-e63a-4314-8f7f-5ff5174c2c8c"
      },
      "outputs": [
        {
          "output_type": "execute_result",
          "data": {
            "text/plain": [
              "{'tp': 'True Positive Count',\n",
              " 'fp': 'False Positive Count',\n",
              " 'fn': 'False Negative Count',\n",
              " 'tn': 'True Negative Count',\n",
              " 'acc': 'Accuracy',\n",
              " 'f1': 'F1-score | F-measure',\n",
              " 'ppv': 'Positive Predictive Value | Precision',\n",
              " 'tpr': 'True Positive Rate | Recall | Sensitivity',\n",
              " 'fpr': 'False Positive Rate | Type I error',\n",
              " 'fnr': 'False Negative Rate | Type II error',\n",
              " 'tnr': 'True Negative Rate | Specificity',\n",
              " 'npv': 'Negative Predictive Value',\n",
              " 'fdr': 'False Discovery Rate',\n",
              " 'mcc': 'Matthews Correlation Coefficient'}"
            ]
          },
          "metadata": {},
          "execution_count": 1199
        }
      ],
      "source": [
        "metric_dict = {\n",
        "    'tp': \"True Positive Count\", 'fp': 'False Positive Count',\n",
        "    'fn': \"False Negative Count\", 'tn': 'True Negative Count',\n",
        "    'acc': \"Accuracy\", 'f1': 'F1-score | F-measure',\n",
        "    'ppv': \"Positive Predictive Value | Precision\",\n",
        "    'tpr': 'True Positive Rate | Recall | Sensitivity',\n",
        "    'fpr': \"False Positive Rate | Type I error\",\n",
        "    'fnr': 'False Negative Rate | Type II error',\n",
        "    'tnr': \"True Negative Rate | Specificity\",\n",
        "    'npv': 'Negative Predictive Value', 'fdr': \"False Discovery Rate\",\n",
        "    'mcc': 'Matthews Correlation Coefficient',\n",
        "\n",
        "}\n",
        "metric_dict"
      ]
    },
    {
      "cell_type": "markdown",
      "metadata": {
        "id": "95hON86ZhAzy"
      },
      "source": [
        "# Active Learning"
      ]
    },
    {
      "cell_type": "markdown",
      "metadata": {
        "id": "otBhU55MiBjP"
      },
      "source": [
        "## Define Selection Strategy arguments"
      ]
    },
    {
      "cell_type": "code",
      "execution_count": null,
      "metadata": {
        "id": "1qVFE8SNiEsu",
        "colab": {
          "base_uri": "https://localhost:8080/"
        },
        "outputId": "d5756424-2e3e-430a-e20a-e282fd224d41"
      },
      "outputs": [
        {
          "output_type": "stream",
          "name": "stdout",
          "text": [
            "144\n"
          ]
        }
      ],
      "source": [
        "budget = round(sum(train_class_counts)/66.666) # Budget is set to 1.5% of the total training dataset\n",
        "print(budget)"
      ]
    },
    {
      "cell_type": "code",
      "execution_count": null,
      "metadata": {
        "id": "Y_q2QbxhiRQB"
      },
      "outputs": [],
      "source": [
        "selection_strategy_args = {\n",
        "    'device':        \"cpu\",                  # Use the device used in training\n",
        "    'batch_size':    20,                    # Use the batch size used in training\n",
        "    'smi_function':  'logdetmi',              # Use a facility location function, which captures representation information\n",
        "    'metric':        'cosine',             # Use cosine similarity when determining the likeness of two data points\n",
        "    'optimizer':     'LazyGreedy',          # When doing submodular maximization, use the lazy greedy optimizer\n",
        "    'embedding_type': 'features',          # IMPORTANT: NEED TO USE PRETRAINED GLOVE FEATURES FOR COLD START SELECTION!\n",
        "    'layer_name':    'average'             # We can do so by specifying the layer we wish to extract those features from.\n",
        "}"
      ]
    },
    {
      "cell_type": "code",
      "source": [
        "qry_sz, train_sz = len(rare_class_query_set), len(training_dataset)"
      ],
      "metadata": {
        "id": "dD4R_oIStiCG"
      },
      "execution_count": null,
      "outputs": []
    },
    {
      "cell_type": "markdown",
      "metadata": {
        "id": "DJZZ_nhfjFWg"
      },
      "source": [
        "## Query Set Size = 100%"
      ]
    },
    {
      "cell_type": "code",
      "execution_count": null,
      "metadata": {
        "id": "1m3w_gizobVl"
      },
      "outputs": [],
      "source": [
        "LSTM_pc100 = data_train()"
      ]
    },
    {
      "cell_type": "code",
      "source": [
        "random.seed(RAND_STATE)\n",
        "ablated_query_set = Subset(rare_class_query_set, random.sample(range(qry_sz), int(1.00 * qry_sz)))\n",
        "print('Query Set Size w.r.t. Unlabeled Data = {}%'.format(round(100*qry_sz/train_sz, 2)))\n",
        "print('Query Set Usage: 100%')"
      ],
      "metadata": {
        "id": "k_u_dpbwtsHq",
        "colab": {
          "base_uri": "https://localhost:8080/"
        },
        "outputId": "895fd61b-7252-44ec-ae97-c608e7492c15"
      },
      "execution_count": null,
      "outputs": [
        {
          "output_type": "stream",
          "name": "stdout",
          "text": [
            "Query Set Size w.r.t. Unlabeled Data = 0.21%\n",
            "Query Set Usage: 100%\n"
          ]
        }
      ]
    },
    {
      "cell_type": "markdown",
      "metadata": {
        "id": "7DRqDzqYoBF4"
      },
      "source": [
        "### Subset Selection with 100% of Query Set"
      ]
    },
    {
      "cell_type": "code",
      "execution_count": null,
      "metadata": {
        "id": "fmYnKDBQoHSL",
        "colab": {
          "base_uri": "https://localhost:8080/"
        },
        "outputId": "eb02882c-d87e-4f12-f8bc-ace481b59ec3"
      },
      "outputs": [
        {
          "output_type": "stream",
          "name": "stdout",
          "text": [
            "Class 0 count: 76\n",
            "Class 1 count: 68\n"
          ]
        }
      ],
      "source": [
        "selection_strategy_args['device'] = LSTM_pc100.device\n",
        "pc100_selection_strategy = SMI(training_dataset, Labeled_to_unlabel(training_dataset), ablated_query_set, LSTM_pc100.model, LSTM_pc100.num_cls, selection_strategy_args)\n",
        "pc100_selected_idx = pc100_selection_strategy.select(budget)\n",
        "pc100_human_labeled_dataset = Subset(training_dataset, pc100_selected_idx)\n",
        "\n",
        "pc100_class_counts = [0 for x in range(LSTM_pc100.num_cls)]\n",
        "# Go over the newly labeled dataset, tallying the number of points seen in each class.\n",
        "for _ in pc100_human_labeled_dataset:\n",
        "    pc100_class_counts[_['labels']] += 1\n",
        "\n",
        "# Print each class count\n",
        "\n",
        "for class_idx, class_count in enumerate(pc100_class_counts):\n",
        "    print(F\"Class {class_idx} count: {class_count}\")"
      ]
    },
    {
      "cell_type": "code",
      "execution_count": null,
      "metadata": {
        "id": "Y9l9ADpFoOdh"
      },
      "outputs": [],
      "source": [
        "with open('logs.txt', 'a') as logfile:\n",
        "    logfile.write('\\nQuery Set Size w.r.t. Unlabeled Data = {}%'.format(round(100*qry_sz/train_sz, 2)))\n",
        "    logfile.write('\\nQuery Set Usage: 100% \\n')\n",
        "    for class_idx, class_count in enumerate(pc100_class_counts):\n",
        "        logfile.write(F\"Class {class_idx} count: {class_count} \\n\")"
      ]
    },
    {
      "cell_type": "markdown",
      "metadata": {
        "id": "NlfW0ka2pbOx"
      },
      "source": [
        "### Training on Selection using 100% of Query Set"
      ]
    },
    {
      "cell_type": "code",
      "execution_count": null,
      "metadata": {
        "id": "RBciJsOdpiZf",
        "colab": {
          "base_uri": "https://localhost:8080/"
        },
        "outputId": "0912fedc-23cc-47fc-ccc6-f45c6a565266"
      },
      "outputs": [
        {
          "output_type": "stream",
          "name": "stdout",
          "text": [
            "Epoch: 5 \tLoss = 0.1885684495791793\n",
            "Epoch: 10 \tLoss = 0.08040408533997834\n",
            "Epoch: 15 \tLoss = 0.04543687170371413\n",
            "Epoch: 20 \tLoss = 0.03019849699921906\n",
            "Epoch: 25 \tLoss = 0.022084528114646673\n"
          ]
        }
      ],
      "source": [
        "losses_pc100 = LSTM_pc100.train(pc100_human_labeled_dataset, epochs=25)"
      ]
    },
    {
      "cell_type": "markdown",
      "metadata": {
        "id": "honXPz77pm2q"
      },
      "source": [
        "### Test Performance - Model trained on selecting using 100% of Query Set"
      ]
    },
    {
      "cell_type": "code",
      "execution_count": null,
      "metadata": {
        "id": "8tdEkxOkpwLK"
      },
      "outputs": [],
      "source": [
        "pc100_metrics = LSTM_pc100.get_test_metrics(testing_dataset)"
      ]
    },
    {
      "cell_type": "code",
      "execution_count": null,
      "metadata": {
        "id": "y6Ii7Kv0qSv1",
        "colab": {
          "base_uri": "https://localhost:8080/"
        },
        "outputId": "08a400eb-3f6b-430c-c812-aa93011842df"
      },
      "outputs": [
        {
          "output_type": "execute_result",
          "data": {
            "text/plain": [
              "{'tp': 579,\n",
              " 'fp': 157,\n",
              " 'fn': 357,\n",
              " 'tn': 752,\n",
              " 'acc': 0.7214092140921409,\n",
              " 'f1': 0.6925837320574163,\n",
              " 'ppv': 0.7866847826086957,\n",
              " 'tpr': 0.6185897435897436,\n",
              " 'fpr': 0.17271727172717272,\n",
              " 'fnr': 0.3814102564102564,\n",
              " 'tnr': 0.8272827282728272,\n",
              " 'npv': 0.6780883678990082,\n",
              " 'fdr': 0.21331521739130435,\n",
              " 'mcc': 0.45522472853770213}"
            ]
          },
          "metadata": {},
          "execution_count": 1209
        }
      ],
      "source": [
        "pc100_metrics"
      ]
    },
    {
      "cell_type": "code",
      "execution_count": null,
      "metadata": {
        "id": "RC2NUzd-hc0R"
      },
      "outputs": [],
      "source": [
        "pc100_metrics['name'] = 'Size-100%'"
      ]
    },
    {
      "cell_type": "markdown",
      "metadata": {
        "id": "rSlXSENIq8ra"
      },
      "source": [
        "## Query Set Size = 80%"
      ]
    },
    {
      "cell_type": "code",
      "execution_count": null,
      "metadata": {
        "id": "swWaAAi4sotx"
      },
      "outputs": [],
      "source": [
        "LSTM_pc80 = data_train()"
      ]
    },
    {
      "cell_type": "code",
      "source": [
        "random.seed(RAND_STATE)\n",
        "ablated_query_set = Subset(rare_class_query_set, random.sample(range(qry_sz), int(0.80 * qry_sz)))\n",
        "print('Query Set Size w.r.t. Unlabeled Data = {}%'.format(round(80*qry_sz/train_sz, 2)))\n",
        "print('Query Set Usage: 80%')"
      ],
      "metadata": {
        "id": "fkDAXomhvkrh",
        "colab": {
          "base_uri": "https://localhost:8080/"
        },
        "outputId": "fea27971-582e-44da-cfc1-384614267655"
      },
      "execution_count": null,
      "outputs": [
        {
          "output_type": "stream",
          "name": "stdout",
          "text": [
            "Query Set Size w.r.t. Unlabeled Data = 0.17%\n",
            "Query Set Usage: 80%\n"
          ]
        }
      ]
    },
    {
      "cell_type": "markdown",
      "metadata": {
        "id": "3kKeYOeUrCBF"
      },
      "source": [
        "### Subset Selection with 80% of Query Set"
      ]
    },
    {
      "cell_type": "code",
      "execution_count": null,
      "metadata": {
        "id": "v1GDv9hhtaoN",
        "colab": {
          "base_uri": "https://localhost:8080/"
        },
        "outputId": "70b70dfc-0c60-4491-c831-acd81e18ba25"
      },
      "outputs": [
        {
          "output_type": "stream",
          "name": "stdout",
          "text": [
            "Class 0 count: 78\n",
            "Class 1 count: 66\n"
          ]
        }
      ],
      "source": [
        "selection_strategy_args['device'] = LSTM_pc80.device\n",
        "pc80_selection_strategy = SMI(training_dataset, Labeled_to_unlabel(training_dataset), ablated_query_set, LSTM_pc80.model, LSTM_pc80.num_cls, selection_strategy_args)\n",
        "pc80_selected_idx = pc80_selection_strategy.select(budget)\n",
        "pc80_human_labeled_dataset = Subset(training_dataset, pc80_selected_idx)\n",
        "\n",
        "pc80_class_counts = [0 for x in range(LSTM_pc80.num_cls)]\n",
        "# Go over the newly labeled dataset, tallying the number of points seen in each class.\n",
        "for _ in pc80_human_labeled_dataset:\n",
        "    pc80_class_counts[_['labels']] += 1\n",
        "\n",
        "# Print each class count\n",
        "\n",
        "for class_idx, class_count in enumerate(pc80_class_counts):\n",
        "    print(F\"Class {class_idx} count: {class_count}\")"
      ]
    },
    {
      "cell_type": "code",
      "execution_count": null,
      "metadata": {
        "id": "9_HkyP0IuDjc"
      },
      "outputs": [],
      "source": [
        "with open('logs.txt', 'a') as logfile:\n",
        "    logfile.write('\\nQuery Set Size w.r.t. Unlabeled Data = {}%'.format(round(80*qry_sz/train_sz, 2)))\n",
        "    logfile.write('\\nQuery Set Usage: 80% \\n')\n",
        "    for class_idx, class_count in enumerate(pc80_class_counts):\n",
        "        logfile.write(F\"Class {class_idx} count: {class_count} \\n\")"
      ]
    },
    {
      "cell_type": "markdown",
      "metadata": {
        "id": "_AzAtGo0rH_S"
      },
      "source": [
        "### Training on Selection using 80% of Query Set"
      ]
    },
    {
      "cell_type": "code",
      "execution_count": null,
      "metadata": {
        "colab": {
          "base_uri": "https://localhost:8080/"
        },
        "id": "bTRWcwaRujp_",
        "outputId": "921fb8f1-dd59-4f58-d6fd-a7d0b31204e9"
      },
      "outputs": [
        {
          "output_type": "stream",
          "name": "stdout",
          "text": [
            "Epoch: 5 \tLoss = 0.1868281215429306\n",
            "Epoch: 10 \tLoss = 0.08262872090563178\n",
            "Epoch: 15 \tLoss = 0.04774960462236777\n",
            "Epoch: 20 \tLoss = 0.031946748960763216\n",
            "Epoch: 25 \tLoss = 0.02342049463186413\n"
          ]
        }
      ],
      "source": [
        "losses_pc80 = LSTM_pc80.train(pc80_human_labeled_dataset, epochs=25)"
      ]
    },
    {
      "cell_type": "markdown",
      "metadata": {
        "id": "ag8kmdpYrLwf"
      },
      "source": [
        "### Test Performance - Model trained on selecting using 80% of Query Set"
      ]
    },
    {
      "cell_type": "code",
      "execution_count": null,
      "metadata": {
        "id": "Q4Sma71bvBPs"
      },
      "outputs": [],
      "source": [
        "pc80_metrics = LSTM_pc80.get_test_metrics(testing_dataset)"
      ]
    },
    {
      "cell_type": "code",
      "execution_count": null,
      "metadata": {
        "colab": {
          "base_uri": "https://localhost:8080/"
        },
        "id": "Trc6iukgvCcs",
        "outputId": "37f3a9a6-c3e1-400c-960f-5d07b24c0b97"
      },
      "outputs": [
        {
          "output_type": "execute_result",
          "data": {
            "text/plain": [
              "{'tp': 483,\n",
              " 'fp': 88,\n",
              " 'fn': 453,\n",
              " 'tn': 821,\n",
              " 'acc': 0.7067750677506776,\n",
              " 'f1': 0.6410086264100863,\n",
              " 'ppv': 0.8458844133099825,\n",
              " 'tpr': 0.5160256410256411,\n",
              " 'fpr': 0.0968096809680968,\n",
              " 'fnr': 0.483974358974359,\n",
              " 'tnr': 0.9031903190319032,\n",
              " 'npv': 0.6444270015698587,\n",
              " 'fdr': 0.15411558669001751,\n",
              " 'mcc': 0.45337222071497224}"
            ]
          },
          "metadata": {},
          "execution_count": 1217
        }
      ],
      "source": [
        "pc80_metrics"
      ]
    },
    {
      "cell_type": "code",
      "execution_count": null,
      "metadata": {
        "id": "zsVyUIe7hxW-"
      },
      "outputs": [],
      "source": [
        "pc80_metrics['name'] = 'Size-80%'"
      ]
    },
    {
      "cell_type": "markdown",
      "metadata": {
        "id": "K4HZ4GG6rVSS"
      },
      "source": [
        "## Query Set Size = 60%"
      ]
    },
    {
      "cell_type": "code",
      "execution_count": null,
      "metadata": {
        "id": "_pUlZUslsrBs"
      },
      "outputs": [],
      "source": [
        "LSTM_pc60 = data_train()"
      ]
    },
    {
      "cell_type": "code",
      "source": [
        "random.seed(RAND_STATE)\n",
        "ablated_query_set = Subset(rare_class_query_set, random.sample(range(qry_sz), int(0.60 * qry_sz)))\n",
        "print('Query Set Size w.r.t. Unlabeled Data = {}%'.format(round(60*qry_sz/train_sz, 2)))\n",
        "print('Query Set Usage: 60%')"
      ],
      "metadata": {
        "colab": {
          "base_uri": "https://localhost:8080/"
        },
        "id": "xavVF0eDyjXL",
        "outputId": "2b644686-451a-4189-fbb5-944011defaf8"
      },
      "execution_count": null,
      "outputs": [
        {
          "output_type": "stream",
          "name": "stdout",
          "text": [
            "Query Set Size w.r.t. Unlabeled Data = 0.13%\n",
            "Query Set Usage: 60%\n"
          ]
        }
      ]
    },
    {
      "cell_type": "markdown",
      "metadata": {
        "id": "I8CLn1zJrbCQ"
      },
      "source": [
        "### Subset Selection with 60% of Query Set"
      ]
    },
    {
      "cell_type": "code",
      "execution_count": null,
      "metadata": {
        "id": "_FJmlVEjtkXz",
        "colab": {
          "base_uri": "https://localhost:8080/"
        },
        "outputId": "d21b1acb-b81c-4d37-bb0e-784661ca89a8"
      },
      "outputs": [
        {
          "output_type": "stream",
          "name": "stdout",
          "text": [
            "Class 0 count: 74\n",
            "Class 1 count: 70\n"
          ]
        }
      ],
      "source": [
        "selection_strategy_args['device'] = LSTM_pc60.device\n",
        "pc60_selection_strategy = SMI(training_dataset, Labeled_to_unlabel(training_dataset), ablated_query_set, LSTM_pc60.model, LSTM_pc60.num_cls, selection_strategy_args)\n",
        "pc60_selected_idx = pc60_selection_strategy.select(budget)\n",
        "pc60_human_labeled_dataset = Subset(training_dataset, pc60_selected_idx)\n",
        "\n",
        "pc60_class_counts = [0 for x in range(LSTM_pc60.num_cls)]\n",
        "# Go over the newly labeled dataset, tallying the number of points seen in each class.\n",
        "for _ in pc60_human_labeled_dataset:\n",
        "    pc60_class_counts[_['labels']] += 1\n",
        "\n",
        "# Print each class count\n",
        "\n",
        "for class_idx, class_count in enumerate(pc60_class_counts):\n",
        "    print(F\"Class {class_idx} count: {class_count}\")"
      ]
    },
    {
      "cell_type": "code",
      "execution_count": null,
      "metadata": {
        "id": "RhLA-fqMuIWz"
      },
      "outputs": [],
      "source": [
        "with open('logs.txt', 'a') as logfile:\n",
        "    logfile.write('\\nQuery Set Size w.r.t. Unlabeled Data = {}%'.format(round(60*qry_sz/train_sz, 2)))\n",
        "    logfile.write('\\nQuery Set Usage: 60% \\n')\n",
        "    for class_idx, class_count in enumerate(pc60_class_counts):\n",
        "        logfile.write(F\"Class {class_idx} count: {class_count} \\n\")"
      ]
    },
    {
      "cell_type": "markdown",
      "metadata": {
        "id": "6KeKEsqQregz"
      },
      "source": [
        "### Training on Selection using 60% of Query Set"
      ]
    },
    {
      "cell_type": "code",
      "execution_count": null,
      "metadata": {
        "id": "JmmoqPKGumyP",
        "colab": {
          "base_uri": "https://localhost:8080/"
        },
        "outputId": "9709725f-1e0f-4c25-8de1-be6eb8d605aa"
      },
      "outputs": [
        {
          "output_type": "stream",
          "name": "stdout",
          "text": [
            "Epoch: 5 \tLoss = 0.1819050838239491\n",
            "Epoch: 10 \tLoss = 0.07707802904769778\n",
            "Epoch: 15 \tLoss = 0.043749671429395676\n",
            "Epoch: 20 \tLoss = 0.029104063054546714\n",
            "Epoch: 25 \tLoss = 0.02130262681748718\n"
          ]
        }
      ],
      "source": [
        "losses_pc60 = LSTM_pc60.train(pc60_human_labeled_dataset, epochs=25)"
      ]
    },
    {
      "cell_type": "markdown",
      "metadata": {
        "id": "_pcpfAKSrhge"
      },
      "source": [
        "### Test Performance - Model trained on selecting using 60% of Query Set"
      ]
    },
    {
      "cell_type": "code",
      "execution_count": null,
      "metadata": {
        "id": "pP-msKMVvHer"
      },
      "outputs": [],
      "source": [
        "pc60_metrics = LSTM_pc60.get_test_metrics(testing_dataset)"
      ]
    },
    {
      "cell_type": "code",
      "execution_count": null,
      "metadata": {
        "id": "WGVVqOYbvKD2",
        "colab": {
          "base_uri": "https://localhost:8080/"
        },
        "outputId": "1699ce65-939a-42ad-d365-ee13fc10b81e"
      },
      "outputs": [
        {
          "output_type": "execute_result",
          "data": {
            "text/plain": [
              "{'tp': 533,\n",
              " 'fp': 93,\n",
              " 'fn': 403,\n",
              " 'tn': 816,\n",
              " 'acc': 0.7311653116531165,\n",
              " 'f1': 0.6824583866837388,\n",
              " 'ppv': 0.8514376996805112,\n",
              " 'tpr': 0.5694444444444444,\n",
              " 'fpr': 0.10231023102310231,\n",
              " 'fnr': 0.4305555555555556,\n",
              " 'tnr': 0.8976897689768977,\n",
              " 'npv': 0.6694011484823625,\n",
              " 'fdr': 0.1485623003194888,\n",
              " 'mcc': 0.4932561663637282}"
            ]
          },
          "metadata": {},
          "execution_count": 1225
        }
      ],
      "source": [
        "pc60_metrics"
      ]
    },
    {
      "cell_type": "code",
      "execution_count": null,
      "metadata": {
        "id": "5_5V1nvWh3LX"
      },
      "outputs": [],
      "source": [
        "pc60_metrics['name'] = 'Size-60%'"
      ]
    },
    {
      "cell_type": "markdown",
      "metadata": {
        "id": "i7gXeokfr0Nu"
      },
      "source": [
        "## Query Set Size = 40%"
      ]
    },
    {
      "cell_type": "code",
      "execution_count": null,
      "metadata": {
        "id": "JHKEoVjbs_by"
      },
      "outputs": [],
      "source": [
        "LSTM_pc40 = data_train()"
      ]
    },
    {
      "cell_type": "code",
      "source": [
        "random.seed(RAND_STATE)\n",
        "ablated_query_set = Subset(rare_class_query_set, random.sample(range(qry_sz), int(0.40 * qry_sz)))\n",
        "print('Query Set Size w.r.t. Unlabeled Data = {}%'.format(round(40*qry_sz/train_sz, 2)))\n",
        "print('Query Set Usage: 40%')"
      ],
      "metadata": {
        "id": "-eXIMDVpzelg",
        "colab": {
          "base_uri": "https://localhost:8080/"
        },
        "outputId": "3895b90f-38c5-4d7b-a800-77ffcd900094"
      },
      "execution_count": null,
      "outputs": [
        {
          "output_type": "stream",
          "name": "stdout",
          "text": [
            "Query Set Size w.r.t. Unlabeled Data = 0.08%\n",
            "Query Set Usage: 40%\n"
          ]
        }
      ]
    },
    {
      "cell_type": "markdown",
      "metadata": {
        "id": "Ibb-WYA5r4Kg"
      },
      "source": [
        "### Subset Selection with 40% of Query Set"
      ]
    },
    {
      "cell_type": "code",
      "execution_count": null,
      "metadata": {
        "id": "6uiAijiQt5sz",
        "colab": {
          "base_uri": "https://localhost:8080/"
        },
        "outputId": "10bb525a-0e12-49f4-8b8a-f702fe66b71f"
      },
      "outputs": [
        {
          "output_type": "stream",
          "name": "stdout",
          "text": [
            "Class 0 count: 82\n",
            "Class 1 count: 62\n"
          ]
        }
      ],
      "source": [
        "selection_strategy_args['device'] = LSTM_pc40.device\n",
        "pc40_selection_strategy = SMI(training_dataset, Labeled_to_unlabel(training_dataset), ablated_query_set, LSTM_pc40.model, LSTM_pc40.num_cls, selection_strategy_args)\n",
        "pc40_selected_idx = pc40_selection_strategy.select(budget)\n",
        "pc40_human_labeled_dataset = Subset(training_dataset, pc40_selected_idx)\n",
        "\n",
        "pc40_class_counts = [0 for x in range(LSTM_pc40.num_cls)]\n",
        "# Go over the newly labeled dataset, tallying the number of points seen in each class.\n",
        "for _ in pc40_human_labeled_dataset:\n",
        "    pc40_class_counts[_['labels']] += 1\n",
        "\n",
        "# Print each class count\n",
        "\n",
        "for class_idx, class_count in enumerate(pc40_class_counts):\n",
        "    print(F\"Class {class_idx} count: {class_count}\")"
      ]
    },
    {
      "cell_type": "code",
      "execution_count": null,
      "metadata": {
        "id": "pofNzIDOuWE5"
      },
      "outputs": [],
      "source": [
        "with open('logs.txt', 'a') as logfile:\n",
        "    logfile.write('\\nQuery Set Size w.r.t. Unlabeled Data = {}%'.format(round(40*qry_sz/train_sz, 2)))\n",
        "    logfile.write('\\nQuery Set Usage: 40% \\n')\n",
        "    for class_idx, class_count in enumerate(pc40_class_counts):\n",
        "        logfile.write(F\"Class {class_idx} count: {class_count} \\n\")"
      ]
    },
    {
      "cell_type": "markdown",
      "metadata": {
        "id": "jWiVw55Lr78l"
      },
      "source": [
        "### Training on Selection using 40% of Query Set"
      ]
    },
    {
      "cell_type": "code",
      "execution_count": null,
      "metadata": {
        "id": "q4m1oe-hu5F-",
        "colab": {
          "base_uri": "https://localhost:8080/"
        },
        "outputId": "2c74468f-cf10-402a-81ab-2d2dbe9a4b31"
      },
      "outputs": [
        {
          "output_type": "stream",
          "name": "stdout",
          "text": [
            "Epoch: 5 \tLoss = 0.1956696817651391\n",
            "Epoch: 10 \tLoss = 0.08980008470825851\n",
            "Epoch: 15 \tLoss = 0.05260122544132173\n",
            "Epoch: 20 \tLoss = 0.03556457394734025\n",
            "Epoch: 25 \tLoss = 0.026241725659929216\n"
          ]
        }
      ],
      "source": [
        "losses_pc40 = LSTM_pc40.train(pc40_human_labeled_dataset, epochs=25)"
      ]
    },
    {
      "cell_type": "markdown",
      "metadata": {
        "id": "ZriADOJcr_G5"
      },
      "source": [
        "### Test Performance - Model trained on selecting using 40% of Query Set"
      ]
    },
    {
      "cell_type": "code",
      "execution_count": null,
      "metadata": {
        "id": "-Pd3g5iTvX39"
      },
      "outputs": [],
      "source": [
        "pc40_metrics = LSTM_pc40.get_test_metrics(testing_dataset)"
      ]
    },
    {
      "cell_type": "code",
      "execution_count": null,
      "metadata": {
        "id": "J3TQF9p0vw1x",
        "colab": {
          "base_uri": "https://localhost:8080/"
        },
        "outputId": "0cc6776d-67f2-4806-81f0-9615e152d724"
      },
      "outputs": [
        {
          "output_type": "execute_result",
          "data": {
            "text/plain": [
              "{'tp': 417,\n",
              " 'fp': 57,\n",
              " 'fn': 519,\n",
              " 'tn': 852,\n",
              " 'acc': 0.6878048780487804,\n",
              " 'f1': 0.5914893617021276,\n",
              " 'ppv': 0.879746835443038,\n",
              " 'tpr': 0.44551282051282054,\n",
              " 'fpr': 0.0627062706270627,\n",
              " 'fnr': 0.5544871794871795,\n",
              " 'tnr': 0.9372937293729373,\n",
              " 'npv': 0.6214442013129103,\n",
              " 'fdr': 0.12025316455696203,\n",
              " 'mcc': 0.43801736451219664}"
            ]
          },
          "metadata": {},
          "execution_count": 1233
        }
      ],
      "source": [
        "pc40_metrics"
      ]
    },
    {
      "cell_type": "code",
      "execution_count": null,
      "metadata": {
        "id": "pbp6ELy3iG8P"
      },
      "outputs": [],
      "source": [
        "pc40_metrics['name'] = 'Size-40%'"
      ]
    },
    {
      "cell_type": "markdown",
      "metadata": {
        "id": "4ddsZqgLDGwm"
      },
      "source": [
        "## Query Set Size = 20%"
      ]
    },
    {
      "cell_type": "code",
      "execution_count": null,
      "metadata": {
        "id": "gW-xxPyyDaYr"
      },
      "outputs": [],
      "source": [
        "LSTM_pc20 = data_train()"
      ]
    },
    {
      "cell_type": "code",
      "source": [
        "random.seed(RAND_STATE)\n",
        "ablated_query_set = Subset(rare_class_query_set, random.sample(range(qry_sz), int(0.20 * qry_sz)))\n",
        "print('Query Set Size w.r.t. Unlabeled Data = {}%'.format(round(20*qry_sz/train_sz, 2)))\n",
        "print('Query Set Usage: 20%')"
      ],
      "metadata": {
        "id": "yUf6rnc00eld",
        "colab": {
          "base_uri": "https://localhost:8080/"
        },
        "outputId": "4311befe-bf4a-46e2-e870-a2fa0fe52ec0"
      },
      "execution_count": null,
      "outputs": [
        {
          "output_type": "stream",
          "name": "stdout",
          "text": [
            "Query Set Size w.r.t. Unlabeled Data = 0.04%\n",
            "Query Set Usage: 20%\n"
          ]
        }
      ]
    },
    {
      "cell_type": "markdown",
      "metadata": {
        "id": "Y8Sa58N8DbCA"
      },
      "source": [
        "### Subset Selection with 20% of Query Set"
      ]
    },
    {
      "cell_type": "code",
      "execution_count": null,
      "metadata": {
        "id": "2UcmC0EPDdit",
        "colab": {
          "base_uri": "https://localhost:8080/"
        },
        "outputId": "1a8f8953-a3f6-4a07-f920-5c216bad1c71"
      },
      "outputs": [
        {
          "output_type": "stream",
          "name": "stdout",
          "text": [
            "Class 0 count: 106\n",
            "Class 1 count: 38\n"
          ]
        }
      ],
      "source": [
        "selection_strategy_args['device'] = LSTM_pc20.device\n",
        "pc20_selection_strategy = SMI(training_dataset, Labeled_to_unlabel(training_dataset), ablated_query_set, LSTM_pc20.model, LSTM_pc20.num_cls, selection_strategy_args)\n",
        "pc20_selected_idx = pc20_selection_strategy.select(budget)\n",
        "pc20_human_labeled_dataset = Subset(training_dataset, pc20_selected_idx)\n",
        "\n",
        "pc20_class_counts = [0 for x in range(LSTM_pc20.num_cls)]\n",
        "# Go over the newly labeled dataset, tallying the number of points seen in each class.\n",
        "for _ in pc20_human_labeled_dataset:\n",
        "    pc20_class_counts[_['labels']] += 1\n",
        "\n",
        "# Print each class count\n",
        "\n",
        "for class_idx, class_count in enumerate(pc20_class_counts):\n",
        "    print(F\"Class {class_idx} count: {class_count}\")"
      ]
    },
    {
      "cell_type": "code",
      "execution_count": null,
      "metadata": {
        "id": "Qm71aJoJDh2u"
      },
      "outputs": [],
      "source": [
        "with open('logs.txt', 'a') as logfile:\n",
        "    logfile.write('\\nQuery Set Size w.r.t. Unlabeled Data = {}%'.format(round(20*qry_sz/train_sz, 2)))\n",
        "    logfile.write('\\nQuery Set Usage: 20% \\n')\n",
        "    for class_idx, class_count in enumerate(pc20_class_counts):\n",
        "        logfile.write(F\"Class {class_idx} count: {class_count} \\n\")"
      ]
    },
    {
      "cell_type": "markdown",
      "metadata": {
        "id": "qj1-DsWCDmcM"
      },
      "source": [
        "### Training on Selection using 20% of Query Set"
      ]
    },
    {
      "cell_type": "code",
      "execution_count": null,
      "metadata": {
        "id": "LG70qxvnD2tY",
        "colab": {
          "base_uri": "https://localhost:8080/"
        },
        "outputId": "0e1dd74f-7831-4cbe-c1e1-6291bf1a61cc"
      },
      "outputs": [
        {
          "output_type": "stream",
          "name": "stdout",
          "text": [
            "Epoch: 5 \tLoss = 0.146891581825912\n",
            "Epoch: 10 \tLoss = 0.06418564380146563\n",
            "Epoch: 15 \tLoss = 0.037310798885300756\n",
            "Epoch: 20 \tLoss = 0.02534807927440852\n",
            "Epoch: 25 \tLoss = 0.018836957635357976\n"
          ]
        }
      ],
      "source": [
        "losses_pc20 = LSTM_pc20.train(pc20_human_labeled_dataset, epochs=25)"
      ]
    },
    {
      "cell_type": "markdown",
      "metadata": {
        "id": "n0IQfJBiD7y3"
      },
      "source": [
        "### Test Performance - Model trained on selecting using 20% of Query Set"
      ]
    },
    {
      "cell_type": "code",
      "execution_count": null,
      "metadata": {
        "id": "GcOwFE5DD-wg"
      },
      "outputs": [],
      "source": [
        "pc20_metrics = LSTM_pc20.get_test_metrics(testing_dataset)"
      ]
    },
    {
      "cell_type": "code",
      "execution_count": null,
      "metadata": {
        "id": "Jvhhi6pFEBmV",
        "colab": {
          "base_uri": "https://localhost:8080/"
        },
        "outputId": "e6c1df56-a6bf-4ca1-8a59-040a75ed74d8"
      },
      "outputs": [
        {
          "output_type": "execute_result",
          "data": {
            "text/plain": [
              "{'tp': 358,\n",
              " 'fp': 33,\n",
              " 'fn': 578,\n",
              " 'tn': 876,\n",
              " 'acc': 0.6688346883468834,\n",
              " 'f1': 0.5395629238884703,\n",
              " 'ppv': 0.9156010230179028,\n",
              " 'tpr': 0.38247863247863245,\n",
              " 'fpr': 0.036303630363036306,\n",
              " 'fnr': 0.6175213675213675,\n",
              " 'tnr': 0.9636963696369637,\n",
              " 'npv': 0.6024759284731774,\n",
              " 'fdr': 0.08439897698209718,\n",
              " 'mcc': 0.42349178242141405}"
            ]
          },
          "metadata": {},
          "execution_count": 1241
        }
      ],
      "source": [
        "pc20_metrics"
      ]
    },
    {
      "cell_type": "code",
      "execution_count": null,
      "metadata": {
        "id": "Btdc5s2XEDrx"
      },
      "outputs": [],
      "source": [
        "pc20_metrics['name'] = 'Size-20%'"
      ]
    },
    {
      "cell_type": "markdown",
      "metadata": {
        "id": "ZYFM4HVFsb8g"
      },
      "source": [
        "# Experiment Results"
      ]
    },
    {
      "cell_type": "markdown",
      "metadata": {
        "id": "leeb6Dilsfhg"
      },
      "source": [
        "## Graph - Training Losses"
      ]
    },
    {
      "cell_type": "code",
      "execution_count": null,
      "metadata": {
        "id": "8qeX8bCHv789"
      },
      "outputs": [],
      "source": [
        "def plot_multiple_losses(loss_dict):\n",
        "    plt.figure(figsize=(16, 6))\n",
        "    for strat,losses in loss_dict.items():\n",
        "        plt.plot(losses, label=strat)\n",
        "    plt.title('Training Losses for SMI with different Query Set Sizes: Exp {} [Tweet Data]'.format(exp_num))\n",
        "    plt.xlabel('Epochs')\n",
        "    plt.ylabel('Loss')\n",
        "    plt.legend()\n",
        "    plt.grid(True)\n",
        "    plt.show()"
      ]
    },
    {
      "cell_type": "code",
      "execution_count": null,
      "metadata": {
        "id": "IuA2TrLDv_xw",
        "colab": {
          "base_uri": "https://localhost:8080/",
          "height": 464
        },
        "outputId": "e5486401-4fd8-4d4b-a2b9-8767bceec4f5"
      },
      "outputs": [
        {
          "output_type": "display_data",
          "data": {
            "text/plain": [
              "<Figure size 1600x600 with 1 Axes>"
            ],
            "image/png": "[encoded data removed]"
          },
          "metadata": {}
        }
      ],
      "source": [
        "plot_multiple_losses({\n",
        "    '20%': losses_pc20, '40%': losses_pc40,\n",
        "    '60%': losses_pc60, '80%': losses_pc80,\n",
        "    '100%': losses_pc100\n",
        "})"
      ]
    },
    {
      "cell_type": "markdown",
      "metadata": {
        "id": "ug3ekUV_iQJy"
      },
      "source": [
        "## Metric Compilation"
      ]
    },
    {
      "cell_type": "code",
      "execution_count": null,
      "metadata": {
        "id": "R_594AEDeBTP"
      },
      "outputs": [],
      "source": [
        "metric_list = [pc20_metrics, pc40_metrics, pc60_metrics,\n",
        "               pc80_metrics, pc100_metrics]"
      ]
    },
    {
      "cell_type": "code",
      "execution_count": null,
      "metadata": {
        "id": "bvbcFg7AiVYp",
        "colab": {
          "base_uri": "https://localhost:8080/"
        },
        "outputId": "b866b77f-a43b-42d4-eabb-40d72a6c4927"
      },
      "outputs": [
        {
          "output_type": "execute_result",
          "data": {
            "text/plain": [
              "{'tp': {'Size-20%': 358,\n",
              "  'Size-40%': 417,\n",
              "  'Size-60%': 533,\n",
              "  'Size-80%': 483,\n",
              "  'Size-100%': 579},\n",
              " 'fp': {'Size-20%': 33,\n",
              "  'Size-40%': 57,\n",
              "  'Size-60%': 93,\n",
              "  'Size-80%': 88,\n",
              "  'Size-100%': 157},\n",
              " 'fn': {'Size-20%': 578,\n",
              "  'Size-40%': 519,\n",
              "  'Size-60%': 403,\n",
              "  'Size-80%': 453,\n",
              "  'Size-100%': 357},\n",
              " 'tn': {'Size-20%': 876,\n",
              "  'Size-40%': 852,\n",
              "  'Size-60%': 816,\n",
              "  'Size-80%': 821,\n",
              "  'Size-100%': 752},\n",
              " 'acc': {'Size-20%': 0.6688346883468834,\n",
              "  'Size-40%': 0.6878048780487804,\n",
              "  'Size-60%': 0.7311653116531165,\n",
              "  'Size-80%': 0.7067750677506776,\n",
              "  'Size-100%': 0.7214092140921409},\n",
              " 'f1': {'Size-20%': 0.5395629238884703,\n",
              "  'Size-40%': 0.5914893617021276,\n",
              "  'Size-60%': 0.6824583866837388,\n",
              "  'Size-80%': 0.6410086264100863,\n",
              "  'Size-100%': 0.6925837320574163},\n",
              " 'ppv': {'Size-20%': 0.9156010230179028,\n",
              "  'Size-40%': 0.879746835443038,\n",
              "  'Size-60%': 0.8514376996805112,\n",
              "  'Size-80%': 0.8458844133099825,\n",
              "  'Size-100%': 0.7866847826086957},\n",
              " 'tpr': {'Size-20%': 0.38247863247863245,\n",
              "  'Size-40%': 0.44551282051282054,\n",
              "  'Size-60%': 0.5694444444444444,\n",
              "  'Size-80%': 0.5160256410256411,\n",
              "  'Size-100%': 0.6185897435897436},\n",
              " 'fpr': {'Size-20%': 0.036303630363036306,\n",
              "  'Size-40%': 0.0627062706270627,\n",
              "  'Size-60%': 0.10231023102310231,\n",
              "  'Size-80%': 0.0968096809680968,\n",
              "  'Size-100%': 0.17271727172717272},\n",
              " 'fnr': {'Size-20%': 0.6175213675213675,\n",
              "  'Size-40%': 0.5544871794871795,\n",
              "  'Size-60%': 0.4305555555555556,\n",
              "  'Size-80%': 0.483974358974359,\n",
              "  'Size-100%': 0.3814102564102564},\n",
              " 'tnr': {'Size-20%': 0.9636963696369637,\n",
              "  'Size-40%': 0.9372937293729373,\n",
              "  'Size-60%': 0.8976897689768977,\n",
              "  'Size-80%': 0.9031903190319032,\n",
              "  'Size-100%': 0.8272827282728272},\n",
              " 'npv': {'Size-20%': 0.6024759284731774,\n",
              "  'Size-40%': 0.6214442013129103,\n",
              "  'Size-60%': 0.6694011484823625,\n",
              "  'Size-80%': 0.6444270015698587,\n",
              "  'Size-100%': 0.6780883678990082},\n",
              " 'fdr': {'Size-20%': 0.08439897698209718,\n",
              "  'Size-40%': 0.12025316455696203,\n",
              "  'Size-60%': 0.1485623003194888,\n",
              "  'Size-80%': 0.15411558669001751,\n",
              "  'Size-100%': 0.21331521739130435},\n",
              " 'mcc': {'Size-20%': 0.42349178242141405,\n",
              "  'Size-40%': 0.43801736451219664,\n",
              "  'Size-60%': 0.4932561663637282,\n",
              "  'Size-80%': 0.45337222071497224,\n",
              "  'Size-100%': 0.45522472853770213}}"
            ]
          },
          "metadata": {},
          "execution_count": 1246
        }
      ],
      "source": [
        "metrics_compiled = {k: {\n",
        "    metric['name']: metric[k] for metric in metric_list\n",
        "    } for k in metric_list[0] if (k!='name')}\n",
        "metrics_compiled"
      ]
    },
    {
      "cell_type": "code",
      "execution_count": null,
      "metadata": {
        "id": "gDB2jdICjepx"
      },
      "outputs": [],
      "source": [
        "with open('logs.txt', 'a') as tf:\n",
        "    tf.write('\\n\\nExp{}_metrics'.format(exp_num))\n",
        "    tf.write(' = {')\n",
        "    for k in metric_list[0]:\n",
        "        if (k!='name'):\n",
        "            tf.write(\"'{}': \".format(k))\n",
        "            tf.write('{')\n",
        "            for metric in metric_list[:-1]:\n",
        "                tf.write(\"'{}': {}, \".format(metric['name'], round(metric[k], 5)))\n",
        "            tf.write(\"'{}': {}\".format(metric_list[-1]['name'], round(metric_list[-1][k], 5)))\n",
        "            tf.write('}, ')\n",
        "\n",
        "with open('logs.txt', 'r') as tf:\n",
        "    contents = tf.read()\n",
        "contents = contents[:-2]\n",
        "with open('logs.txt', 'w') as tf:\n",
        "    tf.write(contents)\n",
        "    tf.write('}')\n"
      ]
    },
    {
      "cell_type": "markdown",
      "source": [
        "NOTE: Execute only till here for each experimental run. After each run, copy metrics generated in above output cell or output txt file and paste in the below cell for the respective experiment. After completing all 10 experiments, run below cells only by uncommenting to generate mean metrics and performance graphs."
      ],
      "metadata": {
        "id": "EW0X8zkTvo9L"
      }
    },
    {
      "cell_type": "markdown",
      "metadata": {
        "id": "SMui5O7llL6r"
      },
      "source": [
        "## Overall Metric Stats"
      ]
    },
    {
      "cell_type": "code",
      "execution_count": null,
      "metadata": {
        "id": "VP0MrK-RxPXr"
      },
      "outputs": [],
      "source": [
        "def get_stats(values):\n",
        "    return {'range': (min(values), max(values)), 'avg': round(sum(values)/len(values), 5), 'std_dev': round(stat.stdev(values), 5)}"
      ]
    },
    {
      "cell_type": "code",
      "execution_count": null,
      "metadata": {
        "id": "tFvCPs9EyfYW"
      },
      "outputs": [],
      "source": [
        "def end_of_exp():\n",
        "    Exp1_metrics = {'tp': {'Size-20%': 461, 'Size-40%': 443, 'Size-60%': 564, 'Size-80%': 541, 'Size-100%': 479}, 'fp': {'Size-20%': 89, 'Size-40%': 57, 'Size-60%': 109, 'Size-80%': 93, 'Size-100%': 77}, 'fn': {'Size-20%': 475, 'Size-40%': 493, 'Size-60%': 372, 'Size-80%': 395, 'Size-100%': 457}, 'tn': {'Size-20%': 820, 'Size-40%': 852, 'Size-60%': 800, 'Size-80%': 816, 'Size-100%': 832}, 'acc': {'Size-20%': 0.69431, 'Size-40%': 0.7019, 'Size-60%': 0.7393, 'Size-80%': 0.7355, 'Size-100%': 0.71057}, 'f1': {'Size-20%': 0.62046, 'Size-40%': 0.61699, 'Size-60%': 0.70106, 'Size-80%': 0.68917, 'Size-100%': 0.64209}, 'ppv': {'Size-20%': 0.83818, 'Size-40%': 0.886, 'Size-60%': 0.83804, 'Size-80%': 0.85331, 'Size-100%': 0.86151}, 'tpr': {'Size-20%': 0.49252, 'Size-40%': 0.47329, 'Size-60%': 0.60256, 'Size-80%': 0.57799, 'Size-100%': 0.51175}, 'fpr': {'Size-20%': 0.09791, 'Size-40%': 0.06271, 'Size-60%': 0.11991, 'Size-80%': 0.10231, 'Size-100%': 0.08471}, 'fnr': {'Size-20%': 0.50748, 'Size-40%': 0.52671, 'Size-60%': 0.39744, 'Size-80%': 0.42201, 'Size-100%': 0.48825}, 'tnr': {'Size-20%': 0.90209, 'Size-40%': 0.93729, 'Size-60%': 0.88009, 'Size-80%': 0.89769, 'Size-100%': 0.91529}, 'npv': {'Size-20%': 0.6332, 'Size-40%': 0.63346, 'Size-60%': 0.68259, 'Size-80%': 0.67382, 'Size-100%': 0.64546}, 'fdr': {'Size-20%': 0.16182, 'Size-40%': 0.114, 'Size-60%': 0.16196, 'Size-80%': 0.14669, 'Size-100%': 0.13849}, 'mcc': {'Size-20%': 0.43129, 'Size-40%': 0.46182, 'Size-60%': 0.50128, 'Size-80%': 0.50075, 'Size-100%': 0.46529}}\n",
        "    Exp2_metrics = {'tp': {'Size-20%': 343, 'Size-40%': 429, 'Size-60%': 540, 'Size-80%': 589, 'Size-100%': 527}, 'fp': {'Size-20%': 47, 'Size-40%': 56, 'Size-60%': 121, 'Size-80%': 134, 'Size-100%': 143}, 'fn': {'Size-20%': 593, 'Size-40%': 507, 'Size-60%': 396, 'Size-80%': 347, 'Size-100%': 409}, 'tn': {'Size-20%': 862, 'Size-40%': 853, 'Size-60%': 788, 'Size-80%': 775, 'Size-100%': 766}, 'acc': {'Size-20%': 0.65312, 'Size-40%': 0.69485, 'Size-60%': 0.71978, 'Size-80%': 0.7393, 'Size-100%': 0.70081}, 'f1': {'Size-20%': 0.51735, 'Size-40%': 0.6038, 'Size-60%': 0.67627, 'Size-80%': 0.71007, 'Size-100%': 0.65629}, 'ppv': {'Size-20%': 0.87949, 'Size-40%': 0.88454, 'Size-60%': 0.81694, 'Size-80%': 0.81466, 'Size-100%': 0.78657}, 'tpr': {'Size-20%': 0.36645, 'Size-40%': 0.45833, 'Size-60%': 0.57692, 'Size-80%': 0.62927, 'Size-100%': 0.56303}, 'fpr': {'Size-20%': 0.05171, 'Size-40%': 0.06161, 'Size-60%': 0.13311, 'Size-80%': 0.14741, 'Size-100%': 0.15732}, 'fnr': {'Size-20%': 0.63355, 'Size-40%': 0.54167, 'Size-60%': 0.42308, 'Size-80%': 0.37073, 'Size-100%': 0.43697}, 'tnr': {'Size-20%': 0.94829, 'Size-40%': 0.93839, 'Size-60%': 0.86689, 'Size-80%': 0.85259, 'Size-100%': 0.84268}, 'npv': {'Size-20%': 0.59244, 'Size-40%': 0.62721, 'Size-60%': 0.66554, 'Size-80%': 0.69073, 'Size-100%': 0.65191}, 'fdr': {'Size-20%': 0.12051, 'Size-40%': 0.11546, 'Size-60%': 0.18306, 'Size-80%': 0.18534, 'Size-100%': 0.21343}, 'mcc': {'Size-20%': 0.38541, 'Size-40%': 0.45058, 'Size-60%': 0.46274, 'Size-80%': 0.49349, 'Size-100%': 0.42178}}\n",
        "    Exp3_metrics = {'tp': {'Size-20%': 456, 'Size-40%': 552, 'Size-60%': 516, 'Size-80%': 430, 'Size-100%': 560}, 'fp': {'Size-20%': 81, 'Size-40%': 152, 'Size-60%': 139, 'Size-80%': 63, 'Size-100%': 109}, 'fn': {'Size-20%': 480, 'Size-40%': 384, 'Size-60%': 420, 'Size-80%': 506, 'Size-100%': 376}, 'tn': {'Size-20%': 828, 'Size-40%': 757, 'Size-60%': 770, 'Size-80%': 846, 'Size-100%': 800}, 'acc': {'Size-20%': 0.69593, 'Size-40%': 0.70949, 'Size-60%': 0.69702, 'Size-80%': 0.6916, 'Size-100%': 0.73713}, 'f1': {'Size-20%': 0.61914, 'Size-40%': 0.67317, 'Size-60%': 0.64865, 'Size-80%': 0.60182, 'Size-100%': 0.69782}, 'ppv': {'Size-20%': 0.84916, 'Size-40%': 0.78409, 'Size-60%': 0.78779, 'Size-80%': 0.87221, 'Size-100%': 0.83707}, 'tpr': {'Size-20%': 0.48718, 'Size-40%': 0.58974, 'Size-60%': 0.55128, 'Size-80%': 0.4594, 'Size-100%': 0.59829}, 'fpr': {'Size-20%': 0.08911, 'Size-40%': 0.16722, 'Size-60%': 0.15292, 'Size-80%': 0.06931, 'Size-100%': 0.11991}, 'fnr': {'Size-20%': 0.51282, 'Size-40%': 0.41026, 'Size-60%': 0.44872, 'Size-80%': 0.5406, 'Size-100%': 0.40171}, 'tnr': {'Size-20%': 0.91089, 'Size-40%': 0.83278, 'Size-60%': 0.84708, 'Size-80%': 0.93069, 'Size-100%': 0.88009}, 'npv': {'Size-20%': 0.63303, 'Size-40%': 0.66345, 'Size-60%': 0.64706, 'Size-80%': 0.62574, 'Size-100%': 0.68027}, 'fdr': {'Size-20%': 0.15084, 'Size-40%': 0.21591, 'Size-60%': 0.21221, 'Size-80%': 0.12779, 'Size-100%': 0.16293}, 'mcc': {'Size-20%': 0.43812, 'Size-40%': 0.43486, 'Size-60%': 0.41621, 'Size-80%': 0.44074, 'Size-100%': 0.49748}}\n",
        "    Exp4_metrics = {'tp': {'Size-20%': 622, 'Size-40%': 516, 'Size-60%': 535, 'Size-80%': 602, 'Size-100%': 579}, 'fp': {'Size-20%': 259, 'Size-40%': 116, 'Size-60%': 109, 'Size-80%': 163, 'Size-100%': 98}, 'fn': {'Size-20%': 314, 'Size-40%': 420, 'Size-60%': 401, 'Size-80%': 334, 'Size-100%': 357}, 'tn': {'Size-20%': 650, 'Size-40%': 793, 'Size-60%': 800, 'Size-80%': 746, 'Size-100%': 811}, 'acc': {'Size-20%': 0.68943, 'Size-40%': 0.70949, 'Size-60%': 0.72358, 'Size-80%': 0.73062, 'Size-100%': 0.75339}, 'f1': {'Size-20%': 0.68465, 'Size-40%': 0.65816, 'Size-60%': 0.67722, 'Size-80%': 0.70782, 'Size-100%': 0.71792}, 'ppv': {'Size-20%': 0.70602, 'Size-40%': 0.81646, 'Size-60%': 0.83075, 'Size-80%': 0.78693, 'Size-100%': 0.85524}, 'tpr': {'Size-20%': 0.66453, 'Size-40%': 0.55128, 'Size-60%': 0.57158, 'Size-80%': 0.64316, 'Size-100%': 0.61859}, 'fpr': {'Size-20%': 0.28493, 'Size-40%': 0.12761, 'Size-60%': 0.11991, 'Size-80%': 0.17932, 'Size-100%': 0.10781}, 'fnr': {'Size-20%': 0.33547, 'Size-40%': 0.44872, 'Size-60%': 0.42842, 'Size-80%': 0.35684, 'Size-100%': 0.38141}, 'tnr': {'Size-20%': 0.71507, 'Size-40%': 0.87239, 'Size-60%': 0.88009, 'Size-80%': 0.82068, 'Size-100%': 0.89219}, 'npv': {'Size-20%': 0.67427, 'Size-40%': 0.65375, 'Size-60%': 0.66611, 'Size-80%': 0.69074, 'Size-100%': 0.69435}, 'fdr': {'Size-20%': 0.29398, 'Size-40%': 0.18354, 'Size-60%': 0.16925, 'Size-80%': 0.21307, 'Size-100%': 0.14476}, 'mcc': {'Size-20%': 0.37995, 'Size-40%': 0.44633, 'Size-60%': 0.47372, 'Size-80%': 0.47071, 'Size-100%': 0.52983}}\n",
        "    Exp5_metrics = {'tp': {'Size-20%': 513, 'Size-40%': 554, 'Size-60%': 577, 'Size-80%': 595, 'Size-100%': 478}, 'fp': {'Size-20%': 90, 'Size-40%': 128, 'Size-60%': 123, 'Size-80%': 173, 'Size-100%': 74}, 'fn': {'Size-20%': 423, 'Size-40%': 382, 'Size-60%': 359, 'Size-80%': 341, 'Size-100%': 458}, 'tn': {'Size-20%': 819, 'Size-40%': 781, 'Size-60%': 786, 'Size-80%': 736, 'Size-100%': 835}, 'acc': {'Size-20%': 0.72195, 'Size-40%': 0.72358, 'Size-60%': 0.73875, 'Size-80%': 0.72141, 'Size-100%': 0.71165}, 'f1': {'Size-20%': 0.66667, 'Size-40%': 0.6848, 'Size-60%': 0.70538, 'Size-80%': 0.69836, 'Size-100%': 0.64247}, 'ppv': {'Size-20%': 0.85075, 'Size-40%': 0.81232, 'Size-60%': 0.82429, 'Size-80%': 0.77474, 'Size-100%': 0.86594}, 'tpr': {'Size-20%': 0.54808, 'Size-40%': 0.59188, 'Size-60%': 0.61645, 'Size-80%': 0.63568, 'Size-100%': 0.51068}, 'fpr': {'Size-20%': 0.09901, 'Size-40%': 0.14081, 'Size-60%': 0.13531, 'Size-80%': 0.19032, 'Size-100%': 0.08141}, 'fnr': {'Size-20%': 0.45192, 'Size-40%': 0.40812, 'Size-60%': 0.38355, 'Size-80%': 0.36432, 'Size-100%': 0.48932}, 'tnr': {'Size-20%': 0.90099, 'Size-40%': 0.85919, 'Size-60%': 0.86469, 'Size-80%': 0.80968, 'Size-100%': 0.91859}, 'npv': {'Size-20%': 0.65942, 'Size-40%': 0.67154, 'Size-60%': 0.68646, 'Size-80%': 0.68338, 'Size-100%': 0.64578}, 'fdr': {'Size-20%': 0.14925, 'Size-40%': 0.18768, 'Size-60%': 0.17571, 'Size-80%': 0.22526, 'Size-100%': 0.13406}, 'mcc': {'Size-20%': 0.47864, 'Size-40%': 0.46717, 'Size-60%': 0.49572, 'Size-80%': 0.4517, 'Size-100%': 0.46869}}\n",
        "    Exp6_metrics = {'tp': {'Size-20%': 300, 'Size-40%': 347, 'Size-60%': 534, 'Size-80%': 485, 'Size-100%': 547}, 'fp': {'Size-20%': 13, 'Size-40%': 43, 'Size-60%': 144, 'Size-80%': 93, 'Size-100%': 113}, 'fn': {'Size-20%': 636, 'Size-40%': 589, 'Size-60%': 402, 'Size-80%': 451, 'Size-100%': 389}, 'tn': {'Size-20%': 896, 'Size-40%': 866, 'Size-60%': 765, 'Size-80%': 816, 'Size-100%': 796}, 'acc': {'Size-20%': 0.64824, 'Size-40%': 0.65745, 'Size-60%': 0.70407, 'Size-80%': 0.70515, 'Size-100%': 0.72791}, 'f1': {'Size-20%': 0.48038, 'Size-40%': 0.52338, 'Size-60%': 0.66171, 'Size-80%': 0.64069, 'Size-100%': 0.68546}, 'ppv': {'Size-20%': 0.95847, 'Size-40%': 0.88974, 'Size-60%': 0.78761, 'Size-80%': 0.8391, 'Size-100%': 0.82879}, 'tpr': {'Size-20%': 0.32051, 'Size-40%': 0.37073, 'Size-60%': 0.57051, 'Size-80%': 0.51816, 'Size-100%': 0.5844}, 'fpr': {'Size-20%': 0.0143, 'Size-40%': 0.0473, 'Size-60%': 0.15842, 'Size-80%': 0.10231, 'Size-100%': 0.12431}, 'fnr': {'Size-20%': 0.67949, 'Size-40%': 0.62927, 'Size-60%': 0.42949, 'Size-80%': 0.48184, 'Size-100%': 0.4156}, 'tnr': {'Size-20%': 0.9857, 'Size-40%': 0.9527, 'Size-60%': 0.84158, 'Size-80%': 0.89769, 'Size-100%': 0.87569}, 'npv': {'Size-20%': 0.58486, 'Size-40%': 0.59519, 'Size-60%': 0.65553, 'Size-80%': 0.64404, 'Size-100%': 0.67173}, 'fdr': {'Size-20%': 0.04153, 'Size-40%': 0.11026, 'Size-60%': 0.21239, 'Size-80%': 0.1609, 'Size-100%': 0.17121}, 'mcc': {'Size-20%': 0.40789, 'Size-40%': 0.39603, 'Size-60%': 0.42734, 'Size-80%': 0.44824, 'Size-100%': 0.47988}}\n",
        "    Exp7_metrics = {'tp': {'Size-20%': 506, 'Size-40%': 612, 'Size-60%': 621, 'Size-80%': 563, 'Size-100%': 498}, 'fp': {'Size-20%': 101, 'Size-40%': 97, 'Size-60%': 199, 'Size-80%': 149, 'Size-100%': 102}, 'fn': {'Size-20%': 430, 'Size-40%': 324, 'Size-60%': 315, 'Size-80%': 373, 'Size-100%': 438}, 'tn': {'Size-20%': 808, 'Size-40%': 812, 'Size-60%': 710, 'Size-80%': 760, 'Size-100%': 807}, 'acc': {'Size-20%': 0.7122, 'Size-40%': 0.77182, 'Size-60%': 0.72141, 'Size-80%': 0.71707, 'Size-100%': 0.70732}, 'f1': {'Size-20%': 0.65587, 'Size-40%': 0.74407, 'Size-60%': 0.70729, 'Size-80%': 0.68325, 'Size-100%': 0.64844}, 'ppv': {'Size-20%': 0.83361, 'Size-40%': 0.86319, 'Size-60%': 0.75732, 'Size-80%': 0.79073, 'Size-100%': 0.83}, 'tpr': {'Size-20%': 0.5406, 'Size-40%': 0.65385, 'Size-60%': 0.66346, 'Size-80%': 0.6015, 'Size-100%': 0.53205}, 'fpr': {'Size-20%': 0.11111, 'Size-40%': 0.10671, 'Size-60%': 0.21892, 'Size-80%': 0.16392, 'Size-100%': 0.11221}, 'fnr': {'Size-20%': 0.4594, 'Size-40%': 0.34615, 'Size-60%': 0.33654, 'Size-80%': 0.3985, 'Size-100%': 0.46795}, 'tnr': {'Size-20%': 0.88889, 'Size-40%': 0.89329, 'Size-60%': 0.78108, 'Size-80%': 0.83608, 'Size-100%': 0.88779}, 'npv': {'Size-20%': 0.65267, 'Size-40%': 0.71479, 'Size-60%': 0.69268, 'Size-80%': 0.67079, 'Size-100%': 0.64819}, 'fdr': {'Size-20%': 0.16639, 'Size-40%': 0.13681, 'Size-60%': 0.24268, 'Size-80%': 0.20927, 'Size-100%': 0.17}, 'mcc': {'Size-20%': 0.457, 'Size-40%': 0.56234, 'Size-60%': 0.44726, 'Size-80%': 0.44939, 'Size-100%': 0.44807}}\n",
        "    Exp8_metrics = {'tp': {'Size-20%': 673, 'Size-40%': 505, 'Size-60%': 410, 'Size-80%': 485, 'Size-100%': 565}, 'fp': {'Size-20%': 151, 'Size-40%': 125, 'Size-60%': 63, 'Size-80%': 91, 'Size-100%': 111}, 'fn': {'Size-20%': 263, 'Size-40%': 431, 'Size-60%': 526, 'Size-80%': 451, 'Size-100%': 371}, 'tn': {'Size-20%': 758, 'Size-40%': 784, 'Size-60%': 846, 'Size-80%': 818, 'Size-100%': 798}, 'acc': {'Size-20%': 0.77561, 'Size-40%': 0.69864, 'Size-60%': 0.68076, 'Size-80%': 0.70623, 'Size-100%': 0.73875}, 'f1': {'Size-20%': 0.76477, 'Size-40%': 0.64496, 'Size-60%': 0.58197, 'Size-80%': 0.64153, 'Size-100%': 0.70099}, 'ppv': {'Size-20%': 0.81675, 'Size-40%': 0.80159, 'Size-60%': 0.86681, 'Size-80%': 0.84201, 'Size-100%': 0.8358}, 'tpr': {'Size-20%': 0.71902, 'Size-40%': 0.53953, 'Size-60%': 0.43803, 'Size-80%': 0.51816, 'Size-100%': 0.60363}, 'fpr': {'Size-20%': 0.16612, 'Size-40%': 0.13751, 'Size-60%': 0.06931, 'Size-80%': 0.10011, 'Size-100%': 0.12211}, 'fnr': {'Size-20%': 0.28098, 'Size-40%': 0.46047, 'Size-60%': 0.56197, 'Size-80%': 0.48184, 'Size-100%': 0.39637}, 'tnr': {'Size-20%': 0.83388, 'Size-40%': 0.86249, 'Size-60%': 0.93069, 'Size-80%': 0.89989, 'Size-100%': 0.87789}, 'npv': {'Size-20%': 0.74241, 'Size-40%': 0.64527, 'Size-60%': 0.61662, 'Size-80%': 0.6446, 'Size-100%': 0.68263}, 'fdr': {'Size-20%': 0.18325, 'Size-40%': 0.19841, 'Size-60%': 0.13319, 'Size-80%': 0.15799, 'Size-100%': 0.1642}, 'mcc': {'Size-20%': 0.55602, 'Size-40%': 0.42384, 'Size-60%': 0.4222, 'Size-80%': 0.45103, 'Size-100%': 0.49964}}\n",
        "    Exp9_metrics = {'tp': {'Size-20%': 487, 'Size-40%': 462, 'Size-60%': 527, 'Size-80%': 557, 'Size-100%': 506}, 'fp': {'Size-20%': 121, 'Size-40%': 98, 'Size-60%': 142, 'Size-80%': 115, 'Size-100%': 77}, 'fn': {'Size-20%': 449, 'Size-40%': 474, 'Size-60%': 409, 'Size-80%': 379, 'Size-100%': 430}, 'tn': {'Size-20%': 788, 'Size-40%': 811, 'Size-60%': 767, 'Size-80%': 794, 'Size-100%': 832}, 'acc': {'Size-20%': 0.69106, 'Size-40%': 0.68997, 'Size-60%': 0.70136, 'Size-80%': 0.73225, 'Size-100%': 0.7252}, 'f1': {'Size-20%': 0.63083, 'Size-40%': 0.61765, 'Size-60%': 0.6567, 'Size-80%': 0.69279, 'Size-100%': 0.66623}, 'ppv': {'Size-20%': 0.80099, 'Size-40%': 0.825, 'Size-60%': 0.78774, 'Size-80%': 0.82887, 'Size-100%': 0.86792}, 'tpr': {'Size-20%': 0.5203, 'Size-40%': 0.49359, 'Size-60%': 0.56303, 'Size-80%': 0.59509, 'Size-100%': 0.5406}, 'fpr': {'Size-20%': 0.13311, 'Size-40%': 0.10781, 'Size-60%': 0.15622, 'Size-80%': 0.12651, 'Size-100%': 0.08471}, 'fnr': {'Size-20%': 0.4797, 'Size-40%': 0.50641, 'Size-60%': 0.43697, 'Size-80%': 0.40491, 'Size-100%': 0.4594}, 'tnr': {'Size-20%': 0.86689, 'Size-40%': 0.89219, 'Size-60%': 0.84378, 'Size-80%': 0.87349, 'Size-100%': 0.91529}, 'npv': {'Size-20%': 0.63703, 'Size-40%': 0.63113, 'Size-60%': 0.65221, 'Size-80%': 0.6769, 'Size-100%': 0.65927}, 'fdr': {'Size-20%': 0.19901, 'Size-40%': 0.175, 'Size-60%': 0.21226, 'Size-80%': 0.17113, 'Size-100%': 0.13208}, 'mcc': {'Size-20%': 0.41182, 'Size-40%': 0.41948, 'Size-60%': 0.42306, 'Size-80%': 0.48681, 'Size-100%': 0.49025}}\n",
        "    Exp10_metrics = {'tp': {'Size-20%': 358, 'Size-40%': 417, 'Size-60%': 533, 'Size-80%': 483, 'Size-100%': 579}, 'fp': {'Size-20%': 33, 'Size-40%': 57, 'Size-60%': 93, 'Size-80%': 88, 'Size-100%': 157}, 'fn': {'Size-20%': 578, 'Size-40%': 519, 'Size-60%': 403, 'Size-80%': 453, 'Size-100%': 357}, 'tn': {'Size-20%': 876, 'Size-40%': 852, 'Size-60%': 816, 'Size-80%': 821, 'Size-100%': 752}, 'acc': {'Size-20%': 0.66883, 'Size-40%': 0.6878, 'Size-60%': 0.73117, 'Size-80%': 0.70678, 'Size-100%': 0.72141}, 'f1': {'Size-20%': 0.53956, 'Size-40%': 0.59149, 'Size-60%': 0.68246, 'Size-80%': 0.64101, 'Size-100%': 0.69258}, 'ppv': {'Size-20%': 0.9156, 'Size-40%': 0.87975, 'Size-60%': 0.85144, 'Size-80%': 0.84588, 'Size-100%': 0.78668}, 'tpr': {'Size-20%': 0.38248, 'Size-40%': 0.44551, 'Size-60%': 0.56944, 'Size-80%': 0.51603, 'Size-100%': 0.61859}, 'fpr': {'Size-20%': 0.0363, 'Size-40%': 0.06271, 'Size-60%': 0.10231, 'Size-80%': 0.09681, 'Size-100%': 0.17272}, 'fnr': {'Size-20%': 0.61752, 'Size-40%': 0.55449, 'Size-60%': 0.43056, 'Size-80%': 0.48397, 'Size-100%': 0.38141}, 'tnr': {'Size-20%': 0.9637, 'Size-40%': 0.93729, 'Size-60%': 0.89769, 'Size-80%': 0.90319, 'Size-100%': 0.82728}, 'npv': {'Size-20%': 0.60248, 'Size-40%': 0.62144, 'Size-60%': 0.6694, 'Size-80%': 0.64443, 'Size-100%': 0.67809}, 'fdr': {'Size-20%': 0.0844, 'Size-40%': 0.12025, 'Size-60%': 0.14856, 'Size-80%': 0.15412, 'Size-100%': 0.21332}, 'mcc': {'Size-20%': 0.42349, 'Size-40%': 0.43802, 'Size-60%': 0.49326, 'Size-80%': 0.45337, 'Size-100%': 0.45522}}\n",
        "    Metric_stats = {k: {\n",
        "        metric: get_stats([exp[k][metric] for exp in [\n",
        "            Exp1_metrics, Exp2_metrics, Exp3_metrics, Exp4_metrics, Exp5_metrics,\n",
        "            Exp6_metrics, Exp7_metrics, Exp8_metrics, Exp9_metrics, Exp10_metrics\n",
        "            ]]) for metric in Exp1_metrics[k]} for k in Exp1_metrics}\n",
        "    return Metric_stats"
      ]
    },
    {
      "cell_type": "code",
      "execution_count": null,
      "metadata": {
        "id": "HgMoaMjdyidE",
        "colab": {
          "base_uri": "https://localhost:8080/"
        },
        "outputId": "df57eb59-efa3-40b7-e3c5-9ac5e76e6a07"
      },
      "outputs": [
        {
          "output_type": "execute_result",
          "data": {
            "text/plain": [
              "{'tp': {'Size-20%': {'range': (300, 673), 'avg': 471.9, 'std_dev': 118.11525},\n",
              "  'Size-40%': {'range': (347, 612), 'avg': 483.7, 'std_dev': 78.75426},\n",
              "  'Size-60%': {'range': (410, 621), 'avg': 535.7, 'std_dev': 53.82699},\n",
              "  'Size-80%': {'range': (430, 602), 'avg': 533.0, 'std_dev': 58.6875},\n",
              "  'Size-100%': {'range': (478, 579), 'avg': 531.8, 'std_dev': 39.57777}},\n",
              " 'fp': {'Size-20%': {'range': (13, 259), 'avg': 98.5, 'std_dev': 69.72207},\n",
              "  'Size-40%': {'range': (43, 152), 'avg': 92.9, 'std_dev': 37.65472},\n",
              "  'Size-60%': {'range': (63, 199), 'avg': 124.2, 'std_dev': 36.07954},\n",
              "  'Size-80%': {'range': (63, 173), 'avg': 116.2, 'std_dev': 36.73872},\n",
              "  'Size-100%': {'range': (74, 157), 'avg': 106.1, 'std_dev': 27.56588}},\n",
              " 'fn': {'Size-20%': {'range': (263, 636), 'avg': 464.1, 'std_dev': 118.11525},\n",
              "  'Size-40%': {'range': (324, 589), 'avg': 452.3, 'std_dev': 78.75426},\n",
              "  'Size-60%': {'range': (315, 526), 'avg': 400.3, 'std_dev': 53.82699},\n",
              "  'Size-80%': {'range': (334, 506), 'avg': 403.0, 'std_dev': 58.6875},\n",
              "  'Size-100%': {'range': (357, 458), 'avg': 404.2, 'std_dev': 39.57777}},\n",
              " 'tn': {'Size-20%': {'range': (650, 896), 'avg': 810.5, 'std_dev': 69.72207},\n",
              "  'Size-40%': {'range': (757, 866), 'avg': 816.1, 'std_dev': 37.65472},\n",
              "  'Size-60%': {'range': (710, 846), 'avg': 784.8, 'std_dev': 36.07954},\n",
              "  'Size-80%': {'range': (736, 846), 'avg': 792.8, 'std_dev': 36.73872},\n",
              "  'Size-100%': {'range': (752, 835), 'avg': 802.9, 'std_dev': 27.56588}},\n",
              " 'acc': {'Size-20%': {'range': (0.64824, 0.77561),\n",
              "   'avg': 0.69507,\n",
              "   'std_dev': 0.03681},\n",
              "  'Size-40%': {'range': (0.65745, 0.77182), 'avg': 0.7045, 'std_dev': 0.02941},\n",
              "  'Size-60%': {'range': (0.68076, 0.7393), 'avg': 0.71572, 'std_dev': 0.01929},\n",
              "  'Size-80%': {'range': (0.6916, 0.7393), 'avg': 0.71859, 'std_dev': 0.01584},\n",
              "  'Size-100%': {'range': (0.70081, 0.75339),\n",
              "   'avg': 0.72341,\n",
              "   'std_dev': 0.01641}},\n",
              " 'f1': {'Size-20%': {'range': (0.48038, 0.76477),\n",
              "   'avg': 0.61797,\n",
              "   'std_dev': 0.0851},\n",
              "  'Size-40%': {'range': (0.52338, 0.74407),\n",
              "   'avg': 0.63585,\n",
              "   'std_dev': 0.06001},\n",
              "  'Size-60%': {'range': (0.58197, 0.70729),\n",
              "   'avg': 0.66987,\n",
              "   'std_dev': 0.03697},\n",
              "  'Size-80%': {'range': (0.60182, 0.71007), 'avg': 0.67065, 'std_dev': 0.0366},\n",
              "  'Size-100%': {'range': (0.64209, 0.71792),\n",
              "   'avg': 0.67503,\n",
              "   'std_dev': 0.02735}},\n",
              " 'ppv': {'Size-20%': {'range': (0.70602, 0.95847),\n",
              "   'avg': 0.8449,\n",
              "   'std_dev': 0.06776},\n",
              "  'Size-40%': {'range': (0.78409, 0.88974),\n",
              "   'avg': 0.84427,\n",
              "   'std_dev': 0.04035},\n",
              "  'Size-60%': {'range': (0.75732, 0.86681),\n",
              "   'avg': 0.81487,\n",
              "   'std_dev': 0.03406},\n",
              "  'Size-80%': {'range': (0.77474, 0.87221),\n",
              "   'avg': 0.82484,\n",
              "   'std_dev': 0.03202},\n",
              "  'Size-100%': {'range': (0.78657, 0.86792),\n",
              "   'avg': 0.83555,\n",
              "   'std_dev': 0.02963}},\n",
              " 'tpr': {'Size-20%': {'range': (0.32051, 0.71902),\n",
              "   'avg': 0.50417,\n",
              "   'std_dev': 0.12619},\n",
              "  'Size-40%': {'range': (0.37073, 0.65385),\n",
              "   'avg': 0.51677,\n",
              "   'std_dev': 0.08414},\n",
              "  'Size-60%': {'range': (0.43803, 0.66346),\n",
              "   'avg': 0.57233,\n",
              "   'std_dev': 0.05751},\n",
              "  'Size-80%': {'range': (0.4594, 0.64316), 'avg': 0.56944, 'std_dev': 0.0627},\n",
              "  'Size-100%': {'range': (0.51068, 0.61859),\n",
              "   'avg': 0.56816,\n",
              "   'std_dev': 0.04228}},\n",
              " 'fpr': {'Size-20%': {'range': (0.0143, 0.28493),\n",
              "   'avg': 0.10836,\n",
              "   'std_dev': 0.0767},\n",
              "  'Size-40%': {'range': (0.0473, 0.16722), 'avg': 0.1022, 'std_dev': 0.04142},\n",
              "  'Size-60%': {'range': (0.06931, 0.21892),\n",
              "   'avg': 0.13663,\n",
              "   'std_dev': 0.03969},\n",
              "  'Size-80%': {'range': (0.06931, 0.19032),\n",
              "   'avg': 0.12783,\n",
              "   'std_dev': 0.04042},\n",
              "  'Size-100%': {'range': (0.08141, 0.17272),\n",
              "   'avg': 0.11672,\n",
              "   'std_dev': 0.03033}},\n",
              " 'fnr': {'Size-20%': {'range': (0.28098, 0.67949),\n",
              "   'avg': 0.49583,\n",
              "   'std_dev': 0.12619},\n",
              "  'Size-40%': {'range': (0.34615, 0.62927),\n",
              "   'avg': 0.48323,\n",
              "   'std_dev': 0.08414},\n",
              "  'Size-60%': {'range': (0.33654, 0.56197),\n",
              "   'avg': 0.42767,\n",
              "   'std_dev': 0.05751},\n",
              "  'Size-80%': {'range': (0.35684, 0.5406), 'avg': 0.43056, 'std_dev': 0.0627},\n",
              "  'Size-100%': {'range': (0.38141, 0.48932),\n",
              "   'avg': 0.43184,\n",
              "   'std_dev': 0.04228}},\n",
              " 'tnr': {'Size-20%': {'range': (0.71507, 0.9857),\n",
              "   'avg': 0.89164,\n",
              "   'std_dev': 0.0767},\n",
              "  'Size-40%': {'range': (0.83278, 0.9527), 'avg': 0.8978, 'std_dev': 0.04142},\n",
              "  'Size-60%': {'range': (0.78108, 0.93069),\n",
              "   'avg': 0.86337,\n",
              "   'std_dev': 0.03969},\n",
              "  'Size-80%': {'range': (0.80968, 0.93069),\n",
              "   'avg': 0.87217,\n",
              "   'std_dev': 0.04042},\n",
              "  'Size-100%': {'range': (0.82728, 0.91859),\n",
              "   'avg': 0.88328,\n",
              "   'std_dev': 0.03033}},\n",
              " 'npv': {'Size-20%': {'range': (0.58486, 0.74241),\n",
              "   'avg': 0.64118,\n",
              "   'std_dev': 0.04595},\n",
              "  'Size-40%': {'range': (0.59519, 0.71479),\n",
              "   'avg': 0.64572,\n",
              "   'std_dev': 0.03277},\n",
              "  'Size-60%': {'range': (0.61662, 0.69268),\n",
              "   'avg': 0.66342,\n",
              "   'std_dev': 0.02223},\n",
              "  'Size-80%': {'range': (0.62574, 0.69074),\n",
              "   'avg': 0.66452,\n",
              "   'std_dev': 0.02293},\n",
              "  'Size-100%': {'range': (0.64546, 0.69435),\n",
              "   'avg': 0.66577,\n",
              "   'std_dev': 0.01781}},\n",
              " 'fdr': {'Size-20%': {'range': (0.04153, 0.29398),\n",
              "   'avg': 0.1551,\n",
              "   'std_dev': 0.06776},\n",
              "  'Size-40%': {'range': (0.11026, 0.21591),\n",
              "   'avg': 0.15573,\n",
              "   'std_dev': 0.04035},\n",
              "  'Size-60%': {'range': (0.13319, 0.24268),\n",
              "   'avg': 0.18513,\n",
              "   'std_dev': 0.03406},\n",
              "  'Size-80%': {'range': (0.12779, 0.22526),\n",
              "   'avg': 0.17516,\n",
              "   'std_dev': 0.03202},\n",
              "  'Size-100%': {'range': (0.13208, 0.21343),\n",
              "   'avg': 0.16445,\n",
              "   'std_dev': 0.02963}},\n",
              " 'mcc': {'Size-20%': {'range': (0.37995, 0.55602),\n",
              "   'avg': 0.43696,\n",
              "   'std_dev': 0.05155},\n",
              "  'Size-40%': {'range': (0.39603, 0.56234),\n",
              "   'avg': 0.45005,\n",
              "   'std_dev': 0.04468},\n",
              "  'Size-60%': {'range': (0.41621, 0.50128),\n",
              "   'avg': 0.45628,\n",
              "   'std_dev': 0.03347},\n",
              "  'Size-80%': {'range': (0.44074, 0.50075),\n",
              "   'avg': 0.46462,\n",
              "   'std_dev': 0.02165},\n",
              "  'Size-100%': {'range': (0.42178, 0.52983),\n",
              "   'avg': 0.47561,\n",
              "   'std_dev': 0.03065}}}"
            ]
          },
          "metadata": {},
          "execution_count": 1283
        }
      ],
      "source": [
        "Metric_stats = end_of_exp()\n",
        "Metric_stats"
      ]
    },
    {
      "cell_type": "markdown",
      "metadata": {
        "id": "a5x5WXZArqkb"
      },
      "source": [
        "## Performance Graphs - Means and Ranges"
      ]
    },
    {
      "cell_type": "code",
      "execution_count": null,
      "metadata": {
        "id": "W8KJyXoZswhk"
      },
      "outputs": [],
      "source": [
        "def graph_metric(metric):\n",
        "\n",
        "    data = Metric_stats[metric]\n",
        "\n",
        "    # Extract data from the dictionary\n",
        "    strategies = list(data.keys())\n",
        "    averages = [data[strategy]['avg'] for strategy in strategies]\n",
        "    min_values = [data[strategy]['range'][0] for strategy in strategies]\n",
        "    max_values = [data[strategy]['range'][1] for strategy in strategies]\n",
        "    errors = [np.subtract(averages, min_values), np.subtract(max_values, averages)]\n",
        "    colors = ['C{}'.format(i) for i in range(len(data))]  # One color for each strategy\n",
        "\n",
        "    # using tuple unpacking to grab fig and axes\n",
        "    fig, ax = plt.subplots(figsize=(16, 6))\n",
        "\n",
        "    # plotting the bar plot\n",
        "    plt.plot(strategies, averages, 'o-', color='black', label=strategies)\n",
        "    # ax.bar(strategies, averages, alpha = 0)\n",
        "\n",
        "    # Plot error bars\n",
        "    for i, (strategy, avg) in enumerate(zip(strategies, averages)):\n",
        "        y_err_lower = errors[0][i]\n",
        "        y_err_upper = errors[1][i]\n",
        "        y_err = [[y_err_lower], [y_err_upper]]\n",
        "        ax.errorbar(strategy, avg, yerr=y_err, fmt='o', lw=2, capsize=4, capthick=2, color=colors[i])\n",
        "\n",
        "    # Set plot details\n",
        "    plt.title('Effect of different query set sizes on: {} [Tweet Data]'.format(metric_dict[metric]))\n",
        "    plt.xlabel('Query Set Size')\n",
        "    plt.ylabel('Average (with range)')\n",
        "    plt.show()"
      ]
    },
    {
      "cell_type": "markdown",
      "metadata": {
        "id": "x50RWvZg4v5R"
      },
      "source": [
        "### Accuracy Graph"
      ]
    },
    {
      "cell_type": "code",
      "execution_count": null,
      "metadata": {
        "id": "e3c-VI_KzQQV",
        "colab": {
          "base_uri": "https://localhost:8080/",
          "height": 461
        },
        "outputId": "961f821c-6847-4c99-90af-f3c57ead1906"
      },
      "outputs": [
        {
          "output_type": "display_data",
          "data": {
            "text/plain": [
              "<Figure size 1600x600 with 1 Axes>"
            ],
            "image/png": "[encoded data removed]"
          },
          "metadata": {}
        }
      ],
      "source": [
        "graph_metric('acc')"
      ]
    },
    {
      "cell_type": "markdown",
      "metadata": {
        "id": "q_sWQ9JU42mt"
      },
      "source": [
        "### F-1 Score Graph"
      ]
    },
    {
      "cell_type": "code",
      "execution_count": null,
      "metadata": {
        "id": "Pww-b5Sp41_e",
        "colab": {
          "base_uri": "https://localhost:8080/",
          "height": 461
        },
        "outputId": "8d70804b-0252-421d-d582-4e6f1d7dd085"
      },
      "outputs": [
        {
          "output_type": "display_data",
          "data": {
            "text/plain": [
              "<Figure size 1600x600 with 1 Axes>"
            ],
            "image/png": "[encoded data removed]"
          },
          "metadata": {}
        }
      ],
      "source": [
        "graph_metric('f1')"
      ]
    },
    {
      "cell_type": "markdown",
      "metadata": {
        "id": "38g1Y0aU5Kig"
      },
      "source": [
        "### Precision Graphs"
      ]
    },
    {
      "cell_type": "code",
      "execution_count": null,
      "metadata": {
        "id": "o3yhuCw048iy",
        "colab": {
          "base_uri": "https://localhost:8080/",
          "height": 461
        },
        "outputId": "35ee65f6-a7e5-45a9-828b-96e048c1796e"
      },
      "outputs": [
        {
          "output_type": "display_data",
          "data": {
            "text/plain": [
              "<Figure size 1600x600 with 1 Axes>"
            ],
            "image/png": "[encoded data removed]"
          },
          "metadata": {}
        }
      ],
      "source": [
        "graph_metric('ppv')"
      ]
    },
    {
      "cell_type": "markdown",
      "metadata": {
        "id": "Osb1Ursj5NwO"
      },
      "source": [
        "### Recall Graphs"
      ]
    },
    {
      "cell_type": "code",
      "execution_count": null,
      "metadata": {
        "id": "fRtEKs8x5Pjy",
        "colab": {
          "base_uri": "https://localhost:8080/",
          "height": 461
        },
        "outputId": "75d11b2a-e39b-4d84-b976-aff7447e02e2"
      },
      "outputs": [
        {
          "output_type": "display_data",
          "data": {
            "text/plain": [
              "<Figure size 1600x600 with 1 Axes>"
            ],
            "image/png": "[encoded data removed]"
          },
          "metadata": {}
        }
      ],
      "source": [
        "graph_metric('tpr')"
      ]
    },
    {
      "cell_type": "markdown",
      "metadata": {
        "id": "Tiidxoog5dPI"
      },
      "source": [
        "### Matthews Correlation Coefficient Graphs"
      ]
    },
    {
      "cell_type": "code",
      "execution_count": null,
      "metadata": {
        "id": "a1oWvKp05hSY",
        "colab": {
          "base_uri": "https://localhost:8080/",
          "height": 459
        },
        "outputId": "4d9acbe8-987a-4ce6-a78a-210bb6c2c4ae"
      },
      "outputs": [
        {
          "output_type": "display_data",
          "data": {
            "text/plain": [
              "<Figure size 1600x600 with 1 Axes>"
            ],
            "image/png": "[encoded data removed]"
          },
          "metadata": {}
        }
      ],
      "source": [
        "graph_metric('mcc')"
      ]
    },
    {
      "cell_type": "markdown",
      "source": [
        "## Performance Graphs - Metric Variations"
      ],
      "metadata": {
        "id": "CbZ8aq8fUcb9"
      }
    },
    {
      "cell_type": "code",
      "source": [
        "def graph_variance(metric):\n",
        "\n",
        "    data = Metric_stats[metric]\n",
        "\n",
        "    # Extract data from the dictionary\n",
        "    strategies = list(data.keys())\n",
        "    averages = [data[strategy]['avg'] for strategy in strategies]\n",
        "    std_devs = [data[strategy]['std_dev']/2 for strategy in strategies]\n",
        "    colors = ['C{}'.format(i) for i in range(len(data))]  # One color for each strategy\n",
        "\n",
        "    plt.figure(figsize=(16, 6))\n",
        "    plt.bar(strategies, averages, yerr=std_devs, alpha = 0.3, capsize=5, color=colors)\n",
        "    plt.xlabel('Query Set Sizes')\n",
        "    plt.ylabel('Average (with standard deviation)')\n",
        "    plt.title('Variation caused by different query set sizes on: {} [Tweet Data]'.format(metric_dict[metric]))\n",
        "    plt.show()"
      ],
      "metadata": {
        "id": "ldmcIpoQUi0T"
      },
      "execution_count": null,
      "outputs": []
    },
    {
      "cell_type": "markdown",
      "source": [
        "### Accuracy Variation"
      ],
      "metadata": {
        "id": "7i7St8uhUiry"
      }
    },
    {
      "cell_type": "code",
      "source": [
        "graph_variance('acc')"
      ],
      "metadata": {
        "id": "3xzXAGyvUihT",
        "colab": {
          "base_uri": "https://localhost:8080/",
          "height": 464
        },
        "outputId": "7d403863-081b-4f21-9707-871da026201c"
      },
      "execution_count": null,
      "outputs": [
        {
          "output_type": "display_data",
          "data": {
            "text/plain": [
              "<Figure size 1600x600 with 1 Axes>"
            ],
            "image/png": "[encoded data removed]"
          },
          "metadata": {}
        }
      ]
    },
    {
      "cell_type": "markdown",
      "source": [
        "### F1-Score Variation"
      ],
      "metadata": {
        "id": "R_KHtwkWUiZP"
      }
    },
    {
      "cell_type": "code",
      "source": [
        "graph_variance('f1')"
      ],
      "metadata": {
        "id": "_Zic-DJwUiQb",
        "colab": {
          "base_uri": "https://localhost:8080/",
          "height": 464
        },
        "outputId": "992a86a8-65b8-43cb-8879-a9eb286ff7c7"
      },
      "execution_count": null,
      "outputs": [
        {
          "output_type": "display_data",
          "data": {
            "text/plain": [
              "<Figure size 1600x600 with 1 Axes>"
            ],
            "image/png": "[encoded data removed]"
          },
          "metadata": {}
        }
      ]
    },
    {
      "cell_type": "markdown",
      "source": [
        "### Precision Variation"
      ],
      "metadata": {
        "id": "4Bz9tLAEUiIM"
      }
    },
    {
      "cell_type": "code",
      "source": [
        "graph_variance('ppv')"
      ],
      "metadata": {
        "id": "zfaUJFiQUh8E",
        "colab": {
          "base_uri": "https://localhost:8080/",
          "height": 464
        },
        "outputId": "516271b5-0e87-4d80-9f48-15b1364883c8"
      },
      "execution_count": null,
      "outputs": [
        {
          "output_type": "display_data",
          "data": {
            "text/plain": [
              "<Figure size 1600x600 with 1 Axes>"
            ],
            "image/png": "[encoded data removed]"
          },
          "metadata": {}
        }
      ]
    },
    {
      "cell_type": "markdown",
      "source": [
        "### Recall Variation"
      ],
      "metadata": {
        "id": "ciE3KnhAUhm7"
      }
    },
    {
      "cell_type": "code",
      "source": [
        "graph_variance('tpr')"
      ],
      "metadata": {
        "id": "YnJerCUyUheO",
        "colab": {
          "base_uri": "https://localhost:8080/",
          "height": 464
        },
        "outputId": "5c76ea4a-fe68-428e-8763-11c1f6824a49"
      },
      "execution_count": null,
      "outputs": [
        {
          "output_type": "display_data",
          "data": {
            "text/plain": [
              "<Figure size 1600x600 with 1 Axes>"
            ],
            "image/png": "[encoded data removed]"
          },
          "metadata": {}
        }
      ]
    },
    {
      "cell_type": "markdown",
      "source": [
        "### Matthews Correlation Coefficient Variation"
      ],
      "metadata": {
        "id": "_4WEQEyRUhA9"
      }
    },
    {
      "cell_type": "code",
      "source": [
        "graph_variance('mcc')"
      ],
      "metadata": {
        "id": "GgfovrzfUgwX",
        "colab": {
          "base_uri": "https://localhost:8080/",
          "height": 464
        },
        "outputId": "945c2bea-28e4-4ca6-ce1e-ba64e707f673"
      },
      "execution_count": null,
      "outputs": [
        {
          "output_type": "display_data",
          "data": {
            "text/plain": [
              "<Figure size 1600x600 with 1 Axes>"
            ],
            "image/png": "[encoded data removed]"
          },
          "metadata": {}
        }
      ]
    }
  ],
  "metadata": {
    "colab": {
      "provenance": [],
      "toc_visible": true
    },
    "kernelspec": {
      "display_name": "Python 3",
      "name": "python3"
    },
    "language_info": {
      "name": "python"
    }
  },
  "nbformat": 4,
  "nbformat_minor": 0
}