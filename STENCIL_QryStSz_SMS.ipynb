{
  "cells": [
    {
      "cell_type": "markdown",
      "metadata": {
        "id": "fv_c0RzmVPJ3"
      },
      "source": [
        "# **Analysis of the effect of Query Set Size on the performance of Submodular methods used to solve Cold Start Problem with SMS Spam Dataset**"
      ]
    },
    {
      "cell_type": "markdown",
      "metadata": {
        "id": "s_kv5luKWKDv"
      },
      "source": [
        "# Setup"
      ]
    },
    {
      "cell_type": "markdown",
      "metadata": {
        "id": "hSVRpyLgWLfY"
      },
      "source": [
        "## Get Distil and Submodlib from Decile Repo"
      ]
    },
    {
      "cell_type": "code",
      "execution_count": null,
      "metadata": {
        "colab": {
          "base_uri": "https://localhost:8080/"
        },
        "id": "t2vX5gm1RKeZ",
        "outputId": "66046396-42cb-41a5-cce8-d99c53654eaa"
      },
      "outputs": [
        {
          "output_type": "stream",
          "name": "stdout",
          "text": [
            "Cloning into 'distil'...\n",
            "remote: Enumerating objects: 3498, done.\u001b[K\n",
            "remote: Counting objects: 100% (453/453), done.\u001b[K\n",
            "remote: Compressing objects: 100% (174/174), done.\u001b[K\n",
            "remote: Total 3498 (delta 302), reused 336 (delta 279), pack-reused 3045\u001b[K\n",
            "Receiving objects: 100% (3498/3498), 23.10 MiB | 10.99 MiB/s, done.\n",
            "Resolving deltas: 100% (2246/2246), done.\n",
            "Cloning into 'submodlib'...\n",
            "remote: Enumerating objects: 2570, done.\u001b[K\n",
            "remote: Counting objects: 100% (11/11), done.\u001b[K\n",
            "remote: Compressing objects: 100% (11/11), done.\u001b[K\n",
            "remote: Total 2570 (delta 2), reused 0 (delta 0), pack-reused 2559\u001b[K\n",
            "Receiving objects: 100% (2570/2570), 30.57 MiB | 12.25 MiB/s, done.\n",
            "Resolving deltas: 100% (1911/1911), done.\n",
            "Updating files: 100% (307/307), done.\n"
          ]
        }
      ],
      "source": [
        "# Get DISTIL\n",
        "!git clone https://github.com/decile-team/distil.git\n",
        "\n",
        "# Get submodlib\n",
        "!git clone https://github.com/decile-team/submodlib.git"
      ]
    },
    {
      "cell_type": "markdown",
      "metadata": {
        "id": "Nu7AI_-nWnGP"
      },
      "source": [
        "## Installations"
      ]
    },
    {
      "cell_type": "markdown",
      "metadata": {
        "id": "khCtWi4OWrR0"
      },
      "source": [
        "#### *Restart runtime from here after initial install is complete*"
      ]
    },
    {
      "cell_type": "code",
      "execution_count": null,
      "metadata": {
        "colab": {
          "base_uri": "https://localhost:8080/"
        },
        "id": "eMIVziVQWqYF",
        "outputId": "1e63c489-5da0-40f0-ccad-5e5ddc86e139"
      },
      "outputs": [
        {
          "output_type": "stream",
          "name": "stdout",
          "text": [
            "\u001b[31mERROR: Could not open requirements file: [Errno 2] No such file or directory: 'distil/requirements/requirements.txt'\u001b[0m\u001b[31m\n",
            "\u001b[0mLooking in indexes: https://test.pypi.org/simple/, https://pypi.org/simple/\n",
            "Collecting sphinxcontrib-bibtex>=2.3.0 (from -r distil/requirements/requirements.txt (line 1))\n",
            "  Using cached sphinxcontrib_bibtex-2.6.1-py3-none-any.whl (40 kB)\n",
            "Collecting multipledispatch==0.6.0 (from -r distil/requirements/requirements.txt (line 2))\n",
            "  Using cached multipledispatch-0.6.0-py3-none-any.whl (11 kB)\n",
            "Collecting scikit-learn==0.23.0 (from -r distil/requirements/requirements.txt (line 3))\n",
            "  Using cached scikit-learn-0.23.0.tar.gz (7.2 MB)\n",
            "  \u001b[1;31merror\u001b[0m: \u001b[1msubprocess-exited-with-error\u001b[0m\n",
            "  \n",
            "  \u001b[31m×\u001b[0m \u001b[32mpip subprocess to install build dependencies\u001b[0m did not run successfully.\n",
            "  \u001b[31m│\u001b[0m exit code: \u001b[1;36m1\u001b[0m\n",
            "  \u001b[31m╰─>\u001b[0m See above for output.\n",
            "  \n",
            "  \u001b[1;35mnote\u001b[0m: This error originates from a subprocess, and is likely not a problem with pip.\n",
            "  Installing build dependencies ... \u001b[?25l\u001b[?25herror\n",
            "\u001b[1;31merror\u001b[0m: \u001b[1msubprocess-exited-with-error\u001b[0m\n",
            "\n",
            "\u001b[31m×\u001b[0m \u001b[32mpip subprocess to install build dependencies\u001b[0m did not run successfully.\n",
            "\u001b[31m│\u001b[0m exit code: \u001b[1;36m1\u001b[0m\n",
            "\u001b[31m╰─>\u001b[0m See above for output.\n",
            "\n",
            "\u001b[1;35mnote\u001b[0m: This error originates from a subprocess, and is likely not a problem with pip.\n",
            "Requirement already satisfied: transformers in /usr/local/lib/python3.10/dist-packages (4.35.2)\n",
            "Requirement already satisfied: filelock in /usr/local/lib/python3.10/dist-packages (from transformers) (3.13.1)\n",
            "Requirement already satisfied: huggingface-hub<1.0,>=0.16.4 in /usr/local/lib/python3.10/dist-packages (from transformers) (0.19.3)\n",
            "Requirement already satisfied: numpy>=1.17 in /usr/local/lib/python3.10/dist-packages (from transformers) (1.22.0)\n",
            "Requirement already satisfied: packaging>=20.0 in /usr/local/lib/python3.10/dist-packages (from transformers) (23.2)\n",
            "Requirement already satisfied: pyyaml>=5.1 in /usr/local/lib/python3.10/dist-packages (from transformers) (6.0.1)\n",
            "Requirement already satisfied: regex!=2019.12.17 in /usr/local/lib/python3.10/dist-packages (from transformers) (2023.6.3)\n",
            "Requirement already satisfied: requests in /usr/local/lib/python3.10/dist-packages (from transformers) (2.31.0)\n",
            "Requirement already satisfied: tokenizers<0.19,>=0.14 in /usr/local/lib/python3.10/dist-packages (from transformers) (0.15.0)\n",
            "Requirement already satisfied: safetensors>=0.3.1 in /usr/local/lib/python3.10/dist-packages (from transformers) (0.4.0)\n",
            "Requirement already satisfied: tqdm>=4.27 in /usr/local/lib/python3.10/dist-packages (from transformers) (4.66.1)\n",
            "Requirement already satisfied: fsspec>=2023.5.0 in /usr/local/lib/python3.10/dist-packages (from huggingface-hub<1.0,>=0.16.4->transformers) (2023.6.0)\n",
            "Requirement already satisfied: typing-extensions>=3.7.4.3 in /usr/local/lib/python3.10/dist-packages (from huggingface-hub<1.0,>=0.16.4->transformers) (4.5.0)\n",
            "Requirement already satisfied: charset-normalizer<4,>=2 in /usr/local/lib/python3.10/dist-packages (from requests->transformers) (3.3.2)\n",
            "Requirement already satisfied: idna<4,>=2.5 in /usr/local/lib/python3.10/dist-packages (from requests->transformers) (3.4)\n",
            "Requirement already satisfied: urllib3<3,>=1.21.1 in /usr/local/lib/python3.10/dist-packages (from requests->transformers) (2.0.7)\n",
            "Requirement already satisfied: certifi>=2017.4.17 in /usr/local/lib/python3.10/dist-packages (from requests->transformers) (2023.7.22)\n",
            "Requirement already satisfied: datasets in /usr/local/lib/python3.10/dist-packages (2.15.0)\n",
            "Requirement already satisfied: numpy>=1.17 in /usr/local/lib/python3.10/dist-packages (from datasets) (1.22.0)\n",
            "Requirement already satisfied: pyarrow>=8.0.0 in /usr/local/lib/python3.10/dist-packages (from datasets) (9.0.0)\n",
            "Requirement already satisfied: pyarrow-hotfix in /usr/local/lib/python3.10/dist-packages (from datasets) (0.5)\n",
            "Requirement already satisfied: dill<0.3.8,>=0.3.0 in /usr/local/lib/python3.10/dist-packages (from datasets) (0.3.7)\n",
            "Requirement already satisfied: pandas in /usr/local/lib/python3.10/dist-packages (from datasets) (1.5.3)\n",
            "Requirement already satisfied: requests>=2.19.0 in /usr/local/lib/python3.10/dist-packages (from datasets) (2.31.0)\n",
            "Requirement already satisfied: tqdm>=4.62.1 in /usr/local/lib/python3.10/dist-packages (from datasets) (4.66.1)\n",
            "Requirement already satisfied: xxhash in /usr/local/lib/python3.10/dist-packages (from datasets) (3.4.1)\n",
            "Requirement already satisfied: multiprocess in /usr/local/lib/python3.10/dist-packages (from datasets) (0.70.15)\n",
            "Requirement already satisfied: fsspec[http]<=2023.10.0,>=2023.1.0 in /usr/local/lib/python3.10/dist-packages (from datasets) (2023.6.0)\n",
            "Requirement already satisfied: aiohttp in /usr/local/lib/python3.10/dist-packages (from datasets) (3.8.6)\n",
            "Requirement already satisfied: huggingface-hub>=0.18.0 in /usr/local/lib/python3.10/dist-packages (from datasets) (0.19.3)\n",
            "Requirement already satisfied: packaging in /usr/local/lib/python3.10/dist-packages (from datasets) (23.2)\n",
            "Requirement already satisfied: pyyaml>=5.1 in /usr/local/lib/python3.10/dist-packages (from datasets) (6.0.1)\n",
            "Requirement already satisfied: attrs>=17.3.0 in /usr/local/lib/python3.10/dist-packages (from aiohttp->datasets) (23.1.0)\n",
            "Requirement already satisfied: charset-normalizer<4.0,>=2.0 in /usr/local/lib/python3.10/dist-packages (from aiohttp->datasets) (3.3.2)\n",
            "Requirement already satisfied: multidict<7.0,>=4.5 in /usr/local/lib/python3.10/dist-packages (from aiohttp->datasets) (6.0.4)\n",
            "Requirement already satisfied: async-timeout<5.0,>=4.0.0a3 in /usr/local/lib/python3.10/dist-packages (from aiohttp->datasets) (4.0.3)\n",
            "Requirement already satisfied: yarl<2.0,>=1.0 in /usr/local/lib/python3.10/dist-packages (from aiohttp->datasets) (1.9.2)\n",
            "Requirement already satisfied: frozenlist>=1.1.1 in /usr/local/lib/python3.10/dist-packages (from aiohttp->datasets) (1.4.0)\n",
            "Requirement already satisfied: aiosignal>=1.1.2 in /usr/local/lib/python3.10/dist-packages (from aiohttp->datasets) (1.3.1)\n",
            "Requirement already satisfied: filelock in /usr/local/lib/python3.10/dist-packages (from huggingface-hub>=0.18.0->datasets) (3.13.1)\n",
            "Requirement already satisfied: typing-extensions>=3.7.4.3 in /usr/local/lib/python3.10/dist-packages (from huggingface-hub>=0.18.0->datasets) (4.5.0)\n",
            "Requirement already satisfied: idna<4,>=2.5 in /usr/local/lib/python3.10/dist-packages (from requests>=2.19.0->datasets) (3.4)\n",
            "Requirement already satisfied: urllib3<3,>=1.21.1 in /usr/local/lib/python3.10/dist-packages (from requests>=2.19.0->datasets) (2.0.7)\n",
            "Requirement already satisfied: certifi>=2017.4.17 in /usr/local/lib/python3.10/dist-packages (from requests>=2.19.0->datasets) (2023.7.22)\n",
            "Requirement already satisfied: python-dateutil>=2.8.1 in /usr/local/lib/python3.10/dist-packages (from pandas->datasets) (2.8.2)\n",
            "Requirement already satisfied: pytz>=2020.1 in /usr/local/lib/python3.10/dist-packages (from pandas->datasets) (2023.3.post1)\n",
            "Requirement already satisfied: six>=1.5 in /usr/local/lib/python3.10/dist-packages (from python-dateutil>=2.8.1->pandas->datasets) (1.16.0)\n",
            "Obtaining file:///content/submodlib\n",
            "  Installing build dependencies ... \u001b[?25l\u001b[?25hdone\n",
            "  Checking if build backend supports build_editable ... \u001b[?25l\u001b[?25hdone\n",
            "  Getting requirements to build editable ... \u001b[?25l\u001b[?25hdone\n",
            "  Preparing editable metadata (pyproject.toml) ... \u001b[?25l\u001b[?25hdone\n",
            "Requirement already satisfied: numpy==1.22.0 in /usr/local/lib/python3.10/dist-packages (from submodlib==1.1.5) (1.22.0)\n",
            "Requirement already satisfied: scipy in /usr/local/lib/python3.10/dist-packages (from submodlib==1.1.5) (1.11.3)\n",
            "Requirement already satisfied: scikit-learn in /usr/local/lib/python3.10/dist-packages (from submodlib==1.1.5) (1.2.2)\n",
            "Requirement already satisfied: numba in /usr/local/lib/python3.10/dist-packages (from submodlib==1.1.5) (0.58.1)\n",
            "Requirement already satisfied: llvmlite<0.42,>=0.41.0dev0 in /usr/local/lib/python3.10/dist-packages (from numba->submodlib==1.1.5) (0.41.1)\n",
            "Requirement already satisfied: joblib>=1.1.1 in /usr/local/lib/python3.10/dist-packages (from scikit-learn->submodlib==1.1.5) (1.3.2)\n",
            "Requirement already satisfied: threadpoolctl>=2.0.0 in /usr/local/lib/python3.10/dist-packages (from scikit-learn->submodlib==1.1.5) (3.2.0)\n",
            "Building wheels for collected packages: submodlib\n",
            "  Building editable for submodlib (pyproject.toml) ... \u001b[?25l\u001b[?25hdone\n",
            "  Created wheel for submodlib: filename=submodlib-1.1.5-0.editable-cp310-cp310-linux_x86_64.whl size=6907 sha256=591420900f6c8cddb4272dad7c75af93960981f4e5eed8ef9f635bd337330fbb\n",
            "  Stored in directory: /tmp/pip-ephem-wheel-cache-sdd0pnml/wheels/38/8a/82/dcc1be631ad42bd42b29737e6f518581c869e8a7e861adfba8\n",
            "Successfully built submodlib\n",
            "Installing collected packages: submodlib\n",
            "  Attempting uninstall: submodlib\n",
            "    Found existing installation: submodlib 1.1.5\n",
            "    Uninstalling submodlib-1.1.5:\n",
            "      Successfully uninstalled submodlib-1.1.5\n",
            "Successfully installed submodlib-1.1.5\n"
          ]
        }
      ],
      "source": [
        "# Installations for DISTIL\n",
        "!cd distil && pip install -r distil/requirements/requirements.txt\n",
        "!pip install -r distil/requirements/requirements.txt\n",
        "\n",
        "# Required installations\n",
        "!pip install transformers\n",
        "!pip install datasets\n",
        "\n",
        "# Installations for Submodlib\n",
        "!pip install -e ./submodlib/"
      ]
    },
    {
      "cell_type": "markdown",
      "metadata": {
        "id": "hYX8W3kJXc_w"
      },
      "source": [
        "## Imports"
      ]
    },
    {
      "cell_type": "code",
      "execution_count": null,
      "metadata": {
        "id": "fFAzKKW6XfD4"
      },
      "outputs": [],
      "source": [
        "# Standard imports\n",
        "import copy\n",
        "import html\n",
        "import math\n",
        "import matplotlib.pyplot as plt\n",
        "import nltk\n",
        "from nltk.corpus import stopwords\n",
        "from nltk.tokenize import word_tokenize\n",
        "import numpy as np\n",
        "import os\n",
        "import pandas as pd\n",
        "import random # Import for query size sampling\n",
        "import re # Import for baseline regex matching\n",
        "from sklearn.metrics import confusion_matrix\n",
        "from sklearn.model_selection import train_test_split\n",
        "from sklearn.utils import shuffle\n",
        "import statistics as stat\n",
        "import string\n",
        "import sys\n",
        "import torch\n",
        "import torch.nn as nn\n",
        "import torch.nn.functional as F\n",
        "from torch import optim\n",
        "from torchtext.data import get_tokenizer\n",
        "from torchtext.vocab import GloVe\n",
        "import unicodedata\n",
        "\n",
        "# Imports for datasets\n",
        "from collections import Counter\n",
        "from datasets import Dataset as D\n",
        "from datasets import load_dataset, load_metric, concatenate_datasets\n",
        "from io import BytesIO\n",
        "import requests\n",
        "from torch.utils.data import DataLoader, TensorDataset, Dataset, Subset, ConcatDataset\n",
        "from tqdm.auto import tqdm\n",
        "import zipfile\n",
        "\n",
        "# Additional Imports\n",
        "from transformers import AutoTokenizer, get_scheduler, BertConfig, AdamW, BertModel\n",
        "\n",
        "# Imports for active learning\n",
        "sys.path.append('submodlib/')\n",
        "sys.path.append('distil/')\n",
        "from distil.active_learning_strategies import BADGE, SMI, EntropySampling, LeastConfidenceSampling, MarginSampling, RandomSampling   # All active learning strategies showcased in this example\n",
        "from distil.utils.utils import LabeledToUnlabeledDataset # A utility wrapper class that removes labels from labeled PyTorch dataset objects"
      ]
    },
    {
      "cell_type": "markdown",
      "metadata": {
        "id": "cVndIOjhXqb5"
      },
      "source": [
        "## Download GloVe vectorizer"
      ]
    },
    {
      "cell_type": "code",
      "execution_count": null,
      "metadata": {
        "colab": {
          "base_uri": "https://localhost:8080/"
        },
        "id": "zphCsZEhX0y-",
        "outputId": "a3c32f24-012f-4c95-a6ab-e794154ce111"
      },
      "outputs": [
        {
          "output_type": "stream",
          "name": "stderr",
          "text": [
            ".vector_cache/glove.6B.zip: 862MB [02:39, 5.40MB/s]                           \n",
            "100%|█████████▉| 399999/400000 [01:09<00:00, 5726.78it/s]\n"
          ]
        }
      ],
      "source": [
        "# Get a simple tokenizer from torchtext. Use GloVe embeddings from torchtext, which will automatically download them.\n",
        "glove_tokenizer     = get_tokenizer(\"basic_english\")\n",
        "glove_vectorizer    = GloVe(name='6B', dim=300)"
      ]
    },
    {
      "cell_type": "markdown",
      "metadata": {
        "id": "1rMjoK1aYbT-"
      },
      "source": [
        "The above procedure should take 15-30 minutes. The rest of the code should run quicker."
      ]
    },
    {
      "cell_type": "markdown",
      "metadata": {
        "id": "o8cBgxlqYZg1"
      },
      "source": [
        "# Data loading, sampling and pre-processing"
      ]
    },
    {
      "cell_type": "markdown",
      "metadata": {
        "id": "7KixFEv0Y6wK"
      },
      "source": [
        "## Load data from UCI_ML/Github Repository"
      ]
    },
    {
      "cell_type": "code",
      "execution_count": null,
      "metadata": {
        "colab": {
          "base_uri": "https://localhost:8080/",
          "height": 363
        },
        "id": "dyzA0jHJZg6t",
        "outputId": "86605794-83dc-4552-d829-095543e264cf"
      },
      "outputs": [
        {
          "output_type": "execute_result",
          "data": {
            "text/plain": [
              "     v1                                                 v2\n",
              "0  spam  goldviking (29/m) is inviting you to be his fr...\n",
              "1   ham           i'm in solihull, | do you want anything?\n",
              "2  spam  u have a secret admirer. reveal who thinks u r...\n",
              "3   ham  hello lover! how goes that new job? are you th...\n",
              "4  spam  hey i am really horny want to chat or see me n...\n",
              "5   ham  hi its jess i dont know if you are at work but...\n",
              "6   ham                            then any special there?\n",
              "7   ham                         just nw i came to hme da..\n",
              "8   ham                              shall i get my pouch?\n",
              "9   ham  doesn't g have class early tomorrow and thus s..."
            ],
            "text/html": [
              "\n",
              "  <div id=\"df-9ebc449e-f129-404b-bc83-4aa82f7756cd\" class=\"colab-df-container\">\n",
              "    <div>\n",
              "<style scoped>\n",
              "    .dataframe tbody tr th:only-of-type {\n",
              "        vertical-align: middle;\n",
              "    }\n",
              "\n",
              "    .dataframe tbody tr th {\n",
              "        vertical-align: top;\n",
              "    }\n",
              "\n",
              "    .dataframe thead th {\n",
              "        text-align: right;\n",
              "    }\n",
              "</style>\n",
              "<table border=\"1\" class=\"dataframe\">\n",
              "  <thead>\n",
              "    <tr style=\"text-align: right;\">\n",
              "      <th></th>\n",
              "      <th>v1</th>\n",
              "      <th>v2</th>\n",
              "    </tr>\n",
              "  </thead>\n",
              "  <tbody>\n",
              "    <tr>\n",
              "      <th>0</th>\n",
              "      <td>spam</td>\n",
              "      <td>goldviking (29/m) is inviting you to be his fr...</td>\n",
              "    </tr>\n",
              "    <tr>\n",
              "      <th>1</th>\n",
              "      <td>ham</td>\n",
              "      <td>i'm in solihull, | do you want anything?</td>\n",
              "    </tr>\n",
              "    <tr>\n",
              "      <th>2</th>\n",
              "      <td>spam</td>\n",
              "      <td>u have a secret admirer. reveal who thinks u r...</td>\n",
              "    </tr>\n",
              "    <tr>\n",
              "      <th>3</th>\n",
              "      <td>ham</td>\n",
              "      <td>hello lover! how goes that new job? are you th...</td>\n",
              "    </tr>\n",
              "    <tr>\n",
              "      <th>4</th>\n",
              "      <td>spam</td>\n",
              "      <td>hey i am really horny want to chat or see me n...</td>\n",
              "    </tr>\n",
              "    <tr>\n",
              "      <th>5</th>\n",
              "      <td>ham</td>\n",
              "      <td>hi its jess i dont know if you are at work but...</td>\n",
              "    </tr>\n",
              "    <tr>\n",
              "      <th>6</th>\n",
              "      <td>ham</td>\n",
              "      <td>then any special there?</td>\n",
              "    </tr>\n",
              "    <tr>\n",
              "      <th>7</th>\n",
              "      <td>ham</td>\n",
              "      <td>just nw i came to hme da..</td>\n",
              "    </tr>\n",
              "    <tr>\n",
              "      <th>8</th>\n",
              "      <td>ham</td>\n",
              "      <td>shall i get my pouch?</td>\n",
              "    </tr>\n",
              "    <tr>\n",
              "      <th>9</th>\n",
              "      <td>ham</td>\n",
              "      <td>doesn't g have class early tomorrow and thus s...</td>\n",
              "    </tr>\n",
              "  </tbody>\n",
              "</table>\n",
              "</div>\n",
              "    <div class=\"colab-df-buttons\">\n",
              "\n",
              "  <div class=\"colab-df-container\">\n",
              "    <button class=\"colab-df-convert\" onclick=\"convertToInteractive('df-9ebc449e-f129-404b-bc83-4aa82f7756cd')\"\n",
              "            title=\"Convert this dataframe to an interactive table.\"\n",
              "            style=\"display:none;\">\n",
              "\n",
              "  <svg xmlns=\"http://www.w3.org/2000/svg\" height=\"24px\" viewBox=\"0 -960 960 960\">\n",
              "    <path d=\"M120-120v-720h720v720H120Zm60-500h600v-160H180v160Zm220 220h160v-160H400v160Zm0 220h160v-160H400v160ZM180-400h160v-160H180v160Zm440 0h160v-160H620v160ZM180-180h160v-160H180v160Zm440 0h160v-160H620v160Z\"/>\n",
              "  </svg>\n",
              "    </button>\n",
              "\n",
              "  <style>\n",
              "    .colab-df-container {\n",
              "      display:flex;\n",
              "      gap: 12px;\n",
              "    }\n",
              "\n",
              "    .colab-df-convert {\n",
              "      background-color: #E8F0FE;\n",
              "      border: none;\n",
              "      border-radius: 50%;\n",
              "      cursor: pointer;\n",
              "      display: none;\n",
              "      fill: #1967D2;\n",
              "      height: 32px;\n",
              "      padding: 0 0 0 0;\n",
              "      width: 32px;\n",
              "    }\n",
              "\n",
              "    .colab-df-convert:hover {\n",
              "      background-color: #E2EBFA;\n",
              "      box-shadow: 0px 1px 2px rgba(60, 64, 67, 0.3), 0px 1px 3px 1px rgba(60, 64, 67, 0.15);\n",
              "      fill: #174EA6;\n",
              "    }\n",
              "\n",
              "    .colab-df-buttons div {\n",
              "      margin-bottom: 4px;\n",
              "    }\n",
              "\n",
              "    [theme=dark] .colab-df-convert {\n",
              "      background-color: #3B4455;\n",
              "      fill: #D2E3FC;\n",
              "    }\n",
              "\n",
              "    [theme=dark] .colab-df-convert:hover {\n",
              "      background-color: #434B5C;\n",
              "      box-shadow: 0px 1px 3px 1px rgba(0, 0, 0, 0.15);\n",
              "      filter: drop-shadow(0px 1px 2px rgba(0, 0, 0, 0.3));\n",
              "      fill: #FFFFFF;\n",
              "    }\n",
              "  </style>\n",
              "\n",
              "    <script>\n",
              "      const buttonEl =\n",
              "        document.querySelector('#df-9ebc449e-f129-404b-bc83-4aa82f7756cd button.colab-df-convert');\n",
              "      buttonEl.style.display =\n",
              "        google.colab.kernel.accessAllowed ? 'block' : 'none';\n",
              "\n",
              "      async function convertToInteractive(key) {\n",
              "        const element = document.querySelector('#df-9ebc449e-f129-404b-bc83-4aa82f7756cd');\n",
              "        const dataTable =\n",
              "          await google.colab.kernel.invokeFunction('convertToInteractive',\n",
              "                                                    [key], {});\n",
              "        if (!dataTable) return;\n",
              "\n",
              "        const docLinkHtml = 'Like what you see? Visit the ' +\n",
              "          '<a target=\"_blank\" href=https://colab.research.google.com/notebooks/data_table.ipynb>data table notebook</a>'\n",
              "          + ' to learn more about interactive tables.';\n",
              "        element.innerHTML = '';\n",
              "        dataTable['output_type'] = 'display_data';\n",
              "        await google.colab.output.renderOutput(dataTable, element);\n",
              "        const docLink = document.createElement('div');\n",
              "        docLink.innerHTML = docLinkHtml;\n",
              "        element.appendChild(docLink);\n",
              "      }\n",
              "    </script>\n",
              "  </div>\n",
              "\n",
              "\n",
              "<div id=\"df-8d528cef-1b91-4474-adf2-eed19191b17b\">\n",
              "  <button class=\"colab-df-quickchart\" onclick=\"quickchart('df-8d528cef-1b91-4474-adf2-eed19191b17b')\"\n",
              "            title=\"Suggest charts\"\n",
              "            style=\"display:none;\">\n",
              "\n",
              "<svg xmlns=\"http://www.w3.org/2000/svg\" height=\"24px\"viewBox=\"0 0 24 24\"\n",
              "     width=\"24px\">\n",
              "    <g>\n",
              "        <path d=\"M19 3H5c-1.1 0-2 .9-2 2v14c0 1.1.9 2 2 2h14c1.1 0 2-.9 2-2V5c0-1.1-.9-2-2-2zM9 17H7v-7h2v7zm4 0h-2V7h2v10zm4 0h-2v-4h2v4z\"/>\n",
              "    </g>\n",
              "</svg>\n",
              "  </button>\n",
              "\n",
              "<style>\n",
              "  .colab-df-quickchart {\n",
              "      --bg-color: #E8F0FE;\n",
              "      --fill-color: #1967D2;\n",
              "      --hover-bg-color: #E2EBFA;\n",
              "      --hover-fill-color: #174EA6;\n",
              "      --disabled-fill-color: #AAA;\n",
              "      --disabled-bg-color: #DDD;\n",
              "  }\n",
              "\n",
              "  [theme=dark] .colab-df-quickchart {\n",
              "      --bg-color: #3B4455;\n",
              "      --fill-color: #D2E3FC;\n",
              "      --hover-bg-color: #434B5C;\n",
              "      --hover-fill-color: #FFFFFF;\n",
              "      --disabled-bg-color: #3B4455;\n",
              "      --disabled-fill-color: #666;\n",
              "  }\n",
              "\n",
              "  .colab-df-quickchart {\n",
              "    background-color: var(--bg-color);\n",
              "    border: none;\n",
              "    border-radius: 50%;\n",
              "    cursor: pointer;\n",
              "    display: none;\n",
              "    fill: var(--fill-color);\n",
              "    height: 32px;\n",
              "    padding: 0;\n",
              "    width: 32px;\n",
              "  }\n",
              "\n",
              "  .colab-df-quickchart:hover {\n",
              "    background-color: var(--hover-bg-color);\n",
              "    box-shadow: 0 1px 2px rgba(60, 64, 67, 0.3), 0 1px 3px 1px rgba(60, 64, 67, 0.15);\n",
              "    fill: var(--button-hover-fill-color);\n",
              "  }\n",
              "\n",
              "  .colab-df-quickchart-complete:disabled,\n",
              "  .colab-df-quickchart-complete:disabled:hover {\n",
              "    background-color: var(--disabled-bg-color);\n",
              "    fill: var(--disabled-fill-color);\n",
              "    box-shadow: none;\n",
              "  }\n",
              "\n",
              "  .colab-df-spinner {\n",
              "    border: 2px solid var(--fill-color);\n",
              "    border-color: transparent;\n",
              "    border-bottom-color: var(--fill-color);\n",
              "    animation:\n",
              "      spin 1s steps(1) infinite;\n",
              "  }\n",
              "\n",
              "  @keyframes spin {\n",
              "    0% {\n",
              "      border-color: transparent;\n",
              "      border-bottom-color: var(--fill-color);\n",
              "      border-left-color: var(--fill-color);\n",
              "    }\n",
              "    20% {\n",
              "      border-color: transparent;\n",
              "      border-left-color: var(--fill-color);\n",
              "      border-top-color: var(--fill-color);\n",
              "    }\n",
              "    30% {\n",
              "      border-color: transparent;\n",
              "      border-left-color: var(--fill-color);\n",
              "      border-top-color: var(--fill-color);\n",
              "      border-right-color: var(--fill-color);\n",
              "    }\n",
              "    40% {\n",
              "      border-color: transparent;\n",
              "      border-right-color: var(--fill-color);\n",
              "      border-top-color: var(--fill-color);\n",
              "    }\n",
              "    60% {\n",
              "      border-color: transparent;\n",
              "      border-right-color: var(--fill-color);\n",
              "    }\n",
              "    80% {\n",
              "      border-color: transparent;\n",
              "      border-right-color: var(--fill-color);\n",
              "      border-bottom-color: var(--fill-color);\n",
              "    }\n",
              "    90% {\n",
              "      border-color: transparent;\n",
              "      border-bottom-color: var(--fill-color);\n",
              "    }\n",
              "  }\n",
              "</style>\n",
              "\n",
              "  <script>\n",
              "    async function quickchart(key) {\n",
              "      const quickchartButtonEl =\n",
              "        document.querySelector('#' + key + ' button');\n",
              "      quickchartButtonEl.disabled = true;  // To prevent multiple clicks.\n",
              "      quickchartButtonEl.classList.add('colab-df-spinner');\n",
              "      try {\n",
              "        const charts = await google.colab.kernel.invokeFunction(\n",
              "            'suggestCharts', [key], {});\n",
              "      } catch (error) {\n",
              "        console.error('Error during call to suggestCharts:', error);\n",
              "      }\n",
              "      quickchartButtonEl.classList.remove('colab-df-spinner');\n",
              "      quickchartButtonEl.classList.add('colab-df-quickchart-complete');\n",
              "    }\n",
              "    (() => {\n",
              "      let quickchartButtonEl =\n",
              "        document.querySelector('#df-8d528cef-1b91-4474-adf2-eed19191b17b button');\n",
              "      quickchartButtonEl.style.display =\n",
              "        google.colab.kernel.accessAllowed ? 'block' : 'none';\n",
              "    })();\n",
              "  </script>\n",
              "</div>\n",
              "    </div>\n",
              "  </div>\n"
            ]
          },
          "metadata": {},
          "execution_count": 4
        }
      ],
      "source": [
        "# URL of the CSV file containing the SMS Spam Collection dataset\n",
        "sms_url = 'https://raw.github.com/ayushbits/robust-aggregate-lfs/main/reef/data/sms/all.csv'\n",
        "\n",
        "# Load the data, skipping bad lines\n",
        "sms_df = pd.read_csv(sms_url, on_bad_lines='skip')\n",
        "\n",
        "# Display SMS dataframe data\n",
        "sms_df.head(10)"
      ]
    },
    {
      "cell_type": "markdown",
      "metadata": {
        "id": "7511yzYmZ-7B"
      },
      "source": [
        "### Rename the columns and labels"
      ]
    },
    {
      "cell_type": "code",
      "execution_count": null,
      "metadata": {
        "id": "EBA538ymaCfN"
      },
      "outputs": [],
      "source": [
        "# Rename the columns\n",
        "sms_df = sms_df.rename(columns={'v2': 'text', 'v1': 'labels'})\n",
        "\n",
        "# Replace 'spam' with 1 and 'ham' with 0\n",
        "sms_df['labels'] = sms_df['labels'].replace({'spam': 1, 'ham': 0})"
      ]
    },
    {
      "cell_type": "code",
      "execution_count": null,
      "metadata": {
        "colab": {
          "base_uri": "https://localhost:8080/",
          "height": 363
        },
        "id": "hrbLu5StXjLf",
        "outputId": "22a06e5e-e65f-46d4-bc01-8d3022d5b0bf"
      },
      "outputs": [
        {
          "output_type": "execute_result",
          "data": {
            "text/plain": [
              "  labels                                               text\n",
              "0      1  goldviking (29/m) is inviting you to be his fr...\n",
              "1      0           i'm in solihull, | do you want anything?\n",
              "2      1  u have a secret admirer. reveal who thinks u r...\n",
              "3      0  hello lover! how goes that new job? are you th...\n",
              "4      1  hey i am really horny want to chat or see me n...\n",
              "5      0  hi its jess i dont know if you are at work but...\n",
              "6      0                            then any special there?\n",
              "7      0                         just nw i came to hme da..\n",
              "8      0                              shall i get my pouch?\n",
              "9      0  doesn't g have class early tomorrow and thus s..."
            ],
            "text/html": [
              "\n",
              "  <div id=\"df-47e9e1ad-c2a1-47ec-ba4a-22d9e7fbdc7c\" class=\"colab-df-container\">\n",
              "    <div>\n",
              "<style scoped>\n",
              "    .dataframe tbody tr th:only-of-type {\n",
              "        vertical-align: middle;\n",
              "    }\n",
              "\n",
              "    .dataframe tbody tr th {\n",
              "        vertical-align: top;\n",
              "    }\n",
              "\n",
              "    .dataframe thead th {\n",
              "        text-align: right;\n",
              "    }\n",
              "</style>\n",
              "<table border=\"1\" class=\"dataframe\">\n",
              "  <thead>\n",
              "    <tr style=\"text-align: right;\">\n",
              "      <th></th>\n",
              "      <th>labels</th>\n",
              "      <th>text</th>\n",
              "    </tr>\n",
              "  </thead>\n",
              "  <tbody>\n",
              "    <tr>\n",
              "      <th>0</th>\n",
              "      <td>1</td>\n",
              "      <td>goldviking (29/m) is inviting you to be his fr...</td>\n",
              "    </tr>\n",
              "    <tr>\n",
              "      <th>1</th>\n",
              "      <td>0</td>\n",
              "      <td>i'm in solihull, | do you want anything?</td>\n",
              "    </tr>\n",
              "    <tr>\n",
              "      <th>2</th>\n",
              "      <td>1</td>\n",
              "      <td>u have a secret admirer. reveal who thinks u r...</td>\n",
              "    </tr>\n",
              "    <tr>\n",
              "      <th>3</th>\n",
              "      <td>0</td>\n",
              "      <td>hello lover! how goes that new job? are you th...</td>\n",
              "    </tr>\n",
              "    <tr>\n",
              "      <th>4</th>\n",
              "      <td>1</td>\n",
              "      <td>hey i am really horny want to chat or see me n...</td>\n",
              "    </tr>\n",
              "    <tr>\n",
              "      <th>5</th>\n",
              "      <td>0</td>\n",
              "      <td>hi its jess i dont know if you are at work but...</td>\n",
              "    </tr>\n",
              "    <tr>\n",
              "      <th>6</th>\n",
              "      <td>0</td>\n",
              "      <td>then any special there?</td>\n",
              "    </tr>\n",
              "    <tr>\n",
              "      <th>7</th>\n",
              "      <td>0</td>\n",
              "      <td>just nw i came to hme da..</td>\n",
              "    </tr>\n",
              "    <tr>\n",
              "      <th>8</th>\n",
              "      <td>0</td>\n",
              "      <td>shall i get my pouch?</td>\n",
              "    </tr>\n",
              "    <tr>\n",
              "      <th>9</th>\n",
              "      <td>0</td>\n",
              "      <td>doesn't g have class early tomorrow and thus s...</td>\n",
              "    </tr>\n",
              "  </tbody>\n",
              "</table>\n",
              "</div>\n",
              "    <div class=\"colab-df-buttons\">\n",
              "\n",
              "  <div class=\"colab-df-container\">\n",
              "    <button class=\"colab-df-convert\" onclick=\"convertToInteractive('df-47e9e1ad-c2a1-47ec-ba4a-22d9e7fbdc7c')\"\n",
              "            title=\"Convert this dataframe to an interactive table.\"\n",
              "            style=\"display:none;\">\n",
              "\n",
              "  <svg xmlns=\"http://www.w3.org/2000/svg\" height=\"24px\" viewBox=\"0 -960 960 960\">\n",
              "    <path d=\"M120-120v-720h720v720H120Zm60-500h600v-160H180v160Zm220 220h160v-160H400v160Zm0 220h160v-160H400v160ZM180-400h160v-160H180v160Zm440 0h160v-160H620v160ZM180-180h160v-160H180v160Zm440 0h160v-160H620v160Z\"/>\n",
              "  </svg>\n",
              "    </button>\n",
              "\n",
              "  <style>\n",
              "    .colab-df-container {\n",
              "      display:flex;\n",
              "      gap: 12px;\n",
              "    }\n",
              "\n",
              "    .colab-df-convert {\n",
              "      background-color: #E8F0FE;\n",
              "      border: none;\n",
              "      border-radius: 50%;\n",
              "      cursor: pointer;\n",
              "      display: none;\n",
              "      fill: #1967D2;\n",
              "      height: 32px;\n",
              "      padding: 0 0 0 0;\n",
              "      width: 32px;\n",
              "    }\n",
              "\n",
              "    .colab-df-convert:hover {\n",
              "      background-color: #E2EBFA;\n",
              "      box-shadow: 0px 1px 2px rgba(60, 64, 67, 0.3), 0px 1px 3px 1px rgba(60, 64, 67, 0.15);\n",
              "      fill: #174EA6;\n",
              "    }\n",
              "\n",
              "    .colab-df-buttons div {\n",
              "      margin-bottom: 4px;\n",
              "    }\n",
              "\n",
              "    [theme=dark] .colab-df-convert {\n",
              "      background-color: #3B4455;\n",
              "      fill: #D2E3FC;\n",
              "    }\n",
              "\n",
              "    [theme=dark] .colab-df-convert:hover {\n",
              "      background-color: #434B5C;\n",
              "      box-shadow: 0px 1px 3px 1px rgba(0, 0, 0, 0.15);\n",
              "      filter: drop-shadow(0px 1px 2px rgba(0, 0, 0, 0.3));\n",
              "      fill: #FFFFFF;\n",
              "    }\n",
              "  </style>\n",
              "\n",
              "    <script>\n",
              "      const buttonEl =\n",
              "        document.querySelector('#df-47e9e1ad-c2a1-47ec-ba4a-22d9e7fbdc7c button.colab-df-convert');\n",
              "      buttonEl.style.display =\n",
              "        google.colab.kernel.accessAllowed ? 'block' : 'none';\n",
              "\n",
              "      async function convertToInteractive(key) {\n",
              "        const element = document.querySelector('#df-47e9e1ad-c2a1-47ec-ba4a-22d9e7fbdc7c');\n",
              "        const dataTable =\n",
              "          await google.colab.kernel.invokeFunction('convertToInteractive',\n",
              "                                                    [key], {});\n",
              "        if (!dataTable) return;\n",
              "\n",
              "        const docLinkHtml = 'Like what you see? Visit the ' +\n",
              "          '<a target=\"_blank\" href=https://colab.research.google.com/notebooks/data_table.ipynb>data table notebook</a>'\n",
              "          + ' to learn more about interactive tables.';\n",
              "        element.innerHTML = '';\n",
              "        dataTable['output_type'] = 'display_data';\n",
              "        await google.colab.output.renderOutput(dataTable, element);\n",
              "        const docLink = document.createElement('div');\n",
              "        docLink.innerHTML = docLinkHtml;\n",
              "        element.appendChild(docLink);\n",
              "      }\n",
              "    </script>\n",
              "  </div>\n",
              "\n",
              "\n",
              "<div id=\"df-0f0b5a6d-e1bd-4ac1-930f-bd1d346267af\">\n",
              "  <button class=\"colab-df-quickchart\" onclick=\"quickchart('df-0f0b5a6d-e1bd-4ac1-930f-bd1d346267af')\"\n",
              "            title=\"Suggest charts\"\n",
              "            style=\"display:none;\">\n",
              "\n",
              "<svg xmlns=\"http://www.w3.org/2000/svg\" height=\"24px\"viewBox=\"0 0 24 24\"\n",
              "     width=\"24px\">\n",
              "    <g>\n",
              "        <path d=\"M19 3H5c-1.1 0-2 .9-2 2v14c0 1.1.9 2 2 2h14c1.1 0 2-.9 2-2V5c0-1.1-.9-2-2-2zM9 17H7v-7h2v7zm4 0h-2V7h2v10zm4 0h-2v-4h2v4z\"/>\n",
              "    </g>\n",
              "</svg>\n",
              "  </button>\n",
              "\n",
              "<style>\n",
              "  .colab-df-quickchart {\n",
              "      --bg-color: #E8F0FE;\n",
              "      --fill-color: #1967D2;\n",
              "      --hover-bg-color: #E2EBFA;\n",
              "      --hover-fill-color: #174EA6;\n",
              "      --disabled-fill-color: #AAA;\n",
              "      --disabled-bg-color: #DDD;\n",
              "  }\n",
              "\n",
              "  [theme=dark] .colab-df-quickchart {\n",
              "      --bg-color: #3B4455;\n",
              "      --fill-color: #D2E3FC;\n",
              "      --hover-bg-color: #434B5C;\n",
              "      --hover-fill-color: #FFFFFF;\n",
              "      --disabled-bg-color: #3B4455;\n",
              "      --disabled-fill-color: #666;\n",
              "  }\n",
              "\n",
              "  .colab-df-quickchart {\n",
              "    background-color: var(--bg-color);\n",
              "    border: none;\n",
              "    border-radius: 50%;\n",
              "    cursor: pointer;\n",
              "    display: none;\n",
              "    fill: var(--fill-color);\n",
              "    height: 32px;\n",
              "    padding: 0;\n",
              "    width: 32px;\n",
              "  }\n",
              "\n",
              "  .colab-df-quickchart:hover {\n",
              "    background-color: var(--hover-bg-color);\n",
              "    box-shadow: 0 1px 2px rgba(60, 64, 67, 0.3), 0 1px 3px 1px rgba(60, 64, 67, 0.15);\n",
              "    fill: var(--button-hover-fill-color);\n",
              "  }\n",
              "\n",
              "  .colab-df-quickchart-complete:disabled,\n",
              "  .colab-df-quickchart-complete:disabled:hover {\n",
              "    background-color: var(--disabled-bg-color);\n",
              "    fill: var(--disabled-fill-color);\n",
              "    box-shadow: none;\n",
              "  }\n",
              "\n",
              "  .colab-df-spinner {\n",
              "    border: 2px solid var(--fill-color);\n",
              "    border-color: transparent;\n",
              "    border-bottom-color: var(--fill-color);\n",
              "    animation:\n",
              "      spin 1s steps(1) infinite;\n",
              "  }\n",
              "\n",
              "  @keyframes spin {\n",
              "    0% {\n",
              "      border-color: transparent;\n",
              "      border-bottom-color: var(--fill-color);\n",
              "      border-left-color: var(--fill-color);\n",
              "    }\n",
              "    20% {\n",
              "      border-color: transparent;\n",
              "      border-left-color: var(--fill-color);\n",
              "      border-top-color: var(--fill-color);\n",
              "    }\n",
              "    30% {\n",
              "      border-color: transparent;\n",
              "      border-left-color: var(--fill-color);\n",
              "      border-top-color: var(--fill-color);\n",
              "      border-right-color: var(--fill-color);\n",
              "    }\n",
              "    40% {\n",
              "      border-color: transparent;\n",
              "      border-right-color: var(--fill-color);\n",
              "      border-top-color: var(--fill-color);\n",
              "    }\n",
              "    60% {\n",
              "      border-color: transparent;\n",
              "      border-right-color: var(--fill-color);\n",
              "    }\n",
              "    80% {\n",
              "      border-color: transparent;\n",
              "      border-right-color: var(--fill-color);\n",
              "      border-bottom-color: var(--fill-color);\n",
              "    }\n",
              "    90% {\n",
              "      border-color: transparent;\n",
              "      border-bottom-color: var(--fill-color);\n",
              "    }\n",
              "  }\n",
              "</style>\n",
              "\n",
              "  <script>\n",
              "    async function quickchart(key) {\n",
              "      const quickchartButtonEl =\n",
              "        document.querySelector('#' + key + ' button');\n",
              "      quickchartButtonEl.disabled = true;  // To prevent multiple clicks.\n",
              "      quickchartButtonEl.classList.add('colab-df-spinner');\n",
              "      try {\n",
              "        const charts = await google.colab.kernel.invokeFunction(\n",
              "            'suggestCharts', [key], {});\n",
              "      } catch (error) {\n",
              "        console.error('Error during call to suggestCharts:', error);\n",
              "      }\n",
              "      quickchartButtonEl.classList.remove('colab-df-spinner');\n",
              "      quickchartButtonEl.classList.add('colab-df-quickchart-complete');\n",
              "    }\n",
              "    (() => {\n",
              "      let quickchartButtonEl =\n",
              "        document.querySelector('#df-0f0b5a6d-e1bd-4ac1-930f-bd1d346267af button');\n",
              "      quickchartButtonEl.style.display =\n",
              "        google.colab.kernel.accessAllowed ? 'block' : 'none';\n",
              "    })();\n",
              "  </script>\n",
              "</div>\n",
              "    </div>\n",
              "  </div>\n"
            ]
          },
          "metadata": {},
          "execution_count": 6
        }
      ],
      "source": [
        "sms_df.head(10)"
      ]
    },
    {
      "cell_type": "code",
      "source": [
        "sms_df['labels'].value_counts()"
      ],
      "metadata": {
        "colab": {
          "base_uri": "https://localhost:8080/"
        },
        "id": "wkccSJrVCdvB",
        "outputId": "7cf34f25-3f83-4704-90ea-93e1dacce552"
      },
      "execution_count": null,
      "outputs": [
        {
          "output_type": "execute_result",
          "data": {
            "text/plain": [
              "0     4792\n",
              "1      710\n",
              "v1       2\n",
              "Name: labels, dtype: int64"
            ]
          },
          "metadata": {},
          "execution_count": 7
        }
      ]
    },
    {
      "cell_type": "code",
      "source": [
        "len(sms_df)"
      ],
      "metadata": {
        "colab": {
          "base_uri": "https://localhost:8080/"
        },
        "id": "cg0UIHeGCe7g",
        "outputId": "22c995c9-1409-4f3e-a090-2a3357409d59"
      },
      "execution_count": null,
      "outputs": [
        {
          "output_type": "execute_result",
          "data": {
            "text/plain": [
              "5504"
            ]
          },
          "metadata": {},
          "execution_count": 8
        }
      ]
    },
    {
      "cell_type": "markdown",
      "source": [
        "### Discard data points with invalid label 'v1' (SMS Dataset only)"
      ],
      "metadata": {
        "id": "_HBHs132CjR5"
      }
    },
    {
      "cell_type": "code",
      "source": [
        "# Retain only ham and spam points in sms data\n",
        "ham_df = sms_df[sms_df['labels']==0]\n",
        "spam_df = sms_df[sms_df['labels']==1]\n",
        "binary_df = pd.concat([ham_df, spam_df], ignore_index=True)"
      ],
      "metadata": {
        "id": "a6F_R6dlCkcV"
      },
      "execution_count": null,
      "outputs": []
    },
    {
      "cell_type": "code",
      "source": [
        "print(ham_df.head())\n",
        "print(spam_df.head())"
      ],
      "metadata": {
        "colab": {
          "base_uri": "https://localhost:8080/"
        },
        "id": "Wqzm-SxiCnBB",
        "outputId": "5f6e288b-e85a-4846-be43-5225b657792f"
      },
      "execution_count": null,
      "outputs": [
        {
          "output_type": "stream",
          "name": "stdout",
          "text": [
            "  labels                                               text\n",
            "1      0           i'm in solihull, | do you want anything?\n",
            "3      0  hello lover! how goes that new job? are you th...\n",
            "5      0  hi its jess i dont know if you are at work but...\n",
            "6      0                            then any special there?\n",
            "7      0                         just nw i came to hme da..\n",
            "   labels                                               text\n",
            "0       1  goldviking (29/m) is inviting you to be his fr...\n",
            "2       1  u have a secret admirer. reveal who thinks u r...\n",
            "4       1  hey i am really horny want to chat or see me n...\n",
            "17      1  back 2 work 2morro half term over! can u c me ...\n",
            "22      1  you won't believe it but it's true. it's incre...\n"
          ]
        }
      ]
    },
    {
      "cell_type": "markdown",
      "metadata": {
        "id": "kV5ri2AyaT2T"
      },
      "source": [
        "## Define data pre-processing"
      ]
    },
    {
      "cell_type": "markdown",
      "metadata": {
        "id": "T-fGoLAAaWoP"
      },
      "source": [
        "### Text pre-processing"
      ]
    },
    {
      "cell_type": "code",
      "execution_count": null,
      "metadata": {
        "colab": {
          "base_uri": "https://localhost:8080/"
        },
        "id": "ZyWs6nbYNJHD",
        "outputId": "ab985d82-c57c-4b87-bd53-42b295ccf94d"
      },
      "outputs": [
        {
          "output_type": "stream",
          "name": "stderr",
          "text": [
            "[nltk_data] Downloading package stopwords to /root/nltk_data...\n",
            "[nltk_data]   Unzipping corpora/stopwords.zip.\n",
            "[nltk_data] Downloading package punkt to /root/nltk_data...\n",
            "[nltk_data]   Unzipping tokenizers/punkt.zip.\n"
          ]
        },
        {
          "output_type": "execute_result",
          "data": {
            "text/plain": [
              "True"
            ]
          },
          "metadata": {},
          "execution_count": 11
        }
      ],
      "source": [
        "# NLTK Downloads\n",
        "nltk.download('stopwords')\n",
        "nltk.download('punkt')"
      ]
    },
    {
      "cell_type": "code",
      "execution_count": null,
      "metadata": {
        "id": "7oJEE6Nsah9n"
      },
      "outputs": [],
      "source": [
        "# Set of punctuation special characters to remove from text\n",
        "punctuation = set(string.punctuation)\n",
        "\n",
        "# List of stopwords (commonly used words in English)\n",
        "english_stopwords = set(stopwords.words('english'))"
      ]
    },
    {
      "cell_type": "code",
      "execution_count": null,
      "metadata": {
        "id": "_96KzXkiak1w"
      },
      "outputs": [],
      "source": [
        "# Converts all text to lowercase\n",
        "def to_lower(text):\n",
        "    return text.lower()\n",
        "\n",
        "# Removes punctuation from the text\n",
        "def remove_punc(text):\n",
        "    return ''.join(x if x not in punctuation else ' ' for x in text)\n",
        "\n",
        "# Decodes HTML entities and converts accented text to normal\n",
        "def to_ascii(text):\n",
        "    decoded_text = html.unescape(text)  # Decoding HTML entities\n",
        "    return ''.join(x for x in unicodedata.normalize('NFD', decoded_text) if unicodedata.category(x) != 'Mn')\n",
        "\n",
        "# Removes stopwords\n",
        "def remove_stopwords(text):\n",
        "    return ' '.join(x for x in word_tokenize(text) if x not in english_stopwords)\n",
        "\n",
        "# Removes BOM Unicode\n",
        "def remove_bom(text):\n",
        "    return text.replace('\\ufeff', '')\n",
        "\n",
        "# Remove excess whitespace\n",
        "def remove_xtra(text):\n",
        "    return ' '.join(text.split()).strip()\n",
        "\n",
        "# Process the data by making all text lowercase, removing puncuation, removing stopwords, and converting to ascii\n",
        "def process_data(data):\n",
        "    data['text'] = data['text'].apply(to_lower)\n",
        "    data['text'] = data['text'].apply(to_ascii)\n",
        "    data['text'] = data['text'].apply(remove_punc)\n",
        "    data['text'] = data['text'].apply(remove_stopwords)\n",
        "    data['text'] = data['text'].apply(remove_bom)\n",
        "    data['text'] = data['text'].apply(remove_xtra)\n",
        "    return data"
      ]
    },
    {
      "cell_type": "markdown",
      "metadata": {
        "id": "rIheIDNvaY_d"
      },
      "source": [
        "### GloVe embeddings"
      ]
    },
    {
      "cell_type": "code",
      "execution_count": null,
      "metadata": {
        "id": "Bm-j3263aoUE"
      },
      "outputs": [],
      "source": [
        "# Create a full dataset wrapper. This will return a dictionary of 3 items:\n",
        "#   1. glove_embeddings:    The embedding vectors for the sentence, padded to the max length.\n",
        "#   2. input_mask:          A tensor that denotes the start idx of the padded part of the sequence\n",
        "#   3. labels:              A single-element tensor denoting the class.\n",
        "#\n",
        "# Creating such an object this way will allow us to utilize DISTIL's interfaces without issue and will also be compatible with the model defined above.\n",
        "class FullDatasetWrapper(Dataset):\n",
        "\n",
        "    # Here's how we can get embeddings for each sentence. This will create a list of tensors, which will have varying sizes.\n",
        "    # We will need to pad each tensor for batching, so we will also need to keep track of the actual final token in each batch so that we do not compute on padded input.\n",
        "    def __init__(self, datalist, labels):\n",
        "        self.glove_embeddings   = [glove_vectorizer.get_vecs_by_tokens(glove_tokenizer(data_text), lower_case_backup=True) for data_text in datalist] # Convert text into glove embeddings\n",
        "        self.labels             = torch.tensor(labels)\n",
        "        self.pad_length         = max([glove_embedding.shape[0] for glove_embedding in self.glove_embeddings]) # Max sequence length\n",
        "\n",
        "\n",
        "    def __init__(self, dataframe):\n",
        "        self.glove_embeddings = []\n",
        "        valid_labels = []\n",
        "        for ind in dataframe.index:\n",
        "            data_text, data_label = dataframe['text'][ind], dataframe['labels'][ind]\n",
        "            tokens = glove_tokenizer(data_text)\n",
        "            if not tokens:   # Check if token list is empty\n",
        "                # print(f\"Warning: No tokens for text: {data_text}\")\n",
        "                continue\n",
        "            glove_embedding = glove_vectorizer.get_vecs_by_tokens(tokens, lower_case_backup=True)\n",
        "            if glove_embedding.shape[0] == 0:  # Check if no embeddings found\n",
        "                # print(f\"Warning: No embeddings for tokens: {tokens} in text: {data_text}\")\n",
        "                continue\n",
        "            self.glove_embeddings.append(glove_embedding)\n",
        "            valid_labels.append(data_label)\n",
        "        self.labels             = torch.tensor(valid_labels)\n",
        "        self.pad_length         = max([glove_embedding.shape[0] for glove_embedding in self.glove_embeddings]) # Max sequence length\n",
        "\n",
        "    def __getitem__(self, index):\n",
        "        glove_embedding                                     = self.glove_embeddings[index]                              # Get the glove embeddings for sentence\n",
        "        padded_glove_embedding                              = torch.zeros(self.pad_length, glove_embedding.shape[1])    # Create a padded tensor of zeros to hold them\n",
        "        padded_glove_embedding[:glove_embedding.shape[0]]   = glove_embedding                                           # Populate the front of the tensor w/ glove embeddings\n",
        "        input_mask                                          = torch.tensor(glove_embedding.shape[0])                    # Create a single-element tensor denoting index to start ignoring hidden states\n",
        "        label                                               = self.labels[index]                                        # Get the label and form the dictionary.\n",
        "        item_dict                                           =   {\"glove_embeddings\":    padded_glove_embedding,\n",
        "                                                                \"input_mask\":           input_mask,\n",
        "                                                                \"labels\":               label}\n",
        "        return item_dict\n",
        "\n",
        "    def __len__(self):\n",
        "        return len(self.glove_embeddings)"
      ]
    },
    {
      "cell_type": "markdown",
      "metadata": {
        "id": "ROvvhM8Whd4o"
      },
      "source": [
        "### AL Label Removal"
      ]
    },
    {
      "cell_type": "code",
      "execution_count": null,
      "metadata": {
        "id": "iCtFW7fohjw0"
      },
      "outputs": [],
      "source": [
        "class Labeled_to_unlabel(Dataset):\n",
        "\n",
        "  def __init__(self, wrapped_dataset):\n",
        "        self.wrapped_dataset = wrapped_dataset\n",
        "        # give the words here\n",
        "\n",
        "  def __getitem__(self, index):\n",
        "\n",
        "        #label = self.wrapped_dataset[index]['labels']\n",
        "        data = {key:self.wrapped_dataset[index][key] for key in self.wrapped_dataset[index] if key != 'labels'}\n",
        "\n",
        "        #data = self.wrapped_dataset[index]\n",
        "        return data\n",
        "\n",
        "  def __len__(self):\n",
        "        return len(self.wrapped_dataset)"
      ]
    },
    {
      "cell_type": "markdown",
      "metadata": {
        "id": "aJUIrkiwbNAJ"
      },
      "source": [
        "## Data split and sampling"
      ]
    },
    {
      "cell_type": "code",
      "execution_count": null,
      "metadata": {
        "id": "-0d_nVM8bbB9"
      },
      "outputs": [],
      "source": [
        "seed_values = [42, 96, 35, 52, 11, 87, 26, 75, 60, 49]"
      ]
    },
    {
      "cell_type": "markdown",
      "metadata": {
        "id": "cLc3McIUbVOY"
      },
      "source": [
        "#### *Use Ctrl+F10 from here for experiment re-runs (after changing exp_num)*"
      ]
    },
    {
      "cell_type": "code",
      "execution_count": null,
      "metadata": {
        "id": "0H4lGCaObPR_"
      },
      "outputs": [],
      "source": [
        "exp_num = 10 # CHANGE ME"
      ]
    },
    {
      "cell_type": "code",
      "execution_count": null,
      "metadata": {
        "colab": {
          "base_uri": "https://localhost:8080/"
        },
        "id": "X6P8wMuxbdrv",
        "outputId": "7941b23d-36cf-4441-8606-ed8b3d084872"
      },
      "outputs": [
        {
          "output_type": "stream",
          "name": "stdout",
          "text": [
            "Experiment number: 10 \tSeed value = 49\n"
          ]
        }
      ],
      "source": [
        "# DEFINE RAND_STATE FOR EXPERIMENT RUN\n",
        "RAND_STATE = seed_values[exp_num-1]\n",
        "print('Experiment number: {} \\tSeed value = {}'.format(exp_num, RAND_STATE))\n",
        "with open('logs.txt', 'a') as logfile:\n",
        "    logfile.write('\\n\\nExperiment number: {} \\tSeed value = {}  [SMS Data]\\n'.format(exp_num, RAND_STATE))"
      ]
    },
    {
      "cell_type": "markdown",
      "metadata": {
        "id": "1vRNZJD-bwEa"
      },
      "source": [
        "### Create test-train split"
      ]
    },
    {
      "cell_type": "code",
      "execution_count": null,
      "metadata": {
        "id": "z2YgHAOhby9O"
      },
      "outputs": [],
      "source": [
        "# Separate the dataset into two based on the labels\n",
        "df_0 = binary_df[binary_df['labels'] == 0]\n",
        "df_1 = binary_df[binary_df['labels'] == 1]\n",
        "\n",
        "# Specify the features (X) and target (y) columns\n",
        "X_0, y_0 = df_0['text'], df_0['labels']\n",
        "X_1, y_1 = df_1['text'], df_1['labels']\n",
        "\n",
        "# Perform the train-test split while varying the class distribution\n",
        "X_train_0, X_test_0, y_train_0, y_test_0 = train_test_split(X_0, y_0, test_size=0.1, random_state=RAND_STATE, stratify=y_0)\n",
        "X_train_1, X_test_1, y_train_1, y_test_1 = train_test_split(X_1, y_1, test_size=0.67, random_state=RAND_STATE, stratify=y_1)\n",
        "\n",
        "# Concatenate the train parts and test parts\n",
        "X_train = pd.concat([X_train_0, X_train_1])\n",
        "y_train = pd.concat([y_train_0, y_train_1])\n",
        "X_test = pd.concat([X_test_0, X_test_1])\n",
        "y_test = pd.concat([y_test_0, y_test_1])\n",
        "\n",
        "# Create the train_df and test_df DataFrames\n",
        "train_df = pd.concat([X_train, y_train], axis=1)\n",
        "test_df = pd.concat([X_test, y_test], axis=1)\n",
        "\n",
        "# Shuffle the train and test dataframes\n",
        "train_df = train_df.sample(frac=1, random_state=RAND_STATE).reset_index(drop=True)\n",
        "test_df = test_df.sample(frac=1, random_state=RAND_STATE).reset_index(drop=True)"
      ]
    },
    {
      "cell_type": "markdown",
      "metadata": {
        "id": "rL_GuBDJDp3i"
      },
      "source": [
        "### Find data distribution and calculate imbalance factor"
      ]
    },
    {
      "cell_type": "code",
      "execution_count": null,
      "metadata": {
        "id": "M_N2mOYMDse2",
        "colab": {
          "base_uri": "https://localhost:8080/"
        },
        "outputId": "ef02f92a-7938-4842-85e6-d8ea39cf185a"
      },
      "outputs": [
        {
          "output_type": "stream",
          "name": "stdout",
          "text": [
            "\t  Ham   Spam\n",
            "Training  4312   234\n",
            "Testing    480   476\n"
          ]
        }
      ],
      "source": [
        "print('\\t  Ham   Spam')\n",
        "train_class_counts = train_df['labels'].value_counts()\n",
        "print('Training ', train_class_counts[0], ' ', train_class_counts[1])\n",
        "test_class_counts = test_df['labels'].value_counts()\n",
        "print('Testing   ', test_class_counts[0], ' ', test_class_counts[1])"
      ]
    },
    {
      "cell_type": "code",
      "execution_count": null,
      "metadata": {
        "colab": {
          "base_uri": "https://localhost:8080/"
        },
        "id": "jVx6boCIcXI7",
        "outputId": "c4f07759-8af1-4745-e1d4-fb9253ca6407"
      },
      "outputs": [
        {
          "output_type": "stream",
          "name": "stdout",
          "text": [
            "Rare class to majority class ratio ~ 1 : 18\n"
          ]
        }
      ],
      "source": [
        "print(\"Rare class to majority class ratio ~ 1 :\", round(train_class_counts[0]/train_class_counts[1]))"
      ]
    },
    {
      "cell_type": "code",
      "execution_count": null,
      "metadata": {
        "colab": {
          "base_uri": "https://localhost:8080/"
        },
        "id": "P7eMzCTqRtU-",
        "outputId": "c93b17ab-9213-42c1-e51b-503b115d3349"
      },
      "outputs": [
        {
          "output_type": "stream",
          "name": "stdout",
          "text": [
            "Effective test-train split = 17:83\n"
          ]
        }
      ],
      "source": [
        "a, b = len(test_df), len(train_df)\n",
        "print(\"Effective test-train split = {}:{}\".format(round((100*a)/(a+b)), round((100*b)/(a+b))))"
      ]
    },
    {
      "cell_type": "markdown",
      "metadata": {
        "id": "iPP3o_W1c9eR"
      },
      "source": [
        "### Create query set"
      ]
    },
    {
      "cell_type": "code",
      "execution_count": null,
      "metadata": {
        "id": "bK6osYCsdBJL"
      },
      "outputs": [],
      "source": [
        "# List of commonly found phrases in sms spam messages\n",
        "freq_sms_spam_phrases = [\n",
        "    \"Click this link to claim your cash prize\",\n",
        "    \"Confirm your account details to continue using our service\",\n",
        "    \"Congratulations! You've won a free trial\",\n",
        "    \"Earn money quickly\", \"Exclusive discount code inside\",\n",
        "    \"Free gift awaiting you\", \"Get paid to work from home\",\n",
        "    \"Important security notice\", \"Problem with your payment method\",\n",
        "    \"Special limited-time offer\", \"Suspicious activity detected\",\n",
        "    \"To stop receiving these messages, click here\",\n",
        "    \"Unclaimed money in your name\",\n",
        "    \"Urgent action required to receive your package\",\n",
        "    \"Veryify your email and password immediately\",\n",
        "    \"Warning: Your account will be deactivated\",\n",
        "    \"You are eligible for a refund\", \"You have an unpaid bill\",\n",
        "    \"You're our lucky shopper today\",\n",
        "    \"You've been selected for an exclusive offer\",\n",
        "    \"Your account has been temporarily locked\",\n",
        "    \"Your order is ready for pickup\",\n",
        "    \"Your subscription is about to expire\",\n",
        "    \"Your trial period is ending\", \"Your warranty is expired\"\n",
        "]\n",
        "query_set_size = len(freq_sms_spam_phrases)\n",
        "query_data = pd.DataFrame({\n",
        "    'text':freq_sms_spam_phrases, 'labels': [1]*query_set_size\n",
        "})"
      ]
    },
    {
      "cell_type": "markdown",
      "metadata": {
        "id": "7_IZsUoVcxUe"
      },
      "source": [
        "## Apply pre-processing"
      ]
    },
    {
      "cell_type": "markdown",
      "metadata": {
        "id": "CzU5J00Ef4HV"
      },
      "source": [
        "### Apply text processing"
      ]
    },
    {
      "cell_type": "code",
      "execution_count": null,
      "metadata": {
        "colab": {
          "base_uri": "https://localhost:8080/",
          "height": 206
        },
        "id": "BBZTt-U4dyJK",
        "outputId": "4e50918d-dd4a-4709-aa42-59c91ac496c8"
      },
      "outputs": [
        {
          "output_type": "execute_result",
          "data": {
            "text/plain": [
              "                                                text labels\n",
              "0                                      aight see bit      0\n",
              "1  yup shd haf ard 10 pages add figures got many ...      0\n",
              "2  ah poop looks like ill prob send laptop get fi...      0\n",
              "3                                        true easier      0\n",
              "4  got call landline number asked come anna nagar...      0"
            ],
            "text/html": [
              "\n",
              "  <div id=\"df-0e9c971f-d46e-4586-82dc-088a63a906cf\" class=\"colab-df-container\">\n",
              "    <div>\n",
              "<style scoped>\n",
              "    .dataframe tbody tr th:only-of-type {\n",
              "        vertical-align: middle;\n",
              "    }\n",
              "\n",
              "    .dataframe tbody tr th {\n",
              "        vertical-align: top;\n",
              "    }\n",
              "\n",
              "    .dataframe thead th {\n",
              "        text-align: right;\n",
              "    }\n",
              "</style>\n",
              "<table border=\"1\" class=\"dataframe\">\n",
              "  <thead>\n",
              "    <tr style=\"text-align: right;\">\n",
              "      <th></th>\n",
              "      <th>text</th>\n",
              "      <th>labels</th>\n",
              "    </tr>\n",
              "  </thead>\n",
              "  <tbody>\n",
              "    <tr>\n",
              "      <th>0</th>\n",
              "      <td>aight see bit</td>\n",
              "      <td>0</td>\n",
              "    </tr>\n",
              "    <tr>\n",
              "      <th>1</th>\n",
              "      <td>yup shd haf ard 10 pages add figures got many ...</td>\n",
              "      <td>0</td>\n",
              "    </tr>\n",
              "    <tr>\n",
              "      <th>2</th>\n",
              "      <td>ah poop looks like ill prob send laptop get fi...</td>\n",
              "      <td>0</td>\n",
              "    </tr>\n",
              "    <tr>\n",
              "      <th>3</th>\n",
              "      <td>true easier</td>\n",
              "      <td>0</td>\n",
              "    </tr>\n",
              "    <tr>\n",
              "      <th>4</th>\n",
              "      <td>got call landline number asked come anna nagar...</td>\n",
              "      <td>0</td>\n",
              "    </tr>\n",
              "  </tbody>\n",
              "</table>\n",
              "</div>\n",
              "    <div class=\"colab-df-buttons\">\n",
              "\n",
              "  <div class=\"colab-df-container\">\n",
              "    <button class=\"colab-df-convert\" onclick=\"convertToInteractive('df-0e9c971f-d46e-4586-82dc-088a63a906cf')\"\n",
              "            title=\"Convert this dataframe to an interactive table.\"\n",
              "            style=\"display:none;\">\n",
              "\n",
              "  <svg xmlns=\"http://www.w3.org/2000/svg\" height=\"24px\" viewBox=\"0 -960 960 960\">\n",
              "    <path d=\"M120-120v-720h720v720H120Zm60-500h600v-160H180v160Zm220 220h160v-160H400v160Zm0 220h160v-160H400v160ZM180-400h160v-160H180v160Zm440 0h160v-160H620v160ZM180-180h160v-160H180v160Zm440 0h160v-160H620v160Z\"/>\n",
              "  </svg>\n",
              "    </button>\n",
              "\n",
              "  <style>\n",
              "    .colab-df-container {\n",
              "      display:flex;\n",
              "      gap: 12px;\n",
              "    }\n",
              "\n",
              "    .colab-df-convert {\n",
              "      background-color: #E8F0FE;\n",
              "      border: none;\n",
              "      border-radius: 50%;\n",
              "      cursor: pointer;\n",
              "      display: none;\n",
              "      fill: #1967D2;\n",
              "      height: 32px;\n",
              "      padding: 0 0 0 0;\n",
              "      width: 32px;\n",
              "    }\n",
              "\n",
              "    .colab-df-convert:hover {\n",
              "      background-color: #E2EBFA;\n",
              "      box-shadow: 0px 1px 2px rgba(60, 64, 67, 0.3), 0px 1px 3px 1px rgba(60, 64, 67, 0.15);\n",
              "      fill: #174EA6;\n",
              "    }\n",
              "\n",
              "    .colab-df-buttons div {\n",
              "      margin-bottom: 4px;\n",
              "    }\n",
              "\n",
              "    [theme=dark] .colab-df-convert {\n",
              "      background-color: #3B4455;\n",
              "      fill: #D2E3FC;\n",
              "    }\n",
              "\n",
              "    [theme=dark] .colab-df-convert:hover {\n",
              "      background-color: #434B5C;\n",
              "      box-shadow: 0px 1px 3px 1px rgba(0, 0, 0, 0.15);\n",
              "      filter: drop-shadow(0px 1px 2px rgba(0, 0, 0, 0.3));\n",
              "      fill: #FFFFFF;\n",
              "    }\n",
              "  </style>\n",
              "\n",
              "    <script>\n",
              "      const buttonEl =\n",
              "        document.querySelector('#df-0e9c971f-d46e-4586-82dc-088a63a906cf button.colab-df-convert');\n",
              "      buttonEl.style.display =\n",
              "        google.colab.kernel.accessAllowed ? 'block' : 'none';\n",
              "\n",
              "      async function convertToInteractive(key) {\n",
              "        const element = document.querySelector('#df-0e9c971f-d46e-4586-82dc-088a63a906cf');\n",
              "        const dataTable =\n",
              "          await google.colab.kernel.invokeFunction('convertToInteractive',\n",
              "                                                    [key], {});\n",
              "        if (!dataTable) return;\n",
              "\n",
              "        const docLinkHtml = 'Like what you see? Visit the ' +\n",
              "          '<a target=\"_blank\" href=https://colab.research.google.com/notebooks/data_table.ipynb>data table notebook</a>'\n",
              "          + ' to learn more about interactive tables.';\n",
              "        element.innerHTML = '';\n",
              "        dataTable['output_type'] = 'display_data';\n",
              "        await google.colab.output.renderOutput(dataTable, element);\n",
              "        const docLink = document.createElement('div');\n",
              "        docLink.innerHTML = docLinkHtml;\n",
              "        element.appendChild(docLink);\n",
              "      }\n",
              "    </script>\n",
              "  </div>\n",
              "\n",
              "\n",
              "<div id=\"df-e7798650-c1dc-4e81-9c0d-eed3ebe440f1\">\n",
              "  <button class=\"colab-df-quickchart\" onclick=\"quickchart('df-e7798650-c1dc-4e81-9c0d-eed3ebe440f1')\"\n",
              "            title=\"Suggest charts\"\n",
              "            style=\"display:none;\">\n",
              "\n",
              "<svg xmlns=\"http://www.w3.org/2000/svg\" height=\"24px\"viewBox=\"0 0 24 24\"\n",
              "     width=\"24px\">\n",
              "    <g>\n",
              "        <path d=\"M19 3H5c-1.1 0-2 .9-2 2v14c0 1.1.9 2 2 2h14c1.1 0 2-.9 2-2V5c0-1.1-.9-2-2-2zM9 17H7v-7h2v7zm4 0h-2V7h2v10zm4 0h-2v-4h2v4z\"/>\n",
              "    </g>\n",
              "</svg>\n",
              "  </button>\n",
              "\n",
              "<style>\n",
              "  .colab-df-quickchart {\n",
              "      --bg-color: #E8F0FE;\n",
              "      --fill-color: #1967D2;\n",
              "      --hover-bg-color: #E2EBFA;\n",
              "      --hover-fill-color: #174EA6;\n",
              "      --disabled-fill-color: #AAA;\n",
              "      --disabled-bg-color: #DDD;\n",
              "  }\n",
              "\n",
              "  [theme=dark] .colab-df-quickchart {\n",
              "      --bg-color: #3B4455;\n",
              "      --fill-color: #D2E3FC;\n",
              "      --hover-bg-color: #434B5C;\n",
              "      --hover-fill-color: #FFFFFF;\n",
              "      --disabled-bg-color: #3B4455;\n",
              "      --disabled-fill-color: #666;\n",
              "  }\n",
              "\n",
              "  .colab-df-quickchart {\n",
              "    background-color: var(--bg-color);\n",
              "    border: none;\n",
              "    border-radius: 50%;\n",
              "    cursor: pointer;\n",
              "    display: none;\n",
              "    fill: var(--fill-color);\n",
              "    height: 32px;\n",
              "    padding: 0;\n",
              "    width: 32px;\n",
              "  }\n",
              "\n",
              "  .colab-df-quickchart:hover {\n",
              "    background-color: var(--hover-bg-color);\n",
              "    box-shadow: 0 1px 2px rgba(60, 64, 67, 0.3), 0 1px 3px 1px rgba(60, 64, 67, 0.15);\n",
              "    fill: var(--button-hover-fill-color);\n",
              "  }\n",
              "\n",
              "  .colab-df-quickchart-complete:disabled,\n",
              "  .colab-df-quickchart-complete:disabled:hover {\n",
              "    background-color: var(--disabled-bg-color);\n",
              "    fill: var(--disabled-fill-color);\n",
              "    box-shadow: none;\n",
              "  }\n",
              "\n",
              "  .colab-df-spinner {\n",
              "    border: 2px solid var(--fill-color);\n",
              "    border-color: transparent;\n",
              "    border-bottom-color: var(--fill-color);\n",
              "    animation:\n",
              "      spin 1s steps(1) infinite;\n",
              "  }\n",
              "\n",
              "  @keyframes spin {\n",
              "    0% {\n",
              "      border-color: transparent;\n",
              "      border-bottom-color: var(--fill-color);\n",
              "      border-left-color: var(--fill-color);\n",
              "    }\n",
              "    20% {\n",
              "      border-color: transparent;\n",
              "      border-left-color: var(--fill-color);\n",
              "      border-top-color: var(--fill-color);\n",
              "    }\n",
              "    30% {\n",
              "      border-color: transparent;\n",
              "      border-left-color: var(--fill-color);\n",
              "      border-top-color: var(--fill-color);\n",
              "      border-right-color: var(--fill-color);\n",
              "    }\n",
              "    40% {\n",
              "      border-color: transparent;\n",
              "      border-right-color: var(--fill-color);\n",
              "      border-top-color: var(--fill-color);\n",
              "    }\n",
              "    60% {\n",
              "      border-color: transparent;\n",
              "      border-right-color: var(--fill-color);\n",
              "    }\n",
              "    80% {\n",
              "      border-color: transparent;\n",
              "      border-right-color: var(--fill-color);\n",
              "      border-bottom-color: var(--fill-color);\n",
              "    }\n",
              "    90% {\n",
              "      border-color: transparent;\n",
              "      border-bottom-color: var(--fill-color);\n",
              "    }\n",
              "  }\n",
              "</style>\n",
              "\n",
              "  <script>\n",
              "    async function quickchart(key) {\n",
              "      const quickchartButtonEl =\n",
              "        document.querySelector('#' + key + ' button');\n",
              "      quickchartButtonEl.disabled = true;  // To prevent multiple clicks.\n",
              "      quickchartButtonEl.classList.add('colab-df-spinner');\n",
              "      try {\n",
              "        const charts = await google.colab.kernel.invokeFunction(\n",
              "            'suggestCharts', [key], {});\n",
              "      } catch (error) {\n",
              "        console.error('Error during call to suggestCharts:', error);\n",
              "      }\n",
              "      quickchartButtonEl.classList.remove('colab-df-spinner');\n",
              "      quickchartButtonEl.classList.add('colab-df-quickchart-complete');\n",
              "    }\n",
              "    (() => {\n",
              "      let quickchartButtonEl =\n",
              "        document.querySelector('#df-e7798650-c1dc-4e81-9c0d-eed3ebe440f1 button');\n",
              "      quickchartButtonEl.style.display =\n",
              "        google.colab.kernel.accessAllowed ? 'block' : 'none';\n",
              "    })();\n",
              "  </script>\n",
              "</div>\n",
              "    </div>\n",
              "  </div>\n"
            ]
          },
          "metadata": {},
          "execution_count": 1274
        }
      ],
      "source": [
        "train_processed_df = process_data(train_df)\n",
        "# train_processed_df.iloc[10:25]\n",
        "train_processed_df.head()"
      ]
    },
    {
      "cell_type": "code",
      "execution_count": null,
      "metadata": {
        "colab": {
          "base_uri": "https://localhost:8080/",
          "height": 206
        },
        "id": "YoHKdx04e1EF",
        "outputId": "4bec08ea-ff0f-4fa3-95e8-265208708457"
      },
      "outputs": [
        {
          "output_type": "execute_result",
          "data": {
            "text/plain": [
              "                                             text  labels\n",
              "0                     click link claim cash prize       1\n",
              "1  confirm account details continue using service       1\n",
              "2                      congratulations free trial       1\n",
              "3                              earn money quickly       1\n",
              "4                  exclusive discount code inside       1"
            ],
            "text/html": [
              "\n",
              "  <div id=\"df-7b79f044-bba5-4cee-94eb-e44428941847\" class=\"colab-df-container\">\n",
              "    <div>\n",
              "<style scoped>\n",
              "    .dataframe tbody tr th:only-of-type {\n",
              "        vertical-align: middle;\n",
              "    }\n",
              "\n",
              "    .dataframe tbody tr th {\n",
              "        vertical-align: top;\n",
              "    }\n",
              "\n",
              "    .dataframe thead th {\n",
              "        text-align: right;\n",
              "    }\n",
              "</style>\n",
              "<table border=\"1\" class=\"dataframe\">\n",
              "  <thead>\n",
              "    <tr style=\"text-align: right;\">\n",
              "      <th></th>\n",
              "      <th>text</th>\n",
              "      <th>labels</th>\n",
              "    </tr>\n",
              "  </thead>\n",
              "  <tbody>\n",
              "    <tr>\n",
              "      <th>0</th>\n",
              "      <td>click link claim cash prize</td>\n",
              "      <td>1</td>\n",
              "    </tr>\n",
              "    <tr>\n",
              "      <th>1</th>\n",
              "      <td>confirm account details continue using service</td>\n",
              "      <td>1</td>\n",
              "    </tr>\n",
              "    <tr>\n",
              "      <th>2</th>\n",
              "      <td>congratulations free trial</td>\n",
              "      <td>1</td>\n",
              "    </tr>\n",
              "    <tr>\n",
              "      <th>3</th>\n",
              "      <td>earn money quickly</td>\n",
              "      <td>1</td>\n",
              "    </tr>\n",
              "    <tr>\n",
              "      <th>4</th>\n",
              "      <td>exclusive discount code inside</td>\n",
              "      <td>1</td>\n",
              "    </tr>\n",
              "  </tbody>\n",
              "</table>\n",
              "</div>\n",
              "    <div class=\"colab-df-buttons\">\n",
              "\n",
              "  <div class=\"colab-df-container\">\n",
              "    <button class=\"colab-df-convert\" onclick=\"convertToInteractive('df-7b79f044-bba5-4cee-94eb-e44428941847')\"\n",
              "            title=\"Convert this dataframe to an interactive table.\"\n",
              "            style=\"display:none;\">\n",
              "\n",
              "  <svg xmlns=\"http://www.w3.org/2000/svg\" height=\"24px\" viewBox=\"0 -960 960 960\">\n",
              "    <path d=\"M120-120v-720h720v720H120Zm60-500h600v-160H180v160Zm220 220h160v-160H400v160Zm0 220h160v-160H400v160ZM180-400h160v-160H180v160Zm440 0h160v-160H620v160ZM180-180h160v-160H180v160Zm440 0h160v-160H620v160Z\"/>\n",
              "  </svg>\n",
              "    </button>\n",
              "\n",
              "  <style>\n",
              "    .colab-df-container {\n",
              "      display:flex;\n",
              "      gap: 12px;\n",
              "    }\n",
              "\n",
              "    .colab-df-convert {\n",
              "      background-color: #E8F0FE;\n",
              "      border: none;\n",
              "      border-radius: 50%;\n",
              "      cursor: pointer;\n",
              "      display: none;\n",
              "      fill: #1967D2;\n",
              "      height: 32px;\n",
              "      padding: 0 0 0 0;\n",
              "      width: 32px;\n",
              "    }\n",
              "\n",
              "    .colab-df-convert:hover {\n",
              "      background-color: #E2EBFA;\n",
              "      box-shadow: 0px 1px 2px rgba(60, 64, 67, 0.3), 0px 1px 3px 1px rgba(60, 64, 67, 0.15);\n",
              "      fill: #174EA6;\n",
              "    }\n",
              "\n",
              "    .colab-df-buttons div {\n",
              "      margin-bottom: 4px;\n",
              "    }\n",
              "\n",
              "    [theme=dark] .colab-df-convert {\n",
              "      background-color: #3B4455;\n",
              "      fill: #D2E3FC;\n",
              "    }\n",
              "\n",
              "    [theme=dark] .colab-df-convert:hover {\n",
              "      background-color: #434B5C;\n",
              "      box-shadow: 0px 1px 3px 1px rgba(0, 0, 0, 0.15);\n",
              "      filter: drop-shadow(0px 1px 2px rgba(0, 0, 0, 0.3));\n",
              "      fill: #FFFFFF;\n",
              "    }\n",
              "  </style>\n",
              "\n",
              "    <script>\n",
              "      const buttonEl =\n",
              "        document.querySelector('#df-7b79f044-bba5-4cee-94eb-e44428941847 button.colab-df-convert');\n",
              "      buttonEl.style.display =\n",
              "        google.colab.kernel.accessAllowed ? 'block' : 'none';\n",
              "\n",
              "      async function convertToInteractive(key) {\n",
              "        const element = document.querySelector('#df-7b79f044-bba5-4cee-94eb-e44428941847');\n",
              "        const dataTable =\n",
              "          await google.colab.kernel.invokeFunction('convertToInteractive',\n",
              "                                                    [key], {});\n",
              "        if (!dataTable) return;\n",
              "\n",
              "        const docLinkHtml = 'Like what you see? Visit the ' +\n",
              "          '<a target=\"_blank\" href=https://colab.research.google.com/notebooks/data_table.ipynb>data table notebook</a>'\n",
              "          + ' to learn more about interactive tables.';\n",
              "        element.innerHTML = '';\n",
              "        dataTable['output_type'] = 'display_data';\n",
              "        await google.colab.output.renderOutput(dataTable, element);\n",
              "        const docLink = document.createElement('div');\n",
              "        docLink.innerHTML = docLinkHtml;\n",
              "        element.appendChild(docLink);\n",
              "      }\n",
              "    </script>\n",
              "  </div>\n",
              "\n",
              "\n",
              "<div id=\"df-2cf45c27-1e57-4910-b2f1-87f7d955f966\">\n",
              "  <button class=\"colab-df-quickchart\" onclick=\"quickchart('df-2cf45c27-1e57-4910-b2f1-87f7d955f966')\"\n",
              "            title=\"Suggest charts\"\n",
              "            style=\"display:none;\">\n",
              "\n",
              "<svg xmlns=\"http://www.w3.org/2000/svg\" height=\"24px\"viewBox=\"0 0 24 24\"\n",
              "     width=\"24px\">\n",
              "    <g>\n",
              "        <path d=\"M19 3H5c-1.1 0-2 .9-2 2v14c0 1.1.9 2 2 2h14c1.1 0 2-.9 2-2V5c0-1.1-.9-2-2-2zM9 17H7v-7h2v7zm4 0h-2V7h2v10zm4 0h-2v-4h2v4z\"/>\n",
              "    </g>\n",
              "</svg>\n",
              "  </button>\n",
              "\n",
              "<style>\n",
              "  .colab-df-quickchart {\n",
              "      --bg-color: #E8F0FE;\n",
              "      --fill-color: #1967D2;\n",
              "      --hover-bg-color: #E2EBFA;\n",
              "      --hover-fill-color: #174EA6;\n",
              "      --disabled-fill-color: #AAA;\n",
              "      --disabled-bg-color: #DDD;\n",
              "  }\n",
              "\n",
              "  [theme=dark] .colab-df-quickchart {\n",
              "      --bg-color: #3B4455;\n",
              "      --fill-color: #D2E3FC;\n",
              "      --hover-bg-color: #434B5C;\n",
              "      --hover-fill-color: #FFFFFF;\n",
              "      --disabled-bg-color: #3B4455;\n",
              "      --disabled-fill-color: #666;\n",
              "  }\n",
              "\n",
              "  .colab-df-quickchart {\n",
              "    background-color: var(--bg-color);\n",
              "    border: none;\n",
              "    border-radius: 50%;\n",
              "    cursor: pointer;\n",
              "    display: none;\n",
              "    fill: var(--fill-color);\n",
              "    height: 32px;\n",
              "    padding: 0;\n",
              "    width: 32px;\n",
              "  }\n",
              "\n",
              "  .colab-df-quickchart:hover {\n",
              "    background-color: var(--hover-bg-color);\n",
              "    box-shadow: 0 1px 2px rgba(60, 64, 67, 0.3), 0 1px 3px 1px rgba(60, 64, 67, 0.15);\n",
              "    fill: var(--button-hover-fill-color);\n",
              "  }\n",
              "\n",
              "  .colab-df-quickchart-complete:disabled,\n",
              "  .colab-df-quickchart-complete:disabled:hover {\n",
              "    background-color: var(--disabled-bg-color);\n",
              "    fill: var(--disabled-fill-color);\n",
              "    box-shadow: none;\n",
              "  }\n",
              "\n",
              "  .colab-df-spinner {\n",
              "    border: 2px solid var(--fill-color);\n",
              "    border-color: transparent;\n",
              "    border-bottom-color: var(--fill-color);\n",
              "    animation:\n",
              "      spin 1s steps(1) infinite;\n",
              "  }\n",
              "\n",
              "  @keyframes spin {\n",
              "    0% {\n",
              "      border-color: transparent;\n",
              "      border-bottom-color: var(--fill-color);\n",
              "      border-left-color: var(--fill-color);\n",
              "    }\n",
              "    20% {\n",
              "      border-color: transparent;\n",
              "      border-left-color: var(--fill-color);\n",
              "      border-top-color: var(--fill-color);\n",
              "    }\n",
              "    30% {\n",
              "      border-color: transparent;\n",
              "      border-left-color: var(--fill-color);\n",
              "      border-top-color: var(--fill-color);\n",
              "      border-right-color: var(--fill-color);\n",
              "    }\n",
              "    40% {\n",
              "      border-color: transparent;\n",
              "      border-right-color: var(--fill-color);\n",
              "      border-top-color: var(--fill-color);\n",
              "    }\n",
              "    60% {\n",
              "      border-color: transparent;\n",
              "      border-right-color: var(--fill-color);\n",
              "    }\n",
              "    80% {\n",
              "      border-color: transparent;\n",
              "      border-right-color: var(--fill-color);\n",
              "      border-bottom-color: var(--fill-color);\n",
              "    }\n",
              "    90% {\n",
              "      border-color: transparent;\n",
              "      border-bottom-color: var(--fill-color);\n",
              "    }\n",
              "  }\n",
              "</style>\n",
              "\n",
              "  <script>\n",
              "    async function quickchart(key) {\n",
              "      const quickchartButtonEl =\n",
              "        document.querySelector('#' + key + ' button');\n",
              "      quickchartButtonEl.disabled = true;  // To prevent multiple clicks.\n",
              "      quickchartButtonEl.classList.add('colab-df-spinner');\n",
              "      try {\n",
              "        const charts = await google.colab.kernel.invokeFunction(\n",
              "            'suggestCharts', [key], {});\n",
              "      } catch (error) {\n",
              "        console.error('Error during call to suggestCharts:', error);\n",
              "      }\n",
              "      quickchartButtonEl.classList.remove('colab-df-spinner');\n",
              "      quickchartButtonEl.classList.add('colab-df-quickchart-complete');\n",
              "    }\n",
              "    (() => {\n",
              "      let quickchartButtonEl =\n",
              "        document.querySelector('#df-2cf45c27-1e57-4910-b2f1-87f7d955f966 button');\n",
              "      quickchartButtonEl.style.display =\n",
              "        google.colab.kernel.accessAllowed ? 'block' : 'none';\n",
              "    })();\n",
              "  </script>\n",
              "</div>\n",
              "    </div>\n",
              "  </div>\n"
            ]
          },
          "metadata": {},
          "execution_count": 1275
        }
      ],
      "source": [
        "query_df = process_data(query_data)\n",
        "query_df.head()"
      ]
    },
    {
      "cell_type": "code",
      "execution_count": null,
      "metadata": {
        "id": "04evjw7xe0M5"
      },
      "outputs": [],
      "source": [
        "test_df = process_data(test_df)"
      ]
    },
    {
      "cell_type": "markdown",
      "metadata": {
        "id": "6k9MK5wuf69Q"
      },
      "source": [
        "### Get dataset with embeddings"
      ]
    },
    {
      "cell_type": "code",
      "execution_count": null,
      "metadata": {
        "id": "_T1WW59QgFIt"
      },
      "outputs": [],
      "source": [
        "# GloVe Embeddings for Training Dataset\n",
        "training_dataset = FullDatasetWrapper(train_processed_df)\n",
        "# GloVe Embeddings for Query Datas\n",
        "rare_class_query_set = FullDatasetWrapper(query_df)\n",
        "# GloVe Embeddings for Testing Dataset\n",
        "testing_dataset = FullDatasetWrapper(test_df)"
      ]
    },
    {
      "cell_type": "markdown",
      "metadata": {
        "id": "Qp5_lKnegdJc"
      },
      "source": [
        "# Custom LSTM Model"
      ]
    },
    {
      "cell_type": "markdown",
      "metadata": {
        "id": "YWNXuY1xgf8_"
      },
      "source": [
        "## Model Definition"
      ]
    },
    {
      "cell_type": "code",
      "execution_count": null,
      "metadata": {
        "id": "8NOyZtuNghvn"
      },
      "outputs": [],
      "source": [
        "class Average(nn.Module):\n",
        "\n",
        "    def __init__(self):\n",
        "        super().__init__()\n",
        "\n",
        "    def forward(self, batch_sentence_token_embeddings, input_mask):\n",
        "        avgs = []\n",
        "        with torch.no_grad():\n",
        "            for i in range(batch_sentence_token_embeddings.shape[0]):\n",
        "                avg = torch.mean(batch_sentence_token_embeddings[i,:input_mask[i],:], dim=0)\n",
        "                avgs.append(avg)\n",
        "        return torch.stack(avgs, dim=0)\n",
        "\n",
        "\n",
        "class SimpleGloVeRNN(nn.Module):\n",
        "\n",
        "    def __init__(self, num_classes, hidden_dim=512, embedding_dim=256, num_rnn_stacks=1, num_mlp_layers=1):\n",
        "\n",
        "        super().__init__()\n",
        "        self.average  = Average()\n",
        "        self.rnn      = nn.LSTM(batch_first=True, input_size=300, hidden_size=hidden_dim, num_layers=num_rnn_stacks)\n",
        "        self.activ    = nn.ReLU()\n",
        "\n",
        "        mlp_layers  = []\n",
        "        for i in range(num_mlp_layers - 1):\n",
        "            linear      = nn.Linear(hidden_dim, hidden_dim)\n",
        "            bn          = nn.BatchNorm1d(hidden_dim)\n",
        "            mlp_layers.append(linear)\n",
        "            mlp_layers.append(bn)\n",
        "            mlp_layers.append(self.activ)\n",
        "        embed_linear    = nn.Linear(hidden_dim, embedding_dim)\n",
        "        embed_bn        = nn.BatchNorm1d(hidden_dim)\n",
        "        mlp_layers.append(embed_linear)\n",
        "        mlp_layers.append(embed_bn)\n",
        "\n",
        "        self.mlp            = nn.Sequential(*mlp_layers)\n",
        "        self.cls            = nn.Linear(embedding_dim, num_classes)\n",
        "        self.embedding_dim  = embedding_dim\n",
        "        self.hidden_dim     = hidden_dim\n",
        "\n",
        "\n",
        "    def get_embedding_dim(self):\n",
        "        return self.embedding_dim\n",
        "\n",
        "\n",
        "    def forward(self, glove_embeddings, input_mask, labels=None, freeze=False, last=False):\n",
        "\n",
        "        if freeze:\n",
        "            with torch.no_grad():\n",
        "                ignore_this         = self.average(glove_embeddings, input_mask)\n",
        "                hidden_states, _    = self.rnn(glove_embeddings)\n",
        "                # last_hidden_states  = torch.gather(hidden_states, 1, input_mask.reshape(-1,1,1).repeat(1,1,self.hidden_dim) - 1).squeeze()  # Using the mask, get the hidden vectors that correspond to the end of each sequence in the batch.\n",
        "                last_hidden_states = torch.gather(hidden_states, 1, input_mask.reshape(-1,1,1).repeat(1,1,self.hidden_dim) - 1)\n",
        "                if last_hidden_states.size(1) == 1:\n",
        "                    last_hidden_states = last_hidden_states.squeeze(1) # Squeeze the second dimension if it's 1\n",
        "                else:\n",
        "                    last_hidden_states = last_hidden_states.squeeze() # Or just squeeze the last dimension\n",
        "                # print(last_hidden_states.shape, glove_embeddings.shape, input_mask.shape)\n",
        "                sentence_embed      = self.mlp(last_hidden_states)\n",
        "        else:\n",
        "            ignore_this         = self.average(glove_embeddings, input_mask)                                                            # Added so we can use hooks to get input values for DISTIL's SMI.\n",
        "            hidden_states, _    = self.rnn(glove_embeddings)                                                                            # Apply RNN\n",
        "            # last_hidden_states  = torch.gather(hidden_states, 1, input_mask.reshape(-1,1,1).repeat(1,1,self.hidden_dim) - 1).squeeze()  # Using the mask, get the hidden vectors that correspond to the end of each sequence in the batch.\n",
        "            last_hidden_states = torch.gather(hidden_states, 1, input_mask.reshape(-1,1,1).repeat(1,1,self.hidden_dim) - 1)\n",
        "            if last_hidden_states.size(1) == 1:\n",
        "                last_hidden_states = last_hidden_states.squeeze(1) # Squeeze the second dimension if it's 1\n",
        "            else:\n",
        "                last_hidden_states = last_hidden_states.squeeze() # Or just squeeze the last dimension\n",
        "            # print(last_hidden_states.shape, glove_embeddings.shape, input_mask.shape)\n",
        "            sentence_embed      = self.mlp(last_hidden_states)                                                                          # Then, apply the MLP on top of the hidden states.\n",
        "        logits  = self.cls(self.activ(sentence_embed))\n",
        "        if last:\n",
        "            return logits, sentence_embed\n",
        "        else:\n",
        "            return logits"
      ]
    },
    {
      "cell_type": "markdown",
      "metadata": {
        "id": "_P8heLVxgizW"
      },
      "source": [
        "## Custom Training Method"
      ]
    },
    {
      "cell_type": "code",
      "execution_count": null,
      "metadata": {
        "id": "ZVCJR785gm6j"
      },
      "outputs": [],
      "source": [
        "class data_train:\n",
        "\n",
        "    def __init__(self, num_cls=2, hidden_dim=256, embedding_dim=256, num_rnn_stacks=2, mlp_layers=2, batch_size=20) -> None:\n",
        "        self.model = SimpleGloVeRNN(num_cls, hidden_dim, embedding_dim, num_rnn_stacks, mlp_layers)\n",
        "        self.num_cls = num_cls\n",
        "        self.hidden_dim = hidden_dim\n",
        "        self.embedding_dim = embedding_dim\n",
        "        self.num_rnn_stacks = num_rnn_stacks\n",
        "        self.mlp_layers = mlp_layers\n",
        "        self.batch_size = batch_size\n",
        "        self.device = \"cuda\" if torch.cuda.is_available() else \"cpu\"\n",
        "        self.model.to(self.device)\n",
        "\n",
        "    def get_param_count(self):\n",
        "        # How many parameters? Should be MUCH less than BERT (110 million)! Can configure above params to make the model larger/smaller.\n",
        "        param_count = 0\n",
        "        for param in self.model.parameters():\n",
        "            size_list   = param.size()\n",
        "            param_count += torch.prod(torch.tensor(size_list)).item()\n",
        "        print(\"Parameters:\", F\"{param_count:,}\")\n",
        "        return param_count\n",
        "\n",
        "    def check_batching(self, training_dataset):\n",
        "        dataloader = DataLoader(training_dataset, batch_size=2, shuffle=False)\n",
        "        for batch_dict in dataloader:\n",
        "            batch_dict = {k:v.to(self.device) for k,v in batch_dict.items()}\n",
        "            output = self.model(**batch_dict)\n",
        "            print(output.shape)\n",
        "\n",
        "    def train(self, training_dataset, epochs=150, lr=1e-2):\n",
        "        dataloader = DataLoader(training_dataset, batch_size=self.batch_size, shuffle=False)\n",
        "        optimizer = optim.SGD(self.model.parameters(), lr=1e-2)\n",
        "        self.model.train()\n",
        "        losses = []\n",
        "        for i in range(epochs):\n",
        "            epoch_loss, num_batches = 0, 0\n",
        "            for batch_dict in dataloader:\n",
        "                batch_dict = {k:v.to(self.device) for k,v in batch_dict.items()}\n",
        "                optimizer.zero_grad()\n",
        "                out   = self.model(**batch_dict)\n",
        "                loss  = torch.nn.functional.cross_entropy(out, batch_dict[\"labels\"])\n",
        "                loss.backward()\n",
        "                optimizer.step()\n",
        "                epoch_loss, num_batches = epoch_loss+loss.item(), num_batches+1\n",
        "            avg_loss = epoch_loss/num_batches if num_batches>0 else 0\n",
        "            if (i+1)%5==0:\n",
        "                print('Epoch:', (i+1), '\\tLoss =', avg_loss)\n",
        "            losses.append(avg_loss)\n",
        "        self.model.eval()\n",
        "        return losses\n",
        "\n",
        "    def verify_output_emeddings(self, training_dataset):\n",
        "        dataloader = DataLoader(training_dataset, batch_size=2, shuffle=False)\n",
        "        for batch_dict in dataloader:\n",
        "            batch_dict = {k:v.to(self.device) for k,v in batch_dict.items()}\n",
        "            output, embeddings = self.model(**batch_dict, last=True, freeze=True)\n",
        "            print(output)\n",
        "            print(embeddings.shape)\n",
        "\n",
        "    def get_test_metrics(self, testing_dataset):\n",
        "        dataloader = DataLoader(testing_dataset, batch_size=self.batch_size, shuffle=False)\n",
        "        # Initialize counters\n",
        "        tp = fp = fn = tn = 0\n",
        "\n",
        "        self.model.eval()\n",
        "        with torch.no_grad():\n",
        "            for batch_dict in dataloader:\n",
        "                batch_dict = {k:v.to(self.device) for k,v in batch_dict.items()}\n",
        "                # Get model outputs\n",
        "                outputs = self.model(**batch_dict)\n",
        "                # Calculate predictions from outputs (assuming binary classification with threshold at 0.5)\n",
        "                # Modify the threshold and prediction calculation if necessary\n",
        "                predictions = torch.argmax(outputs, dim=1)\n",
        "                # Get true labels\n",
        "                true_labels = batch_dict[\"labels\"]\n",
        "                # Update confusion matrix\n",
        "                conf_mat = confusion_matrix(true_labels.cpu().numpy(), predictions.cpu().numpy(), labels=[0, 1])\n",
        "                tn_, fp_, fn_, tp_ = conf_mat.ravel() if conf_mat.size == 4 else (0, 0, 0, 0)\n",
        "                tp, fp, fn, tn = tp+tp_, fp+fp_, fn+fn_, tn+tn_\n",
        "\n",
        "        acc = (tp + tn) / (tp + fp + fn + tn) if (tp + fp + fn + tn) > 0 else 0\n",
        "        ppv = tp / (tp + fp) if (tp + fp) > 0 else 0\n",
        "        tpr = tp / (tp + fn) if (tp + fn) > 0 else 0\n",
        "        f1 = (2 * tp) / (2 * tp + fp + fn) if (2 * tp + fp + fn) > 0 else 0\n",
        "        fpr = fp / (fp + tn) if (fp + tn) > 0 else 0\n",
        "        fnr = fn / (tp + fn) if (tp + fn) > 0 else 0\n",
        "        tnr = tn / (tn + fp) if (tn + fp) > 0 else 0\n",
        "        npv = tn / (tn + fn) if (tn + fn) > 0 else 0\n",
        "        fdr = fp / (tp + fp) if (tp + fp) > 0 else 0\n",
        "        mcc_numerator = (tp * tn) - (fp * fn)\n",
        "        mcc_denominator = ((tp + fp) * (tp + fn) * (tn + fp) * (tn + fn)) ** 0.5\n",
        "        mcc = mcc_numerator / mcc_denominator if mcc_denominator > 0 else 0\n",
        "\n",
        "        metrics = {\n",
        "            'tp': tp, 'fp': fp, 'fn': fn, 'tn': tn, 'acc': acc, 'f1': f1,\n",
        "            'ppv': ppv, 'tpr': tpr, 'fpr': fpr, 'fnr': fnr,\n",
        "            'tnr': tnr, 'npv': npv, 'fdr': fdr, 'mcc': mcc\n",
        "        }\n",
        "\n",
        "        return metrics\n"
      ]
    },
    {
      "cell_type": "markdown",
      "metadata": {
        "id": "p5L4BO7c3yLQ"
      },
      "source": [
        "### Metric_dict Definition"
      ]
    },
    {
      "cell_type": "code",
      "execution_count": null,
      "metadata": {
        "colab": {
          "base_uri": "https://localhost:8080/"
        },
        "id": "41aAygRWgaNB",
        "outputId": "e1ca91bc-318d-4229-9ecf-15afab0792a4"
      },
      "outputs": [
        {
          "output_type": "execute_result",
          "data": {
            "text/plain": [
              "{'tp': 'True Positive Count',\n",
              " 'fp': 'False Positive Count',\n",
              " 'fn': 'False Negative Count',\n",
              " 'tn': 'True Negative Count',\n",
              " 'acc': 'Accuracy',\n",
              " 'f1': 'F1-score | F-measure',\n",
              " 'ppv': 'Positive Predictive Value | Precision',\n",
              " 'tpr': 'True Positive Rate | Recall | Sensitivity',\n",
              " 'fpr': 'False Positive Rate | Type I error',\n",
              " 'fnr': 'False Negative Rate | Type II error',\n",
              " 'tnr': 'True Negative Rate | Specificity',\n",
              " 'npv': 'Negative Predictive Value',\n",
              " 'fdr': 'False Discovery Rate',\n",
              " 'mcc': 'Matthews Correlation Coefficient'}"
            ]
          },
          "metadata": {},
          "execution_count": 1280
        }
      ],
      "source": [
        "metric_dict = {\n",
        "    'tp': \"True Positive Count\", 'fp': 'False Positive Count',\n",
        "    'fn': \"False Negative Count\", 'tn': 'True Negative Count',\n",
        "    'acc': \"Accuracy\", 'f1': 'F1-score | F-measure',\n",
        "    'ppv': \"Positive Predictive Value | Precision\",\n",
        "    'tpr': 'True Positive Rate | Recall | Sensitivity',\n",
        "    'fpr': \"False Positive Rate | Type I error\",\n",
        "    'fnr': 'False Negative Rate | Type II error',\n",
        "    'tnr': \"True Negative Rate | Specificity\",\n",
        "    'npv': 'Negative Predictive Value', 'fdr': \"False Discovery Rate\",\n",
        "    'mcc': 'Matthews Correlation Coefficient',\n",
        "\n",
        "}\n",
        "metric_dict"
      ]
    },
    {
      "cell_type": "markdown",
      "metadata": {
        "id": "95hON86ZhAzy"
      },
      "source": [
        "# Active Learning"
      ]
    },
    {
      "cell_type": "markdown",
      "metadata": {
        "id": "otBhU55MiBjP"
      },
      "source": [
        "## Define Selection Strategy arguments"
      ]
    },
    {
      "cell_type": "code",
      "execution_count": null,
      "metadata": {
        "colab": {
          "base_uri": "https://localhost:8080/"
        },
        "id": "1qVFE8SNiEsu",
        "outputId": "2f35c090-760a-47da-d241-85ced5afc63a"
      },
      "outputs": [
        {
          "output_type": "stream",
          "name": "stdout",
          "text": [
            "136\n"
          ]
        }
      ],
      "source": [
        "budget = round(sum(train_class_counts)/33.333) # Budget is set to 3% of the total training dataset\n",
        "print(budget)"
      ]
    },
    {
      "cell_type": "code",
      "execution_count": null,
      "metadata": {
        "id": "Y_q2QbxhiRQB"
      },
      "outputs": [],
      "source": [
        "selection_strategy_args = {\n",
        "    'device':        \"cpu\",                  # Use the device used in training\n",
        "    'batch_size':    20,                    # Use the batch size used in training\n",
        "    'smi_function':  'logdetmi',              # Use a facility location function, which captures representation information\n",
        "    'metric':        'cosine',             # Use cosine similarity when determining the likeness of two data points\n",
        "    'optimizer':     'LazyGreedy',          # When doing submodular maximization, use the lazy greedy optimizer\n",
        "    'embedding_type': 'features',          # IMPORTANT: NEED TO USE PRETRAINED GLOVE FEATURES FOR COLD START SELECTION!\n",
        "    'layer_name':    'average'             # We can do so by specifying the layer we wish to extract those features from.\n",
        "}"
      ]
    },
    {
      "cell_type": "code",
      "source": [
        "qry_sz, train_sz = len(rare_class_query_set), len(training_dataset)"
      ],
      "metadata": {
        "id": "dD4R_oIStiCG"
      },
      "execution_count": null,
      "outputs": []
    },
    {
      "cell_type": "markdown",
      "metadata": {
        "id": "DJZZ_nhfjFWg"
      },
      "source": [
        "## Query Set Size = 100%"
      ]
    },
    {
      "cell_type": "code",
      "execution_count": null,
      "metadata": {
        "id": "1m3w_gizobVl"
      },
      "outputs": [],
      "source": [
        "LSTM_pc100 = data_train()"
      ]
    },
    {
      "cell_type": "code",
      "source": [
        "random.seed(RAND_STATE)\n",
        "ablated_query_set = Subset(rare_class_query_set, random.sample(range(qry_sz), int(1.00 * qry_sz)))\n",
        "print('Query Set Size w.r.t. Unlabeled Data = {}%'.format(round(100*qry_sz/train_sz, 2)))\n",
        "print('Query Set Usage: 100%')"
      ],
      "metadata": {
        "colab": {
          "base_uri": "https://localhost:8080/"
        },
        "id": "k_u_dpbwtsHq",
        "outputId": "ed065216-49bd-4996-df07-c3d0eda0c99f"
      },
      "execution_count": null,
      "outputs": [
        {
          "output_type": "stream",
          "name": "stdout",
          "text": [
            "Query Set Size w.r.t. Unlabeled Data = 0.55%\n",
            "Query Set Usage: 100%\n"
          ]
        }
      ]
    },
    {
      "cell_type": "markdown",
      "metadata": {
        "id": "7DRqDzqYoBF4"
      },
      "source": [
        "### Subset Selection with 100% of Query Set"
      ]
    },
    {
      "cell_type": "code",
      "execution_count": null,
      "metadata": {
        "colab": {
          "base_uri": "https://localhost:8080/"
        },
        "id": "fmYnKDBQoHSL",
        "outputId": "07bc6fdb-8218-4708-efdd-884239ec7537"
      },
      "outputs": [
        {
          "output_type": "stream",
          "name": "stdout",
          "text": [
            "Class 0 count: 120\n",
            "Class 1 count: 16\n"
          ]
        }
      ],
      "source": [
        "selection_strategy_args['device'] = LSTM_pc100.device\n",
        "pc100_selection_strategy = SMI(training_dataset, Labeled_to_unlabel(training_dataset), ablated_query_set, LSTM_pc100.model, LSTM_pc100.num_cls, selection_strategy_args)\n",
        "pc100_selected_idx = pc100_selection_strategy.select(budget)\n",
        "pc100_human_labeled_dataset = Subset(training_dataset, pc100_selected_idx)\n",
        "\n",
        "pc100_class_counts = [0 for x in range(LSTM_pc100.num_cls)]\n",
        "# Go over the newly labeled dataset, tallying the number of points seen in each class.\n",
        "for _ in pc100_human_labeled_dataset:\n",
        "    pc100_class_counts[_['labels']] += 1\n",
        "\n",
        "# Print each class count\n",
        "\n",
        "for class_idx, class_count in enumerate(pc100_class_counts):\n",
        "    print(F\"Class {class_idx} count: {class_count}\")"
      ]
    },
    {
      "cell_type": "code",
      "execution_count": null,
      "metadata": {
        "id": "Y9l9ADpFoOdh"
      },
      "outputs": [],
      "source": [
        "with open('logs.txt', 'a') as logfile:\n",
        "    logfile.write('\\nQuery Set Size w.r.t. Unlabeled Data = {}%'.format(round(100*qry_sz/train_sz, 2)))\n",
        "    logfile.write('\\nQuery Set Usage: 100% \\n')\n",
        "    for class_idx, class_count in enumerate(pc100_class_counts):\n",
        "        logfile.write(F\"Class {class_idx} count: {class_count} \\n\")"
      ]
    },
    {
      "cell_type": "markdown",
      "metadata": {
        "id": "NlfW0ka2pbOx"
      },
      "source": [
        "### Training on Selection using 100% of Query Set"
      ]
    },
    {
      "cell_type": "code",
      "execution_count": null,
      "metadata": {
        "colab": {
          "base_uri": "https://localhost:8080/"
        },
        "id": "RBciJsOdpiZf",
        "outputId": "3851a5cb-0ac3-446d-db77-1732e8159fd2"
      },
      "outputs": [
        {
          "output_type": "stream",
          "name": "stdout",
          "text": [
            "Epoch: 5 \tLoss = 0.11056295463017055\n",
            "Epoch: 10 \tLoss = 0.050643421177353175\n",
            "Epoch: 15 \tLoss = 0.031302882092339654\n",
            "Epoch: 20 \tLoss = 0.02220162775899683\n",
            "Epoch: 25 \tLoss = 0.017005607751863345\n",
            "Epoch: 30 \tLoss = 0.013680800795555115\n"
          ]
        }
      ],
      "source": [
        "losses_pc100 = LSTM_pc100.train(pc100_human_labeled_dataset, epochs=30)"
      ]
    },
    {
      "cell_type": "markdown",
      "metadata": {
        "id": "honXPz77pm2q"
      },
      "source": [
        "### Test Performance - Model trained on selecting using 100% of Query Set"
      ]
    },
    {
      "cell_type": "code",
      "execution_count": null,
      "metadata": {
        "id": "8tdEkxOkpwLK"
      },
      "outputs": [],
      "source": [
        "pc100_metrics = LSTM_pc100.get_test_metrics(testing_dataset)"
      ]
    },
    {
      "cell_type": "code",
      "execution_count": null,
      "metadata": {
        "colab": {
          "base_uri": "https://localhost:8080/"
        },
        "id": "y6Ii7Kv0qSv1",
        "outputId": "af671183-35dc-48ae-c487-c4b513184269"
      },
      "outputs": [
        {
          "output_type": "execute_result",
          "data": {
            "text/plain": [
              "{'tp': 229,\n",
              " 'fp': 3,\n",
              " 'fn': 247,\n",
              " 'tn': 477,\n",
              " 'acc': 0.7384937238493724,\n",
              " 'f1': 0.6468926553672316,\n",
              " 'ppv': 0.9870689655172413,\n",
              " 'tpr': 0.4810924369747899,\n",
              " 'fpr': 0.00625,\n",
              " 'fnr': 0.5189075630252101,\n",
              " 'tnr': 0.99375,\n",
              " 'npv': 0.6588397790055248,\n",
              " 'fdr': 0.01293103448275862,\n",
              " 'mcc': 0.5538094277930968}"
            ]
          },
          "metadata": {},
          "execution_count": 1290
        }
      ],
      "source": [
        "pc100_metrics"
      ]
    },
    {
      "cell_type": "code",
      "execution_count": null,
      "metadata": {
        "id": "RC2NUzd-hc0R"
      },
      "outputs": [],
      "source": [
        "pc100_metrics['name'] = 'Size-100%'"
      ]
    },
    {
      "cell_type": "markdown",
      "metadata": {
        "id": "rSlXSENIq8ra"
      },
      "source": [
        "## Query Set Size = 80%"
      ]
    },
    {
      "cell_type": "code",
      "execution_count": null,
      "metadata": {
        "id": "swWaAAi4sotx"
      },
      "outputs": [],
      "source": [
        "LSTM_pc80 = data_train()"
      ]
    },
    {
      "cell_type": "code",
      "source": [
        "random.seed(RAND_STATE)\n",
        "ablated_query_set = Subset(rare_class_query_set, random.sample(range(qry_sz), int(0.80 * qry_sz)))\n",
        "print('Query Set Size w.r.t. Unlabeled Data = {}%'.format(round(80*qry_sz/train_sz, 2)))\n",
        "print('Query Set Usage: 80%')"
      ],
      "metadata": {
        "colab": {
          "base_uri": "https://localhost:8080/"
        },
        "id": "fkDAXomhvkrh",
        "outputId": "d19723b7-1881-443f-891f-e06fa6be7586"
      },
      "execution_count": null,
      "outputs": [
        {
          "output_type": "stream",
          "name": "stdout",
          "text": [
            "Query Set Size w.r.t. Unlabeled Data = 0.44%\n",
            "Query Set Usage: 80%\n"
          ]
        }
      ]
    },
    {
      "cell_type": "markdown",
      "metadata": {
        "id": "3kKeYOeUrCBF"
      },
      "source": [
        "### Subset Selection with 80% of Query Set"
      ]
    },
    {
      "cell_type": "code",
      "execution_count": null,
      "metadata": {
        "colab": {
          "base_uri": "https://localhost:8080/"
        },
        "id": "v1GDv9hhtaoN",
        "outputId": "6a3c16e3-eff9-451e-e1c1-f6e3776a45ed"
      },
      "outputs": [
        {
          "output_type": "stream",
          "name": "stdout",
          "text": [
            "Class 0 count: 120\n",
            "Class 1 count: 16\n"
          ]
        }
      ],
      "source": [
        "selection_strategy_args['device'] = LSTM_pc80.device\n",
        "pc80_selection_strategy = SMI(training_dataset, Labeled_to_unlabel(training_dataset), ablated_query_set, LSTM_pc80.model, LSTM_pc80.num_cls, selection_strategy_args)\n",
        "pc80_selected_idx = pc80_selection_strategy.select(budget)\n",
        "pc80_human_labeled_dataset = Subset(training_dataset, pc80_selected_idx)\n",
        "\n",
        "pc80_class_counts = [0 for x in range(LSTM_pc80.num_cls)]\n",
        "# Go over the newly labeled dataset, tallying the number of points seen in each class.\n",
        "for _ in pc80_human_labeled_dataset:\n",
        "    pc80_class_counts[_['labels']] += 1\n",
        "\n",
        "# Print each class count\n",
        "\n",
        "for class_idx, class_count in enumerate(pc80_class_counts):\n",
        "    print(F\"Class {class_idx} count: {class_count}\")"
      ]
    },
    {
      "cell_type": "code",
      "execution_count": null,
      "metadata": {
        "id": "9_HkyP0IuDjc"
      },
      "outputs": [],
      "source": [
        "with open('logs.txt', 'a') as logfile:\n",
        "    logfile.write('\\nQuery Set Size w.r.t. Unlabeled Data = {}%'.format(round(80*qry_sz/train_sz, 2)))\n",
        "    logfile.write('\\nQuery Set Usage: 80% \\n')\n",
        "    for class_idx, class_count in enumerate(pc80_class_counts):\n",
        "        logfile.write(F\"Class {class_idx} count: {class_count} \\n\")"
      ]
    },
    {
      "cell_type": "markdown",
      "metadata": {
        "id": "_AzAtGo0rH_S"
      },
      "source": [
        "### Training on Selection using 80% of Query Set"
      ]
    },
    {
      "cell_type": "code",
      "execution_count": null,
      "metadata": {
        "colab": {
          "base_uri": "https://localhost:8080/"
        },
        "id": "bTRWcwaRujp_",
        "outputId": "71f17686-6d37-4010-bc8f-f5b24eff5a55"
      },
      "outputs": [
        {
          "output_type": "stream",
          "name": "stdout",
          "text": [
            "Epoch: 5 \tLoss = 0.12644495176417486\n",
            "Epoch: 10 \tLoss = 0.060980292835405896\n",
            "Epoch: 15 \tLoss = 0.03779510594904423\n",
            "Epoch: 20 \tLoss = 0.026724476367235184\n",
            "Epoch: 25 \tLoss = 0.020441552757152488\n",
            "Epoch: 30 \tLoss = 0.01641225628554821\n"
          ]
        }
      ],
      "source": [
        "losses_pc80 = LSTM_pc80.train(pc80_human_labeled_dataset, epochs=30)"
      ]
    },
    {
      "cell_type": "markdown",
      "metadata": {
        "id": "ag8kmdpYrLwf"
      },
      "source": [
        "### Test Performance - Model trained on selecting using 80% of Query Set"
      ]
    },
    {
      "cell_type": "code",
      "execution_count": null,
      "metadata": {
        "id": "Q4Sma71bvBPs"
      },
      "outputs": [],
      "source": [
        "pc80_metrics = LSTM_pc80.get_test_metrics(testing_dataset)"
      ]
    },
    {
      "cell_type": "code",
      "execution_count": null,
      "metadata": {
        "colab": {
          "base_uri": "https://localhost:8080/"
        },
        "id": "Trc6iukgvCcs",
        "outputId": "c0fbab38-b73b-4aad-cae1-bf6f6d1701e2"
      },
      "outputs": [
        {
          "output_type": "execute_result",
          "data": {
            "text/plain": [
              "{'tp': 126,\n",
              " 'fp': 2,\n",
              " 'fn': 350,\n",
              " 'tn': 478,\n",
              " 'acc': 0.6317991631799164,\n",
              " 'f1': 0.41721854304635764,\n",
              " 'ppv': 0.984375,\n",
              " 'tpr': 0.2647058823529412,\n",
              " 'fpr': 0.004166666666666667,\n",
              " 'fnr': 0.7352941176470589,\n",
              " 'tnr': 0.9958333333333333,\n",
              " 'npv': 0.5772946859903382,\n",
              " 'fdr': 0.015625,\n",
              " 'mcc': 0.3825401671232432}"
            ]
          },
          "metadata": {},
          "execution_count": 1298
        }
      ],
      "source": [
        "pc80_metrics"
      ]
    },
    {
      "cell_type": "code",
      "execution_count": null,
      "metadata": {
        "id": "zsVyUIe7hxW-"
      },
      "outputs": [],
      "source": [
        "pc80_metrics['name'] = 'Size-80%'"
      ]
    },
    {
      "cell_type": "markdown",
      "metadata": {
        "id": "K4HZ4GG6rVSS"
      },
      "source": [
        "## Query Set Size = 60%"
      ]
    },
    {
      "cell_type": "code",
      "execution_count": null,
      "metadata": {
        "id": "_pUlZUslsrBs"
      },
      "outputs": [],
      "source": [
        "LSTM_pc60 = data_train()"
      ]
    },
    {
      "cell_type": "code",
      "source": [
        "random.seed(RAND_STATE)\n",
        "ablated_query_set = Subset(rare_class_query_set, random.sample(range(qry_sz), int(0.60 * qry_sz)))\n",
        "print('Query Set Size w.r.t. Unlabeled Data = {}%'.format(round(60*qry_sz/train_sz, 2)))\n",
        "print('Query Set Usage: 60%')"
      ],
      "metadata": {
        "colab": {
          "base_uri": "https://localhost:8080/"
        },
        "id": "xavVF0eDyjXL",
        "outputId": "1558cc52-9db7-4e1d-9d0c-603eac03d98f"
      },
      "execution_count": null,
      "outputs": [
        {
          "output_type": "stream",
          "name": "stdout",
          "text": [
            "Query Set Size w.r.t. Unlabeled Data = 0.33%\n",
            "Query Set Usage: 60%\n"
          ]
        }
      ]
    },
    {
      "cell_type": "markdown",
      "metadata": {
        "id": "I8CLn1zJrbCQ"
      },
      "source": [
        "### Subset Selection with 60% of Query Set"
      ]
    },
    {
      "cell_type": "code",
      "execution_count": null,
      "metadata": {
        "colab": {
          "base_uri": "https://localhost:8080/"
        },
        "id": "_FJmlVEjtkXz",
        "outputId": "d25db940-0ad7-43a7-f8f4-f66d968aa5ee"
      },
      "outputs": [
        {
          "output_type": "stream",
          "name": "stdout",
          "text": [
            "Class 0 count: 118\n",
            "Class 1 count: 18\n"
          ]
        }
      ],
      "source": [
        "selection_strategy_args['device'] = LSTM_pc60.device\n",
        "pc60_selection_strategy = SMI(training_dataset, Labeled_to_unlabel(training_dataset), ablated_query_set, LSTM_pc60.model, LSTM_pc60.num_cls, selection_strategy_args)\n",
        "pc60_selected_idx = pc60_selection_strategy.select(budget)\n",
        "pc60_human_labeled_dataset = Subset(training_dataset, pc60_selected_idx)\n",
        "\n",
        "pc60_class_counts = [0 for x in range(LSTM_pc60.num_cls)]\n",
        "# Go over the newly labeled dataset, tallying the number of points seen in each class.\n",
        "for _ in pc60_human_labeled_dataset:\n",
        "    pc60_class_counts[_['labels']] += 1\n",
        "\n",
        "# Print each class count\n",
        "\n",
        "for class_idx, class_count in enumerate(pc60_class_counts):\n",
        "    print(F\"Class {class_idx} count: {class_count}\")"
      ]
    },
    {
      "cell_type": "code",
      "execution_count": null,
      "metadata": {
        "id": "RhLA-fqMuIWz"
      },
      "outputs": [],
      "source": [
        "with open('logs.txt', 'a') as logfile:\n",
        "    logfile.write('\\nQuery Set Size w.r.t. Unlabeled Data = {}%'.format(round(60*qry_sz/train_sz, 2)))\n",
        "    logfile.write('\\nQuery Set Usage: 60% \\n')\n",
        "    for class_idx, class_count in enumerate(pc60_class_counts):\n",
        "        logfile.write(F\"Class {class_idx} count: {class_count} \\n\")"
      ]
    },
    {
      "cell_type": "markdown",
      "metadata": {
        "id": "6KeKEsqQregz"
      },
      "source": [
        "### Training on Selection using 60% of Query Set"
      ]
    },
    {
      "cell_type": "code",
      "execution_count": null,
      "metadata": {
        "colab": {
          "base_uri": "https://localhost:8080/"
        },
        "id": "JmmoqPKGumyP",
        "outputId": "469bdb53-16f9-4f67-8dee-7b253e9b9f1d"
      },
      "outputs": [
        {
          "output_type": "stream",
          "name": "stdout",
          "text": [
            "Epoch: 5 \tLoss = 0.12316219082900456\n",
            "Epoch: 10 \tLoss = 0.05512909059013639\n",
            "Epoch: 15 \tLoss = 0.03277452103793621\n",
            "Epoch: 20 \tLoss = 0.022653811744281223\n",
            "Epoch: 25 \tLoss = 0.01704963469611747\n",
            "Epoch: 30 \tLoss = 0.01352734092090811\n"
          ]
        }
      ],
      "source": [
        "losses_pc60 = LSTM_pc60.train(pc60_human_labeled_dataset, epochs=30)"
      ]
    },
    {
      "cell_type": "markdown",
      "metadata": {
        "id": "_pcpfAKSrhge"
      },
      "source": [
        "### Test Performance - Model trained on selecting using 60% of Query Set"
      ]
    },
    {
      "cell_type": "code",
      "execution_count": null,
      "metadata": {
        "id": "pP-msKMVvHer"
      },
      "outputs": [],
      "source": [
        "pc60_metrics = LSTM_pc60.get_test_metrics(testing_dataset)"
      ]
    },
    {
      "cell_type": "code",
      "execution_count": null,
      "metadata": {
        "colab": {
          "base_uri": "https://localhost:8080/"
        },
        "id": "WGVVqOYbvKD2",
        "outputId": "c1d6471a-b5f5-44dc-a907-978f3e4d5d87"
      },
      "outputs": [
        {
          "output_type": "execute_result",
          "data": {
            "text/plain": [
              "{'tp': 181,\n",
              " 'fp': 3,\n",
              " 'fn': 295,\n",
              " 'tn': 477,\n",
              " 'acc': 0.6882845188284519,\n",
              " 'f1': 0.5484848484848485,\n",
              " 'ppv': 0.9836956521739131,\n",
              " 'tpr': 0.3802521008403361,\n",
              " 'fpr': 0.00625,\n",
              " 'fnr': 0.6197478991596639,\n",
              " 'tnr': 0.99375,\n",
              " 'npv': 0.6178756476683938,\n",
              " 'fdr': 0.016304347826086956,\n",
              " 'mcc': 0.474329980020528}"
            ]
          },
          "metadata": {},
          "execution_count": 1306
        }
      ],
      "source": [
        "pc60_metrics"
      ]
    },
    {
      "cell_type": "code",
      "execution_count": null,
      "metadata": {
        "id": "5_5V1nvWh3LX"
      },
      "outputs": [],
      "source": [
        "pc60_metrics['name'] = 'Size-60%'"
      ]
    },
    {
      "cell_type": "markdown",
      "metadata": {
        "id": "i7gXeokfr0Nu"
      },
      "source": [
        "## Query Set Size = 40%"
      ]
    },
    {
      "cell_type": "code",
      "execution_count": null,
      "metadata": {
        "id": "JHKEoVjbs_by"
      },
      "outputs": [],
      "source": [
        "LSTM_pc40 = data_train()"
      ]
    },
    {
      "cell_type": "code",
      "source": [
        "random.seed(RAND_STATE)\n",
        "ablated_query_set = Subset(rare_class_query_set, random.sample(range(qry_sz), int(0.40 * qry_sz)))\n",
        "print('Query Set Size w.r.t. Unlabeled Data = {}%'.format(round(40*qry_sz/train_sz, 2)))\n",
        "print('Query Set Usage: 40%')"
      ],
      "metadata": {
        "colab": {
          "base_uri": "https://localhost:8080/"
        },
        "id": "-eXIMDVpzelg",
        "outputId": "9d86ddb0-eb53-46fa-b194-e4f0fd4d1d1a"
      },
      "execution_count": null,
      "outputs": [
        {
          "output_type": "stream",
          "name": "stdout",
          "text": [
            "Query Set Size w.r.t. Unlabeled Data = 0.22%\n",
            "Query Set Usage: 40%\n"
          ]
        }
      ]
    },
    {
      "cell_type": "markdown",
      "metadata": {
        "id": "Ibb-WYA5r4Kg"
      },
      "source": [
        "### Subset Selection with 40% of Query Set"
      ]
    },
    {
      "cell_type": "code",
      "execution_count": null,
      "metadata": {
        "colab": {
          "base_uri": "https://localhost:8080/"
        },
        "id": "6uiAijiQt5sz",
        "outputId": "79a1da0f-cfeb-428d-f14a-98d7cd82adeb"
      },
      "outputs": [
        {
          "output_type": "stream",
          "name": "stdout",
          "text": [
            "Class 0 count: 119\n",
            "Class 1 count: 17\n"
          ]
        }
      ],
      "source": [
        "selection_strategy_args['device'] = LSTM_pc40.device\n",
        "pc40_selection_strategy = SMI(training_dataset, Labeled_to_unlabel(training_dataset), ablated_query_set, LSTM_pc40.model, LSTM_pc40.num_cls, selection_strategy_args)\n",
        "pc40_selected_idx = pc40_selection_strategy.select(budget)\n",
        "pc40_human_labeled_dataset = Subset(training_dataset, pc40_selected_idx)\n",
        "\n",
        "pc40_class_counts = [0 for x in range(LSTM_pc40.num_cls)]\n",
        "# Go over the newly labeled dataset, tallying the number of points seen in each class.\n",
        "for _ in pc40_human_labeled_dataset:\n",
        "    pc40_class_counts[_['labels']] += 1\n",
        "\n",
        "# Print each class count\n",
        "\n",
        "for class_idx, class_count in enumerate(pc40_class_counts):\n",
        "    print(F\"Class {class_idx} count: {class_count}\")"
      ]
    },
    {
      "cell_type": "code",
      "execution_count": null,
      "metadata": {
        "id": "pofNzIDOuWE5"
      },
      "outputs": [],
      "source": [
        "with open('logs.txt', 'a') as logfile:\n",
        "    logfile.write('\\nQuery Set Size w.r.t. Unlabeled Data = {}%'.format(round(40*qry_sz/train_sz, 2)))\n",
        "    logfile.write('\\nQuery Set Usage: 40% \\n')\n",
        "    for class_idx, class_count in enumerate(pc40_class_counts):\n",
        "        logfile.write(F\"Class {class_idx} count: {class_count} \\n\")"
      ]
    },
    {
      "cell_type": "markdown",
      "metadata": {
        "id": "jWiVw55Lr78l"
      },
      "source": [
        "### Training on Selection using 40% of Query Set"
      ]
    },
    {
      "cell_type": "code",
      "execution_count": null,
      "metadata": {
        "colab": {
          "base_uri": "https://localhost:8080/"
        },
        "id": "q4m1oe-hu5F-",
        "outputId": "5c8d9225-3dc5-4e8c-e57d-24e88561c0b4"
      },
      "outputs": [
        {
          "output_type": "stream",
          "name": "stdout",
          "text": [
            "Epoch: 5 \tLoss = 0.10314778877156121\n",
            "Epoch: 10 \tLoss = 0.04826780355402401\n",
            "Epoch: 15 \tLoss = 0.030340049681918963\n",
            "Epoch: 20 \tLoss = 0.02167616438652788\n",
            "Epoch: 25 \tLoss = 0.01665798681122916\n",
            "Epoch: 30 \tLoss = 0.013448577773358141\n"
          ]
        }
      ],
      "source": [
        "losses_pc40 = LSTM_pc40.train(pc40_human_labeled_dataset, epochs=30)"
      ]
    },
    {
      "cell_type": "markdown",
      "metadata": {
        "id": "ZriADOJcr_G5"
      },
      "source": [
        "### Test Performance - Model trained on selecting using 40% of Query Set"
      ]
    },
    {
      "cell_type": "code",
      "execution_count": null,
      "metadata": {
        "id": "-Pd3g5iTvX39"
      },
      "outputs": [],
      "source": [
        "pc40_metrics = LSTM_pc40.get_test_metrics(testing_dataset)"
      ]
    },
    {
      "cell_type": "code",
      "execution_count": null,
      "metadata": {
        "colab": {
          "base_uri": "https://localhost:8080/"
        },
        "id": "J3TQF9p0vw1x",
        "outputId": "0d20bac0-b34c-438f-906e-01e77c2f4df9"
      },
      "outputs": [
        {
          "output_type": "execute_result",
          "data": {
            "text/plain": [
              "{'tp': 215,\n",
              " 'fp': 1,\n",
              " 'fn': 261,\n",
              " 'tn': 479,\n",
              " 'acc': 0.7259414225941423,\n",
              " 'f1': 0.6213872832369942,\n",
              " 'ppv': 0.9953703703703703,\n",
              " 'tpr': 0.45168067226890757,\n",
              " 'fpr': 0.0020833333333333333,\n",
              " 'fnr': 0.5483193277310925,\n",
              " 'tnr': 0.9979166666666667,\n",
              " 'npv': 0.6472972972972973,\n",
              " 'fdr': 0.004629629629629629,\n",
              " 'mcc': 0.5375329508070322}"
            ]
          },
          "metadata": {},
          "execution_count": 1314
        }
      ],
      "source": [
        "pc40_metrics"
      ]
    },
    {
      "cell_type": "code",
      "execution_count": null,
      "metadata": {
        "id": "pbp6ELy3iG8P"
      },
      "outputs": [],
      "source": [
        "pc40_metrics['name'] = 'Size-40%'"
      ]
    },
    {
      "cell_type": "markdown",
      "metadata": {
        "id": "4ddsZqgLDGwm"
      },
      "source": [
        "## Query Set Size = 20%"
      ]
    },
    {
      "cell_type": "code",
      "execution_count": null,
      "metadata": {
        "id": "gW-xxPyyDaYr"
      },
      "outputs": [],
      "source": [
        "LSTM_pc20 = data_train()"
      ]
    },
    {
      "cell_type": "code",
      "source": [
        "random.seed(RAND_STATE)\n",
        "ablated_query_set = Subset(rare_class_query_set, random.sample(range(qry_sz), int(0.20 * qry_sz)))\n",
        "print('Query Set Size w.r.t. Unlabeled Data = {}%'.format(round(20*qry_sz/train_sz, 2)))\n",
        "print('Query Set Usage: 20%')"
      ],
      "metadata": {
        "colab": {
          "base_uri": "https://localhost:8080/"
        },
        "id": "yUf6rnc00eld",
        "outputId": "e4ac1523-0488-4ead-d34f-0e2fcc3d6caf"
      },
      "execution_count": null,
      "outputs": [
        {
          "output_type": "stream",
          "name": "stdout",
          "text": [
            "Query Set Size w.r.t. Unlabeled Data = 0.11%\n",
            "Query Set Usage: 20%\n"
          ]
        }
      ]
    },
    {
      "cell_type": "markdown",
      "metadata": {
        "id": "Y8Sa58N8DbCA"
      },
      "source": [
        "### Subset Selection with 20% of Query Set"
      ]
    },
    {
      "cell_type": "code",
      "execution_count": null,
      "metadata": {
        "colab": {
          "base_uri": "https://localhost:8080/"
        },
        "id": "2UcmC0EPDdit",
        "outputId": "8a122943-b14a-4571-f84a-726e36fea512"
      },
      "outputs": [
        {
          "output_type": "stream",
          "name": "stdout",
          "text": [
            "Class 0 count: 120\n",
            "Class 1 count: 16\n"
          ]
        }
      ],
      "source": [
        "selection_strategy_args['device'] = LSTM_pc20.device\n",
        "pc20_selection_strategy = SMI(training_dataset, Labeled_to_unlabel(training_dataset), ablated_query_set, LSTM_pc20.model, LSTM_pc20.num_cls, selection_strategy_args)\n",
        "pc20_selected_idx = pc20_selection_strategy.select(budget)\n",
        "pc20_human_labeled_dataset = Subset(training_dataset, pc20_selected_idx)\n",
        "\n",
        "pc20_class_counts = [0 for x in range(LSTM_pc20.num_cls)]\n",
        "# Go over the newly labeled dataset, tallying the number of points seen in each class.\n",
        "for _ in pc20_human_labeled_dataset:\n",
        "    pc20_class_counts[_['labels']] += 1\n",
        "\n",
        "# Print each class count\n",
        "\n",
        "for class_idx, class_count in enumerate(pc20_class_counts):\n",
        "    print(F\"Class {class_idx} count: {class_count}\")"
      ]
    },
    {
      "cell_type": "code",
      "execution_count": null,
      "metadata": {
        "id": "Qm71aJoJDh2u"
      },
      "outputs": [],
      "source": [
        "with open('logs.txt', 'a') as logfile:\n",
        "    logfile.write('\\nQuery Set Size w.r.t. Unlabeled Data = {}%'.format(round(20*qry_sz/train_sz, 2)))\n",
        "    logfile.write('\\nQuery Set Usage: 20% \\n')\n",
        "    for class_idx, class_count in enumerate(pc20_class_counts):\n",
        "        logfile.write(F\"Class {class_idx} count: {class_count} \\n\")"
      ]
    },
    {
      "cell_type": "markdown",
      "metadata": {
        "id": "qj1-DsWCDmcM"
      },
      "source": [
        "### Training on Selection using 20% of Query Set"
      ]
    },
    {
      "cell_type": "code",
      "execution_count": null,
      "metadata": {
        "colab": {
          "base_uri": "https://localhost:8080/"
        },
        "id": "LG70qxvnD2tY",
        "outputId": "99c9453e-98ec-47f2-f0b6-1fbc8fa728f2"
      },
      "outputs": [
        {
          "output_type": "stream",
          "name": "stdout",
          "text": [
            "Epoch: 5 \tLoss = 0.10414013692310878\n",
            "Epoch: 10 \tLoss = 0.049236447151218145\n",
            "Epoch: 15 \tLoss = 0.03019376311983381\n",
            "Epoch: 20 \tLoss = 0.02116906376821654\n",
            "Epoch: 25 \tLoss = 0.016108362137206962\n",
            "Epoch: 30 \tLoss = 0.012921845407358237\n"
          ]
        }
      ],
      "source": [
        "losses_pc20 = LSTM_pc20.train(pc20_human_labeled_dataset, epochs=30)"
      ]
    },
    {
      "cell_type": "markdown",
      "metadata": {
        "id": "n0IQfJBiD7y3"
      },
      "source": [
        "### Test Performance - Model trained on selecting using 20% of Query Set"
      ]
    },
    {
      "cell_type": "code",
      "execution_count": null,
      "metadata": {
        "id": "GcOwFE5DD-wg"
      },
      "outputs": [],
      "source": [
        "pc20_metrics = LSTM_pc20.get_test_metrics(testing_dataset)"
      ]
    },
    {
      "cell_type": "code",
      "execution_count": null,
      "metadata": {
        "colab": {
          "base_uri": "https://localhost:8080/"
        },
        "id": "Jvhhi6pFEBmV",
        "outputId": "78827da7-0b5d-4c7c-c195-60476fef0985"
      },
      "outputs": [
        {
          "output_type": "execute_result",
          "data": {
            "text/plain": [
              "{'tp': 258,\n",
              " 'fp': 5,\n",
              " 'fn': 218,\n",
              " 'tn': 475,\n",
              " 'acc': 0.7667364016736402,\n",
              " 'f1': 0.6982408660351827,\n",
              " 'ppv': 0.9809885931558935,\n",
              " 'tpr': 0.542016806722689,\n",
              " 'fpr': 0.010416666666666666,\n",
              " 'fnr': 0.4579831932773109,\n",
              " 'tnr': 0.9895833333333334,\n",
              " 'npv': 0.6854256854256854,\n",
              " 'fdr': 0.019011406844106463,\n",
              " 'mcc': 0.5952024225667268}"
            ]
          },
          "metadata": {},
          "execution_count": 1322
        }
      ],
      "source": [
        "pc20_metrics"
      ]
    },
    {
      "cell_type": "code",
      "execution_count": null,
      "metadata": {
        "id": "Btdc5s2XEDrx"
      },
      "outputs": [],
      "source": [
        "pc20_metrics['name'] = 'Size-20%'"
      ]
    },
    {
      "cell_type": "markdown",
      "metadata": {
        "id": "ZYFM4HVFsb8g"
      },
      "source": [
        "# Experiment Results"
      ]
    },
    {
      "cell_type": "markdown",
      "metadata": {
        "id": "leeb6Dilsfhg"
      },
      "source": [
        "## Graph - Training Losses"
      ]
    },
    {
      "cell_type": "code",
      "execution_count": null,
      "metadata": {
        "id": "8qeX8bCHv789"
      },
      "outputs": [],
      "source": [
        "def plot_multiple_losses(loss_dict):\n",
        "    plt.figure(figsize=(16, 6))\n",
        "    for strat,losses in loss_dict.items():\n",
        "        plt.plot(losses, label=strat)\n",
        "    plt.title('Training Losses for SMI with different Query Set Sizes: Exp {} [SMS Data]'.format(exp_num))\n",
        "    plt.xlabel('Epochs')\n",
        "    plt.ylabel('Loss')\n",
        "    plt.legend()\n",
        "    plt.grid(True)\n",
        "    plt.show()"
      ]
    },
    {
      "cell_type": "code",
      "execution_count": null,
      "metadata": {
        "colab": {
          "base_uri": "https://localhost:8080/",
          "height": 482
        },
        "id": "IuA2TrLDv_xw",
        "outputId": "c0dd62b2-03a2-45b9-8702-41092f827110"
      },
      "outputs": [
        {
          "output_type": "display_data",
          "data": {
            "text/plain": [
              "<Figure size 1600x600 with 1 Axes>"
            ],
            "image/png": "[encoded data removed]"
          },
          "metadata": {}
        }
      ],
      "source": [
        "plot_multiple_losses({\n",
        "    '20%': losses_pc20, '40%': losses_pc40,\n",
        "    '60%': losses_pc60, '80%': losses_pc80,\n",
        "    '100%': losses_pc100\n",
        "})"
      ]
    },
    {
      "cell_type": "markdown",
      "metadata": {
        "id": "ug3ekUV_iQJy"
      },
      "source": [
        "## Metric Compilation"
      ]
    },
    {
      "cell_type": "code",
      "execution_count": null,
      "metadata": {
        "id": "R_594AEDeBTP"
      },
      "outputs": [],
      "source": [
        "metric_list = [pc20_metrics, pc40_metrics, pc60_metrics,\n",
        "               pc80_metrics, pc100_metrics]"
      ]
    },
    {
      "cell_type": "code",
      "execution_count": null,
      "metadata": {
        "colab": {
          "base_uri": "https://localhost:8080/"
        },
        "id": "bvbcFg7AiVYp",
        "outputId": "bcd8250a-a861-4134-9c18-0ac559715302"
      },
      "outputs": [
        {
          "output_type": "execute_result",
          "data": {
            "text/plain": [
              "{'tp': {'Size-20%': 258,\n",
              "  'Size-40%': 215,\n",
              "  'Size-60%': 181,\n",
              "  'Size-80%': 126,\n",
              "  'Size-100%': 229},\n",
              " 'fp': {'Size-20%': 5,\n",
              "  'Size-40%': 1,\n",
              "  'Size-60%': 3,\n",
              "  'Size-80%': 2,\n",
              "  'Size-100%': 3},\n",
              " 'fn': {'Size-20%': 218,\n",
              "  'Size-40%': 261,\n",
              "  'Size-60%': 295,\n",
              "  'Size-80%': 350,\n",
              "  'Size-100%': 247},\n",
              " 'tn': {'Size-20%': 475,\n",
              "  'Size-40%': 479,\n",
              "  'Size-60%': 477,\n",
              "  'Size-80%': 478,\n",
              "  'Size-100%': 477},\n",
              " 'acc': {'Size-20%': 0.7667364016736402,\n",
              "  'Size-40%': 0.7259414225941423,\n",
              "  'Size-60%': 0.6882845188284519,\n",
              "  'Size-80%': 0.6317991631799164,\n",
              "  'Size-100%': 0.7384937238493724},\n",
              " 'f1': {'Size-20%': 0.6982408660351827,\n",
              "  'Size-40%': 0.6213872832369942,\n",
              "  'Size-60%': 0.5484848484848485,\n",
              "  'Size-80%': 0.41721854304635764,\n",
              "  'Size-100%': 0.6468926553672316},\n",
              " 'ppv': {'Size-20%': 0.9809885931558935,\n",
              "  'Size-40%': 0.9953703703703703,\n",
              "  'Size-60%': 0.9836956521739131,\n",
              "  'Size-80%': 0.984375,\n",
              "  'Size-100%': 0.9870689655172413},\n",
              " 'tpr': {'Size-20%': 0.542016806722689,\n",
              "  'Size-40%': 0.45168067226890757,\n",
              "  'Size-60%': 0.3802521008403361,\n",
              "  'Size-80%': 0.2647058823529412,\n",
              "  'Size-100%': 0.4810924369747899},\n",
              " 'fpr': {'Size-20%': 0.010416666666666666,\n",
              "  'Size-40%': 0.0020833333333333333,\n",
              "  'Size-60%': 0.00625,\n",
              "  'Size-80%': 0.004166666666666667,\n",
              "  'Size-100%': 0.00625},\n",
              " 'fnr': {'Size-20%': 0.4579831932773109,\n",
              "  'Size-40%': 0.5483193277310925,\n",
              "  'Size-60%': 0.6197478991596639,\n",
              "  'Size-80%': 0.7352941176470589,\n",
              "  'Size-100%': 0.5189075630252101},\n",
              " 'tnr': {'Size-20%': 0.9895833333333334,\n",
              "  'Size-40%': 0.9979166666666667,\n",
              "  'Size-60%': 0.99375,\n",
              "  'Size-80%': 0.9958333333333333,\n",
              "  'Size-100%': 0.99375},\n",
              " 'npv': {'Size-20%': 0.6854256854256854,\n",
              "  'Size-40%': 0.6472972972972973,\n",
              "  'Size-60%': 0.6178756476683938,\n",
              "  'Size-80%': 0.5772946859903382,\n",
              "  'Size-100%': 0.6588397790055248},\n",
              " 'fdr': {'Size-20%': 0.019011406844106463,\n",
              "  'Size-40%': 0.004629629629629629,\n",
              "  'Size-60%': 0.016304347826086956,\n",
              "  'Size-80%': 0.015625,\n",
              "  'Size-100%': 0.01293103448275862},\n",
              " 'mcc': {'Size-20%': 0.5952024225667268,\n",
              "  'Size-40%': 0.5375329508070322,\n",
              "  'Size-60%': 0.474329980020528,\n",
              "  'Size-80%': 0.3825401671232432,\n",
              "  'Size-100%': 0.5538094277930968}}"
            ]
          },
          "metadata": {},
          "execution_count": 1327
        }
      ],
      "source": [
        "metrics_compiled = {k: {\n",
        "    metric['name']: metric[k] for metric in metric_list\n",
        "    } for k in metric_list[0] if (k!='name')}\n",
        "metrics_compiled"
      ]
    },
    {
      "cell_type": "code",
      "execution_count": null,
      "metadata": {
        "id": "gDB2jdICjepx"
      },
      "outputs": [],
      "source": [
        "with open('logs.txt', 'a') as tf:\n",
        "    tf.write('\\n\\nExp{}_metrics'.format(exp_num))\n",
        "    tf.write(' = {')\n",
        "    for k in metric_list[0]:\n",
        "        if (k!='name'):\n",
        "            tf.write(\"'{}': \".format(k))\n",
        "            tf.write('{')\n",
        "            for metric in metric_list[:-1]:\n",
        "                tf.write(\"'{}': {}, \".format(metric['name'], round(metric[k], 5)))\n",
        "            tf.write(\"'{}': {}\".format(metric_list[-1]['name'], round(metric_list[-1][k], 5)))\n",
        "            tf.write('}, ')\n",
        "\n",
        "with open('logs.txt', 'r') as tf:\n",
        "    contents = tf.read()\n",
        "contents = contents[:-2]\n",
        "with open('logs.txt', 'w') as tf:\n",
        "    tf.write(contents)\n",
        "    tf.write('}')\n"
      ]
    },
    {
      "cell_type": "markdown",
      "source": [
        "NOTE: Execute only till here for each experimental run. After each run, copy metrics generated in above output cell or output txt file and paste in the below cell for the respective experiment. After completing all 10 experiments, run below cells only by uncommenting to generate mean metrics and performance graphs."
      ],
      "metadata": {
        "id": "NUIWdFE-veMf"
      }
    },
    {
      "cell_type": "markdown",
      "metadata": {
        "id": "SMui5O7llL6r"
      },
      "source": [
        "## Overall Metric Stats"
      ]
    },
    {
      "cell_type": "code",
      "execution_count": null,
      "metadata": {
        "id": "VP0MrK-RxPXr"
      },
      "outputs": [],
      "source": [
        "def get_stats(values):\n",
        "    return {'range': (min(values), max(values)), 'avg': round(sum(values)/len(values), 5), 'std_dev': round(stat.stdev(values), 5)}"
      ]
    },
    {
      "cell_type": "code",
      "execution_count": null,
      "metadata": {
        "id": "tFvCPs9EyfYW"
      },
      "outputs": [],
      "source": [
        "def end_of_exp():\n",
        "    Exp1_metrics = {'tp': {'Size-20%': 47, 'Size-40%': 197, 'Size-60%': 259, 'Size-80%': 286, 'Size-100%': 235}, 'fp': {'Size-20%': 0, 'Size-40%': 3, 'Size-60%': 10, 'Size-80%': 11, 'Size-100%': 10}, 'fn': {'Size-20%': 429, 'Size-40%': 279, 'Size-60%': 217, 'Size-80%': 190, 'Size-100%': 241}, 'tn': {'Size-20%': 480, 'Size-40%': 477, 'Size-60%': 470, 'Size-80%': 469, 'Size-100%': 470}, 'acc': {'Size-20%': 0.55126, 'Size-40%': 0.70502, 'Size-60%': 0.76255, 'Size-80%': 0.78975, 'Size-100%': 0.73745}, 'f1': {'Size-20%': 0.17973, 'Size-40%': 0.58284, 'Size-60%': 0.6953, 'Size-80%': 0.73997, 'Size-100%': 0.65187}, 'ppv': {'Size-20%': 1.0, 'Size-40%': 0.985, 'Size-60%': 0.96283, 'Size-80%': 0.96296, 'Size-100%': 0.95918}, 'tpr': {'Size-20%': 0.09874, 'Size-40%': 0.41387, 'Size-60%': 0.54412, 'Size-80%': 0.60084, 'Size-100%': 0.4937}, 'fpr': {'Size-20%': 0.0, 'Size-40%': 0.00625, 'Size-60%': 0.02083, 'Size-80%': 0.02292, 'Size-100%': 0.02083}, 'fnr': {'Size-20%': 0.90126, 'Size-40%': 0.58613, 'Size-60%': 0.45588, 'Size-80%': 0.39916, 'Size-100%': 0.5063}, 'tnr': {'Size-20%': 1.0, 'Size-40%': 0.99375, 'Size-60%': 0.97917, 'Size-80%': 0.97708, 'Size-100%': 0.97917}, 'npv': {'Size-20%': 0.52805, 'Size-40%': 0.63095, 'Size-60%': 0.68413, 'Size-80%': 0.71168, 'Size-100%': 0.66104}, 'fdr': {'Size-20%': 0.0, 'Size-40%': 0.015, 'Size-60%': 0.03717, 'Size-80%': 0.03704, 'Size-100%': 0.04082}, 'mcc': {'Size-20%': 0.22834, 'Size-40%': 0.50107, 'Size-60%': 0.58184, 'Size-80%': 0.62442, 'Size-100%': 0.54156}}\n",
        "    Exp2_metrics = {'tp': {'Size-20%': 162, 'Size-40%': 244, 'Size-60%': 226, 'Size-80%': 197, 'Size-100%': 232}, 'fp': {'Size-20%': 7, 'Size-40%': 10, 'Size-60%': 9, 'Size-80%': 5, 'Size-100%': 7}, 'fn': {'Size-20%': 314, 'Size-40%': 232, 'Size-60%': 250, 'Size-80%': 279, 'Size-100%': 244}, 'tn': {'Size-20%': 472, 'Size-40%': 469, 'Size-60%': 470, 'Size-80%': 474, 'Size-100%': 472}, 'acc': {'Size-20%': 0.66387, 'Size-40%': 0.7466, 'Size-60%': 0.7288, 'Size-80%': 0.70262, 'Size-100%': 0.73717}, 'f1': {'Size-20%': 0.50233, 'Size-40%': 0.66849, 'Size-60%': 0.63572, 'Size-80%': 0.58112, 'Size-100%': 0.64895}, 'ppv': {'Size-20%': 0.95858, 'Size-40%': 0.96063, 'Size-60%': 0.9617, 'Size-80%': 0.97525, 'Size-100%': 0.97071}, 'tpr': {'Size-20%': 0.34034, 'Size-40%': 0.51261, 'Size-60%': 0.47479, 'Size-80%': 0.41387, 'Size-100%': 0.48739}, 'fpr': {'Size-20%': 0.01461, 'Size-40%': 0.02088, 'Size-60%': 0.01879, 'Size-80%': 0.01044, 'Size-100%': 0.01461}, 'fnr': {'Size-20%': 0.65966, 'Size-40%': 0.48739, 'Size-60%': 0.52521, 'Size-80%': 0.58613, 'Size-100%': 0.51261}, 'tnr': {'Size-20%': 0.98539, 'Size-40%': 0.97912, 'Size-60%': 0.98121, 'Size-80%': 0.98956, 'Size-100%': 0.98539}, 'npv': {'Size-20%': 0.60051, 'Size-40%': 0.66904, 'Size-60%': 0.65278, 'Size-80%': 0.62948, 'Size-100%': 0.65922}, 'fdr': {'Size-20%': 0.04142, 'Size-40%': 0.03937, 'Size-60%': 0.0383, 'Size-80%': 0.02475, 'Size-100%': 0.02929}, 'mcc': {'Size-20%': 0.42674, 'Size-40%': 0.55644, 'Size-60%': 0.52934, 'Size-80%': 0.49393, 'Size-100%': 0.54573}}\n",
        "    Exp3_metrics = {'tp': {'Size-20%': 116, 'Size-40%': 173, 'Size-60%': 285, 'Size-80%': 193, 'Size-100%': 262}, 'fp': {'Size-20%': 0, 'Size-40%': 1, 'Size-60%': 4, 'Size-80%': 2, 'Size-100%': 5}, 'fn': {'Size-20%': 360, 'Size-40%': 303, 'Size-60%': 191, 'Size-80%': 283, 'Size-100%': 214}, 'tn': {'Size-20%': 479, 'Size-40%': 478, 'Size-60%': 475, 'Size-80%': 477, 'Size-100%': 474}, 'acc': {'Size-20%': 0.62304, 'Size-40%': 0.68168, 'Size-60%': 0.79581, 'Size-80%': 0.70157, 'Size-100%': 0.77068}, 'f1': {'Size-20%': 0.39189, 'Size-40%': 0.53231, 'Size-60%': 0.7451, 'Size-80%': 0.57526, 'Size-100%': 0.70525}, 'ppv': {'Size-20%': 1.0, 'Size-40%': 0.99425, 'Size-60%': 0.98616, 'Size-80%': 0.98974, 'Size-100%': 0.98127}, 'tpr': {'Size-20%': 0.2437, 'Size-40%': 0.36345, 'Size-60%': 0.59874, 'Size-80%': 0.40546, 'Size-100%': 0.55042}, 'fpr': {'Size-20%': 0.0, 'Size-40%': 0.00209, 'Size-60%': 0.00835, 'Size-80%': 0.00418, 'Size-100%': 0.01044}, 'fnr': {'Size-20%': 0.7563, 'Size-40%': 0.63655, 'Size-60%': 0.40126, 'Size-80%': 0.59454, 'Size-100%': 0.44958}, 'tnr': {'Size-20%': 1.0, 'Size-40%': 0.99791, 'Size-60%': 0.99165, 'Size-80%': 0.99582, 'Size-100%': 0.98956}, 'npv': {'Size-20%': 0.57092, 'Size-40%': 0.61204, 'Size-60%': 0.71321, 'Size-80%': 0.62763, 'Size-100%': 0.68895}, 'fdr': {'Size-20%': 0.0, 'Size-40%': 0.00575, 'Size-60%': 0.01384, 'Size-80%': 0.01026, 'Size-100%': 0.01873}, 'mcc': {'Size-20%': 0.373, 'Size-40%': 0.46807, 'Size-60%': 0.64257, 'Size-80%': 0.49774, 'Size-100%': 0.60159}}\n",
        "    Exp4_metrics = {'tp': {'Size-20%': 16, 'Size-40%': 227, 'Size-60%': 196, 'Size-80%': 223, 'Size-100%': 141}, 'fp': {'Size-20%': 0, 'Size-40%': 6, 'Size-60%': 2, 'Size-80%': 6, 'Size-100%': 0}, 'fn': {'Size-20%': 460, 'Size-40%': 249, 'Size-60%': 280, 'Size-80%': 253, 'Size-100%': 335}, 'tn': {'Size-20%': 479, 'Size-40%': 473, 'Size-60%': 477, 'Size-80%': 473, 'Size-100%': 479}, 'acc': {'Size-20%': 0.51832, 'Size-40%': 0.73298, 'Size-60%': 0.70471, 'Size-80%': 0.7288, 'Size-100%': 0.64921}, 'f1': {'Size-20%': 0.06504, 'Size-40%': 0.64034, 'Size-60%': 0.5816, 'Size-80%': 0.63262, 'Size-100%': 0.45705}, 'ppv': {'Size-20%': 1.0, 'Size-40%': 0.97425, 'Size-60%': 0.9899, 'Size-80%': 0.9738, 'Size-100%': 1.0}, 'tpr': {'Size-20%': 0.03361, 'Size-40%': 0.47689, 'Size-60%': 0.41176, 'Size-80%': 0.46849, 'Size-100%': 0.29622}, 'fpr': {'Size-20%': 0.0, 'Size-40%': 0.01253, 'Size-60%': 0.00418, 'Size-80%': 0.01253, 'Size-100%': 0.0}, 'fnr': {'Size-20%': 0.96639, 'Size-40%': 0.52311, 'Size-60%': 0.58824, 'Size-80%': 0.53151, 'Size-100%': 0.70378}, 'tnr': {'Size-20%': 1.0, 'Size-40%': 0.98747, 'Size-60%': 0.99582, 'Size-80%': 0.98747, 'Size-100%': 1.0}, 'npv': {'Size-20%': 0.51012, 'Size-40%': 0.65512, 'Size-60%': 0.63012, 'Size-80%': 0.65152, 'Size-100%': 0.58845}, 'fdr': {'Size-20%': 0.0, 'Size-40%': 0.02575, 'Size-60%': 0.0101, 'Size-80%': 0.0262, 'Size-100%': 0.0}, 'mcc': {'Size-20%': 0.13095, 'Size-40%': 0.54061, 'Size-60%': 0.50271, 'Size-80%': 0.53397, 'Size-100%': 0.4175}}\n",
        "    Exp5_metrics = {'tp': {'Size-20%': 148, 'Size-40%': 161, 'Size-60%': 134, 'Size-80%': 159, 'Size-100%': 185}, 'fp': {'Size-20%': 1, 'Size-40%': 1, 'Size-60%': 1, 'Size-80%': 2, 'Size-100%': 1}, 'fn': {'Size-20%': 328, 'Size-40%': 315, 'Size-60%': 342, 'Size-80%': 317, 'Size-100%': 291}, 'tn': {'Size-20%': 479, 'Size-40%': 479, 'Size-60%': 479, 'Size-80%': 478, 'Size-100%': 479}, 'acc': {'Size-20%': 0.65586, 'Size-40%': 0.66946, 'Size-60%': 0.64121, 'Size-80%': 0.66632, 'Size-100%': 0.69456}, 'f1': {'Size-20%': 0.4736, 'Size-40%': 0.5047, 'Size-60%': 0.43863, 'Size-80%': 0.49922, 'Size-100%': 0.55891}, 'ppv': {'Size-20%': 0.99329, 'Size-40%': 0.99383, 'Size-60%': 0.99259, 'Size-80%': 0.98758, 'Size-100%': 0.99462}, 'tpr': {'Size-20%': 0.31092, 'Size-40%': 0.33824, 'Size-60%': 0.28151, 'Size-80%': 0.33403, 'Size-100%': 0.38866}, 'fpr': {'Size-20%': 0.00208, 'Size-40%': 0.00208, 'Size-60%': 0.00208, 'Size-80%': 0.00417, 'Size-100%': 0.00208}, 'fnr': {'Size-20%': 0.68908, 'Size-40%': 0.66176, 'Size-60%': 0.71849, 'Size-80%': 0.66597, 'Size-100%': 0.61134}, 'tnr': {'Size-20%': 0.99792, 'Size-40%': 0.99792, 'Size-60%': 0.99792, 'Size-80%': 0.99583, 'Size-100%': 0.99792}, 'npv': {'Size-20%': 0.59356, 'Size-40%': 0.60327, 'Size-60%': 0.58343, 'Size-80%': 0.60126, 'Size-100%': 0.62208}, 'fdr': {'Size-20%': 0.00671, 'Size-40%': 0.00617, 'Size-60%': 0.00741, 'Size-80%': 0.01242, 'Size-100%': 0.00538}, 'mcc': {'Size-20%': 0.42573, 'Size-40%': 0.44801, 'Size-60%': 0.4012, 'Size-80%': 0.44072, 'Size-100%': 0.48826}}\n",
        "    Exp6_metrics = {'tp': {'Size-20%': 85, 'Size-40%': 107, 'Size-60%': 234, 'Size-80%': 220, 'Size-100%': 278}, 'fp': {'Size-20%': 0, 'Size-40%': 0, 'Size-60%': 4, 'Size-80%': 1, 'Size-100%': 7}, 'fn': {'Size-20%': 391, 'Size-40%': 369, 'Size-60%': 242, 'Size-80%': 256, 'Size-100%': 198}, 'tn': {'Size-20%': 479, 'Size-40%': 479, 'Size-60%': 475, 'Size-80%': 478, 'Size-100%': 472}, 'acc': {'Size-20%': 0.59058, 'Size-40%': 0.61361, 'Size-60%': 0.74241, 'Size-80%': 0.73089, 'Size-100%': 0.78534}, 'f1': {'Size-20%': 0.30303, 'Size-40%': 0.36707, 'Size-60%': 0.65546, 'Size-80%': 0.63128, 'Size-100%': 0.73062}, 'ppv': {'Size-20%': 1.0, 'Size-40%': 1.0, 'Size-60%': 0.98319, 'Size-80%': 0.99548, 'Size-100%': 0.97544}, 'tpr': {'Size-20%': 0.17857, 'Size-40%': 0.22479, 'Size-60%': 0.4916, 'Size-80%': 0.46218, 'Size-100%': 0.58403}, 'fpr': {'Size-20%': 0.0, 'Size-40%': 0.0, 'Size-60%': 0.00835, 'Size-80%': 0.00209, 'Size-100%': 0.01461}, 'fnr': {'Size-20%': 0.82143, 'Size-40%': 0.77521, 'Size-60%': 0.5084, 'Size-80%': 0.53782, 'Size-100%': 0.41597}, 'tnr': {'Size-20%': 1.0, 'Size-40%': 1.0, 'Size-60%': 0.99165, 'Size-80%': 0.99791, 'Size-100%': 0.98539}, 'npv': {'Size-20%': 0.55057, 'Size-40%': 0.56486, 'Size-60%': 0.66248, 'Size-80%': 0.65123, 'Size-100%': 0.70448}, 'fdr': {'Size-20%': 0.0, 'Size-40%': 0.0, 'Size-60%': 0.01681, 'Size-80%': 0.00452, 'Size-100%': 0.02456}, 'mcc': {'Size-20%': 0.31356, 'Size-40%': 0.35633, 'Size-60%': 0.55859, 'Size-80%': 0.54548, 'Size-100%': 0.62222}}\n",
        "    Exp7_metrics = {'tp': {'Size-20%': 198, 'Size-40%': 156, 'Size-60%': 326, 'Size-80%': 314, 'Size-100%': 202}, 'fp': {'Size-20%': 3, 'Size-40%': 0, 'Size-60%': 5, 'Size-80%': 14, 'Size-100%': 1}, 'fn': {'Size-20%': 278, 'Size-40%': 320, 'Size-60%': 150, 'Size-80%': 162, 'Size-100%': 274}, 'tn': {'Size-20%': 477, 'Size-40%': 480, 'Size-60%': 475, 'Size-80%': 466, 'Size-100%': 479}, 'acc': {'Size-20%': 0.70607, 'Size-40%': 0.66527, 'Size-60%': 0.83787, 'Size-80%': 0.8159, 'Size-100%': 0.71234}, 'f1': {'Size-20%': 0.58493, 'Size-40%': 0.49367, 'Size-60%': 0.80793, 'Size-80%': 0.78109, 'Size-100%': 0.59499}, 'ppv': {'Size-20%': 0.98507, 'Size-40%': 1.0, 'Size-60%': 0.98489, 'Size-80%': 0.95732, 'Size-100%': 0.99507}, 'tpr': {'Size-20%': 0.41597, 'Size-40%': 0.32773, 'Size-60%': 0.68487, 'Size-80%': 0.65966, 'Size-100%': 0.42437}, 'fpr': {'Size-20%': 0.00625, 'Size-40%': 0.0, 'Size-60%': 0.01042, 'Size-80%': 0.02917, 'Size-100%': 0.00208}, 'fnr': {'Size-20%': 0.58403, 'Size-40%': 0.67227, 'Size-60%': 0.31513, 'Size-80%': 0.34034, 'Size-100%': 0.57563}, 'tnr': {'Size-20%': 0.99375, 'Size-40%': 1.0, 'Size-60%': 0.98958, 'Size-80%': 0.97083, 'Size-100%': 0.99792}, 'npv': {'Size-20%': 0.63179, 'Size-40%': 0.6, 'Size-60%': 0.76, 'Size-80%': 0.74204, 'Size-100%': 0.63612}, 'fdr': {'Size-20%': 0.01493, 'Size-40%': 0.0, 'Size-60%': 0.01511, 'Size-80%': 0.04268, 'Size-100%': 0.00493}, 'mcc': {'Size-20%': 0.50273, 'Size-40%': 0.44344, 'Size-60%': 0.7088, 'Size-80%': 0.66403, 'Size-100%': 0.51628}}\n",
        "    Exp8_metrics = {'tp': {'Size-20%': 156, 'Size-40%': 188, 'Size-60%': 59, 'Size-80%': 17, 'Size-100%': 187}, 'fp': {'Size-20%': 0, 'Size-40%': 0, 'Size-60%': 0, 'Size-80%': 0, 'Size-100%': 1}, 'fn': {'Size-20%': 320, 'Size-40%': 288, 'Size-60%': 417, 'Size-80%': 459, 'Size-100%': 289}, 'tn': {'Size-20%': 479, 'Size-40%': 479, 'Size-60%': 479, 'Size-80%': 479, 'Size-100%': 478}, 'acc': {'Size-20%': 0.66492, 'Size-40%': 0.69843, 'Size-60%': 0.56335, 'Size-80%': 0.51937, 'Size-100%': 0.69634}, 'f1': {'Size-20%': 0.49367, 'Size-40%': 0.56627, 'Size-60%': 0.22056, 'Size-80%': 0.06897, 'Size-100%': 0.56325}, 'ppv': {'Size-20%': 1.0, 'Size-40%': 1.0, 'Size-60%': 1.0, 'Size-80%': 1.0, 'Size-100%': 0.99468}, 'tpr': {'Size-20%': 0.32773, 'Size-40%': 0.39496, 'Size-60%': 0.12395, 'Size-80%': 0.03571, 'Size-100%': 0.39286}, 'fpr': {'Size-20%': 0.0, 'Size-40%': 0.0, 'Size-60%': 0.0, 'Size-80%': 0.0, 'Size-100%': 0.00209}, 'fnr': {'Size-20%': 0.67227, 'Size-40%': 0.60504, 'Size-60%': 0.87605, 'Size-80%': 0.96429, 'Size-100%': 0.60714}, 'tnr': {'Size-20%': 1.0, 'Size-40%': 1.0, 'Size-60%': 1.0, 'Size-80%': 1.0, 'Size-100%': 0.99791}, 'npv': {'Size-20%': 0.5995, 'Size-40%': 0.62451, 'Size-60%': 0.5346, 'Size-80%': 0.51066, 'Size-100%': 0.62321}, 'fdr': {'Size-20%': 0.0, 'Size-40%': 0.0, 'Size-60%': 0.0, 'Size-80%': 0.0, 'Size-100%': 0.00532}, 'mcc': {'Size-20%': 0.44325, 'Size-40%': 0.49664, 'Size-60%': 0.25742, 'Size-80%': 0.13505, 'Size-100%': 0.49138}}\n",
        "    Exp9_metrics = {'tp': {'Size-20%': 141, 'Size-40%': 132, 'Size-60%': 117, 'Size-80%': 236, 'Size-100%': 292}, 'fp': {'Size-20%': 1, 'Size-40%': 2, 'Size-60%': 3, 'Size-80%': 4, 'Size-100%': 11}, 'fn': {'Size-20%': 335, 'Size-40%': 344, 'Size-60%': 359, 'Size-80%': 240, 'Size-100%': 184}, 'tn': {'Size-20%': 478, 'Size-40%': 477, 'Size-60%': 476, 'Size-80%': 475, 'Size-100%': 468}, 'acc': {'Size-20%': 0.64817, 'Size-40%': 0.6377, 'Size-60%': 0.62094, 'Size-80%': 0.7445, 'Size-100%': 0.79581}, 'f1': {'Size-20%': 0.45631, 'Size-40%': 0.43279, 'Size-60%': 0.39262, 'Size-80%': 0.65922, 'Size-100%': 0.74968}, 'ppv': {'Size-20%': 0.99296, 'Size-40%': 0.98507, 'Size-60%': 0.975, 'Size-80%': 0.98333, 'Size-100%': 0.9637}, 'tpr': {'Size-20%': 0.29622, 'Size-40%': 0.27731, 'Size-60%': 0.2458, 'Size-80%': 0.4958, 'Size-100%': 0.61345}, 'fpr': {'Size-20%': 0.00209, 'Size-40%': 0.00418, 'Size-60%': 0.00626, 'Size-80%': 0.00835, 'Size-100%': 0.02296}, 'fnr': {'Size-20%': 0.70378, 'Size-40%': 0.72269, 'Size-60%': 0.7542, 'Size-80%': 0.5042, 'Size-100%': 0.38655}, 'tnr': {'Size-20%': 0.99791, 'Size-40%': 0.99582, 'Size-60%': 0.99374, 'Size-80%': 0.99165, 'Size-100%': 0.97704}, 'npv': {'Size-20%': 0.58795, 'Size-40%': 0.581, 'Size-60%': 0.57006, 'Size-80%': 0.66434, 'Size-100%': 0.71779}, 'fdr': {'Size-20%': 0.00704, 'Size-40%': 0.01493, 'Size-60%': 0.025, 'Size-80%': 0.01667, 'Size-100%': 0.0363}, 'mcc': {'Size-20%': 0.41335, 'Size-40%': 0.39321, 'Size-60%': 0.36133, 'Size-80%': 0.56188, 'Size-100%': 0.63435}}\n",
        "    Exp10_metrics = {'tp': {'Size-20%': 258, 'Size-40%': 215, 'Size-60%': 181, 'Size-80%': 126, 'Size-100%': 229}, 'fp': {'Size-20%': 5, 'Size-40%': 1, 'Size-60%': 3, 'Size-80%': 2, 'Size-100%': 3}, 'fn': {'Size-20%': 218, 'Size-40%': 261, 'Size-60%': 295, 'Size-80%': 350, 'Size-100%': 247}, 'tn': {'Size-20%': 475, 'Size-40%': 479, 'Size-60%': 477, 'Size-80%': 478, 'Size-100%': 477}, 'acc': {'Size-20%': 0.76674, 'Size-40%': 0.72594, 'Size-60%': 0.68828, 'Size-80%': 0.6318, 'Size-100%': 0.73849}, 'f1': {'Size-20%': 0.69824, 'Size-40%': 0.62139, 'Size-60%': 0.54848, 'Size-80%': 0.41722, 'Size-100%': 0.64689}, 'ppv': {'Size-20%': 0.98099, 'Size-40%': 0.99537, 'Size-60%': 0.9837, 'Size-80%': 0.98438, 'Size-100%': 0.98707}, 'tpr': {'Size-20%': 0.54202, 'Size-40%': 0.45168, 'Size-60%': 0.38025, 'Size-80%': 0.26471, 'Size-100%': 0.48109}, 'fpr': {'Size-20%': 0.01042, 'Size-40%': 0.00208, 'Size-60%': 0.00625, 'Size-80%': 0.00417, 'Size-100%': 0.00625}, 'fnr': {'Size-20%': 0.45798, 'Size-40%': 0.54832, 'Size-60%': 0.61975, 'Size-80%': 0.73529, 'Size-100%': 0.51891}, 'tnr': {'Size-20%': 0.98958, 'Size-40%': 0.99792, 'Size-60%': 0.99375, 'Size-80%': 0.99583, 'Size-100%': 0.99375}, 'npv': {'Size-20%': 0.68543, 'Size-40%': 0.6473, 'Size-60%': 0.61788, 'Size-80%': 0.57729, 'Size-100%': 0.65884}, 'fdr': {'Size-20%': 0.01901, 'Size-40%': 0.00463, 'Size-60%': 0.0163, 'Size-80%': 0.01562, 'Size-100%': 0.01293}, 'mcc': {'Size-20%': 0.5952, 'Size-40%': 0.53753, 'Size-60%': 0.47433, 'Size-80%': 0.38254, 'Size-100%': 0.55381}}\n",
        "    Metric_stats = {k: {\n",
        "        metric: get_stats([exp[k][metric] for exp in [\n",
        "            Exp1_metrics, Exp2_metrics, Exp3_metrics, Exp4_metrics, Exp5_metrics,\n",
        "            Exp6_metrics, Exp7_metrics, Exp8_metrics, Exp9_metrics, Exp10_metrics\n",
        "            ]]) for metric in Exp1_metrics[k]} for k in Exp1_metrics}\n",
        "    return Metric_stats"
      ]
    },
    {
      "cell_type": "code",
      "execution_count": null,
      "metadata": {
        "id": "HgMoaMjdyidE",
        "colab": {
          "base_uri": "https://localhost:8080/"
        },
        "outputId": "c5ad1508-d638-43a3-dc3a-0c334b58fa01"
      },
      "outputs": [
        {
          "output_type": "execute_result",
          "data": {
            "text/plain": [
              "{'tp': {'Size-20%': {'range': (16, 258), 'avg': 132.7, 'std_dev': 70.85674},\n",
              "  'Size-40%': {'range': (107, 244), 'avg': 180.0, 'std_dev': 42.82004},\n",
              "  'Size-60%': {'range': (59, 326), 'avg': 201.7, 'std_dev': 81.57348},\n",
              "  'Size-80%': {'range': (17, 314), 'avg': 197.1, 'std_dev': 83.82316},\n",
              "  'Size-100%': {'range': (141, 292), 'avg': 224.3, 'std_dev': 46.49504}},\n",
              " 'fp': {'Size-20%': {'range': (0, 7), 'avg': 1.7, 'std_dev': 2.49666},\n",
              "  'Size-40%': {'range': (0, 10), 'avg': 2.4, 'std_dev': 3.23866},\n",
              "  'Size-60%': {'range': (0, 10), 'avg': 4.1, 'std_dev': 3.21282},\n",
              "  'Size-80%': {'range': (0, 14), 'avg': 4.7, 'std_dev': 4.54728},\n",
              "  'Size-100%': {'range': (0, 11), 'avg': 4.6, 'std_dev': 4.00555}},\n",
              " 'fn': {'Size-20%': {'range': (218, 460), 'avg': 343.3, 'std_dev': 70.85674},\n",
              "  'Size-40%': {'range': (232, 369), 'avg': 296.0, 'std_dev': 42.82004},\n",
              "  'Size-60%': {'range': (150, 417), 'avg': 274.3, 'std_dev': 81.57348},\n",
              "  'Size-80%': {'range': (162, 459), 'avg': 278.9, 'std_dev': 83.82316},\n",
              "  'Size-100%': {'range': (184, 335), 'avg': 251.7, 'std_dev': 46.49504}},\n",
              " 'tn': {'Size-20%': {'range': (472, 480), 'avg': 477.7, 'std_dev': 2.45176},\n",
              "  'Size-40%': {'range': (469, 480), 'avg': 477.0, 'std_dev': 3.43188},\n",
              "  'Size-60%': {'range': (470, 479), 'avg': 475.3, 'std_dev': 3.16403},\n",
              "  'Size-80%': {'range': (466, 479), 'avg': 474.7, 'std_dev': 4.32178},\n",
              "  'Size-100%': {'range': (468, 479), 'avg': 474.8, 'std_dev': 4.13118}},\n",
              " 'acc': {'Size-20%': {'range': (0.51832, 0.76674),\n",
              "   'avg': 0.63888,\n",
              "   'std_dev': 0.07252},\n",
              "  'Size-40%': {'range': (0.61361, 0.7466), 'avg': 0.68767, 'std_dev': 0.0425},\n",
              "  'Size-60%': {'range': (0.56335, 0.83787),\n",
              "   'avg': 0.70859,\n",
              "   'std_dev': 0.08335},\n",
              "  'Size-80%': {'range': (0.51937, 0.8159), 'avg': 0.70315, 'std_dev': 0.08405},\n",
              "  'Size-100%': {'range': (0.64921, 0.79581),\n",
              "   'avg': 0.73174,\n",
              "   'std_dev': 0.04525}},\n",
              " 'f1': {'Size-20%': {'range': (0.06504, 0.69824),\n",
              "   'avg': 0.41488,\n",
              "   'std_dev': 0.18825},\n",
              "  'Size-40%': {'range': (0.36707, 0.66849),\n",
              "   'avg': 0.54099,\n",
              "   'std_dev': 0.09462},\n",
              "  'Size-60%': {'range': (0.22056, 0.80793),\n",
              "   'avg': 0.57214,\n",
              "   'std_dev': 0.17826},\n",
              "  'Size-80%': {'range': (0.06897, 0.78109), 'avg': 0.5586, 'std_dev': 0.20202},\n",
              "  'Size-100%': {'range': (0.45705, 0.74968),\n",
              "   'avg': 0.63075,\n",
              "   'std_dev': 0.08936}},\n",
              " 'ppv': {'Size-20%': {'range': (0.95858, 1.0),\n",
              "   'avg': 0.99109,\n",
              "   'std_dev': 0.01334},\n",
              "  'Size-40%': {'range': (0.96063, 1.0), 'avg': 0.98884, 'std_dev': 0.01294},\n",
              "  'Size-60%': {'range': (0.9617, 1.0), 'avg': 0.982, 'std_dev': 0.01228},\n",
              "  'Size-80%': {'range': (0.95732, 1.0), 'avg': 0.98098, 'std_dev': 0.01366},\n",
              "  'Size-100%': {'range': (0.95918, 1.0), 'avg': 0.98217, 'std_dev': 0.0144}},\n",
              " 'tpr': {'Size-20%': {'range': (0.03361, 0.54202),\n",
              "   'avg': 0.27878,\n",
              "   'std_dev': 0.14886},\n",
              "  'Size-40%': {'range': (0.22479, 0.51261),\n",
              "   'avg': 0.37815,\n",
              "   'std_dev': 0.08996},\n",
              "  'Size-60%': {'range': (0.12395, 0.68487),\n",
              "   'avg': 0.42374,\n",
              "   'std_dev': 0.17137},\n",
              "  'Size-80%': {'range': (0.03571, 0.65966), 'avg': 0.41408, 'std_dev': 0.1761},\n",
              "  'Size-100%': {'range': (0.29622, 0.61345),\n",
              "   'avg': 0.47122,\n",
              "   'std_dev': 0.09768}},\n",
              " 'fpr': {'Size-20%': {'range': (0.0, 0.01461),\n",
              "   'avg': 0.00355,\n",
              "   'std_dev': 0.00521},\n",
              "  'Size-40%': {'range': (0.0, 0.02088), 'avg': 0.00501, 'std_dev': 0.00676},\n",
              "  'Size-60%': {'range': (0.0, 0.02083), 'avg': 0.00855, 'std_dev': 0.0067},\n",
              "  'Size-80%': {'range': (0.0, 0.02917), 'avg': 0.0098, 'std_dev': 0.00947},\n",
              "  'Size-100%': {'range': (0.0, 0.02296), 'avg': 0.0096, 'std_dev': 0.00836}},\n",
              " 'fnr': {'Size-20%': {'range': (0.45798, 0.96639),\n",
              "   'avg': 0.72122,\n",
              "   'std_dev': 0.14886},\n",
              "  'Size-40%': {'range': (0.48739, 0.77521),\n",
              "   'avg': 0.62185,\n",
              "   'std_dev': 0.08996},\n",
              "  'Size-60%': {'range': (0.31513, 0.87605),\n",
              "   'avg': 0.57626,\n",
              "   'std_dev': 0.17137},\n",
              "  'Size-80%': {'range': (0.34034, 0.96429), 'avg': 0.58592, 'std_dev': 0.1761},\n",
              "  'Size-100%': {'range': (0.38655, 0.70378),\n",
              "   'avg': 0.52878,\n",
              "   'std_dev': 0.09768}},\n",
              " 'tnr': {'Size-20%': {'range': (0.98539, 1.0),\n",
              "   'avg': 0.99645,\n",
              "   'std_dev': 0.00521},\n",
              "  'Size-40%': {'range': (0.97912, 1.0), 'avg': 0.99499, 'std_dev': 0.00676},\n",
              "  'Size-60%': {'range': (0.97917, 1.0), 'avg': 0.99145, 'std_dev': 0.0067},\n",
              "  'Size-80%': {'range': (0.97083, 1.0), 'avg': 0.9902, 'std_dev': 0.00947},\n",
              "  'Size-100%': {'range': (0.97704, 1.0), 'avg': 0.9904, 'std_dev': 0.00836}},\n",
              " 'npv': {'Size-20%': {'range': (0.51012, 0.68543),\n",
              "   'avg': 0.58584,\n",
              "   'std_dev': 0.05059},\n",
              "  'Size-40%': {'range': (0.56486, 0.66904),\n",
              "   'avg': 0.61881,\n",
              "   'std_dev': 0.03302},\n",
              "  'Size-60%': {'range': (0.5346, 0.76), 'avg': 0.64087, 'std_dev': 0.06844},\n",
              "  'Size-80%': {'range': (0.51066, 0.74204),\n",
              "   'avg': 0.63671,\n",
              "   'std_dev': 0.06559},\n",
              "  'Size-100%': {'range': (0.58845, 0.71779),\n",
              "   'avg': 0.65602,\n",
              "   'std_dev': 0.04011}},\n",
              " 'fdr': {'Size-20%': {'range': (0.0, 0.04142),\n",
              "   'avg': 0.00891,\n",
              "   'std_dev': 0.01334},\n",
              "  'Size-40%': {'range': (0.0, 0.03937), 'avg': 0.01116, 'std_dev': 0.01294},\n",
              "  'Size-60%': {'range': (0.0, 0.0383), 'avg': 0.018, 'std_dev': 0.01228},\n",
              "  'Size-80%': {'range': (0.0, 0.04268), 'avg': 0.01902, 'std_dev': 0.01366},\n",
              "  'Size-100%': {'range': (0.0, 0.04082), 'avg': 0.01783, 'std_dev': 0.0144}},\n",
              " 'mcc': {'Size-20%': {'range': (0.13095, 0.5952),\n",
              "   'avg': 0.38528,\n",
              "   'std_dev': 0.13332},\n",
              "  'Size-40%': {'range': (0.35633, 0.55644),\n",
              "   'avg': 0.47414,\n",
              "   'std_dev': 0.06543},\n",
              "  'Size-60%': {'range': (0.25742, 0.7088), 'avg': 0.50181, 'std_dev': 0.13474},\n",
              "  'Size-80%': {'range': (0.13505, 0.66403),\n",
              "   'avg': 0.48798,\n",
              "   'std_dev': 0.14852},\n",
              "  'Size-100%': {'range': (0.4175, 0.63435),\n",
              "   'avg': 0.54127,\n",
              "   'std_dev': 0.0669}}}"
            ]
          },
          "metadata": {},
          "execution_count": 1345
        }
      ],
      "source": [
        "Metric_stats = end_of_exp()\n",
        "Metric_stats"
      ]
    },
    {
      "cell_type": "markdown",
      "metadata": {
        "id": "a5x5WXZArqkb"
      },
      "source": [
        "## Performance Graphs - Means and Ranges"
      ]
    },
    {
      "cell_type": "code",
      "execution_count": null,
      "metadata": {
        "id": "W8KJyXoZswhk"
      },
      "outputs": [],
      "source": [
        "def graph_metric(metric):\n",
        "\n",
        "    data = Metric_stats[metric]\n",
        "\n",
        "    # Extract data from the dictionary\n",
        "    strategies = list(data.keys())\n",
        "    averages = [data[strategy]['avg'] for strategy in strategies]\n",
        "    min_values = [data[strategy]['range'][0] for strategy in strategies]\n",
        "    max_values = [data[strategy]['range'][1] for strategy in strategies]\n",
        "    errors = [np.subtract(averages, min_values), np.subtract(max_values, averages)]\n",
        "    colors = ['C{}'.format(i) for i in range(len(data))]  # One color for each strategy\n",
        "\n",
        "    # using tuple unpacking to grab fig and axes\n",
        "    fig, ax = plt.subplots(figsize=(16, 6))\n",
        "\n",
        "    # plotting the bar plot\n",
        "    plt.plot(strategies, averages, 'o-', color='black', label=strategies)\n",
        "    # ax.bar(strategies, averages, alpha = 0)\n",
        "\n",
        "    # Plot error bars\n",
        "    for i, (strategy, avg) in enumerate(zip(strategies, averages)):\n",
        "        y_err_lower = errors[0][i]\n",
        "        y_err_upper = errors[1][i]\n",
        "        y_err = [[y_err_lower], [y_err_upper]]\n",
        "        ax.errorbar(strategy, avg, yerr=y_err, fmt='o', lw=2, capsize=4, capthick=2, color=colors[i])\n",
        "\n",
        "    # Set plot details\n",
        "    plt.title('Effect of different query set sizes on: {} [SMS Data]'.format(metric_dict[metric]))\n",
        "    plt.xlabel('Query Set Size')\n",
        "    plt.ylabel('Average (with range)')\n",
        "    plt.show()"
      ]
    },
    {
      "cell_type": "markdown",
      "metadata": {
        "id": "x50RWvZg4v5R"
      },
      "source": [
        "### Accuracy Graph"
      ]
    },
    {
      "cell_type": "code",
      "execution_count": null,
      "metadata": {
        "id": "e3c-VI_KzQQV",
        "colab": {
          "base_uri": "https://localhost:8080/",
          "height": 478
        },
        "outputId": "30c225e6-79a0-4176-9f40-caab117a9c49"
      },
      "outputs": [
        {
          "output_type": "display_data",
          "data": {
            "text/plain": [
              "<Figure size 1600x600 with 1 Axes>"
            ],
            "image/png": "[encoded data removed]"
          },
          "metadata": {}
        }
      ],
      "source": [
        "graph_metric('acc')"
      ]
    },
    {
      "cell_type": "markdown",
      "metadata": {
        "id": "q_sWQ9JU42mt"
      },
      "source": [
        "### F-1 Score Graph"
      ]
    },
    {
      "cell_type": "code",
      "execution_count": null,
      "metadata": {
        "id": "Pww-b5Sp41_e",
        "colab": {
          "base_uri": "https://localhost:8080/",
          "height": 482
        },
        "outputId": "fbf6796a-de72-4100-c067-8b1731437edc"
      },
      "outputs": [
        {
          "output_type": "display_data",
          "data": {
            "text/plain": [
              "<Figure size 1600x600 with 1 Axes>"
            ],
            "image/png": "[encoded data removed]"
          },
          "metadata": {}
        }
      ],
      "source": [
        "graph_metric('f1')"
      ]
    },
    {
      "cell_type": "markdown",
      "metadata": {
        "id": "38g1Y0aU5Kig"
      },
      "source": [
        "### Precision Graphs"
      ]
    },
    {
      "cell_type": "code",
      "execution_count": null,
      "metadata": {
        "id": "o3yhuCw048iy",
        "colab": {
          "base_uri": "https://localhost:8080/",
          "height": 478
        },
        "outputId": "b63fc0dc-caaa-4b8e-c730-181c46b7f91a"
      },
      "outputs": [
        {
          "output_type": "display_data",
          "data": {
            "text/plain": [
              "<Figure size 1600x600 with 1 Axes>"
            ],
            "image/png": "[encoded data removed]"
          },
          "metadata": {}
        }
      ],
      "source": [
        "graph_metric('ppv')"
      ]
    },
    {
      "cell_type": "markdown",
      "metadata": {
        "id": "Osb1Ursj5NwO"
      },
      "source": [
        "### Recall Graphs"
      ]
    },
    {
      "cell_type": "code",
      "execution_count": null,
      "metadata": {
        "id": "fRtEKs8x5Pjy",
        "colab": {
          "base_uri": "https://localhost:8080/",
          "height": 482
        },
        "outputId": "43ac74d6-d2a2-4561-d210-2bfa9498d124"
      },
      "outputs": [
        {
          "output_type": "display_data",
          "data": {
            "text/plain": [
              "<Figure size 1600x600 with 1 Axes>"
            ],
            "image/png": "[encoded data removed]"
          },
          "metadata": {}
        }
      ],
      "source": [
        "graph_metric('tpr')"
      ]
    },
    {
      "cell_type": "markdown",
      "metadata": {
        "id": "Tiidxoog5dPI"
      },
      "source": [
        "### Matthews Correlation Coefficient Graphs"
      ]
    },
    {
      "cell_type": "code",
      "execution_count": null,
      "metadata": {
        "id": "a1oWvKp05hSY",
        "colab": {
          "base_uri": "https://localhost:8080/",
          "height": 482
        },
        "outputId": "4a727ddc-5f92-43e1-a018-cb3e34e94b2d"
      },
      "outputs": [
        {
          "output_type": "display_data",
          "data": {
            "text/plain": [
              "<Figure size 1600x600 with 1 Axes>"
            ],
            "image/png": "[encoded data removed]"
          },
          "metadata": {}
        }
      ],
      "source": [
        "graph_metric('mcc')"
      ]
    },
    {
      "cell_type": "markdown",
      "source": [
        "## Performance Graphs - Metric Variations"
      ],
      "metadata": {
        "id": "CbZ8aq8fUcb9"
      }
    },
    {
      "cell_type": "code",
      "source": [
        "def graph_variance(metric):\n",
        "\n",
        "    data = Metric_stats[metric]\n",
        "\n",
        "    # Extract data from the dictionary\n",
        "    strategies = list(data.keys())\n",
        "    averages = [data[strategy]['avg'] for strategy in strategies]\n",
        "    std_devs = [data[strategy]['std_dev']/2 for strategy in strategies]\n",
        "    colors = ['C{}'.format(i) for i in range(len(data))]  # One color for each strategy\n",
        "\n",
        "    plt.figure(figsize=(16, 6))\n",
        "    plt.bar(strategies, averages, yerr=std_devs, alpha = 0.3, capsize=5, color=colors)\n",
        "    plt.xlabel('Query Set Sizes')\n",
        "    plt.ylabel('Average (with standard deviation)')\n",
        "    plt.title('Variation caused by different query set sizes on: {} [SMS Data]'.format(metric_dict[metric]))\n",
        "    plt.show()"
      ],
      "metadata": {
        "id": "ldmcIpoQUi0T"
      },
      "execution_count": null,
      "outputs": []
    },
    {
      "cell_type": "markdown",
      "source": [
        "### Accuracy Variation"
      ],
      "metadata": {
        "id": "7i7St8uhUiry"
      }
    },
    {
      "cell_type": "code",
      "source": [
        "graph_variance('acc')"
      ],
      "metadata": {
        "id": "3xzXAGyvUihT",
        "colab": {
          "base_uri": "https://localhost:8080/",
          "height": 482
        },
        "outputId": "69856e08-bdfa-4885-8dd4-7dc0647588ba"
      },
      "execution_count": null,
      "outputs": [
        {
          "output_type": "display_data",
          "data": {
            "text/plain": [
              "<Figure size 1600x600 with 1 Axes>"
            ],
            "image/png": "[encoded data removed]"
          },
          "metadata": {}
        }
      ]
    },
    {
      "cell_type": "markdown",
      "source": [
        "### F1-Score Variation"
      ],
      "metadata": {
        "id": "R_KHtwkWUiZP"
      }
    },
    {
      "cell_type": "code",
      "source": [
        "graph_variance('f1')"
      ],
      "metadata": {
        "id": "_Zic-DJwUiQb",
        "colab": {
          "base_uri": "https://localhost:8080/",
          "height": 482
        },
        "outputId": "d0d6fa99-d7ab-4b61-f3a9-b4a5f639706b"
      },
      "execution_count": null,
      "outputs": [
        {
          "output_type": "display_data",
          "data": {
            "text/plain": [
              "<Figure size 1600x600 with 1 Axes>"
            ],
            "image/png": "[encoded data removed]"
          },
          "metadata": {}
        }
      ]
    },
    {
      "cell_type": "markdown",
      "source": [
        "### Precision Variation"
      ],
      "metadata": {
        "id": "4Bz9tLAEUiIM"
      }
    },
    {
      "cell_type": "code",
      "source": [
        "graph_variance('ppv')"
      ],
      "metadata": {
        "id": "zfaUJFiQUh8E",
        "colab": {
          "base_uri": "https://localhost:8080/",
          "height": 482
        },
        "outputId": "6975bf4e-acfa-43a4-f663-beafb7690fe0"
      },
      "execution_count": null,
      "outputs": [
        {
          "output_type": "display_data",
          "data": {
            "text/plain": [
              "<Figure size 1600x600 with 1 Axes>"
            ],
            "image/png": "[encoded data removed]"
          },
          "metadata": {}
        }
      ]
    },
    {
      "cell_type": "markdown",
      "source": [
        "### Recall Variation"
      ],
      "metadata": {
        "id": "ciE3KnhAUhm7"
      }
    },
    {
      "cell_type": "code",
      "source": [
        "graph_variance('tpr')"
      ],
      "metadata": {
        "id": "YnJerCUyUheO",
        "colab": {
          "base_uri": "https://localhost:8080/",
          "height": 482
        },
        "outputId": "e895e24e-da6e-4174-9aa5-ced264d06d07"
      },
      "execution_count": null,
      "outputs": [
        {
          "output_type": "display_data",
          "data": {
            "text/plain": [
              "<Figure size 1600x600 with 1 Axes>"
            ],
            "image/png": "[encoded data removed]"
          },
          "metadata": {}
        }
      ]
    },
    {
      "cell_type": "markdown",
      "source": [
        "### Matthews Correlation Coefficient Variation"
      ],
      "metadata": {
        "id": "_4WEQEyRUhA9"
      }
    },
    {
      "cell_type": "code",
      "source": [
        "graph_variance('mcc')"
      ],
      "metadata": {
        "id": "GgfovrzfUgwX",
        "colab": {
          "base_uri": "https://localhost:8080/",
          "height": 482
        },
        "outputId": "9a95b0cc-7e4d-43fb-c59e-7a8b69bda51f"
      },
      "execution_count": null,
      "outputs": [
        {
          "output_type": "display_data",
          "data": {
            "text/plain": [
              "<Figure size 1600x600 with 1 Axes>"
            ],
            "image/png": "[encoded data removed]"
          },
          "metadata": {}
        }
      ]
    }
  ],
  "metadata": {
    "colab": {
      "provenance": [],
      "toc_visible": true
    },
    "kernelspec": {
      "display_name": "Python 3",
      "name": "python3"
    },
    "language_info": {
      "name": "python"
    }
  },
  "nbformat": 4,
  "nbformat_minor": 0
}