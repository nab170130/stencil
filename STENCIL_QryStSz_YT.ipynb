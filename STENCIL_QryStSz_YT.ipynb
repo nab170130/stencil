{
  "cells": [
    {
      "cell_type": "markdown",
      "metadata": {
        "id": "fv_c0RzmVPJ3"
      },
      "source": [
        "# **Analysis of the effect of Query Set Size on the performance of Submodular methods used to solve Cold Start Problem with YouTube Dataset**"
      ]
    },
    {
      "cell_type": "markdown",
      "metadata": {
        "id": "s_kv5luKWKDv"
      },
      "source": [
        "# Setup"
      ]
    },
    {
      "cell_type": "markdown",
      "metadata": {
        "id": "hSVRpyLgWLfY"
      },
      "source": [
        "## Get Distil and Submodlib from Decile Repo"
      ]
    },
    {
      "cell_type": "code",
      "execution_count": null,
      "metadata": {
        "colab": {
          "base_uri": "https://localhost:8080/"
        },
        "id": "t2vX5gm1RKeZ",
        "outputId": "06074289-2641-4906-8a28-847086a8e3f5"
      },
      "outputs": [
        {
          "output_type": "stream",
          "name": "stdout",
          "text": [
            "Cloning into 'distil'...\n",
            "remote: Enumerating objects: 3498, done.\u001b[K\n",
            "remote: Counting objects: 100% (453/453), done.\u001b[K\n",
            "remote: Compressing objects: 100% (174/174), done.\u001b[K\n",
            "remote: Total 3498 (delta 302), reused 336 (delta 279), pack-reused 3045\u001b[K\n",
            "Receiving objects: 100% (3498/3498), 23.10 MiB | 28.20 MiB/s, done.\n",
            "Resolving deltas: 100% (2246/2246), done.\n",
            "Cloning into 'submodlib'...\n",
            "remote: Enumerating objects: 2570, done.\u001b[K\n",
            "remote: Counting objects: 100% (11/11), done.\u001b[K\n",
            "remote: Compressing objects: 100% (11/11), done.\u001b[K\n",
            "remote: Total 2570 (delta 2), reused 0 (delta 0), pack-reused 2559\u001b[K\n",
            "Receiving objects: 100% (2570/2570), 30.57 MiB | 18.04 MiB/s, done.\n",
            "Resolving deltas: 100% (1911/1911), done.\n"
          ]
        }
      ],
      "source": [
        "# Get DISTIL\n",
        "!git clone https://github.com/decile-team/distil.git\n",
        "\n",
        "# Get submodlib\n",
        "!git clone https://github.com/decile-team/submodlib.git"
      ]
    },
    {
      "cell_type": "markdown",
      "metadata": {
        "id": "Nu7AI_-nWnGP"
      },
      "source": [
        "## Installations"
      ]
    },
    {
      "cell_type": "markdown",
      "metadata": {
        "id": "khCtWi4OWrR0"
      },
      "source": [
        "#### *Restart runtime from here after initial install is complete*"
      ]
    },
    {
      "cell_type": "code",
      "execution_count": null,
      "metadata": {
        "colab": {
          "base_uri": "https://localhost:8080/"
        },
        "id": "eMIVziVQWqYF",
        "outputId": "a5f9dfcd-f311-456f-99d4-321917cce63a"
      },
      "outputs": [
        {
          "output_type": "stream",
          "name": "stdout",
          "text": [
            "\u001b[31mERROR: Could not open requirements file: [Errno 2] No such file or directory: 'distil/requirements/requirements.txt'\u001b[0m\u001b[31m\n",
            "\u001b[0mLooking in indexes: https://test.pypi.org/simple/, https://pypi.org/simple/\n",
            "Collecting sphinxcontrib-bibtex>=2.3.0 (from -r distil/requirements/requirements.txt (line 1))\n",
            "  Using cached sphinxcontrib_bibtex-2.6.1-py3-none-any.whl (40 kB)\n",
            "Collecting multipledispatch==0.6.0 (from -r distil/requirements/requirements.txt (line 2))\n",
            "  Using cached multipledispatch-0.6.0-py3-none-any.whl (11 kB)\n",
            "Collecting scikit-learn==0.23.0 (from -r distil/requirements/requirements.txt (line 3))\n",
            "  Using cached scikit-learn-0.23.0.tar.gz (7.2 MB)\n",
            "  \u001b[1;31merror\u001b[0m: \u001b[1msubprocess-exited-with-error\u001b[0m\n",
            "  \n",
            "  \u001b[31m×\u001b[0m \u001b[32mpip subprocess to install build dependencies\u001b[0m did not run successfully.\n",
            "  \u001b[31m│\u001b[0m exit code: \u001b[1;36m1\u001b[0m\n",
            "  \u001b[31m╰─>\u001b[0m See above for output.\n",
            "  \n",
            "  \u001b[1;35mnote\u001b[0m: This error originates from a subprocess, and is likely not a problem with pip.\n",
            "  Installing build dependencies ... \u001b[?25l\u001b[?25herror\n",
            "\u001b[1;31merror\u001b[0m: \u001b[1msubprocess-exited-with-error\u001b[0m\n",
            "\n",
            "\u001b[31m×\u001b[0m \u001b[32mpip subprocess to install build dependencies\u001b[0m did not run successfully.\n",
            "\u001b[31m│\u001b[0m exit code: \u001b[1;36m1\u001b[0m\n",
            "\u001b[31m╰─>\u001b[0m See above for output.\n",
            "\n",
            "\u001b[1;35mnote\u001b[0m: This error originates from a subprocess, and is likely not a problem with pip.\n",
            "Requirement already satisfied: transformers in /usr/local/lib/python3.10/dist-packages (4.35.2)\n",
            "Requirement already satisfied: filelock in /usr/local/lib/python3.10/dist-packages (from transformers) (3.13.1)\n",
            "Requirement already satisfied: huggingface-hub<1.0,>=0.16.4 in /usr/local/lib/python3.10/dist-packages (from transformers) (0.19.4)\n",
            "Requirement already satisfied: numpy>=1.17 in /usr/local/lib/python3.10/dist-packages (from transformers) (1.22.0)\n",
            "Requirement already satisfied: packaging>=20.0 in /usr/local/lib/python3.10/dist-packages (from transformers) (23.2)\n",
            "Requirement already satisfied: pyyaml>=5.1 in /usr/local/lib/python3.10/dist-packages (from transformers) (6.0.1)\n",
            "Requirement already satisfied: regex!=2019.12.17 in /usr/local/lib/python3.10/dist-packages (from transformers) (2023.6.3)\n",
            "Requirement already satisfied: requests in /usr/local/lib/python3.10/dist-packages (from transformers) (2.31.0)\n",
            "Requirement already satisfied: tokenizers<0.19,>=0.14 in /usr/local/lib/python3.10/dist-packages (from transformers) (0.15.0)\n",
            "Requirement already satisfied: safetensors>=0.3.1 in /usr/local/lib/python3.10/dist-packages (from transformers) (0.4.0)\n",
            "Requirement already satisfied: tqdm>=4.27 in /usr/local/lib/python3.10/dist-packages (from transformers) (4.66.1)\n",
            "Requirement already satisfied: fsspec>=2023.5.0 in /usr/local/lib/python3.10/dist-packages (from huggingface-hub<1.0,>=0.16.4->transformers) (2023.6.0)\n",
            "Requirement already satisfied: typing-extensions>=3.7.4.3 in /usr/local/lib/python3.10/dist-packages (from huggingface-hub<1.0,>=0.16.4->transformers) (4.5.0)\n",
            "Requirement already satisfied: charset-normalizer<4,>=2 in /usr/local/lib/python3.10/dist-packages (from requests->transformers) (3.3.2)\n",
            "Requirement already satisfied: idna<4,>=2.5 in /usr/local/lib/python3.10/dist-packages (from requests->transformers) (3.4)\n",
            "Requirement already satisfied: urllib3<3,>=1.21.1 in /usr/local/lib/python3.10/dist-packages (from requests->transformers) (2.0.7)\n",
            "Requirement already satisfied: certifi>=2017.4.17 in /usr/local/lib/python3.10/dist-packages (from requests->transformers) (2023.7.22)\n",
            "Requirement already satisfied: datasets in /usr/local/lib/python3.10/dist-packages (2.15.0)\n",
            "Requirement already satisfied: numpy>=1.17 in /usr/local/lib/python3.10/dist-packages (from datasets) (1.22.0)\n",
            "Requirement already satisfied: pyarrow>=8.0.0 in /usr/local/lib/python3.10/dist-packages (from datasets) (9.0.0)\n",
            "Requirement already satisfied: pyarrow-hotfix in /usr/local/lib/python3.10/dist-packages (from datasets) (0.5)\n",
            "Requirement already satisfied: dill<0.3.8,>=0.3.0 in /usr/local/lib/python3.10/dist-packages (from datasets) (0.3.7)\n",
            "Requirement already satisfied: pandas in /usr/local/lib/python3.10/dist-packages (from datasets) (1.5.3)\n",
            "Requirement already satisfied: requests>=2.19.0 in /usr/local/lib/python3.10/dist-packages (from datasets) (2.31.0)\n",
            "Requirement already satisfied: tqdm>=4.62.1 in /usr/local/lib/python3.10/dist-packages (from datasets) (4.66.1)\n",
            "Requirement already satisfied: xxhash in /usr/local/lib/python3.10/dist-packages (from datasets) (3.4.1)\n",
            "Requirement already satisfied: multiprocess in /usr/local/lib/python3.10/dist-packages (from datasets) (0.70.15)\n",
            "Requirement already satisfied: fsspec[http]<=2023.10.0,>=2023.1.0 in /usr/local/lib/python3.10/dist-packages (from datasets) (2023.6.0)\n",
            "Requirement already satisfied: aiohttp in /usr/local/lib/python3.10/dist-packages (from datasets) (3.8.6)\n",
            "Requirement already satisfied: huggingface-hub>=0.18.0 in /usr/local/lib/python3.10/dist-packages (from datasets) (0.19.4)\n",
            "Requirement already satisfied: packaging in /usr/local/lib/python3.10/dist-packages (from datasets) (23.2)\n",
            "Requirement already satisfied: pyyaml>=5.1 in /usr/local/lib/python3.10/dist-packages (from datasets) (6.0.1)\n",
            "Requirement already satisfied: attrs>=17.3.0 in /usr/local/lib/python3.10/dist-packages (from aiohttp->datasets) (23.1.0)\n",
            "Requirement already satisfied: charset-normalizer<4.0,>=2.0 in /usr/local/lib/python3.10/dist-packages (from aiohttp->datasets) (3.3.2)\n",
            "Requirement already satisfied: multidict<7.0,>=4.5 in /usr/local/lib/python3.10/dist-packages (from aiohttp->datasets) (6.0.4)\n",
            "Requirement already satisfied: async-timeout<5.0,>=4.0.0a3 in /usr/local/lib/python3.10/dist-packages (from aiohttp->datasets) (4.0.3)\n",
            "Requirement already satisfied: yarl<2.0,>=1.0 in /usr/local/lib/python3.10/dist-packages (from aiohttp->datasets) (1.9.2)\n",
            "Requirement already satisfied: frozenlist>=1.1.1 in /usr/local/lib/python3.10/dist-packages (from aiohttp->datasets) (1.4.0)\n",
            "Requirement already satisfied: aiosignal>=1.1.2 in /usr/local/lib/python3.10/dist-packages (from aiohttp->datasets) (1.3.1)\n",
            "Requirement already satisfied: filelock in /usr/local/lib/python3.10/dist-packages (from huggingface-hub>=0.18.0->datasets) (3.13.1)\n",
            "Requirement already satisfied: typing-extensions>=3.7.4.3 in /usr/local/lib/python3.10/dist-packages (from huggingface-hub>=0.18.0->datasets) (4.5.0)\n",
            "Requirement already satisfied: idna<4,>=2.5 in /usr/local/lib/python3.10/dist-packages (from requests>=2.19.0->datasets) (3.4)\n",
            "Requirement already satisfied: urllib3<3,>=1.21.1 in /usr/local/lib/python3.10/dist-packages (from requests>=2.19.0->datasets) (2.0.7)\n",
            "Requirement already satisfied: certifi>=2017.4.17 in /usr/local/lib/python3.10/dist-packages (from requests>=2.19.0->datasets) (2023.7.22)\n",
            "Requirement already satisfied: python-dateutil>=2.8.1 in /usr/local/lib/python3.10/dist-packages (from pandas->datasets) (2.8.2)\n",
            "Requirement already satisfied: pytz>=2020.1 in /usr/local/lib/python3.10/dist-packages (from pandas->datasets) (2023.3.post1)\n",
            "Requirement already satisfied: six>=1.5 in /usr/local/lib/python3.10/dist-packages (from python-dateutil>=2.8.1->pandas->datasets) (1.16.0)\n",
            "Obtaining file:///content/submodlib\n",
            "  Installing build dependencies ... \u001b[?25l\u001b[?25hdone\n",
            "  Checking if build backend supports build_editable ... \u001b[?25l\u001b[?25hdone\n",
            "  Getting requirements to build editable ... \u001b[?25l\u001b[?25hdone\n",
            "  Preparing editable metadata (pyproject.toml) ... \u001b[?25l\u001b[?25hdone\n",
            "Requirement already satisfied: numpy==1.22.0 in /usr/local/lib/python3.10/dist-packages (from submodlib==1.1.5) (1.22.0)\n",
            "Requirement already satisfied: scipy in /usr/local/lib/python3.10/dist-packages (from submodlib==1.1.5) (1.11.3)\n",
            "Requirement already satisfied: scikit-learn in /usr/local/lib/python3.10/dist-packages (from submodlib==1.1.5) (1.2.2)\n",
            "Requirement already satisfied: numba in /usr/local/lib/python3.10/dist-packages (from submodlib==1.1.5) (0.58.1)\n",
            "Requirement already satisfied: llvmlite<0.42,>=0.41.0dev0 in /usr/local/lib/python3.10/dist-packages (from numba->submodlib==1.1.5) (0.41.1)\n",
            "Requirement already satisfied: joblib>=1.1.1 in /usr/local/lib/python3.10/dist-packages (from scikit-learn->submodlib==1.1.5) (1.3.2)\n",
            "Requirement already satisfied: threadpoolctl>=2.0.0 in /usr/local/lib/python3.10/dist-packages (from scikit-learn->submodlib==1.1.5) (3.2.0)\n",
            "Building wheels for collected packages: submodlib\n",
            "  Building editable for submodlib (pyproject.toml) ... \u001b[?25l\u001b[?25hdone\n",
            "  Created wheel for submodlib: filename=submodlib-1.1.5-0.editable-cp310-cp310-linux_x86_64.whl size=6907 sha256=5104e8bb310df107975115ca4dc3cf2ca54bb0a1d289ecb8bfb3039679387aaf\n",
            "  Stored in directory: /tmp/pip-ephem-wheel-cache-kn5n7o7t/wheels/38/8a/82/dcc1be631ad42bd42b29737e6f518581c869e8a7e861adfba8\n",
            "Successfully built submodlib\n",
            "Installing collected packages: submodlib\n",
            "  Attempting uninstall: submodlib\n",
            "    Found existing installation: submodlib 1.1.5\n",
            "    Uninstalling submodlib-1.1.5:\n",
            "      Successfully uninstalled submodlib-1.1.5\n",
            "Successfully installed submodlib-1.1.5\n"
          ]
        }
      ],
      "source": [
        "# Installations for DISTIL\n",
        "!cd distil && pip install -r distil/requirements/requirements.txt\n",
        "!pip install -r distil/requirements/requirements.txt\n",
        "\n",
        "# Required installations\n",
        "!pip install transformers\n",
        "!pip install datasets\n",
        "\n",
        "# Installations for Submodlib\n",
        "!pip install -e ./submodlib/"
      ]
    },
    {
      "cell_type": "markdown",
      "metadata": {
        "id": "hYX8W3kJXc_w"
      },
      "source": [
        "## Imports"
      ]
    },
    {
      "cell_type": "code",
      "execution_count": null,
      "metadata": {
        "id": "fFAzKKW6XfD4"
      },
      "outputs": [],
      "source": [
        "# Standard imports\n",
        "import copy\n",
        "import html\n",
        "import math\n",
        "import matplotlib.pyplot as plt\n",
        "import nltk\n",
        "from nltk.corpus import stopwords\n",
        "from nltk.tokenize import word_tokenize\n",
        "import numpy as np\n",
        "import os\n",
        "import pandas as pd\n",
        "import random # Import for query size sampling\n",
        "import re # Import for baseline regex matching\n",
        "from sklearn.metrics import confusion_matrix\n",
        "from sklearn.model_selection import train_test_split\n",
        "from sklearn.utils import shuffle\n",
        "import statistics as stat\n",
        "import string\n",
        "import sys\n",
        "import torch\n",
        "import torch.nn as nn\n",
        "import torch.nn.functional as F\n",
        "from torch import optim\n",
        "from torchtext.data import get_tokenizer\n",
        "from torchtext.vocab import GloVe\n",
        "import unicodedata\n",
        "\n",
        "# Imports for datasets\n",
        "from collections import Counter\n",
        "from datasets import Dataset as D\n",
        "from datasets import load_dataset, load_metric, concatenate_datasets\n",
        "from io import BytesIO\n",
        "import requests\n",
        "from torch.utils.data import DataLoader, TensorDataset, Dataset, Subset, ConcatDataset\n",
        "from tqdm.auto import tqdm\n",
        "import zipfile\n",
        "\n",
        "# Additional Imports\n",
        "from transformers import AutoTokenizer, get_scheduler, BertConfig, AdamW, BertModel\n",
        "\n",
        "# Imports for active learning\n",
        "sys.path.append('submodlib/')\n",
        "sys.path.append('distil/')\n",
        "from distil.active_learning_strategies import BADGE, SMI, EntropySampling, LeastConfidenceSampling, MarginSampling, RandomSampling   # All active learning strategies showcased in this example\n",
        "from distil.utils.utils import LabeledToUnlabeledDataset # A utility wrapper class that removes labels from labeled PyTorch dataset objects"
      ]
    },
    {
      "cell_type": "markdown",
      "metadata": {
        "id": "cVndIOjhXqb5"
      },
      "source": [
        "## Download GloVe vectorizer"
      ]
    },
    {
      "cell_type": "code",
      "execution_count": null,
      "metadata": {
        "colab": {
          "base_uri": "https://localhost:8080/"
        },
        "id": "zphCsZEhX0y-",
        "outputId": "3167518e-e6f5-4ad8-8f49-e7068fbacd71"
      },
      "outputs": [
        {
          "output_type": "stream",
          "name": "stderr",
          "text": [
            ".vector_cache/glove.6B.zip: 862MB [11:45, 1.22MB/s]                           \n",
            "100%|█████████▉| 399999/400000 [00:40<00:00, 9819.78it/s] \n"
          ]
        }
      ],
      "source": [
        "# Get a simple tokenizer from torchtext. Use GloVe embeddings from torchtext, which will automatically download them.\n",
        "glove_tokenizer     = get_tokenizer(\"basic_english\")\n",
        "glove_vectorizer    = GloVe(name='6B', dim=300)"
      ]
    },
    {
      "cell_type": "markdown",
      "metadata": {
        "id": "1rMjoK1aYbT-"
      },
      "source": [
        "The above procedure should take 15-30 minutes. The rest of the code should run quicker."
      ]
    },
    {
      "cell_type": "markdown",
      "metadata": {
        "id": "o8cBgxlqYZg1"
      },
      "source": [
        "# Data loading, sampling and pre-processing"
      ]
    },
    {
      "cell_type": "markdown",
      "metadata": {
        "id": "7KixFEv0Y6wK"
      },
      "source": [
        "## Load data from UCI_ML/Github Repository"
      ]
    },
    {
      "cell_type": "code",
      "execution_count": null,
      "metadata": {
        "colab": {
          "base_uri": "https://localhost:8080/"
        },
        "id": "dyzA0jHJZg6t",
        "outputId": "50f9be22-d63a-4527-b990-fcb64987f6b9"
      },
      "outputs": [
        {
          "output_type": "stream",
          "name": "stderr",
          "text": [
            "/usr/local/lib/python3.10/dist-packages/urllib3/connectionpool.py:1100: InsecureRequestWarning: Unverified HTTPS request is being made to host 'archive.ics.uci.edu'. Adding certificate verification is strongly advised. See: https://urllib3.readthedocs.io/en/latest/advanced-usage.html#tls-warnings\n",
            "  warnings.warn(\n"
          ]
        }
      ],
      "source": [
        "# URL of the ZIP file containing the YouTube Spam Collection dataset\n",
        "zip_url = 'https://archive.ics.uci.edu/static/public/380/youtube+spam+collection.zip'\n",
        "\n",
        "# Send a GET request to the ZIP file URL\n",
        "response = requests.get(zip_url, verify=False)\n",
        "\n",
        "# Extract the ZIP file in memory\n",
        "with zipfile.ZipFile(BytesIO(response.content), 'r') as zip_ref:\n",
        "    # Extract all the files from the ZIP archive\n",
        "    zip_ref.extractall()\n",
        "\n",
        "# List the files extracted from the ZIP archive\n",
        "file_list = zip_ref.namelist()\n",
        "\n",
        "# List to store individual DataFrames\n",
        "dataframes = []\n",
        "\n",
        "# Loop through the CSV files and load them into DataFrames\n",
        "for file_name in file_list:\n",
        "    if (file_name[0] != '_'):\n",
        "        df = pd.read_csv(file_name, on_bad_lines='skip')\n",
        "        dataframes.append(df)\n",
        "\n",
        "# Concatenate all the DataFrames into one\n",
        "youtube_df = pd.concat(dataframes, ignore_index=True)"
      ]
    },
    {
      "cell_type": "markdown",
      "metadata": {
        "id": "7511yzYmZ-7B"
      },
      "source": [
        "### Drop irrelevant columns and rename the rest"
      ]
    },
    {
      "cell_type": "code",
      "execution_count": null,
      "metadata": {
        "id": "EBA538ymaCfN"
      },
      "outputs": [],
      "source": [
        "# Drop the specified columns\n",
        "columns_to_drop = ['COMMENT_ID', 'AUTHOR', 'DATE']\n",
        "youtube_df = youtube_df.drop(columns=columns_to_drop)\n",
        "\n",
        "# Rename the columns\n",
        "youtube_df = youtube_df.rename(columns={'CONTENT': 'text', 'CLASS': 'labels'})"
      ]
    },
    {
      "cell_type": "code",
      "execution_count": null,
      "metadata": {
        "colab": {
          "base_uri": "https://localhost:8080/",
          "height": 363
        },
        "id": "hrbLu5StXjLf",
        "outputId": "d7b86fbb-0eae-4eca-c524-f08d29e5b0d1"
      },
      "outputs": [
        {
          "output_type": "execute_result",
          "data": {
            "text/plain": [
              "                                                text  labels\n",
              "0  Huh, anyway check out this you[tube] channel: ...       1\n",
              "1  Hey guys check out my new channel and our firs...       1\n",
              "2             just for test I have to say murdev.com       1\n",
              "3   me shaking my sexy ass on my channel enjoy ^_^ ﻿       1\n",
              "4            watch?v=vtaRGgvGtWQ   Check this out .﻿       1\n",
              "5  Hey, check out my new website!! This site is a...       1\n",
              "6                          Subscribe to my channel ﻿       1\n",
              "7  i turned it on mute as soon is i came on i jus...       0\n",
              "8    You should check my channel for Funny VIDEOS!!﻿       1\n",
              "9  and u should.d check my channel and tell me wh...       1"
            ],
            "text/html": [
              "\n",
              "  <div id=\"df-c3687bc4-b8dd-4072-9914-97e43a293f1c\" class=\"colab-df-container\">\n",
              "    <div>\n",
              "<style scoped>\n",
              "    .dataframe tbody tr th:only-of-type {\n",
              "        vertical-align: middle;\n",
              "    }\n",
              "\n",
              "    .dataframe tbody tr th {\n",
              "        vertical-align: top;\n",
              "    }\n",
              "\n",
              "    .dataframe thead th {\n",
              "        text-align: right;\n",
              "    }\n",
              "</style>\n",
              "<table border=\"1\" class=\"dataframe\">\n",
              "  <thead>\n",
              "    <tr style=\"text-align: right;\">\n",
              "      <th></th>\n",
              "      <th>text</th>\n",
              "      <th>labels</th>\n",
              "    </tr>\n",
              "  </thead>\n",
              "  <tbody>\n",
              "    <tr>\n",
              "      <th>0</th>\n",
              "      <td>Huh, anyway check out this you[tube] channel: ...</td>\n",
              "      <td>1</td>\n",
              "    </tr>\n",
              "    <tr>\n",
              "      <th>1</th>\n",
              "      <td>Hey guys check out my new channel and our firs...</td>\n",
              "      <td>1</td>\n",
              "    </tr>\n",
              "    <tr>\n",
              "      <th>2</th>\n",
              "      <td>just for test I have to say murdev.com</td>\n",
              "      <td>1</td>\n",
              "    </tr>\n",
              "    <tr>\n",
              "      <th>3</th>\n",
              "      <td>me shaking my sexy ass on my channel enjoy ^_^ ﻿</td>\n",
              "      <td>1</td>\n",
              "    </tr>\n",
              "    <tr>\n",
              "      <th>4</th>\n",
              "      <td>watch?v=vtaRGgvGtWQ   Check this out .﻿</td>\n",
              "      <td>1</td>\n",
              "    </tr>\n",
              "    <tr>\n",
              "      <th>5</th>\n",
              "      <td>Hey, check out my new website!! This site is a...</td>\n",
              "      <td>1</td>\n",
              "    </tr>\n",
              "    <tr>\n",
              "      <th>6</th>\n",
              "      <td>Subscribe to my channel ﻿</td>\n",
              "      <td>1</td>\n",
              "    </tr>\n",
              "    <tr>\n",
              "      <th>7</th>\n",
              "      <td>i turned it on mute as soon is i came on i jus...</td>\n",
              "      <td>0</td>\n",
              "    </tr>\n",
              "    <tr>\n",
              "      <th>8</th>\n",
              "      <td>You should check my channel for Funny VIDEOS!!﻿</td>\n",
              "      <td>1</td>\n",
              "    </tr>\n",
              "    <tr>\n",
              "      <th>9</th>\n",
              "      <td>and u should.d check my channel and tell me wh...</td>\n",
              "      <td>1</td>\n",
              "    </tr>\n",
              "  </tbody>\n",
              "</table>\n",
              "</div>\n",
              "    <div class=\"colab-df-buttons\">\n",
              "\n",
              "  <div class=\"colab-df-container\">\n",
              "    <button class=\"colab-df-convert\" onclick=\"convertToInteractive('df-c3687bc4-b8dd-4072-9914-97e43a293f1c')\"\n",
              "            title=\"Convert this dataframe to an interactive table.\"\n",
              "            style=\"display:none;\">\n",
              "\n",
              "  <svg xmlns=\"http://www.w3.org/2000/svg\" height=\"24px\" viewBox=\"0 -960 960 960\">\n",
              "    <path d=\"M120-120v-720h720v720H120Zm60-500h600v-160H180v160Zm220 220h160v-160H400v160Zm0 220h160v-160H400v160ZM180-400h160v-160H180v160Zm440 0h160v-160H620v160ZM180-180h160v-160H180v160Zm440 0h160v-160H620v160Z\"/>\n",
              "  </svg>\n",
              "    </button>\n",
              "\n",
              "  <style>\n",
              "    .colab-df-container {\n",
              "      display:flex;\n",
              "      gap: 12px;\n",
              "    }\n",
              "\n",
              "    .colab-df-convert {\n",
              "      background-color: #E8F0FE;\n",
              "      border: none;\n",
              "      border-radius: 50%;\n",
              "      cursor: pointer;\n",
              "      display: none;\n",
              "      fill: #1967D2;\n",
              "      height: 32px;\n",
              "      padding: 0 0 0 0;\n",
              "      width: 32px;\n",
              "    }\n",
              "\n",
              "    .colab-df-convert:hover {\n",
              "      background-color: #E2EBFA;\n",
              "      box-shadow: 0px 1px 2px rgba(60, 64, 67, 0.3), 0px 1px 3px 1px rgba(60, 64, 67, 0.15);\n",
              "      fill: #174EA6;\n",
              "    }\n",
              "\n",
              "    .colab-df-buttons div {\n",
              "      margin-bottom: 4px;\n",
              "    }\n",
              "\n",
              "    [theme=dark] .colab-df-convert {\n",
              "      background-color: #3B4455;\n",
              "      fill: #D2E3FC;\n",
              "    }\n",
              "\n",
              "    [theme=dark] .colab-df-convert:hover {\n",
              "      background-color: #434B5C;\n",
              "      box-shadow: 0px 1px 3px 1px rgba(0, 0, 0, 0.15);\n",
              "      filter: drop-shadow(0px 1px 2px rgba(0, 0, 0, 0.3));\n",
              "      fill: #FFFFFF;\n",
              "    }\n",
              "  </style>\n",
              "\n",
              "    <script>\n",
              "      const buttonEl =\n",
              "        document.querySelector('#df-c3687bc4-b8dd-4072-9914-97e43a293f1c button.colab-df-convert');\n",
              "      buttonEl.style.display =\n",
              "        google.colab.kernel.accessAllowed ? 'block' : 'none';\n",
              "\n",
              "      async function convertToInteractive(key) {\n",
              "        const element = document.querySelector('#df-c3687bc4-b8dd-4072-9914-97e43a293f1c');\n",
              "        const dataTable =\n",
              "          await google.colab.kernel.invokeFunction('convertToInteractive',\n",
              "                                                    [key], {});\n",
              "        if (!dataTable) return;\n",
              "\n",
              "        const docLinkHtml = 'Like what you see? Visit the ' +\n",
              "          '<a target=\"_blank\" href=https://colab.research.google.com/notebooks/data_table.ipynb>data table notebook</a>'\n",
              "          + ' to learn more about interactive tables.';\n",
              "        element.innerHTML = '';\n",
              "        dataTable['output_type'] = 'display_data';\n",
              "        await google.colab.output.renderOutput(dataTable, element);\n",
              "        const docLink = document.createElement('div');\n",
              "        docLink.innerHTML = docLinkHtml;\n",
              "        element.appendChild(docLink);\n",
              "      }\n",
              "    </script>\n",
              "  </div>\n",
              "\n",
              "\n",
              "<div id=\"df-d07cb9d9-1c12-4998-8d73-7b0ad7dd44b1\">\n",
              "  <button class=\"colab-df-quickchart\" onclick=\"quickchart('df-d07cb9d9-1c12-4998-8d73-7b0ad7dd44b1')\"\n",
              "            title=\"Suggest charts\"\n",
              "            style=\"display:none;\">\n",
              "\n",
              "<svg xmlns=\"http://www.w3.org/2000/svg\" height=\"24px\"viewBox=\"0 0 24 24\"\n",
              "     width=\"24px\">\n",
              "    <g>\n",
              "        <path d=\"M19 3H5c-1.1 0-2 .9-2 2v14c0 1.1.9 2 2 2h14c1.1 0 2-.9 2-2V5c0-1.1-.9-2-2-2zM9 17H7v-7h2v7zm4 0h-2V7h2v10zm4 0h-2v-4h2v4z\"/>\n",
              "    </g>\n",
              "</svg>\n",
              "  </button>\n",
              "\n",
              "<style>\n",
              "  .colab-df-quickchart {\n",
              "      --bg-color: #E8F0FE;\n",
              "      --fill-color: #1967D2;\n",
              "      --hover-bg-color: #E2EBFA;\n",
              "      --hover-fill-color: #174EA6;\n",
              "      --disabled-fill-color: #AAA;\n",
              "      --disabled-bg-color: #DDD;\n",
              "  }\n",
              "\n",
              "  [theme=dark] .colab-df-quickchart {\n",
              "      --bg-color: #3B4455;\n",
              "      --fill-color: #D2E3FC;\n",
              "      --hover-bg-color: #434B5C;\n",
              "      --hover-fill-color: #FFFFFF;\n",
              "      --disabled-bg-color: #3B4455;\n",
              "      --disabled-fill-color: #666;\n",
              "  }\n",
              "\n",
              "  .colab-df-quickchart {\n",
              "    background-color: var(--bg-color);\n",
              "    border: none;\n",
              "    border-radius: 50%;\n",
              "    cursor: pointer;\n",
              "    display: none;\n",
              "    fill: var(--fill-color);\n",
              "    height: 32px;\n",
              "    padding: 0;\n",
              "    width: 32px;\n",
              "  }\n",
              "\n",
              "  .colab-df-quickchart:hover {\n",
              "    background-color: var(--hover-bg-color);\n",
              "    box-shadow: 0 1px 2px rgba(60, 64, 67, 0.3), 0 1px 3px 1px rgba(60, 64, 67, 0.15);\n",
              "    fill: var(--button-hover-fill-color);\n",
              "  }\n",
              "\n",
              "  .colab-df-quickchart-complete:disabled,\n",
              "  .colab-df-quickchart-complete:disabled:hover {\n",
              "    background-color: var(--disabled-bg-color);\n",
              "    fill: var(--disabled-fill-color);\n",
              "    box-shadow: none;\n",
              "  }\n",
              "\n",
              "  .colab-df-spinner {\n",
              "    border: 2px solid var(--fill-color);\n",
              "    border-color: transparent;\n",
              "    border-bottom-color: var(--fill-color);\n",
              "    animation:\n",
              "      spin 1s steps(1) infinite;\n",
              "  }\n",
              "\n",
              "  @keyframes spin {\n",
              "    0% {\n",
              "      border-color: transparent;\n",
              "      border-bottom-color: var(--fill-color);\n",
              "      border-left-color: var(--fill-color);\n",
              "    }\n",
              "    20% {\n",
              "      border-color: transparent;\n",
              "      border-left-color: var(--fill-color);\n",
              "      border-top-color: var(--fill-color);\n",
              "    }\n",
              "    30% {\n",
              "      border-color: transparent;\n",
              "      border-left-color: var(--fill-color);\n",
              "      border-top-color: var(--fill-color);\n",
              "      border-right-color: var(--fill-color);\n",
              "    }\n",
              "    40% {\n",
              "      border-color: transparent;\n",
              "      border-right-color: var(--fill-color);\n",
              "      border-top-color: var(--fill-color);\n",
              "    }\n",
              "    60% {\n",
              "      border-color: transparent;\n",
              "      border-right-color: var(--fill-color);\n",
              "    }\n",
              "    80% {\n",
              "      border-color: transparent;\n",
              "      border-right-color: var(--fill-color);\n",
              "      border-bottom-color: var(--fill-color);\n",
              "    }\n",
              "    90% {\n",
              "      border-color: transparent;\n",
              "      border-bottom-color: var(--fill-color);\n",
              "    }\n",
              "  }\n",
              "</style>\n",
              "\n",
              "  <script>\n",
              "    async function quickchart(key) {\n",
              "      const quickchartButtonEl =\n",
              "        document.querySelector('#' + key + ' button');\n",
              "      quickchartButtonEl.disabled = true;  // To prevent multiple clicks.\n",
              "      quickchartButtonEl.classList.add('colab-df-spinner');\n",
              "      try {\n",
              "        const charts = await google.colab.kernel.invokeFunction(\n",
              "            'suggestCharts', [key], {});\n",
              "      } catch (error) {\n",
              "        console.error('Error during call to suggestCharts:', error);\n",
              "      }\n",
              "      quickchartButtonEl.classList.remove('colab-df-spinner');\n",
              "      quickchartButtonEl.classList.add('colab-df-quickchart-complete');\n",
              "    }\n",
              "    (() => {\n",
              "      let quickchartButtonEl =\n",
              "        document.querySelector('#df-d07cb9d9-1c12-4998-8d73-7b0ad7dd44b1 button');\n",
              "      quickchartButtonEl.style.display =\n",
              "        google.colab.kernel.accessAllowed ? 'block' : 'none';\n",
              "    })();\n",
              "  </script>\n",
              "</div>\n",
              "    </div>\n",
              "  </div>\n"
            ]
          },
          "metadata": {},
          "execution_count": 7
        }
      ],
      "source": [
        "youtube_df.head(10)"
      ]
    },
    {
      "cell_type": "markdown",
      "metadata": {
        "id": "kV5ri2AyaT2T"
      },
      "source": [
        "## Define data pre-processing"
      ]
    },
    {
      "cell_type": "markdown",
      "metadata": {
        "id": "T-fGoLAAaWoP"
      },
      "source": [
        "### Text pre-processing"
      ]
    },
    {
      "cell_type": "code",
      "execution_count": null,
      "metadata": {
        "colab": {
          "base_uri": "https://localhost:8080/"
        },
        "id": "ZyWs6nbYNJHD",
        "outputId": "932a011d-1e9d-4eee-8d0a-fda0b2a28803"
      },
      "outputs": [
        {
          "output_type": "stream",
          "name": "stderr",
          "text": [
            "[nltk_data] Downloading package stopwords to /root/nltk_data...\n",
            "[nltk_data]   Unzipping corpora/stopwords.zip.\n",
            "[nltk_data] Downloading package punkt to /root/nltk_data...\n",
            "[nltk_data]   Unzipping tokenizers/punkt.zip.\n"
          ]
        },
        {
          "output_type": "execute_result",
          "data": {
            "text/plain": [
              "True"
            ]
          },
          "metadata": {},
          "execution_count": 8
        }
      ],
      "source": [
        "# NLTK Downloads\n",
        "nltk.download('stopwords')\n",
        "nltk.download('punkt')"
      ]
    },
    {
      "cell_type": "code",
      "execution_count": null,
      "metadata": {
        "id": "7oJEE6Nsah9n"
      },
      "outputs": [],
      "source": [
        "# Set of punctuation special characters to remove from text\n",
        "punctuation = set(string.punctuation)\n",
        "\n",
        "# List of stopwords (commonly used words in English)\n",
        "english_stopwords = set(stopwords.words('english'))"
      ]
    },
    {
      "cell_type": "code",
      "execution_count": null,
      "metadata": {
        "id": "_96KzXkiak1w"
      },
      "outputs": [],
      "source": [
        "# Converts all text to lowercase\n",
        "def to_lower(text):\n",
        "    return text.lower()\n",
        "\n",
        "# Removes punctuation from the text\n",
        "def remove_punc(text):\n",
        "    return ''.join(x if x not in punctuation else ' ' for x in text)\n",
        "\n",
        "# Decodes HTML entities and converts accented text to normal\n",
        "def to_ascii(text):\n",
        "    decoded_text = html.unescape(text)  # Decoding HTML entities\n",
        "    return ''.join(x for x in unicodedata.normalize('NFD', decoded_text) if unicodedata.category(x) != 'Mn')\n",
        "\n",
        "# Removes stopwords\n",
        "def remove_stopwords(text):\n",
        "    return ' '.join(x for x in word_tokenize(text) if x not in english_stopwords)\n",
        "\n",
        "# Removes BOM Unicode\n",
        "def remove_bom(text):\n",
        "    return text.replace('\\ufeff', '')\n",
        "\n",
        "# Remove excess whitespace\n",
        "def remove_xtra(text):\n",
        "    return ' '.join(text.split()).strip()\n",
        "\n",
        "# Process the data by making all text lowercase, removing puncuation, removing stopwords, and converting to ascii\n",
        "def process_data(data):\n",
        "    data['text'] = data['text'].apply(to_lower)\n",
        "    data['text'] = data['text'].apply(to_ascii)\n",
        "    data['text'] = data['text'].apply(remove_punc)\n",
        "    data['text'] = data['text'].apply(remove_stopwords)\n",
        "    data['text'] = data['text'].apply(remove_bom)\n",
        "    data['text'] = data['text'].apply(remove_xtra)\n",
        "    return data"
      ]
    },
    {
      "cell_type": "markdown",
      "metadata": {
        "id": "rIheIDNvaY_d"
      },
      "source": [
        "### GloVe embeddings"
      ]
    },
    {
      "cell_type": "code",
      "execution_count": null,
      "metadata": {
        "id": "Bm-j3263aoUE"
      },
      "outputs": [],
      "source": [
        "# Create a full dataset wrapper. This will return a dictionary of 3 items:\n",
        "#   1. glove_embeddings:    The embedding vectors for the sentence, padded to the max length.\n",
        "#   2. input_mask:          A tensor that denotes the start idx of the padded part of the sequence\n",
        "#   3. labels:              A single-element tensor denoting the class.\n",
        "#\n",
        "# Creating such an object this way will allow us to utilize DISTIL's interfaces without issue and will also be compatible with the model defined above.\n",
        "class FullDatasetWrapper(Dataset):\n",
        "\n",
        "    # Here's how we can get embeddings for each sentence. This will create a list of tensors, which will have varying sizes.\n",
        "    # We will need to pad each tensor for batching, so we will also need to keep track of the actual final token in each batch so that we do not compute on padded input.\n",
        "    def __init__(self, datalist, labels):\n",
        "        self.glove_embeddings   = [glove_vectorizer.get_vecs_by_tokens(glove_tokenizer(data_text), lower_case_backup=True) for data_text in datalist] # Convert text into glove embeddings\n",
        "        self.labels             = torch.tensor(labels)\n",
        "        self.pad_length         = max([glove_embedding.shape[0] for glove_embedding in self.glove_embeddings]) # Max sequence length\n",
        "\n",
        "\n",
        "    def __init__(self, dataframe):\n",
        "        self.glove_embeddings = []\n",
        "        valid_labels = []\n",
        "        for ind in dataframe.index:\n",
        "            data_text, data_label = dataframe['text'][ind], dataframe['labels'][ind]\n",
        "            tokens = glove_tokenizer(data_text)\n",
        "            if not tokens:   # Check if token list is empty\n",
        "                # print(f\"Warning: No tokens for text: {data_text}\")\n",
        "                continue\n",
        "            glove_embedding = glove_vectorizer.get_vecs_by_tokens(tokens, lower_case_backup=True)\n",
        "            if glove_embedding.shape[0] == 0:  # Check if no embeddings found\n",
        "                # print(f\"Warning: No embeddings for tokens: {tokens} in text: {data_text}\")\n",
        "                continue\n",
        "            self.glove_embeddings.append(glove_embedding)\n",
        "            valid_labels.append(data_label)\n",
        "        self.labels             = torch.tensor(valid_labels)\n",
        "        self.pad_length         = max([glove_embedding.shape[0] for glove_embedding in self.glove_embeddings]) # Max sequence length\n",
        "\n",
        "    def __getitem__(self, index):\n",
        "        glove_embedding                                     = self.glove_embeddings[index]                              # Get the glove embeddings for sentence\n",
        "        padded_glove_embedding                              = torch.zeros(self.pad_length, glove_embedding.shape[1])    # Create a padded tensor of zeros to hold them\n",
        "        padded_glove_embedding[:glove_embedding.shape[0]]   = glove_embedding                                           # Populate the front of the tensor w/ glove embeddings\n",
        "        input_mask                                          = torch.tensor(glove_embedding.shape[0])                    # Create a single-element tensor denoting index to start ignoring hidden states\n",
        "        label                                               = self.labels[index]                                        # Get the label and form the dictionary.\n",
        "        item_dict                                           =   {\"glove_embeddings\":    padded_glove_embedding,\n",
        "                                                                \"input_mask\":           input_mask,\n",
        "                                                                \"labels\":               label}\n",
        "        return item_dict\n",
        "\n",
        "    def __len__(self):\n",
        "        return len(self.glove_embeddings)"
      ]
    },
    {
      "cell_type": "markdown",
      "metadata": {
        "id": "ROvvhM8Whd4o"
      },
      "source": [
        "### AL Label Removal"
      ]
    },
    {
      "cell_type": "code",
      "execution_count": null,
      "metadata": {
        "id": "iCtFW7fohjw0"
      },
      "outputs": [],
      "source": [
        "class Labeled_to_unlabel(Dataset):\n",
        "\n",
        "  def __init__(self, wrapped_dataset):\n",
        "        self.wrapped_dataset = wrapped_dataset\n",
        "        # give the words here\n",
        "\n",
        "  def __getitem__(self, index):\n",
        "\n",
        "        #label = self.wrapped_dataset[index]['labels']\n",
        "        data = {key:self.wrapped_dataset[index][key] for key in self.wrapped_dataset[index] if key != 'labels'}\n",
        "\n",
        "        #data = self.wrapped_dataset[index]\n",
        "        return data\n",
        "\n",
        "  def __len__(self):\n",
        "        return len(self.wrapped_dataset)"
      ]
    },
    {
      "cell_type": "markdown",
      "metadata": {
        "id": "aJUIrkiwbNAJ"
      },
      "source": [
        "## Data split and sampling"
      ]
    },
    {
      "cell_type": "code",
      "execution_count": null,
      "metadata": {
        "id": "-0d_nVM8bbB9"
      },
      "outputs": [],
      "source": [
        "seed_values = [42, 96, 35, 52, 11, 87, 26, 75, 60, 49]"
      ]
    },
    {
      "cell_type": "markdown",
      "metadata": {
        "id": "cLc3McIUbVOY"
      },
      "source": [
        "#### *Use Ctrl+F10 from here for experiment re-runs (after changing exp_num)*"
      ]
    },
    {
      "cell_type": "code",
      "execution_count": null,
      "metadata": {
        "id": "0H4lGCaObPR_"
      },
      "outputs": [],
      "source": [
        "exp_num = 9 # CHANGE ME"
      ]
    },
    {
      "cell_type": "code",
      "execution_count": null,
      "metadata": {
        "colab": {
          "base_uri": "https://localhost:8080/"
        },
        "id": "X6P8wMuxbdrv",
        "outputId": "01a8b36f-62a2-4a17-fbc0-fea71e3cec71"
      },
      "outputs": [
        {
          "output_type": "stream",
          "name": "stdout",
          "text": [
            "Experiment number: 9 \tSeed value = 60\n"
          ]
        }
      ],
      "source": [
        "# DEFINE RAND_STATE FOR EXPERIMENT RUN\n",
        "RAND_STATE = seed_values[exp_num-1]\n",
        "print('Experiment number: {} \\tSeed value = {}'.format(exp_num, RAND_STATE))\n",
        "with open('logs.txt', 'a') as logfile:\n",
        "    logfile.write('\\n\\nExperiment number: {} \\tSeed value = {}  [YouTube Data]\\n'.format(exp_num, RAND_STATE))"
      ]
    },
    {
      "cell_type": "markdown",
      "metadata": {
        "id": "1vRNZJD-bwEa"
      },
      "source": [
        "### Create test-train split"
      ]
    },
    {
      "cell_type": "code",
      "execution_count": null,
      "metadata": {
        "id": "z2YgHAOhby9O"
      },
      "outputs": [],
      "source": [
        "# Specify the features (X) and target (y) columns\n",
        "X = youtube_df.drop(columns=['labels'])\n",
        "y = youtube_df['labels']\n",
        "\n",
        "# Perform the train-test split while maintaining the same class distribution\n",
        "X_train, X_test, y_train, y_test = train_test_split(X, y, test_size=0.15, random_state=RAND_STATE, stratify=y)\n",
        "\n",
        "# Create the train_df and test_df DataFrames\n",
        "train_df = pd.concat([X_train, y_train], axis=1)\n",
        "test_df = pd.concat([X_test, y_test], axis=1)"
      ]
    },
    {
      "cell_type": "markdown",
      "metadata": {
        "id": "fmoGKQnucFzv"
      },
      "source": [
        "### Create imbalance in training data (YouTube Dataset only)"
      ]
    },
    {
      "cell_type": "code",
      "execution_count": null,
      "metadata": {
        "id": "O9m5lY7LcTU3"
      },
      "outputs": [],
      "source": [
        "# Create an approximate 1:10 imbalance with spam to non-spam data\n",
        "ham_train = train_df[train_df['labels']==0]\n",
        "spam_train = train_df[train_df['labels']==1]\n",
        "spam_reduced = spam_train.sample(frac=0.1, random_state=RAND_STATE)\n",
        "imbalance_df = pd.concat([ham_train, spam_reduced], ignore_index=True)\n",
        "train_mod_df = shuffle(imbalance_df, random_state=RAND_STATE)"
      ]
    },
    {
      "cell_type": "markdown",
      "metadata": {
        "id": "rL_GuBDJDp3i"
      },
      "source": [
        "### Find data distribution and calculate imbalance factor"
      ]
    },
    {
      "cell_type": "code",
      "execution_count": null,
      "metadata": {
        "id": "M_N2mOYMDse2",
        "colab": {
          "base_uri": "https://localhost:8080/"
        },
        "outputId": "6bbcb025-0ea8-48a7-ff15-3d38c5077c01"
      },
      "outputs": [
        {
          "output_type": "stream",
          "name": "stdout",
          "text": [
            "\t  Ham   Spam\n",
            "Initial   808    854\n",
            "Training  808    85\n",
            "Testing   143    151\n"
          ]
        }
      ],
      "source": [
        "print('\\t  Ham   Spam')\n",
        "print('Initial  ', ham_train.shape[0], '  ', spam_train.shape[0])\n",
        "train_class_counts = train_mod_df['labels'].value_counts()\n",
        "print('Training ', train_class_counts[0], '  ', train_class_counts[1])\n",
        "test_class_counts = test_df['labels'].value_counts()\n",
        "print('Testing  ', test_class_counts[0], '  ', test_class_counts[1])"
      ]
    },
    {
      "cell_type": "code",
      "execution_count": null,
      "metadata": {
        "colab": {
          "base_uri": "https://localhost:8080/"
        },
        "id": "jVx6boCIcXI7",
        "outputId": "c560df3d-acb5-4754-86e8-440c9ad3b3da"
      },
      "outputs": [
        {
          "output_type": "stream",
          "name": "stdout",
          "text": [
            "Rare class to majority class ratio ~ 1 : 10\n"
          ]
        }
      ],
      "source": [
        "print(\"Rare class to majority class ratio ~ 1 :\", round(train_class_counts[0]/train_class_counts[1]))"
      ]
    },
    {
      "cell_type": "code",
      "execution_count": null,
      "metadata": {
        "colab": {
          "base_uri": "https://localhost:8080/"
        },
        "id": "P7eMzCTqRtU-",
        "outputId": "8bc6f278-de83-4ba2-c68a-e8dd3f7f1d94"
      },
      "outputs": [
        {
          "output_type": "stream",
          "name": "stdout",
          "text": [
            "Effective test-train split = 25:75\n"
          ]
        }
      ],
      "source": [
        "a, b = len(test_df), len(train_mod_df)\n",
        "print(\"Effective test-train split = {}:{}\".format(round((100*a)/(a+b)), round((100*b)/(a+b))))"
      ]
    },
    {
      "cell_type": "markdown",
      "metadata": {
        "id": "iPP3o_W1c9eR"
      },
      "source": [
        "### Create query set"
      ]
    },
    {
      "cell_type": "code",
      "execution_count": null,
      "metadata": {
        "id": "bK6osYCsdBJL"
      },
      "outputs": [],
      "source": [
        "# List of commonly found phrases in youtube spam comments\n",
        "freq_yt_spam_phrases = [\n",
        "    'check out my latest video', 'click the link', 'dont miss out', 'https',\n",
        "    'for more information', 'free gift', 'free giveaway', 'win prizes',\n",
        "    'like and comment', 'limited time offer', 'please help', 'subscribe now',\n",
        "    'subscribe to my channel', 'visit my website', 'watch my video'\n",
        "]\n",
        "query_set_size = len(freq_yt_spam_phrases)\n",
        "query_data = pd.DataFrame({\n",
        "    'text':freq_yt_spam_phrases, 'labels': [1]*query_set_size\n",
        "})"
      ]
    },
    {
      "cell_type": "markdown",
      "metadata": {
        "id": "7_IZsUoVcxUe"
      },
      "source": [
        "## Apply pre-processing"
      ]
    },
    {
      "cell_type": "markdown",
      "metadata": {
        "id": "CzU5J00Ef4HV"
      },
      "source": [
        "### Apply text processing"
      ]
    },
    {
      "cell_type": "code",
      "execution_count": null,
      "metadata": {
        "colab": {
          "base_uri": "https://localhost:8080/",
          "height": 206
        },
        "id": "BBZTt-U4dyJK",
        "outputId": "ceac90eb-a60c-4c6f-9661-048db0c7cbf2"
      },
      "outputs": [
        {
          "output_type": "execute_result",
          "data": {
            "text/plain": [
              "                                                  text  labels\n",
              "68                                         love shkira       0\n",
              "268  song means much thank sooooooooooooooooooooooo...       0\n",
              "343                                      old good song       0\n",
              "694                megan fox gorg eminem truly rap god       0\n",
              "341                                 came check views p       0"
            ],
            "text/html": [
              "\n",
              "  <div id=\"df-74671c0f-c06b-429a-805d-965cbbc31ee4\" class=\"colab-df-container\">\n",
              "    <div>\n",
              "<style scoped>\n",
              "    .dataframe tbody tr th:only-of-type {\n",
              "        vertical-align: middle;\n",
              "    }\n",
              "\n",
              "    .dataframe tbody tr th {\n",
              "        vertical-align: top;\n",
              "    }\n",
              "\n",
              "    .dataframe thead th {\n",
              "        text-align: right;\n",
              "    }\n",
              "</style>\n",
              "<table border=\"1\" class=\"dataframe\">\n",
              "  <thead>\n",
              "    <tr style=\"text-align: right;\">\n",
              "      <th></th>\n",
              "      <th>text</th>\n",
              "      <th>labels</th>\n",
              "    </tr>\n",
              "  </thead>\n",
              "  <tbody>\n",
              "    <tr>\n",
              "      <th>68</th>\n",
              "      <td>love shkira</td>\n",
              "      <td>0</td>\n",
              "    </tr>\n",
              "    <tr>\n",
              "      <th>268</th>\n",
              "      <td>song means much thank sooooooooooooooooooooooo...</td>\n",
              "      <td>0</td>\n",
              "    </tr>\n",
              "    <tr>\n",
              "      <th>343</th>\n",
              "      <td>old good song</td>\n",
              "      <td>0</td>\n",
              "    </tr>\n",
              "    <tr>\n",
              "      <th>694</th>\n",
              "      <td>megan fox gorg eminem truly rap god</td>\n",
              "      <td>0</td>\n",
              "    </tr>\n",
              "    <tr>\n",
              "      <th>341</th>\n",
              "      <td>came check views p</td>\n",
              "      <td>0</td>\n",
              "    </tr>\n",
              "  </tbody>\n",
              "</table>\n",
              "</div>\n",
              "    <div class=\"colab-df-buttons\">\n",
              "\n",
              "  <div class=\"colab-df-container\">\n",
              "    <button class=\"colab-df-convert\" onclick=\"convertToInteractive('df-74671c0f-c06b-429a-805d-965cbbc31ee4')\"\n",
              "            title=\"Convert this dataframe to an interactive table.\"\n",
              "            style=\"display:none;\">\n",
              "\n",
              "  <svg xmlns=\"http://www.w3.org/2000/svg\" height=\"24px\" viewBox=\"0 -960 960 960\">\n",
              "    <path d=\"M120-120v-720h720v720H120Zm60-500h600v-160H180v160Zm220 220h160v-160H400v160Zm0 220h160v-160H400v160ZM180-400h160v-160H180v160Zm440 0h160v-160H620v160ZM180-180h160v-160H180v160Zm440 0h160v-160H620v160Z\"/>\n",
              "  </svg>\n",
              "    </button>\n",
              "\n",
              "  <style>\n",
              "    .colab-df-container {\n",
              "      display:flex;\n",
              "      gap: 12px;\n",
              "    }\n",
              "\n",
              "    .colab-df-convert {\n",
              "      background-color: #E8F0FE;\n",
              "      border: none;\n",
              "      border-radius: 50%;\n",
              "      cursor: pointer;\n",
              "      display: none;\n",
              "      fill: #1967D2;\n",
              "      height: 32px;\n",
              "      padding: 0 0 0 0;\n",
              "      width: 32px;\n",
              "    }\n",
              "\n",
              "    .colab-df-convert:hover {\n",
              "      background-color: #E2EBFA;\n",
              "      box-shadow: 0px 1px 2px rgba(60, 64, 67, 0.3), 0px 1px 3px 1px rgba(60, 64, 67, 0.15);\n",
              "      fill: #174EA6;\n",
              "    }\n",
              "\n",
              "    .colab-df-buttons div {\n",
              "      margin-bottom: 4px;\n",
              "    }\n",
              "\n",
              "    [theme=dark] .colab-df-convert {\n",
              "      background-color: #3B4455;\n",
              "      fill: #D2E3FC;\n",
              "    }\n",
              "\n",
              "    [theme=dark] .colab-df-convert:hover {\n",
              "      background-color: #434B5C;\n",
              "      box-shadow: 0px 1px 3px 1px rgba(0, 0, 0, 0.15);\n",
              "      filter: drop-shadow(0px 1px 2px rgba(0, 0, 0, 0.3));\n",
              "      fill: #FFFFFF;\n",
              "    }\n",
              "  </style>\n",
              "\n",
              "    <script>\n",
              "      const buttonEl =\n",
              "        document.querySelector('#df-74671c0f-c06b-429a-805d-965cbbc31ee4 button.colab-df-convert');\n",
              "      buttonEl.style.display =\n",
              "        google.colab.kernel.accessAllowed ? 'block' : 'none';\n",
              "\n",
              "      async function convertToInteractive(key) {\n",
              "        const element = document.querySelector('#df-74671c0f-c06b-429a-805d-965cbbc31ee4');\n",
              "        const dataTable =\n",
              "          await google.colab.kernel.invokeFunction('convertToInteractive',\n",
              "                                                    [key], {});\n",
              "        if (!dataTable) return;\n",
              "\n",
              "        const docLinkHtml = 'Like what you see? Visit the ' +\n",
              "          '<a target=\"_blank\" href=https://colab.research.google.com/notebooks/data_table.ipynb>data table notebook</a>'\n",
              "          + ' to learn more about interactive tables.';\n",
              "        element.innerHTML = '';\n",
              "        dataTable['output_type'] = 'display_data';\n",
              "        await google.colab.output.renderOutput(dataTable, element);\n",
              "        const docLink = document.createElement('div');\n",
              "        docLink.innerHTML = docLinkHtml;\n",
              "        element.appendChild(docLink);\n",
              "      }\n",
              "    </script>\n",
              "  </div>\n",
              "\n",
              "\n",
              "<div id=\"df-231a1dfc-88b3-47e1-918d-82d6e0067407\">\n",
              "  <button class=\"colab-df-quickchart\" onclick=\"quickchart('df-231a1dfc-88b3-47e1-918d-82d6e0067407')\"\n",
              "            title=\"Suggest charts\"\n",
              "            style=\"display:none;\">\n",
              "\n",
              "<svg xmlns=\"http://www.w3.org/2000/svg\" height=\"24px\"viewBox=\"0 0 24 24\"\n",
              "     width=\"24px\">\n",
              "    <g>\n",
              "        <path d=\"M19 3H5c-1.1 0-2 .9-2 2v14c0 1.1.9 2 2 2h14c1.1 0 2-.9 2-2V5c0-1.1-.9-2-2-2zM9 17H7v-7h2v7zm4 0h-2V7h2v10zm4 0h-2v-4h2v4z\"/>\n",
              "    </g>\n",
              "</svg>\n",
              "  </button>\n",
              "\n",
              "<style>\n",
              "  .colab-df-quickchart {\n",
              "      --bg-color: #E8F0FE;\n",
              "      --fill-color: #1967D2;\n",
              "      --hover-bg-color: #E2EBFA;\n",
              "      --hover-fill-color: #174EA6;\n",
              "      --disabled-fill-color: #AAA;\n",
              "      --disabled-bg-color: #DDD;\n",
              "  }\n",
              "\n",
              "  [theme=dark] .colab-df-quickchart {\n",
              "      --bg-color: #3B4455;\n",
              "      --fill-color: #D2E3FC;\n",
              "      --hover-bg-color: #434B5C;\n",
              "      --hover-fill-color: #FFFFFF;\n",
              "      --disabled-bg-color: #3B4455;\n",
              "      --disabled-fill-color: #666;\n",
              "  }\n",
              "\n",
              "  .colab-df-quickchart {\n",
              "    background-color: var(--bg-color);\n",
              "    border: none;\n",
              "    border-radius: 50%;\n",
              "    cursor: pointer;\n",
              "    display: none;\n",
              "    fill: var(--fill-color);\n",
              "    height: 32px;\n",
              "    padding: 0;\n",
              "    width: 32px;\n",
              "  }\n",
              "\n",
              "  .colab-df-quickchart:hover {\n",
              "    background-color: var(--hover-bg-color);\n",
              "    box-shadow: 0 1px 2px rgba(60, 64, 67, 0.3), 0 1px 3px 1px rgba(60, 64, 67, 0.15);\n",
              "    fill: var(--button-hover-fill-color);\n",
              "  }\n",
              "\n",
              "  .colab-df-quickchart-complete:disabled,\n",
              "  .colab-df-quickchart-complete:disabled:hover {\n",
              "    background-color: var(--disabled-bg-color);\n",
              "    fill: var(--disabled-fill-color);\n",
              "    box-shadow: none;\n",
              "  }\n",
              "\n",
              "  .colab-df-spinner {\n",
              "    border: 2px solid var(--fill-color);\n",
              "    border-color: transparent;\n",
              "    border-bottom-color: var(--fill-color);\n",
              "    animation:\n",
              "      spin 1s steps(1) infinite;\n",
              "  }\n",
              "\n",
              "  @keyframes spin {\n",
              "    0% {\n",
              "      border-color: transparent;\n",
              "      border-bottom-color: var(--fill-color);\n",
              "      border-left-color: var(--fill-color);\n",
              "    }\n",
              "    20% {\n",
              "      border-color: transparent;\n",
              "      border-left-color: var(--fill-color);\n",
              "      border-top-color: var(--fill-color);\n",
              "    }\n",
              "    30% {\n",
              "      border-color: transparent;\n",
              "      border-left-color: var(--fill-color);\n",
              "      border-top-color: var(--fill-color);\n",
              "      border-right-color: var(--fill-color);\n",
              "    }\n",
              "    40% {\n",
              "      border-color: transparent;\n",
              "      border-right-color: var(--fill-color);\n",
              "      border-top-color: var(--fill-color);\n",
              "    }\n",
              "    60% {\n",
              "      border-color: transparent;\n",
              "      border-right-color: var(--fill-color);\n",
              "    }\n",
              "    80% {\n",
              "      border-color: transparent;\n",
              "      border-right-color: var(--fill-color);\n",
              "      border-bottom-color: var(--fill-color);\n",
              "    }\n",
              "    90% {\n",
              "      border-color: transparent;\n",
              "      border-bottom-color: var(--fill-color);\n",
              "    }\n",
              "  }\n",
              "</style>\n",
              "\n",
              "  <script>\n",
              "    async function quickchart(key) {\n",
              "      const quickchartButtonEl =\n",
              "        document.querySelector('#' + key + ' button');\n",
              "      quickchartButtonEl.disabled = true;  // To prevent multiple clicks.\n",
              "      quickchartButtonEl.classList.add('colab-df-spinner');\n",
              "      try {\n",
              "        const charts = await google.colab.kernel.invokeFunction(\n",
              "            'suggestCharts', [key], {});\n",
              "      } catch (error) {\n",
              "        console.error('Error during call to suggestCharts:', error);\n",
              "      }\n",
              "      quickchartButtonEl.classList.remove('colab-df-spinner');\n",
              "      quickchartButtonEl.classList.add('colab-df-quickchart-complete');\n",
              "    }\n",
              "    (() => {\n",
              "      let quickchartButtonEl =\n",
              "        document.querySelector('#df-231a1dfc-88b3-47e1-918d-82d6e0067407 button');\n",
              "      quickchartButtonEl.style.display =\n",
              "        google.colab.kernel.accessAllowed ? 'block' : 'none';\n",
              "    })();\n",
              "  </script>\n",
              "</div>\n",
              "    </div>\n",
              "  </div>\n"
            ]
          },
          "metadata": {},
          "execution_count": 1777
        }
      ],
      "source": [
        "train_processed_df = process_data(train_mod_df)\n",
        "# train_processed_df.iloc[10:25]\n",
        "train_processed_df.head()"
      ]
    },
    {
      "cell_type": "code",
      "execution_count": null,
      "metadata": {
        "colab": {
          "base_uri": "https://localhost:8080/",
          "height": 206
        },
        "id": "YoHKdx04e1EF",
        "outputId": "12e5a0a0-07d5-4c6f-fc95-6129a5154535"
      },
      "outputs": [
        {
          "output_type": "execute_result",
          "data": {
            "text/plain": [
              "                 text  labels\n",
              "0  check latest video       1\n",
              "1          click link       1\n",
              "2           dont miss       1\n",
              "3               https       1\n",
              "4         information       1"
            ],
            "text/html": [
              "\n",
              "  <div id=\"df-e74c559e-e652-482b-bb7f-f8c7b37bc56d\" class=\"colab-df-container\">\n",
              "    <div>\n",
              "<style scoped>\n",
              "    .dataframe tbody tr th:only-of-type {\n",
              "        vertical-align: middle;\n",
              "    }\n",
              "\n",
              "    .dataframe tbody tr th {\n",
              "        vertical-align: top;\n",
              "    }\n",
              "\n",
              "    .dataframe thead th {\n",
              "        text-align: right;\n",
              "    }\n",
              "</style>\n",
              "<table border=\"1\" class=\"dataframe\">\n",
              "  <thead>\n",
              "    <tr style=\"text-align: right;\">\n",
              "      <th></th>\n",
              "      <th>text</th>\n",
              "      <th>labels</th>\n",
              "    </tr>\n",
              "  </thead>\n",
              "  <tbody>\n",
              "    <tr>\n",
              "      <th>0</th>\n",
              "      <td>check latest video</td>\n",
              "      <td>1</td>\n",
              "    </tr>\n",
              "    <tr>\n",
              "      <th>1</th>\n",
              "      <td>click link</td>\n",
              "      <td>1</td>\n",
              "    </tr>\n",
              "    <tr>\n",
              "      <th>2</th>\n",
              "      <td>dont miss</td>\n",
              "      <td>1</td>\n",
              "    </tr>\n",
              "    <tr>\n",
              "      <th>3</th>\n",
              "      <td>https</td>\n",
              "      <td>1</td>\n",
              "    </tr>\n",
              "    <tr>\n",
              "      <th>4</th>\n",
              "      <td>information</td>\n",
              "      <td>1</td>\n",
              "    </tr>\n",
              "  </tbody>\n",
              "</table>\n",
              "</div>\n",
              "    <div class=\"colab-df-buttons\">\n",
              "\n",
              "  <div class=\"colab-df-container\">\n",
              "    <button class=\"colab-df-convert\" onclick=\"convertToInteractive('df-e74c559e-e652-482b-bb7f-f8c7b37bc56d')\"\n",
              "            title=\"Convert this dataframe to an interactive table.\"\n",
              "            style=\"display:none;\">\n",
              "\n",
              "  <svg xmlns=\"http://www.w3.org/2000/svg\" height=\"24px\" viewBox=\"0 -960 960 960\">\n",
              "    <path d=\"M120-120v-720h720v720H120Zm60-500h600v-160H180v160Zm220 220h160v-160H400v160Zm0 220h160v-160H400v160ZM180-400h160v-160H180v160Zm440 0h160v-160H620v160ZM180-180h160v-160H180v160Zm440 0h160v-160H620v160Z\"/>\n",
              "  </svg>\n",
              "    </button>\n",
              "\n",
              "  <style>\n",
              "    .colab-df-container {\n",
              "      display:flex;\n",
              "      gap: 12px;\n",
              "    }\n",
              "\n",
              "    .colab-df-convert {\n",
              "      background-color: #E8F0FE;\n",
              "      border: none;\n",
              "      border-radius: 50%;\n",
              "      cursor: pointer;\n",
              "      display: none;\n",
              "      fill: #1967D2;\n",
              "      height: 32px;\n",
              "      padding: 0 0 0 0;\n",
              "      width: 32px;\n",
              "    }\n",
              "\n",
              "    .colab-df-convert:hover {\n",
              "      background-color: #E2EBFA;\n",
              "      box-shadow: 0px 1px 2px rgba(60, 64, 67, 0.3), 0px 1px 3px 1px rgba(60, 64, 67, 0.15);\n",
              "      fill: #174EA6;\n",
              "    }\n",
              "\n",
              "    .colab-df-buttons div {\n",
              "      margin-bottom: 4px;\n",
              "    }\n",
              "\n",
              "    [theme=dark] .colab-df-convert {\n",
              "      background-color: #3B4455;\n",
              "      fill: #D2E3FC;\n",
              "    }\n",
              "\n",
              "    [theme=dark] .colab-df-convert:hover {\n",
              "      background-color: #434B5C;\n",
              "      box-shadow: 0px 1px 3px 1px rgba(0, 0, 0, 0.15);\n",
              "      filter: drop-shadow(0px 1px 2px rgba(0, 0, 0, 0.3));\n",
              "      fill: #FFFFFF;\n",
              "    }\n",
              "  </style>\n",
              "\n",
              "    <script>\n",
              "      const buttonEl =\n",
              "        document.querySelector('#df-e74c559e-e652-482b-bb7f-f8c7b37bc56d button.colab-df-convert');\n",
              "      buttonEl.style.display =\n",
              "        google.colab.kernel.accessAllowed ? 'block' : 'none';\n",
              "\n",
              "      async function convertToInteractive(key) {\n",
              "        const element = document.querySelector('#df-e74c559e-e652-482b-bb7f-f8c7b37bc56d');\n",
              "        const dataTable =\n",
              "          await google.colab.kernel.invokeFunction('convertToInteractive',\n",
              "                                                    [key], {});\n",
              "        if (!dataTable) return;\n",
              "\n",
              "        const docLinkHtml = 'Like what you see? Visit the ' +\n",
              "          '<a target=\"_blank\" href=https://colab.research.google.com/notebooks/data_table.ipynb>data table notebook</a>'\n",
              "          + ' to learn more about interactive tables.';\n",
              "        element.innerHTML = '';\n",
              "        dataTable['output_type'] = 'display_data';\n",
              "        await google.colab.output.renderOutput(dataTable, element);\n",
              "        const docLink = document.createElement('div');\n",
              "        docLink.innerHTML = docLinkHtml;\n",
              "        element.appendChild(docLink);\n",
              "      }\n",
              "    </script>\n",
              "  </div>\n",
              "\n",
              "\n",
              "<div id=\"df-b6660fd1-bd03-41b9-89ad-05714a10bdc4\">\n",
              "  <button class=\"colab-df-quickchart\" onclick=\"quickchart('df-b6660fd1-bd03-41b9-89ad-05714a10bdc4')\"\n",
              "            title=\"Suggest charts\"\n",
              "            style=\"display:none;\">\n",
              "\n",
              "<svg xmlns=\"http://www.w3.org/2000/svg\" height=\"24px\"viewBox=\"0 0 24 24\"\n",
              "     width=\"24px\">\n",
              "    <g>\n",
              "        <path d=\"M19 3H5c-1.1 0-2 .9-2 2v14c0 1.1.9 2 2 2h14c1.1 0 2-.9 2-2V5c0-1.1-.9-2-2-2zM9 17H7v-7h2v7zm4 0h-2V7h2v10zm4 0h-2v-4h2v4z\"/>\n",
              "    </g>\n",
              "</svg>\n",
              "  </button>\n",
              "\n",
              "<style>\n",
              "  .colab-df-quickchart {\n",
              "      --bg-color: #E8F0FE;\n",
              "      --fill-color: #1967D2;\n",
              "      --hover-bg-color: #E2EBFA;\n",
              "      --hover-fill-color: #174EA6;\n",
              "      --disabled-fill-color: #AAA;\n",
              "      --disabled-bg-color: #DDD;\n",
              "  }\n",
              "\n",
              "  [theme=dark] .colab-df-quickchart {\n",
              "      --bg-color: #3B4455;\n",
              "      --fill-color: #D2E3FC;\n",
              "      --hover-bg-color: #434B5C;\n",
              "      --hover-fill-color: #FFFFFF;\n",
              "      --disabled-bg-color: #3B4455;\n",
              "      --disabled-fill-color: #666;\n",
              "  }\n",
              "\n",
              "  .colab-df-quickchart {\n",
              "    background-color: var(--bg-color);\n",
              "    border: none;\n",
              "    border-radius: 50%;\n",
              "    cursor: pointer;\n",
              "    display: none;\n",
              "    fill: var(--fill-color);\n",
              "    height: 32px;\n",
              "    padding: 0;\n",
              "    width: 32px;\n",
              "  }\n",
              "\n",
              "  .colab-df-quickchart:hover {\n",
              "    background-color: var(--hover-bg-color);\n",
              "    box-shadow: 0 1px 2px rgba(60, 64, 67, 0.3), 0 1px 3px 1px rgba(60, 64, 67, 0.15);\n",
              "    fill: var(--button-hover-fill-color);\n",
              "  }\n",
              "\n",
              "  .colab-df-quickchart-complete:disabled,\n",
              "  .colab-df-quickchart-complete:disabled:hover {\n",
              "    background-color: var(--disabled-bg-color);\n",
              "    fill: var(--disabled-fill-color);\n",
              "    box-shadow: none;\n",
              "  }\n",
              "\n",
              "  .colab-df-spinner {\n",
              "    border: 2px solid var(--fill-color);\n",
              "    border-color: transparent;\n",
              "    border-bottom-color: var(--fill-color);\n",
              "    animation:\n",
              "      spin 1s steps(1) infinite;\n",
              "  }\n",
              "\n",
              "  @keyframes spin {\n",
              "    0% {\n",
              "      border-color: transparent;\n",
              "      border-bottom-color: var(--fill-color);\n",
              "      border-left-color: var(--fill-color);\n",
              "    }\n",
              "    20% {\n",
              "      border-color: transparent;\n",
              "      border-left-color: var(--fill-color);\n",
              "      border-top-color: var(--fill-color);\n",
              "    }\n",
              "    30% {\n",
              "      border-color: transparent;\n",
              "      border-left-color: var(--fill-color);\n",
              "      border-top-color: var(--fill-color);\n",
              "      border-right-color: var(--fill-color);\n",
              "    }\n",
              "    40% {\n",
              "      border-color: transparent;\n",
              "      border-right-color: var(--fill-color);\n",
              "      border-top-color: var(--fill-color);\n",
              "    }\n",
              "    60% {\n",
              "      border-color: transparent;\n",
              "      border-right-color: var(--fill-color);\n",
              "    }\n",
              "    80% {\n",
              "      border-color: transparent;\n",
              "      border-right-color: var(--fill-color);\n",
              "      border-bottom-color: var(--fill-color);\n",
              "    }\n",
              "    90% {\n",
              "      border-color: transparent;\n",
              "      border-bottom-color: var(--fill-color);\n",
              "    }\n",
              "  }\n",
              "</style>\n",
              "\n",
              "  <script>\n",
              "    async function quickchart(key) {\n",
              "      const quickchartButtonEl =\n",
              "        document.querySelector('#' + key + ' button');\n",
              "      quickchartButtonEl.disabled = true;  // To prevent multiple clicks.\n",
              "      quickchartButtonEl.classList.add('colab-df-spinner');\n",
              "      try {\n",
              "        const charts = await google.colab.kernel.invokeFunction(\n",
              "            'suggestCharts', [key], {});\n",
              "      } catch (error) {\n",
              "        console.error('Error during call to suggestCharts:', error);\n",
              "      }\n",
              "      quickchartButtonEl.classList.remove('colab-df-spinner');\n",
              "      quickchartButtonEl.classList.add('colab-df-quickchart-complete');\n",
              "    }\n",
              "    (() => {\n",
              "      let quickchartButtonEl =\n",
              "        document.querySelector('#df-b6660fd1-bd03-41b9-89ad-05714a10bdc4 button');\n",
              "      quickchartButtonEl.style.display =\n",
              "        google.colab.kernel.accessAllowed ? 'block' : 'none';\n",
              "    })();\n",
              "  </script>\n",
              "</div>\n",
              "    </div>\n",
              "  </div>\n"
            ]
          },
          "metadata": {},
          "execution_count": 1778
        }
      ],
      "source": [
        "query_df = process_data(query_data)\n",
        "query_df.head()"
      ]
    },
    {
      "cell_type": "code",
      "execution_count": null,
      "metadata": {
        "id": "04evjw7xe0M5"
      },
      "outputs": [],
      "source": [
        "test_df = process_data(test_df)"
      ]
    },
    {
      "cell_type": "markdown",
      "metadata": {
        "id": "6k9MK5wuf69Q"
      },
      "source": [
        "### Get dataset with embeddings"
      ]
    },
    {
      "cell_type": "code",
      "execution_count": null,
      "metadata": {
        "id": "_T1WW59QgFIt"
      },
      "outputs": [],
      "source": [
        "# GloVe Embeddings for Training Dataset\n",
        "training_dataset = FullDatasetWrapper(train_processed_df)\n",
        "# GloVe Embeddings for Query Datas\n",
        "rare_class_query_set = FullDatasetWrapper(query_df)\n",
        "# GloVe Embeddings for Testing Dataset\n",
        "testing_dataset = FullDatasetWrapper(test_df)"
      ]
    },
    {
      "cell_type": "markdown",
      "metadata": {
        "id": "Qp5_lKnegdJc"
      },
      "source": [
        "# Custom LSTM Model"
      ]
    },
    {
      "cell_type": "markdown",
      "metadata": {
        "id": "YWNXuY1xgf8_"
      },
      "source": [
        "## Model Definition"
      ]
    },
    {
      "cell_type": "code",
      "execution_count": null,
      "metadata": {
        "id": "8NOyZtuNghvn"
      },
      "outputs": [],
      "source": [
        "class Average(nn.Module):\n",
        "\n",
        "    def __init__(self):\n",
        "        super().__init__()\n",
        "\n",
        "    def forward(self, batch_sentence_token_embeddings, input_mask):\n",
        "        avgs = []\n",
        "        with torch.no_grad():\n",
        "            for i in range(batch_sentence_token_embeddings.shape[0]):\n",
        "                avg = torch.mean(batch_sentence_token_embeddings[i,:input_mask[i],:], dim=0)\n",
        "                avgs.append(avg)\n",
        "        return torch.stack(avgs, dim=0)\n",
        "\n",
        "\n",
        "class SimpleGloVeRNN(nn.Module):\n",
        "\n",
        "    def __init__(self, num_classes, hidden_dim=512, embedding_dim=256, num_rnn_stacks=1, num_mlp_layers=1):\n",
        "\n",
        "        super().__init__()\n",
        "        self.average  = Average()\n",
        "        self.rnn      = nn.LSTM(batch_first=True, input_size=300, hidden_size=hidden_dim, num_layers=num_rnn_stacks)\n",
        "        self.activ    = nn.ReLU()\n",
        "\n",
        "        mlp_layers  = []\n",
        "        for i in range(num_mlp_layers - 1):\n",
        "            linear      = nn.Linear(hidden_dim, hidden_dim)\n",
        "            bn          = nn.BatchNorm1d(hidden_dim)\n",
        "            mlp_layers.append(linear)\n",
        "            mlp_layers.append(bn)\n",
        "            mlp_layers.append(self.activ)\n",
        "        embed_linear    = nn.Linear(hidden_dim, embedding_dim)\n",
        "        embed_bn        = nn.BatchNorm1d(hidden_dim)\n",
        "        mlp_layers.append(embed_linear)\n",
        "        mlp_layers.append(embed_bn)\n",
        "\n",
        "        self.mlp            = nn.Sequential(*mlp_layers)\n",
        "        self.cls            = nn.Linear(embedding_dim, num_classes)\n",
        "        self.embedding_dim  = embedding_dim\n",
        "        self.hidden_dim     = hidden_dim\n",
        "\n",
        "\n",
        "    def get_embedding_dim(self):\n",
        "        return self.embedding_dim\n",
        "\n",
        "\n",
        "    def forward(self, glove_embeddings, input_mask, labels=None, freeze=False, last=False):\n",
        "\n",
        "        if freeze:\n",
        "            with torch.no_grad():\n",
        "                ignore_this         = self.average(glove_embeddings, input_mask)\n",
        "                hidden_states, _    = self.rnn(glove_embeddings)\n",
        "                # last_hidden_states  = torch.gather(hidden_states, 1, input_mask.reshape(-1,1,1).repeat(1,1,self.hidden_dim) - 1).squeeze()  # Using the mask, get the hidden vectors that correspond to the end of each sequence in the batch.\n",
        "                last_hidden_states = torch.gather(hidden_states, 1, input_mask.reshape(-1,1,1).repeat(1,1,self.hidden_dim) - 1)\n",
        "                if last_hidden_states.size(1) == 1:\n",
        "                    last_hidden_states = last_hidden_states.squeeze(1) # Squeeze the second dimension if it's 1\n",
        "                else:\n",
        "                    last_hidden_states = last_hidden_states.squeeze() # Or just squeeze the last dimension\n",
        "                # print(last_hidden_states.shape, glove_embeddings.shape, input_mask.shape)\n",
        "                sentence_embed      = self.mlp(last_hidden_states)\n",
        "        else:\n",
        "            ignore_this         = self.average(glove_embeddings, input_mask)                                                            # Added so we can use hooks to get input values for DISTIL's SMI.\n",
        "            hidden_states, _    = self.rnn(glove_embeddings)                                                                            # Apply RNN\n",
        "            # last_hidden_states  = torch.gather(hidden_states, 1, input_mask.reshape(-1,1,1).repeat(1,1,self.hidden_dim) - 1).squeeze()  # Using the mask, get the hidden vectors that correspond to the end of each sequence in the batch.\n",
        "            last_hidden_states = torch.gather(hidden_states, 1, input_mask.reshape(-1,1,1).repeat(1,1,self.hidden_dim) - 1)\n",
        "            if last_hidden_states.size(1) == 1:\n",
        "                last_hidden_states = last_hidden_states.squeeze(1) # Squeeze the second dimension if it's 1\n",
        "            else:\n",
        "                last_hidden_states = last_hidden_states.squeeze() # Or just squeeze the last dimension\n",
        "            # print(last_hidden_states.shape, glove_embeddings.shape, input_mask.shape)\n",
        "            sentence_embed      = self.mlp(last_hidden_states)                                                                          # Then, apply the MLP on top of the hidden states.\n",
        "        logits  = self.cls(self.activ(sentence_embed))\n",
        "        if last:\n",
        "            return logits, sentence_embed\n",
        "        else:\n",
        "            return logits"
      ]
    },
    {
      "cell_type": "markdown",
      "metadata": {
        "id": "_P8heLVxgizW"
      },
      "source": [
        "## Custom Training Method"
      ]
    },
    {
      "cell_type": "code",
      "execution_count": null,
      "metadata": {
        "id": "ZVCJR785gm6j"
      },
      "outputs": [],
      "source": [
        "class data_train:\n",
        "\n",
        "    def __init__(self, num_cls=2, hidden_dim=256, embedding_dim=256, num_rnn_stacks=2, mlp_layers=2, batch_size=20) -> None:\n",
        "        self.model = SimpleGloVeRNN(num_cls, hidden_dim, embedding_dim, num_rnn_stacks, mlp_layers)\n",
        "        self.num_cls = num_cls\n",
        "        self.hidden_dim = hidden_dim\n",
        "        self.embedding_dim = embedding_dim\n",
        "        self.num_rnn_stacks = num_rnn_stacks\n",
        "        self.mlp_layers = mlp_layers\n",
        "        self.batch_size = batch_size\n",
        "        self.device = \"cuda\" if torch.cuda.is_available() else \"cpu\"\n",
        "        self.model.to(self.device)\n",
        "\n",
        "    def get_param_count(self):\n",
        "        # How many parameters? Should be MUCH less than BERT (110 million)! Can configure above params to make the model larger/smaller.\n",
        "        param_count = 0\n",
        "        for param in self.model.parameters():\n",
        "            size_list   = param.size()\n",
        "            param_count += torch.prod(torch.tensor(size_list)).item()\n",
        "        print(\"Parameters:\", F\"{param_count:,}\")\n",
        "        return param_count\n",
        "\n",
        "    def check_batching(self, training_dataset):\n",
        "        dataloader = DataLoader(training_dataset, batch_size=2, shuffle=False)\n",
        "        for batch_dict in dataloader:\n",
        "            batch_dict = {k:v.to(self.device) for k,v in batch_dict.items()}\n",
        "            output = self.model(**batch_dict)\n",
        "            print(output.shape)\n",
        "\n",
        "    def train(self, training_dataset, epochs=150, lr=1e-2):\n",
        "        dataloader = DataLoader(training_dataset, batch_size=self.batch_size, shuffle=False)\n",
        "        optimizer = optim.SGD(self.model.parameters(), lr=1e-2)\n",
        "        self.model.train()\n",
        "        losses = []\n",
        "        for i in range(epochs):\n",
        "            epoch_loss, num_batches = 0, 0\n",
        "            for batch_dict in dataloader:\n",
        "                batch_dict = {k:v.to(self.device) for k,v in batch_dict.items()}\n",
        "                optimizer.zero_grad()\n",
        "                out   = self.model(**batch_dict)\n",
        "                loss  = torch.nn.functional.cross_entropy(out, batch_dict[\"labels\"])\n",
        "                loss.backward()\n",
        "                optimizer.step()\n",
        "                epoch_loss, num_batches = epoch_loss+loss.item(), num_batches+1\n",
        "            avg_loss = epoch_loss/num_batches if num_batches>0 else 0\n",
        "            if (i+1)%5==0:\n",
        "                print('Epoch:', (i+1), '\\tLoss =', avg_loss)\n",
        "            losses.append(avg_loss)\n",
        "        self.model.eval()\n",
        "        return losses\n",
        "\n",
        "    def verify_output_emeddings(self, training_dataset):\n",
        "        dataloader = DataLoader(training_dataset, batch_size=2, shuffle=False)\n",
        "        for batch_dict in dataloader:\n",
        "            batch_dict = {k:v.to(self.device) for k,v in batch_dict.items()}\n",
        "            output, embeddings = self.model(**batch_dict, last=True, freeze=True)\n",
        "            print(output)\n",
        "            print(embeddings.shape)\n",
        "\n",
        "    def get_test_metrics(self, testing_dataset):\n",
        "        dataloader = DataLoader(testing_dataset, batch_size=self.batch_size, shuffle=False)\n",
        "        # Initialize counters\n",
        "        tp = fp = fn = tn = 0\n",
        "\n",
        "        self.model.eval()\n",
        "        with torch.no_grad():\n",
        "            for batch_dict in dataloader:\n",
        "                batch_dict = {k:v.to(self.device) for k,v in batch_dict.items()}\n",
        "                # Get model outputs\n",
        "                outputs = self.model(**batch_dict)\n",
        "                # Calculate predictions from outputs (assuming binary classification with threshold at 0.5)\n",
        "                # Modify the threshold and prediction calculation if necessary\n",
        "                predictions = torch.argmax(outputs, dim=1)\n",
        "                # Get true labels\n",
        "                true_labels = batch_dict[\"labels\"]\n",
        "                # Update confusion matrix\n",
        "                conf_mat = confusion_matrix(true_labels.cpu().numpy(), predictions.cpu().numpy(), labels=[0, 1])\n",
        "                tn_, fp_, fn_, tp_ = conf_mat.ravel() if conf_mat.size == 4 else (0, 0, 0, 0)\n",
        "                tp, fp, fn, tn = tp+tp_, fp+fp_, fn+fn_, tn+tn_\n",
        "\n",
        "        acc = (tp + tn) / (tp + fp + fn + tn) if (tp + fp + fn + tn) > 0 else 0\n",
        "        ppv = tp / (tp + fp) if (tp + fp) > 0 else 0\n",
        "        tpr = tp / (tp + fn) if (tp + fn) > 0 else 0\n",
        "        f1 = (2 * tp) / (2 * tp + fp + fn) if (2 * tp + fp + fn) > 0 else 0\n",
        "        fpr = fp / (fp + tn) if (fp + tn) > 0 else 0\n",
        "        fnr = fn / (tp + fn) if (tp + fn) > 0 else 0\n",
        "        tnr = tn / (tn + fp) if (tn + fp) > 0 else 0\n",
        "        npv = tn / (tn + fn) if (tn + fn) > 0 else 0\n",
        "        fdr = fp / (tp + fp) if (tp + fp) > 0 else 0\n",
        "        mcc_numerator = (tp * tn) - (fp * fn)\n",
        "        mcc_denominator = ((tp + fp) * (tp + fn) * (tn + fp) * (tn + fn)) ** 0.5\n",
        "        mcc = mcc_numerator / mcc_denominator if mcc_denominator > 0 else 0\n",
        "\n",
        "        metrics = {\n",
        "            'tp': tp, 'fp': fp, 'fn': fn, 'tn': tn, 'acc': acc, 'f1': f1,\n",
        "            'ppv': ppv, 'tpr': tpr, 'fpr': fpr, 'fnr': fnr,\n",
        "            'tnr': tnr, 'npv': npv, 'fdr': fdr, 'mcc': mcc\n",
        "        }\n",
        "\n",
        "        return metrics\n"
      ]
    },
    {
      "cell_type": "markdown",
      "metadata": {
        "id": "p5L4BO7c3yLQ"
      },
      "source": [
        "### Metric_dict Definition"
      ]
    },
    {
      "cell_type": "code",
      "execution_count": null,
      "metadata": {
        "colab": {
          "base_uri": "https://localhost:8080/"
        },
        "id": "41aAygRWgaNB",
        "outputId": "a7fcfa8b-80ad-46f2-aef6-34e96dc89192"
      },
      "outputs": [
        {
          "output_type": "execute_result",
          "data": {
            "text/plain": [
              "{'tp': 'True Positive Count',\n",
              " 'fp': 'False Positive Count',\n",
              " 'fn': 'False Negative Count',\n",
              " 'tn': 'True Negative Count',\n",
              " 'acc': 'Accuracy',\n",
              " 'f1': 'F1-score | F-measure',\n",
              " 'ppv': 'Positive Predictive Value | Precision',\n",
              " 'tpr': 'True Positive Rate | Recall | Sensitivity',\n",
              " 'fpr': 'False Positive Rate | Type I error',\n",
              " 'fnr': 'False Negative Rate | Type II error',\n",
              " 'tnr': 'True Negative Rate | Specificity',\n",
              " 'npv': 'Negative Predictive Value',\n",
              " 'fdr': 'False Discovery Rate',\n",
              " 'mcc': 'Matthews Correlation Coefficient'}"
            ]
          },
          "metadata": {},
          "execution_count": 13
        }
      ],
      "source": [
        "metric_dict = {\n",
        "    'tp': \"True Positive Count\", 'fp': 'False Positive Count',\n",
        "    'fn': \"False Negative Count\", 'tn': 'True Negative Count',\n",
        "    'acc': \"Accuracy\", 'f1': 'F1-score | F-measure',\n",
        "    'ppv': \"Positive Predictive Value | Precision\",\n",
        "    'tpr': 'True Positive Rate | Recall | Sensitivity',\n",
        "    'fpr': \"False Positive Rate | Type I error\",\n",
        "    'fnr': 'False Negative Rate | Type II error',\n",
        "    'tnr': \"True Negative Rate | Specificity\",\n",
        "    'npv': 'Negative Predictive Value', 'fdr': \"False Discovery Rate\",\n",
        "    'mcc': 'Matthews Correlation Coefficient',\n",
        "\n",
        "}\n",
        "metric_dict"
      ]
    },
    {
      "cell_type": "markdown",
      "metadata": {
        "id": "95hON86ZhAzy"
      },
      "source": [
        "# Active Learning"
      ]
    },
    {
      "cell_type": "markdown",
      "metadata": {
        "id": "otBhU55MiBjP"
      },
      "source": [
        "## Define Selection Strategy arguments"
      ]
    },
    {
      "cell_type": "code",
      "execution_count": null,
      "metadata": {
        "colab": {
          "base_uri": "https://localhost:8080/"
        },
        "id": "1qVFE8SNiEsu",
        "outputId": "2dc0e550-d909-47a4-8665-ef71782b4927"
      },
      "outputs": [
        {
          "output_type": "stream",
          "name": "stdout",
          "text": [
            "44\n"
          ]
        }
      ],
      "source": [
        "budget = sum(train_class_counts)//20 # Budget is set to 5% of the total training dataset\n",
        "print(budget)"
      ]
    },
    {
      "cell_type": "code",
      "execution_count": null,
      "metadata": {
        "id": "Y_q2QbxhiRQB"
      },
      "outputs": [],
      "source": [
        "selection_strategy_args = {\n",
        "    'device':        \"cpu\",                  # Use the device used in training\n",
        "    'batch_size':    20,                    # Use the batch size used in training\n",
        "    'smi_function':  'logdetmi',              # Use a facility location function, which captures representation information\n",
        "    'metric':        'cosine',             # Use cosine similarity when determining the likeness of two data points\n",
        "    'optimizer':     'LazyGreedy',          # When doing submodular maximization, use the lazy greedy optimizer\n",
        "    'embedding_type': 'features',          # IMPORTANT: NEED TO USE PRETRAINED GLOVE FEATURES FOR COLD START SELECTION!\n",
        "    'layer_name':    'average'             # We can do so by specifying the layer we wish to extract those features from.\n",
        "}"
      ]
    },
    {
      "cell_type": "code",
      "source": [
        "qry_sz, train_sz = len(rare_class_query_set), len(training_dataset)"
      ],
      "metadata": {
        "id": "dD4R_oIStiCG"
      },
      "execution_count": null,
      "outputs": []
    },
    {
      "cell_type": "markdown",
      "metadata": {
        "id": "DJZZ_nhfjFWg"
      },
      "source": [
        "## Query Set Size = 100%"
      ]
    },
    {
      "cell_type": "code",
      "execution_count": null,
      "metadata": {
        "id": "1m3w_gizobVl"
      },
      "outputs": [],
      "source": [
        "LSTM_pc100 = data_train()"
      ]
    },
    {
      "cell_type": "code",
      "source": [
        "random.seed(RAND_STATE)\n",
        "ablated_query_set = Subset(rare_class_query_set, random.sample(range(qry_sz), int(1.00 * qry_sz)))\n",
        "print('Query Set Size w.r.t. Unlabeled Data = {}%'.format(round(100*qry_sz/train_sz, 2)))\n",
        "print('Query Set Usage: 100%')"
      ],
      "metadata": {
        "colab": {
          "base_uri": "https://localhost:8080/"
        },
        "id": "k_u_dpbwtsHq",
        "outputId": "9c36259c-383e-4939-b701-58ed6f5824c0"
      },
      "execution_count": null,
      "outputs": [
        {
          "output_type": "stream",
          "name": "stdout",
          "text": [
            "Query Set Size w.r.t. Unlabeled Data = 1.69%\n",
            "Query Set Usage: 100%\n"
          ]
        }
      ]
    },
    {
      "cell_type": "markdown",
      "metadata": {
        "id": "7DRqDzqYoBF4"
      },
      "source": [
        "### Subset Selection with 100% of Query Set"
      ]
    },
    {
      "cell_type": "code",
      "execution_count": null,
      "metadata": {
        "colab": {
          "base_uri": "https://localhost:8080/"
        },
        "id": "fmYnKDBQoHSL",
        "outputId": "ef3ffdf1-e72d-4aff-b364-470312aa908e"
      },
      "outputs": [
        {
          "output_type": "stream",
          "name": "stdout",
          "text": [
            "Class 0 count: 23\n",
            "Class 1 count: 21\n"
          ]
        }
      ],
      "source": [
        "selection_strategy_args['device'] = LSTM_pc100.device\n",
        "pc100_selection_strategy = SMI(training_dataset, Labeled_to_unlabel(training_dataset), ablated_query_set, LSTM_pc100.model, LSTM_pc100.num_cls, selection_strategy_args)\n",
        "pc100_selected_idx = pc100_selection_strategy.select(budget)\n",
        "pc100_human_labeled_dataset = Subset(training_dataset, pc100_selected_idx)\n",
        "\n",
        "pc100_class_counts = [0 for x in range(LSTM_pc100.num_cls)]\n",
        "# Go over the newly labeled dataset, tallying the number of points seen in each class.\n",
        "for _ in pc100_human_labeled_dataset:\n",
        "    pc100_class_counts[_['labels']] += 1\n",
        "\n",
        "# Print each class count\n",
        "\n",
        "for class_idx, class_count in enumerate(pc100_class_counts):\n",
        "    print(F\"Class {class_idx} count: {class_count}\")"
      ]
    },
    {
      "cell_type": "code",
      "execution_count": null,
      "metadata": {
        "id": "Y9l9ADpFoOdh"
      },
      "outputs": [],
      "source": [
        "with open('logs.txt', 'a') as logfile:\n",
        "    logfile.write('\\nQuery Set Size w.r.t. Unlabeled Data = {}%'.format(round(100*qry_sz/train_sz, 2)))\n",
        "    logfile.write('\\nQuery Set Usage: 100% \\n')\n",
        "    for class_idx, class_count in enumerate(pc100_class_counts):\n",
        "        logfile.write(F\"Class {class_idx} count: {class_count} \\n\")"
      ]
    },
    {
      "cell_type": "markdown",
      "metadata": {
        "id": "NlfW0ka2pbOx"
      },
      "source": [
        "### Training on Selection using 100% of Query Set"
      ]
    },
    {
      "cell_type": "code",
      "execution_count": null,
      "metadata": {
        "colab": {
          "base_uri": "https://localhost:8080/"
        },
        "id": "RBciJsOdpiZf",
        "outputId": "f9f415c8-d03d-4d08-bf89-66bd7f5ba101"
      },
      "outputs": [
        {
          "output_type": "stream",
          "name": "stdout",
          "text": [
            "Epoch: 5 \tLoss = 0.20546423147122064\n",
            "Epoch: 10 \tLoss = 0.11245974153280258\n",
            "Epoch: 15 \tLoss = 0.074991874396801\n",
            "Epoch: 20 \tLoss = 0.05510032922029495\n",
            "Epoch: 25 \tLoss = 0.043227419878045716\n",
            "Epoch: 30 \tLoss = 0.035420787831147514\n",
            "Epoch: 35 \tLoss = 0.029818149283528328\n",
            "Epoch: 40 \tLoss = 0.025703911979993183\n",
            "Epoch: 45 \tLoss = 0.02249570128818353\n",
            "Epoch: 50 \tLoss = 0.019989396755894024\n"
          ]
        }
      ],
      "source": [
        "losses_pc100 = LSTM_pc100.train(pc100_human_labeled_dataset, epochs=50)"
      ]
    },
    {
      "cell_type": "markdown",
      "metadata": {
        "id": "honXPz77pm2q"
      },
      "source": [
        "### Test Performance - Model trained on selecting using 100% of Query Set"
      ]
    },
    {
      "cell_type": "code",
      "execution_count": null,
      "metadata": {
        "id": "8tdEkxOkpwLK"
      },
      "outputs": [],
      "source": [
        "pc100_metrics = LSTM_pc100.get_test_metrics(testing_dataset)"
      ]
    },
    {
      "cell_type": "code",
      "execution_count": null,
      "metadata": {
        "colab": {
          "base_uri": "https://localhost:8080/"
        },
        "id": "y6Ii7Kv0qSv1",
        "outputId": "94e4cf59-d8c9-4bcb-c598-951f2d707987"
      },
      "outputs": [
        {
          "output_type": "execute_result",
          "data": {
            "text/plain": [
              "{'tp': 94,\n",
              " 'fp': 22,\n",
              " 'fn': 57,\n",
              " 'tn': 121,\n",
              " 'acc': 0.7312925170068028,\n",
              " 'f1': 0.704119850187266,\n",
              " 'ppv': 0.8103448275862069,\n",
              " 'tpr': 0.6225165562913907,\n",
              " 'fpr': 0.15384615384615385,\n",
              " 'fnr': 0.37748344370860926,\n",
              " 'tnr': 0.8461538461538461,\n",
              " 'npv': 0.6797752808988764,\n",
              " 'fdr': 0.1896551724137931,\n",
              " 'mcc': 0.4792752742320504}"
            ]
          },
          "metadata": {},
          "execution_count": 1793
        }
      ],
      "source": [
        "pc100_metrics"
      ]
    },
    {
      "cell_type": "code",
      "execution_count": null,
      "metadata": {
        "id": "RC2NUzd-hc0R"
      },
      "outputs": [],
      "source": [
        "pc100_metrics['name'] = 'Size-100%'"
      ]
    },
    {
      "cell_type": "markdown",
      "metadata": {
        "id": "rSlXSENIq8ra"
      },
      "source": [
        "## Query Set Size = 80%"
      ]
    },
    {
      "cell_type": "code",
      "execution_count": null,
      "metadata": {
        "id": "swWaAAi4sotx"
      },
      "outputs": [],
      "source": [
        "LSTM_pc80 = data_train()"
      ]
    },
    {
      "cell_type": "code",
      "source": [
        "random.seed(RAND_STATE)\n",
        "ablated_query_set = Subset(rare_class_query_set, random.sample(range(qry_sz), int(0.80 * qry_sz)))\n",
        "print('Query Set Size w.r.t. Unlabeled Data = {}%'.format(round(80*qry_sz/train_sz, 2)))\n",
        "print('Query Set Usage: 80%')"
      ],
      "metadata": {
        "colab": {
          "base_uri": "https://localhost:8080/"
        },
        "id": "fkDAXomhvkrh",
        "outputId": "4d4ffd93-aa91-42e0-a43d-2ef520de2249"
      },
      "execution_count": null,
      "outputs": [
        {
          "output_type": "stream",
          "name": "stdout",
          "text": [
            "Query Set Size w.r.t. Unlabeled Data = 1.35%\n",
            "Query Set Usage: 80%\n"
          ]
        }
      ]
    },
    {
      "cell_type": "markdown",
      "metadata": {
        "id": "3kKeYOeUrCBF"
      },
      "source": [
        "### Subset Selection with 80% of Query Set"
      ]
    },
    {
      "cell_type": "code",
      "execution_count": null,
      "metadata": {
        "colab": {
          "base_uri": "https://localhost:8080/"
        },
        "id": "v1GDv9hhtaoN",
        "outputId": "78b9517d-f7d6-47bc-a9c9-4d2eb2818ac0"
      },
      "outputs": [
        {
          "output_type": "stream",
          "name": "stdout",
          "text": [
            "Class 0 count: 27\n",
            "Class 1 count: 17\n"
          ]
        }
      ],
      "source": [
        "selection_strategy_args['device'] = LSTM_pc80.device\n",
        "pc80_selection_strategy = SMI(training_dataset, Labeled_to_unlabel(training_dataset), ablated_query_set, LSTM_pc80.model, LSTM_pc80.num_cls, selection_strategy_args)\n",
        "pc80_selected_idx = pc80_selection_strategy.select(budget)\n",
        "pc80_human_labeled_dataset = Subset(training_dataset, pc80_selected_idx)\n",
        "\n",
        "pc80_class_counts = [0 for x in range(LSTM_pc80.num_cls)]\n",
        "# Go over the newly labeled dataset, tallying the number of points seen in each class.\n",
        "for _ in pc80_human_labeled_dataset:\n",
        "    pc80_class_counts[_['labels']] += 1\n",
        "\n",
        "# Print each class count\n",
        "\n",
        "for class_idx, class_count in enumerate(pc80_class_counts):\n",
        "    print(F\"Class {class_idx} count: {class_count}\")"
      ]
    },
    {
      "cell_type": "code",
      "execution_count": null,
      "metadata": {
        "id": "9_HkyP0IuDjc"
      },
      "outputs": [],
      "source": [
        "with open('logs.txt', 'a') as logfile:\n",
        "    logfile.write('\\nQuery Set Size w.r.t. Unlabeled Data = {}%'.format(round(80*qry_sz/train_sz, 2)))\n",
        "    logfile.write('\\nQuery Set Usage: 80% \\n')\n",
        "    for class_idx, class_count in enumerate(pc80_class_counts):\n",
        "        logfile.write(F\"Class {class_idx} count: {class_count} \\n\")"
      ]
    },
    {
      "cell_type": "markdown",
      "metadata": {
        "id": "_AzAtGo0rH_S"
      },
      "source": [
        "### Training on Selection using 80% of Query Set"
      ]
    },
    {
      "cell_type": "code",
      "execution_count": null,
      "metadata": {
        "colab": {
          "base_uri": "https://localhost:8080/"
        },
        "id": "bTRWcwaRujp_",
        "outputId": "d6c6e24f-6a31-4262-e258-63a5faac69c3"
      },
      "outputs": [
        {
          "output_type": "stream",
          "name": "stdout",
          "text": [
            "Epoch: 5 \tLoss = 0.15526603907346725\n",
            "Epoch: 10 \tLoss = 0.08532629534602165\n",
            "Epoch: 15 \tLoss = 0.057045089080929756\n",
            "Epoch: 20 \tLoss = 0.04217539603511492\n",
            "Epoch: 25 \tLoss = 0.033152236913641296\n",
            "Epoch: 30 \tLoss = 0.027173434384167194\n",
            "Epoch: 35 \tLoss = 0.022938299148033064\n",
            "Epoch: 40 \tLoss = 0.01981069768468539\n",
            "Epoch: 45 \tLoss = 0.017407704920818407\n",
            "Epoch: 50 \tLoss = 0.015506520556906859\n"
          ]
        }
      ],
      "source": [
        "losses_pc80 = LSTM_pc80.train(pc80_human_labeled_dataset, epochs=50)"
      ]
    },
    {
      "cell_type": "markdown",
      "metadata": {
        "id": "ag8kmdpYrLwf"
      },
      "source": [
        "### Test Performance - Model trained on selecting using 80% of Query Set"
      ]
    },
    {
      "cell_type": "code",
      "execution_count": null,
      "metadata": {
        "id": "Q4Sma71bvBPs"
      },
      "outputs": [],
      "source": [
        "pc80_metrics = LSTM_pc80.get_test_metrics(testing_dataset)"
      ]
    },
    {
      "cell_type": "code",
      "execution_count": null,
      "metadata": {
        "colab": {
          "base_uri": "https://localhost:8080/"
        },
        "id": "Trc6iukgvCcs",
        "outputId": "13913044-38aa-451c-ae85-3d0054e7bf92"
      },
      "outputs": [
        {
          "output_type": "execute_result",
          "data": {
            "text/plain": [
              "{'tp': 70,\n",
              " 'fp': 7,\n",
              " 'fn': 81,\n",
              " 'tn': 136,\n",
              " 'acc': 0.7006802721088435,\n",
              " 'f1': 0.6140350877192983,\n",
              " 'ppv': 0.9090909090909091,\n",
              " 'tpr': 0.46357615894039733,\n",
              " 'fpr': 0.04895104895104895,\n",
              " 'fnr': 0.5364238410596026,\n",
              " 'tnr': 0.951048951048951,\n",
              " 'npv': 0.6267281105990783,\n",
              " 'fdr': 0.09090909090909091,\n",
              " 'mcc': 0.4713427839410994}"
            ]
          },
          "metadata": {},
          "execution_count": 1801
        }
      ],
      "source": [
        "pc80_metrics"
      ]
    },
    {
      "cell_type": "code",
      "execution_count": null,
      "metadata": {
        "id": "zsVyUIe7hxW-"
      },
      "outputs": [],
      "source": [
        "pc80_metrics['name'] = 'Size-80%'"
      ]
    },
    {
      "cell_type": "markdown",
      "metadata": {
        "id": "K4HZ4GG6rVSS"
      },
      "source": [
        "## Query Set Size = 60%"
      ]
    },
    {
      "cell_type": "code",
      "execution_count": null,
      "metadata": {
        "id": "_pUlZUslsrBs"
      },
      "outputs": [],
      "source": [
        "LSTM_pc60 = data_train()"
      ]
    },
    {
      "cell_type": "code",
      "source": [
        "random.seed(RAND_STATE)\n",
        "ablated_query_set = Subset(rare_class_query_set, random.sample(range(qry_sz), int(0.60 * qry_sz)))\n",
        "print('Query Set Size w.r.t. Unlabeled Data = {}%'.format(round(60*qry_sz/train_sz, 2)))\n",
        "print('Query Set Usage: 60%')"
      ],
      "metadata": {
        "colab": {
          "base_uri": "https://localhost:8080/"
        },
        "id": "xavVF0eDyjXL",
        "outputId": "9b03b5ae-691c-4fdc-8feb-ab565912f066"
      },
      "execution_count": null,
      "outputs": [
        {
          "output_type": "stream",
          "name": "stdout",
          "text": [
            "Query Set Size w.r.t. Unlabeled Data = 1.01%\n",
            "Query Set Usage: 60%\n"
          ]
        }
      ]
    },
    {
      "cell_type": "markdown",
      "metadata": {
        "id": "I8CLn1zJrbCQ"
      },
      "source": [
        "### Subset Selection with 60% of Query Set"
      ]
    },
    {
      "cell_type": "code",
      "execution_count": null,
      "metadata": {
        "colab": {
          "base_uri": "https://localhost:8080/"
        },
        "id": "_FJmlVEjtkXz",
        "outputId": "4b9c4e9b-dcca-4f1d-9fae-ff8eb6bb7760"
      },
      "outputs": [
        {
          "output_type": "stream",
          "name": "stdout",
          "text": [
            "Class 0 count: 28\n",
            "Class 1 count: 16\n"
          ]
        }
      ],
      "source": [
        "selection_strategy_args['device'] = LSTM_pc60.device\n",
        "pc60_selection_strategy = SMI(training_dataset, Labeled_to_unlabel(training_dataset), ablated_query_set, LSTM_pc60.model, LSTM_pc60.num_cls, selection_strategy_args)\n",
        "pc60_selected_idx = pc60_selection_strategy.select(budget)\n",
        "pc60_human_labeled_dataset = Subset(training_dataset, pc60_selected_idx)\n",
        "\n",
        "pc60_class_counts = [0 for x in range(LSTM_pc60.num_cls)]\n",
        "# Go over the newly labeled dataset, tallying the number of points seen in each class.\n",
        "for _ in pc60_human_labeled_dataset:\n",
        "    pc60_class_counts[_['labels']] += 1\n",
        "\n",
        "# Print each class count\n",
        "\n",
        "for class_idx, class_count in enumerate(pc60_class_counts):\n",
        "    print(F\"Class {class_idx} count: {class_count}\")"
      ]
    },
    {
      "cell_type": "code",
      "execution_count": null,
      "metadata": {
        "id": "RhLA-fqMuIWz"
      },
      "outputs": [],
      "source": [
        "with open('logs.txt', 'a') as logfile:\n",
        "    logfile.write('\\nQuery Set Size w.r.t. Unlabeled Data = {}%'.format(round(60*qry_sz/train_sz, 2)))\n",
        "    logfile.write('\\nQuery Set Usage: 60% \\n')\n",
        "    for class_idx, class_count in enumerate(pc60_class_counts):\n",
        "        logfile.write(F\"Class {class_idx} count: {class_count} \\n\")"
      ]
    },
    {
      "cell_type": "markdown",
      "metadata": {
        "id": "6KeKEsqQregz"
      },
      "source": [
        "### Training on Selection using 60% of Query Set"
      ]
    },
    {
      "cell_type": "code",
      "execution_count": null,
      "metadata": {
        "colab": {
          "base_uri": "https://localhost:8080/"
        },
        "id": "JmmoqPKGumyP",
        "outputId": "df6c1234-104d-4127-a370-06ef777be84a"
      },
      "outputs": [
        {
          "output_type": "stream",
          "name": "stdout",
          "text": [
            "Epoch: 5 \tLoss = 0.16260246435801187\n",
            "Epoch: 10 \tLoss = 0.0865451196829478\n",
            "Epoch: 15 \tLoss = 0.05762707255780697\n",
            "Epoch: 20 \tLoss = 0.04255829006433487\n",
            "Epoch: 25 \tLoss = 0.03339141793549061\n",
            "Epoch: 30 \tLoss = 0.027297837659716606\n",
            "Epoch: 35 \tLoss = 0.023033255711197853\n",
            "Epoch: 40 \tLoss = 0.019871414328614872\n",
            "Epoch: 45 \tLoss = 0.017447054386138916\n",
            "Epoch: 50 \tLoss = 0.015521124005317688\n"
          ]
        }
      ],
      "source": [
        "losses_pc60 = LSTM_pc60.train(pc60_human_labeled_dataset, epochs=50)"
      ]
    },
    {
      "cell_type": "markdown",
      "metadata": {
        "id": "_pcpfAKSrhge"
      },
      "source": [
        "### Test Performance - Model trained on selecting using 60% of Query Set"
      ]
    },
    {
      "cell_type": "code",
      "execution_count": null,
      "metadata": {
        "id": "pP-msKMVvHer"
      },
      "outputs": [],
      "source": [
        "pc60_metrics = LSTM_pc60.get_test_metrics(testing_dataset)"
      ]
    },
    {
      "cell_type": "code",
      "execution_count": null,
      "metadata": {
        "colab": {
          "base_uri": "https://localhost:8080/"
        },
        "id": "WGVVqOYbvKD2",
        "outputId": "012fea99-3bc6-4fcb-c612-de21be58a09a"
      },
      "outputs": [
        {
          "output_type": "execute_result",
          "data": {
            "text/plain": [
              "{'tp': 103,\n",
              " 'fp': 31,\n",
              " 'fn': 48,\n",
              " 'tn': 112,\n",
              " 'acc': 0.7312925170068028,\n",
              " 'f1': 0.7228070175438597,\n",
              " 'ppv': 0.7686567164179104,\n",
              " 'tpr': 0.6821192052980133,\n",
              " 'fpr': 0.21678321678321677,\n",
              " 'fnr': 0.31788079470198677,\n",
              " 'tnr': 0.7832167832167832,\n",
              " 'npv': 0.7,\n",
              " 'fdr': 0.23134328358208955,\n",
              " 'mcc': 0.466993400818927}"
            ]
          },
          "metadata": {},
          "execution_count": 1809
        }
      ],
      "source": [
        "pc60_metrics"
      ]
    },
    {
      "cell_type": "code",
      "execution_count": null,
      "metadata": {
        "id": "5_5V1nvWh3LX"
      },
      "outputs": [],
      "source": [
        "pc60_metrics['name'] = 'Size-60%'"
      ]
    },
    {
      "cell_type": "markdown",
      "metadata": {
        "id": "i7gXeokfr0Nu"
      },
      "source": [
        "## Query Set Size = 40%"
      ]
    },
    {
      "cell_type": "code",
      "execution_count": null,
      "metadata": {
        "id": "JHKEoVjbs_by"
      },
      "outputs": [],
      "source": [
        "LSTM_pc40 = data_train()"
      ]
    },
    {
      "cell_type": "code",
      "source": [
        "random.seed(RAND_STATE)\n",
        "ablated_query_set = Subset(rare_class_query_set, random.sample(range(qry_sz), int(0.40 * qry_sz)))\n",
        "print('Query Set Size w.r.t. Unlabeled Data = {}%'.format(round(40*qry_sz/train_sz, 2)))\n",
        "print('Query Set Usage: 40%')"
      ],
      "metadata": {
        "colab": {
          "base_uri": "https://localhost:8080/"
        },
        "id": "-eXIMDVpzelg",
        "outputId": "248d45a9-4001-42e5-8c90-38875693c73b"
      },
      "execution_count": null,
      "outputs": [
        {
          "output_type": "stream",
          "name": "stdout",
          "text": [
            "Query Set Size w.r.t. Unlabeled Data = 0.68%\n",
            "Query Set Usage: 40%\n"
          ]
        }
      ]
    },
    {
      "cell_type": "markdown",
      "metadata": {
        "id": "Ibb-WYA5r4Kg"
      },
      "source": [
        "### Subset Selection with 40% of Query Set"
      ]
    },
    {
      "cell_type": "code",
      "execution_count": null,
      "metadata": {
        "colab": {
          "base_uri": "https://localhost:8080/"
        },
        "id": "6uiAijiQt5sz",
        "outputId": "1f809578-afdc-42ba-b5ab-5136fd93e5e8"
      },
      "outputs": [
        {
          "output_type": "stream",
          "name": "stdout",
          "text": [
            "Class 0 count: 31\n",
            "Class 1 count: 13\n"
          ]
        }
      ],
      "source": [
        "selection_strategy_args['device'] = LSTM_pc40.device\n",
        "pc40_selection_strategy = SMI(training_dataset, Labeled_to_unlabel(training_dataset), ablated_query_set, LSTM_pc40.model, LSTM_pc40.num_cls, selection_strategy_args)\n",
        "pc40_selected_idx = pc40_selection_strategy.select(budget)\n",
        "pc40_human_labeled_dataset = Subset(training_dataset, pc40_selected_idx)\n",
        "\n",
        "pc40_class_counts = [0 for x in range(LSTM_pc40.num_cls)]\n",
        "# Go over the newly labeled dataset, tallying the number of points seen in each class.\n",
        "for _ in pc40_human_labeled_dataset:\n",
        "    pc40_class_counts[_['labels']] += 1\n",
        "\n",
        "# Print each class count\n",
        "\n",
        "for class_idx, class_count in enumerate(pc40_class_counts):\n",
        "    print(F\"Class {class_idx} count: {class_count}\")"
      ]
    },
    {
      "cell_type": "code",
      "execution_count": null,
      "metadata": {
        "id": "pofNzIDOuWE5"
      },
      "outputs": [],
      "source": [
        "with open('logs.txt', 'a') as logfile:\n",
        "    logfile.write('\\nQuery Set Size w.r.t. Unlabeled Data = {}%'.format(round(40*qry_sz/train_sz, 2)))\n",
        "    logfile.write('\\nQuery Set Usage: 40% \\n')\n",
        "    for class_idx, class_count in enumerate(pc40_class_counts):\n",
        "        logfile.write(F\"Class {class_idx} count: {class_count} \\n\")"
      ]
    },
    {
      "cell_type": "markdown",
      "metadata": {
        "id": "jWiVw55Lr78l"
      },
      "source": [
        "### Training on Selection using 40% of Query Set"
      ]
    },
    {
      "cell_type": "code",
      "execution_count": null,
      "metadata": {
        "colab": {
          "base_uri": "https://localhost:8080/"
        },
        "id": "q4m1oe-hu5F-",
        "outputId": "45a82ef8-7c93-420f-bb3c-00134891b6e7"
      },
      "outputs": [
        {
          "output_type": "stream",
          "name": "stdout",
          "text": [
            "Epoch: 5 \tLoss = 0.16203777740399042\n",
            "Epoch: 10 \tLoss = 0.08723653232057889\n",
            "Epoch: 15 \tLoss = 0.058022623881697655\n",
            "Epoch: 20 \tLoss = 0.04250028915703297\n",
            "Epoch: 25 \tLoss = 0.03308990846077601\n",
            "Epoch: 30 \tLoss = 0.026927624829113483\n",
            "Epoch: 35 \tLoss = 0.022641837286452453\n",
            "Epoch: 40 \tLoss = 0.019459102302789688\n",
            "Epoch: 45 \tLoss = 0.017000762435297172\n",
            "Epoch: 50 \tLoss = 0.015057105105370283\n"
          ]
        }
      ],
      "source": [
        "losses_pc40 = LSTM_pc40.train(pc40_human_labeled_dataset, epochs=50)"
      ]
    },
    {
      "cell_type": "markdown",
      "metadata": {
        "id": "ZriADOJcr_G5"
      },
      "source": [
        "### Test Performance - Model trained on selecting using 40% of Query Set"
      ]
    },
    {
      "cell_type": "code",
      "execution_count": null,
      "metadata": {
        "id": "-Pd3g5iTvX39"
      },
      "outputs": [],
      "source": [
        "pc40_metrics = LSTM_pc40.get_test_metrics(testing_dataset)"
      ]
    },
    {
      "cell_type": "code",
      "execution_count": null,
      "metadata": {
        "colab": {
          "base_uri": "https://localhost:8080/"
        },
        "id": "J3TQF9p0vw1x",
        "outputId": "742ab751-528c-4c3d-aa1a-6a95c1880fd0"
      },
      "outputs": [
        {
          "output_type": "execute_result",
          "data": {
            "text/plain": [
              "{'tp': 43,\n",
              " 'fp': 5,\n",
              " 'fn': 108,\n",
              " 'tn': 138,\n",
              " 'acc': 0.6156462585034014,\n",
              " 'f1': 0.4321608040201005,\n",
              " 'ppv': 0.8958333333333334,\n",
              " 'tpr': 0.2847682119205298,\n",
              " 'fpr': 0.03496503496503497,\n",
              " 'fnr': 0.7152317880794702,\n",
              " 'tnr': 0.965034965034965,\n",
              " 'npv': 0.5609756097560976,\n",
              " 'fdr': 0.10416666666666667,\n",
              " 'mcc': 0.3378051587016126}"
            ]
          },
          "metadata": {},
          "execution_count": 1817
        }
      ],
      "source": [
        "pc40_metrics"
      ]
    },
    {
      "cell_type": "code",
      "execution_count": null,
      "metadata": {
        "id": "pbp6ELy3iG8P"
      },
      "outputs": [],
      "source": [
        "pc40_metrics['name'] = 'Size-40%'"
      ]
    },
    {
      "cell_type": "markdown",
      "metadata": {
        "id": "4ddsZqgLDGwm"
      },
      "source": [
        "## Query Set Size = 20%"
      ]
    },
    {
      "cell_type": "code",
      "execution_count": null,
      "metadata": {
        "id": "gW-xxPyyDaYr"
      },
      "outputs": [],
      "source": [
        "LSTM_pc20 = data_train()"
      ]
    },
    {
      "cell_type": "code",
      "source": [
        "random.seed(RAND_STATE)\n",
        "ablated_query_set = Subset(rare_class_query_set, random.sample(range(qry_sz), int(0.20 * qry_sz)))\n",
        "print('Query Set Size w.r.t. Unlabeled Data = {}%'.format(round(20*qry_sz/train_sz, 2)))\n",
        "print('Query Set Usage: 20%')"
      ],
      "metadata": {
        "colab": {
          "base_uri": "https://localhost:8080/"
        },
        "id": "yUf6rnc00eld",
        "outputId": "28aa5b98-7e9a-4d28-f018-dbdd811f2284"
      },
      "execution_count": null,
      "outputs": [
        {
          "output_type": "stream",
          "name": "stdout",
          "text": [
            "Query Set Size w.r.t. Unlabeled Data = 0.34%\n",
            "Query Set Usage: 20%\n"
          ]
        }
      ]
    },
    {
      "cell_type": "markdown",
      "metadata": {
        "id": "Y8Sa58N8DbCA"
      },
      "source": [
        "### Subset Selection with 20% of Query Set"
      ]
    },
    {
      "cell_type": "code",
      "execution_count": null,
      "metadata": {
        "colab": {
          "base_uri": "https://localhost:8080/"
        },
        "id": "2UcmC0EPDdit",
        "outputId": "377d0409-d1ce-47ca-a100-267e329fb3ee"
      },
      "outputs": [
        {
          "output_type": "stream",
          "name": "stdout",
          "text": [
            "Class 0 count: 30\n",
            "Class 1 count: 14\n"
          ]
        }
      ],
      "source": [
        "selection_strategy_args['device'] = LSTM_pc20.device\n",
        "pc20_selection_strategy = SMI(training_dataset, Labeled_to_unlabel(training_dataset), ablated_query_set, LSTM_pc20.model, LSTM_pc20.num_cls, selection_strategy_args)\n",
        "pc20_selected_idx = pc20_selection_strategy.select(budget)\n",
        "pc20_human_labeled_dataset = Subset(training_dataset, pc20_selected_idx)\n",
        "\n",
        "pc20_class_counts = [0 for x in range(LSTM_pc20.num_cls)]\n",
        "# Go over the newly labeled dataset, tallying the number of points seen in each class.\n",
        "for _ in pc20_human_labeled_dataset:\n",
        "    pc20_class_counts[_['labels']] += 1\n",
        "\n",
        "# Print each class count\n",
        "\n",
        "for class_idx, class_count in enumerate(pc20_class_counts):\n",
        "    print(F\"Class {class_idx} count: {class_count}\")"
      ]
    },
    {
      "cell_type": "code",
      "execution_count": null,
      "metadata": {
        "id": "Qm71aJoJDh2u"
      },
      "outputs": [],
      "source": [
        "with open('logs.txt', 'a') as logfile:\n",
        "    logfile.write('\\nQuery Set Size w.r.t. Unlabeled Data = {}%'.format(round(20*qry_sz/train_sz, 2)))\n",
        "    logfile.write('\\nQuery Set Usage: 20% \\n')\n",
        "    for class_idx, class_count in enumerate(pc20_class_counts):\n",
        "        logfile.write(F\"Class {class_idx} count: {class_count} \\n\")"
      ]
    },
    {
      "cell_type": "markdown",
      "metadata": {
        "id": "qj1-DsWCDmcM"
      },
      "source": [
        "### Training on Selection using 20% of Query Set"
      ]
    },
    {
      "cell_type": "code",
      "execution_count": null,
      "metadata": {
        "colab": {
          "base_uri": "https://localhost:8080/"
        },
        "id": "LG70qxvnD2tY",
        "outputId": "c3ff4bad-24fc-4250-f796-6b7ce590741a"
      },
      "outputs": [
        {
          "output_type": "stream",
          "name": "stdout",
          "text": [
            "Epoch: 5 \tLoss = 0.2245840827624003\n",
            "Epoch: 10 \tLoss = 0.1254371479153633\n",
            "Epoch: 15 \tLoss = 0.08560373882452647\n",
            "Epoch: 20 \tLoss = 0.063763577491045\n",
            "Epoch: 25 \tLoss = 0.05044159417351087\n",
            "Epoch: 30 \tLoss = 0.04171334827939669\n",
            "Epoch: 35 \tLoss = 0.03530591415862242\n",
            "Epoch: 40 \tLoss = 0.03071822226047516\n",
            "Epoch: 45 \tLoss = 0.027065806090831757\n",
            "Epoch: 50 \tLoss = 0.02417423576116562\n"
          ]
        }
      ],
      "source": [
        "losses_pc20 = LSTM_pc20.train(pc20_human_labeled_dataset, epochs=50)"
      ]
    },
    {
      "cell_type": "markdown",
      "metadata": {
        "id": "n0IQfJBiD7y3"
      },
      "source": [
        "### Test Performance - Model trained on selecting using 20% of Query Set"
      ]
    },
    {
      "cell_type": "code",
      "execution_count": null,
      "metadata": {
        "id": "GcOwFE5DD-wg"
      },
      "outputs": [],
      "source": [
        "pc20_metrics = LSTM_pc20.get_test_metrics(testing_dataset)"
      ]
    },
    {
      "cell_type": "code",
      "execution_count": null,
      "metadata": {
        "colab": {
          "base_uri": "https://localhost:8080/"
        },
        "id": "Jvhhi6pFEBmV",
        "outputId": "b7d3e06c-a5af-4472-c7a2-3186078b5061"
      },
      "outputs": [
        {
          "output_type": "execute_result",
          "data": {
            "text/plain": [
              "{'tp': 52,\n",
              " 'fp': 3,\n",
              " 'fn': 99,\n",
              " 'tn': 140,\n",
              " 'acc': 0.6530612244897959,\n",
              " 'f1': 0.5048543689320388,\n",
              " 'ppv': 0.9454545454545454,\n",
              " 'tpr': 0.3443708609271523,\n",
              " 'fpr': 0.02097902097902098,\n",
              " 'fnr': 0.6556291390728477,\n",
              " 'tnr': 0.9790209790209791,\n",
              " 'npv': 0.5857740585774058,\n",
              " 'fdr': 0.05454545454545454,\n",
              " 'mcc': 0.41448159873626483}"
            ]
          },
          "metadata": {},
          "execution_count": 1825
        }
      ],
      "source": [
        "pc20_metrics"
      ]
    },
    {
      "cell_type": "code",
      "execution_count": null,
      "metadata": {
        "id": "Btdc5s2XEDrx"
      },
      "outputs": [],
      "source": [
        "pc20_metrics['name'] = 'Size-20%'"
      ]
    },
    {
      "cell_type": "markdown",
      "metadata": {
        "id": "ZYFM4HVFsb8g"
      },
      "source": [
        "# Experiment Results"
      ]
    },
    {
      "cell_type": "markdown",
      "metadata": {
        "id": "leeb6Dilsfhg"
      },
      "source": [
        "## Graph - Training Losses"
      ]
    },
    {
      "cell_type": "code",
      "execution_count": null,
      "metadata": {
        "id": "8qeX8bCHv789"
      },
      "outputs": [],
      "source": [
        "def plot_multiple_losses(loss_dict):\n",
        "    plt.figure(figsize=(16, 6))\n",
        "    for strat,losses in loss_dict.items():\n",
        "        plt.plot(losses, label=strat)\n",
        "    plt.title('Training Losses for SMI with different Query Set Sizes: Exp {} [YouTube Data]'.format(exp_num))\n",
        "    plt.xlabel('Epochs')\n",
        "    plt.ylabel('Loss')\n",
        "    plt.legend()\n",
        "    plt.grid(True)\n",
        "    plt.show()"
      ]
    },
    {
      "cell_type": "code",
      "execution_count": null,
      "metadata": {
        "colab": {
          "base_uri": "https://localhost:8080/",
          "height": 482
        },
        "id": "IuA2TrLDv_xw",
        "outputId": "a87011e4-71ce-4e2c-9268-6a8e4573227e"
      },
      "outputs": [
        {
          "output_type": "display_data",
          "data": {
            "text/plain": [
              "<Figure size 1600x600 with 1 Axes>"
            ],
            "image/png": "[encoded data removed]"
          },
          "metadata": {}
        }
      ],
      "source": [
        "plot_multiple_losses({\n",
        "    '20%': losses_pc20, '40%': losses_pc40,\n",
        "    '60%': losses_pc60, '80%': losses_pc80,\n",
        "    '100%': losses_pc100\n",
        "})"
      ]
    },
    {
      "cell_type": "markdown",
      "metadata": {
        "id": "ug3ekUV_iQJy"
      },
      "source": [
        "## Metric Compilation"
      ]
    },
    {
      "cell_type": "code",
      "execution_count": null,
      "metadata": {
        "id": "R_594AEDeBTP"
      },
      "outputs": [],
      "source": [
        "metric_list = [pc20_metrics, pc40_metrics, pc60_metrics,\n",
        "               pc80_metrics, pc100_metrics]"
      ]
    },
    {
      "cell_type": "code",
      "execution_count": null,
      "metadata": {
        "colab": {
          "base_uri": "https://localhost:8080/"
        },
        "id": "bvbcFg7AiVYp",
        "outputId": "b92a30f6-8e8d-4b76-f2d9-0380838dc1e8"
      },
      "outputs": [
        {
          "output_type": "execute_result",
          "data": {
            "text/plain": [
              "{'tp': {'Size-20%': 52,\n",
              "  'Size-40%': 43,\n",
              "  'Size-60%': 103,\n",
              "  'Size-80%': 70,\n",
              "  'Size-100%': 94},\n",
              " 'fp': {'Size-20%': 3,\n",
              "  'Size-40%': 5,\n",
              "  'Size-60%': 31,\n",
              "  'Size-80%': 7,\n",
              "  'Size-100%': 22},\n",
              " 'fn': {'Size-20%': 99,\n",
              "  'Size-40%': 108,\n",
              "  'Size-60%': 48,\n",
              "  'Size-80%': 81,\n",
              "  'Size-100%': 57},\n",
              " 'tn': {'Size-20%': 140,\n",
              "  'Size-40%': 138,\n",
              "  'Size-60%': 112,\n",
              "  'Size-80%': 136,\n",
              "  'Size-100%': 121},\n",
              " 'acc': {'Size-20%': 0.6530612244897959,\n",
              "  'Size-40%': 0.6156462585034014,\n",
              "  'Size-60%': 0.7312925170068028,\n",
              "  'Size-80%': 0.7006802721088435,\n",
              "  'Size-100%': 0.7312925170068028},\n",
              " 'f1': {'Size-20%': 0.5048543689320388,\n",
              "  'Size-40%': 0.4321608040201005,\n",
              "  'Size-60%': 0.7228070175438597,\n",
              "  'Size-80%': 0.6140350877192983,\n",
              "  'Size-100%': 0.704119850187266},\n",
              " 'ppv': {'Size-20%': 0.9454545454545454,\n",
              "  'Size-40%': 0.8958333333333334,\n",
              "  'Size-60%': 0.7686567164179104,\n",
              "  'Size-80%': 0.9090909090909091,\n",
              "  'Size-100%': 0.8103448275862069},\n",
              " 'tpr': {'Size-20%': 0.3443708609271523,\n",
              "  'Size-40%': 0.2847682119205298,\n",
              "  'Size-60%': 0.6821192052980133,\n",
              "  'Size-80%': 0.46357615894039733,\n",
              "  'Size-100%': 0.6225165562913907},\n",
              " 'fpr': {'Size-20%': 0.02097902097902098,\n",
              "  'Size-40%': 0.03496503496503497,\n",
              "  'Size-60%': 0.21678321678321677,\n",
              "  'Size-80%': 0.04895104895104895,\n",
              "  'Size-100%': 0.15384615384615385},\n",
              " 'fnr': {'Size-20%': 0.6556291390728477,\n",
              "  'Size-40%': 0.7152317880794702,\n",
              "  'Size-60%': 0.31788079470198677,\n",
              "  'Size-80%': 0.5364238410596026,\n",
              "  'Size-100%': 0.37748344370860926},\n",
              " 'tnr': {'Size-20%': 0.9790209790209791,\n",
              "  'Size-40%': 0.965034965034965,\n",
              "  'Size-60%': 0.7832167832167832,\n",
              "  'Size-80%': 0.951048951048951,\n",
              "  'Size-100%': 0.8461538461538461},\n",
              " 'npv': {'Size-20%': 0.5857740585774058,\n",
              "  'Size-40%': 0.5609756097560976,\n",
              "  'Size-60%': 0.7,\n",
              "  'Size-80%': 0.6267281105990783,\n",
              "  'Size-100%': 0.6797752808988764},\n",
              " 'fdr': {'Size-20%': 0.05454545454545454,\n",
              "  'Size-40%': 0.10416666666666667,\n",
              "  'Size-60%': 0.23134328358208955,\n",
              "  'Size-80%': 0.09090909090909091,\n",
              "  'Size-100%': 0.1896551724137931},\n",
              " 'mcc': {'Size-20%': 0.41448159873626483,\n",
              "  'Size-40%': 0.3378051587016126,\n",
              "  'Size-60%': 0.466993400818927,\n",
              "  'Size-80%': 0.4713427839410994,\n",
              "  'Size-100%': 0.4792752742320504}}"
            ]
          },
          "metadata": {},
          "execution_count": 1830
        }
      ],
      "source": [
        "metrics_compiled = {k: {\n",
        "    metric['name']: metric[k] for metric in metric_list\n",
        "    } for k in metric_list[0] if (k!='name')}\n",
        "metrics_compiled"
      ]
    },
    {
      "cell_type": "code",
      "execution_count": null,
      "metadata": {
        "id": "gDB2jdICjepx"
      },
      "outputs": [],
      "source": [
        "with open('logs.txt', 'a') as tf:\n",
        "    tf.write('\\n\\nExp{}_metrics'.format(exp_num))\n",
        "    tf.write(' = {')\n",
        "    for k in metric_list[0]:\n",
        "        if (k!='name'):\n",
        "            tf.write(\"'{}': \".format(k))\n",
        "            tf.write('{')\n",
        "            for metric in metric_list[:-1]:\n",
        "                tf.write(\"'{}': {}, \".format(metric['name'], round(metric[k], 5)))\n",
        "            tf.write(\"'{}': {}\".format(metric_list[-1]['name'], round(metric_list[-1][k], 5)))\n",
        "            tf.write('}, ')\n",
        "\n",
        "with open('logs.txt', 'r') as tf:\n",
        "    contents = tf.read()\n",
        "contents = contents[:-2]\n",
        "with open('logs.txt', 'w') as tf:\n",
        "    tf.write(contents)\n",
        "    tf.write('}')\n"
      ]
    },
    {
      "cell_type": "markdown",
      "source": [
        "NOTE: Execute only till here for each experimental run. After each run, copy metrics generated in above output cell or output txt file and paste in the below cell for the respective experiment. After completing all 10 experiments, run below cells only by uncommenting to generate mean metrics and performance graphs."
      ],
      "metadata": {
        "id": "NJmeXXsyvWbZ"
      }
    },
    {
      "cell_type": "markdown",
      "metadata": {
        "id": "SMui5O7llL6r"
      },
      "source": [
        "## Overall Metric Stats"
      ]
    },
    {
      "cell_type": "code",
      "source": [
        "import statistics as stat\n",
        "import matplotlib.pyplot as plt\n",
        "import numpy as np\n"
      ],
      "metadata": {
        "id": "sLXH5UODgY0K"
      },
      "execution_count": null,
      "outputs": []
    },
    {
      "cell_type": "code",
      "execution_count": null,
      "metadata": {
        "id": "VP0MrK-RxPXr"
      },
      "outputs": [],
      "source": [
        "def get_stats(values):\n",
        "    return {'range': (min(values), max(values)), 'avg': round(sum(values)/len(values), 5), 'std_dev': round(stat.stdev(values), 5)}"
      ]
    },
    {
      "cell_type": "code",
      "execution_count": null,
      "metadata": {
        "id": "tFvCPs9EyfYW"
      },
      "outputs": [],
      "source": [
        "def end_of_exp():\n",
        "    Exp1_metrics = {'tp': {'Size-20%': 136, 'Size-40%': 142, 'Size-60%': 103, 'Size-80%': 118, 'Size-100%': 139}, 'fp': {'Size-20%': 75, 'Size-40%': 73, 'Size-60%': 17, 'Size-80%': 36, 'Size-100%': 45}, 'fn': {'Size-20%': 15, 'Size-40%': 9, 'Size-60%': 48, 'Size-80%': 33, 'Size-100%': 12}, 'tn': {'Size-20%': 67, 'Size-40%': 69, 'Size-60%': 125, 'Size-80%': 106, 'Size-100%': 97}, 'acc': {'Size-20%': 0.69283, 'Size-40%': 0.72014, 'Size-60%': 0.77816, 'Size-80%': 0.76451, 'Size-100%': 0.80546}, 'f1': {'Size-20%': 0.75138, 'Size-40%': 0.77596, 'Size-60%': 0.76015, 'Size-80%': 0.77377, 'Size-100%': 0.82985}, 'ppv': {'Size-20%': 0.64455, 'Size-40%': 0.66047, 'Size-60%': 0.85833, 'Size-80%': 0.76623, 'Size-100%': 0.75543}, 'tpr': {'Size-20%': 0.90066, 'Size-40%': 0.9404, 'Size-60%': 0.68212, 'Size-80%': 0.78146, 'Size-100%': 0.92053}, 'fpr': {'Size-20%': 0.52817, 'Size-40%': 0.51408, 'Size-60%': 0.11972, 'Size-80%': 0.25352, 'Size-100%': 0.3169}, 'fnr': {'Size-20%': 0.09934, 'Size-40%': 0.0596, 'Size-60%': 0.31788, 'Size-80%': 0.21854, 'Size-100%': 0.07947}, 'tnr': {'Size-20%': 0.47183, 'Size-40%': 0.48592, 'Size-60%': 0.88028, 'Size-80%': 0.74648, 'Size-100%': 0.6831}, 'npv': {'Size-20%': 0.81707, 'Size-40%': 0.88462, 'Size-60%': 0.72254, 'Size-80%': 0.76259, 'Size-100%': 0.88991}, 'fdr': {'Size-20%': 0.35545, 'Size-40%': 0.33953, 'Size-60%': 0.14167, 'Size-80%': 0.23377, 'Size-100%': 0.24457}, 'mcc': {'Size-20%': 0.41467, 'Size-40%': 0.48205, 'Size-60%': 0.57156, 'Size-80%': 0.52838, 'Size-100%': 0.62414}}\n",
        "    Exp2_metrics = {'tp': {'Size-20%': 95, 'Size-40%': 93, 'Size-60%': 81, 'Size-80%': 120, 'Size-100%': 138}, 'fp': {'Size-20%': 17, 'Size-40%': 5, 'Size-60%': 9, 'Size-80%': 43, 'Size-100%': 53}, 'fn': {'Size-20%': 56, 'Size-40%': 58, 'Size-60%': 70, 'Size-80%': 31, 'Size-100%': 13}, 'tn': {'Size-20%': 126, 'Size-40%': 138, 'Size-60%': 134, 'Size-80%': 100, 'Size-100%': 90}, 'acc': {'Size-20%': 0.7517, 'Size-40%': 0.78571, 'Size-60%': 0.73129, 'Size-80%': 0.7483, 'Size-100%': 0.77551}, 'f1': {'Size-20%': 0.72243, 'Size-40%': 0.74699, 'Size-60%': 0.6722, 'Size-80%': 0.76433, 'Size-100%': 0.80702}, 'ppv': {'Size-20%': 0.84821, 'Size-40%': 0.94898, 'Size-60%': 0.9, 'Size-80%': 0.7362, 'Size-100%': 0.72251}, 'tpr': {'Size-20%': 0.62914, 'Size-40%': 0.61589, 'Size-60%': 0.53642, 'Size-80%': 0.7947, 'Size-100%': 0.91391}, 'fpr': {'Size-20%': 0.11888, 'Size-40%': 0.03497, 'Size-60%': 0.06294, 'Size-80%': 0.3007, 'Size-100%': 0.37063}, 'fnr': {'Size-20%': 0.37086, 'Size-40%': 0.38411, 'Size-60%': 0.46358, 'Size-80%': 0.2053, 'Size-100%': 0.08609}, 'tnr': {'Size-20%': 0.88112, 'Size-40%': 0.96503, 'Size-60%': 0.93706, 'Size-80%': 0.6993, 'Size-100%': 0.62937}, 'npv': {'Size-20%': 0.69231, 'Size-40%': 0.70408, 'Size-60%': 0.65686, 'Size-80%': 0.76336, 'Size-100%': 0.87379}, 'fdr': {'Size-20%': 0.15179, 'Size-40%': 0.05102, 'Size-60%': 0.1, 'Size-80%': 0.2638, 'Size-100%': 0.27749}, 'mcc': {'Size-20%': 0.52517, 'Size-40%': 0.61594, 'Size-60%': 0.51349, 'Size-80%': 0.49677, 'Size-100%': 0.56917}}\n",
        "    Exp3_metrics = {'tp': {'Size-20%': 67, 'Size-40%': 65, 'Size-60%': 76, 'Size-80%': 91, 'Size-100%': 70}, 'fp': {'Size-20%': 9, 'Size-40%': 9, 'Size-60%': 11, 'Size-80%': 12, 'Size-100%': 7}, 'fn': {'Size-20%': 84, 'Size-40%': 86, 'Size-60%': 75, 'Size-80%': 60, 'Size-100%': 81}, 'tn': {'Size-20%': 133, 'Size-40%': 133, 'Size-60%': 131, 'Size-80%': 130, 'Size-100%': 135}, 'acc': {'Size-20%': 0.68259, 'Size-40%': 0.67577, 'Size-60%': 0.70648, 'Size-80%': 0.75427, 'Size-100%': 0.69966}, 'f1': {'Size-20%': 0.59031, 'Size-40%': 0.57778, 'Size-60%': 0.63866, 'Size-80%': 0.71654, 'Size-100%': 0.61404}, 'ppv': {'Size-20%': 0.88158, 'Size-40%': 0.87838, 'Size-60%': 0.87356, 'Size-80%': 0.8835, 'Size-100%': 0.90909}, 'tpr': {'Size-20%': 0.44371, 'Size-40%': 0.43046, 'Size-60%': 0.50331, 'Size-80%': 0.60265, 'Size-100%': 0.46358}, 'fpr': {'Size-20%': 0.06338, 'Size-40%': 0.06338, 'Size-60%': 0.07746, 'Size-80%': 0.08451, 'Size-100%': 0.0493}, 'fnr': {'Size-20%': 0.55629, 'Size-40%': 0.56954, 'Size-60%': 0.49669, 'Size-80%': 0.39735, 'Size-100%': 0.53642}, 'tnr': {'Size-20%': 0.93662, 'Size-40%': 0.93662, 'Size-60%': 0.92254, 'Size-80%': 0.91549, 'Size-100%': 0.9507}, 'npv': {'Size-20%': 0.6129, 'Size-40%': 0.60731, 'Size-60%': 0.63592, 'Size-80%': 0.68421, 'Size-100%': 0.625}, 'fdr': {'Size-20%': 0.11842, 'Size-40%': 0.12162, 'Size-60%': 0.12644, 'Size-80%': 0.1165, 'Size-100%': 0.09091}, 'mcc': {'Size-20%': 0.43367, 'Size-40%': 0.42224, 'Size-60%': 0.46579, 'Size-80%': 0.54236, 'Size-100%': 0.47039}}\n",
        "    Exp4_metrics = {'tp': {'Size-20%': 76, 'Size-40%': 120, 'Size-60%': 94, 'Size-80%': 126, 'Size-100%': 122}, 'fp': {'Size-20%': 5, 'Size-40%': 29, 'Size-60%': 26, 'Size-80%': 39, 'Size-100%': 41}, 'fn': {'Size-20%': 75, 'Size-40%': 31, 'Size-60%': 57, 'Size-80%': 25, 'Size-100%': 29}, 'tn': {'Size-20%': 136, 'Size-40%': 112, 'Size-60%': 115, 'Size-80%': 102, 'Size-100%': 100}, 'acc': {'Size-20%': 0.72603, 'Size-40%': 0.79452, 'Size-60%': 0.71575, 'Size-80%': 0.78082, 'Size-100%': 0.76027}, 'f1': {'Size-20%': 0.65517, 'Size-40%': 0.8, 'Size-60%': 0.69373, 'Size-80%': 0.79747, 'Size-100%': 0.77707}, 'ppv': {'Size-20%': 0.93827, 'Size-40%': 0.80537, 'Size-60%': 0.78333, 'Size-80%': 0.76364, 'Size-100%': 0.74847}, 'tpr': {'Size-20%': 0.50331, 'Size-40%': 0.7947, 'Size-60%': 0.62252, 'Size-80%': 0.83444, 'Size-100%': 0.80795}, 'fpr': {'Size-20%': 0.03546, 'Size-40%': 0.20567, 'Size-60%': 0.1844, 'Size-80%': 0.2766, 'Size-100%': 0.29078}, 'fnr': {'Size-20%': 0.49669, 'Size-40%': 0.2053, 'Size-60%': 0.37748, 'Size-80%': 0.16556, 'Size-100%': 0.19205}, 'tnr': {'Size-20%': 0.96454, 'Size-40%': 0.79433, 'Size-60%': 0.8156, 'Size-80%': 0.7234, 'Size-100%': 0.70922}, 'npv': {'Size-20%': 0.64455, 'Size-40%': 0.78322, 'Size-60%': 0.6686, 'Size-80%': 0.80315, 'Size-100%': 0.77519}, 'fdr': {'Size-20%': 0.06173, 'Size-40%': 0.19463, 'Size-60%': 0.21667, 'Size-80%': 0.23636, 'Size-100%': 0.25153}, 'mcc': {'Size-20%': 0.52218, 'Size-40%': 0.58881, 'Size-60%': 0.44498, 'Size-80%': 0.5623, 'Size-100%': 0.5204}}\n",
        "    Exp5_metrics = {'tp': {'Size-20%': 14, 'Size-40%': 88, 'Size-60%': 75, 'Size-80%': 77, 'Size-100%': 102}, 'fp': {'Size-20%': 0, 'Size-40%': 7, 'Size-60%': 8, 'Size-80%': 9, 'Size-100%': 13}, 'fn': {'Size-20%': 137, 'Size-40%': 63, 'Size-60%': 76, 'Size-80%': 74, 'Size-100%': 49}, 'tn': {'Size-20%': 143, 'Size-40%': 136, 'Size-60%': 135, 'Size-80%': 134, 'Size-100%': 130}, 'acc': {'Size-20%': 0.53401, 'Size-40%': 0.7619, 'Size-60%': 0.71429, 'Size-80%': 0.71769, 'Size-100%': 0.78912}, 'f1': {'Size-20%': 0.1697, 'Size-40%': 0.71545, 'Size-60%': 0.64103, 'Size-80%': 0.64979, 'Size-100%': 0.76692}, 'ppv': {'Size-20%': 1.0, 'Size-40%': 0.92632, 'Size-60%': 0.90361, 'Size-80%': 0.89535, 'Size-100%': 0.88696}, 'tpr': {'Size-20%': 0.09272, 'Size-40%': 0.58278, 'Size-60%': 0.49669, 'Size-80%': 0.50993, 'Size-100%': 0.6755}, 'fpr': {'Size-20%': 0.0, 'Size-40%': 0.04895, 'Size-60%': 0.05594, 'Size-80%': 0.06294, 'Size-100%': 0.09091}, 'fnr': {'Size-20%': 0.90728, 'Size-40%': 0.41722, 'Size-60%': 0.50331, 'Size-80%': 0.49007, 'Size-100%': 0.3245}, 'tnr': {'Size-20%': 1.0, 'Size-40%': 0.95105, 'Size-60%': 0.94406, 'Size-80%': 0.93706, 'Size-100%': 0.90909}, 'npv': {'Size-20%': 0.51071, 'Size-40%': 0.68342, 'Size-60%': 0.63981, 'Size-80%': 0.64423, 'Size-100%': 0.72626}, 'fdr': {'Size-20%': 0.0, 'Size-40%': 0.07368, 'Size-60%': 0.09639, 'Size-80%': 0.10465, 'Size-100%': 0.11304}, 'mcc': {'Size-20%': 0.2176, 'Size-40%': 0.57052, 'Size-60%': 0.4894, 'Size-80%': 0.49111, 'Size-100%': 0.59873}}\n",
        "    Exp6_metrics = {'tp': {'Size-20%': 64, 'Size-40%': 49, 'Size-60%': 93, 'Size-80%': 112, 'Size-100%': 121}, 'fp': {'Size-20%': 5, 'Size-40%': 1, 'Size-60%': 9, 'Size-80%': 26, 'Size-100%': 31}, 'fn': {'Size-20%': 87, 'Size-40%': 102, 'Size-60%': 58, 'Size-80%': 39, 'Size-100%': 30}, 'tn': {'Size-20%': 136, 'Size-40%': 140, 'Size-60%': 132, 'Size-80%': 115, 'Size-100%': 110}, 'acc': {'Size-20%': 0.68493, 'Size-40%': 0.64726, 'Size-60%': 0.77055, 'Size-80%': 0.7774, 'Size-100%': 0.7911}, 'f1': {'Size-20%': 0.58182, 'Size-40%': 0.48756, 'Size-60%': 0.73518, 'Size-80%': 0.77509, 'Size-100%': 0.79868}, 'ppv': {'Size-20%': 0.92754, 'Size-40%': 0.98, 'Size-60%': 0.91176, 'Size-80%': 0.81159, 'Size-100%': 0.79605}, 'tpr': {'Size-20%': 0.42384, 'Size-40%': 0.3245, 'Size-60%': 0.61589, 'Size-80%': 0.74172, 'Size-100%': 0.80132}, 'fpr': {'Size-20%': 0.03546, 'Size-40%': 0.00709, 'Size-60%': 0.06383, 'Size-80%': 0.1844, 'Size-100%': 0.21986}, 'fnr': {'Size-20%': 0.57616, 'Size-40%': 0.6755, 'Size-60%': 0.38411, 'Size-80%': 0.25828, 'Size-100%': 0.19868}, 'tnr': {'Size-20%': 0.96454, 'Size-40%': 0.99291, 'Size-60%': 0.93617, 'Size-80%': 0.8156, 'Size-100%': 0.78014}, 'npv': {'Size-20%': 0.60987, 'Size-40%': 0.57851, 'Size-60%': 0.69474, 'Size-80%': 0.74675, 'Size-100%': 0.78571}, 'fdr': {'Size-20%': 0.07246, 'Size-40%': 0.02, 'Size-60%': 0.08824, 'Size-80%': 0.18841, 'Size-100%': 0.20395}, 'mcc': {'Size-20%': 0.45685, 'Size-40%': 0.42104, 'Size-60%': 0.57864, 'Size-80%': 0.55784, 'Size-100%': 0.58162}}\n",
        "    Exp7_metrics = {'tp': {'Size-20%': 128, 'Size-40%': 82, 'Size-60%': 125, 'Size-80%': 88, 'Size-100%': 136}, 'fp': {'Size-20%': 33, 'Size-40%': 14, 'Size-60%': 25, 'Size-80%': 10, 'Size-100%': 49}, 'fn': {'Size-20%': 23, 'Size-40%': 69, 'Size-60%': 26, 'Size-80%': 63, 'Size-100%': 15}, 'tn': {'Size-20%': 110, 'Size-40%': 129, 'Size-60%': 118, 'Size-80%': 133, 'Size-100%': 94}, 'acc': {'Size-20%': 0.80952, 'Size-40%': 0.71769, 'Size-60%': 0.82653, 'Size-80%': 0.7517, 'Size-100%': 0.78231}, 'f1': {'Size-20%': 0.82051, 'Size-40%': 0.66397, 'Size-60%': 0.83056, 'Size-80%': 0.70683, 'Size-100%': 0.80952}, 'ppv': {'Size-20%': 0.79503, 'Size-40%': 0.85417, 'Size-60%': 0.83333, 'Size-80%': 0.89796, 'Size-100%': 0.73514}, 'tpr': {'Size-20%': 0.84768, 'Size-40%': 0.54305, 'Size-60%': 0.82781, 'Size-80%': 0.58278, 'Size-100%': 0.90066}, 'fpr': {'Size-20%': 0.23077, 'Size-40%': 0.0979, 'Size-60%': 0.17483, 'Size-80%': 0.06993, 'Size-100%': 0.34266}, 'fnr': {'Size-20%': 0.15232, 'Size-40%': 0.45695, 'Size-60%': 0.17219, 'Size-80%': 0.41722, 'Size-100%': 0.09934}, 'tnr': {'Size-20%': 0.76923, 'Size-40%': 0.9021, 'Size-60%': 0.82517, 'Size-80%': 0.93007, 'Size-100%': 0.65734}, 'npv': {'Size-20%': 0.82707, 'Size-40%': 0.65152, 'Size-60%': 0.81944, 'Size-80%': 0.67857, 'Size-100%': 0.86239}, 'fdr': {'Size-20%': 0.20497, 'Size-40%': 0.14583, 'Size-60%': 0.16667, 'Size-80%': 0.10204, 'Size-100%': 0.26486}, 'mcc': {'Size-20%': 0.6195, 'Size-40%': 0.47445, 'Size-60%': 0.65288, 'Size-80%': 0.54376, 'Size-100%': 0.57742}}\n",
        "    Exp8_metrics = {'tp': {'Size-20%': 25, 'Size-40%': 58, 'Size-60%': 119, 'Size-80%': 84, 'Size-100%': 132}, 'fp': {'Size-20%': 2, 'Size-40%': 5, 'Size-60%': 33, 'Size-80%': 7, 'Size-100%': 41}, 'fn': {'Size-20%': 126, 'Size-40%': 93, 'Size-60%': 32, 'Size-80%': 67, 'Size-100%': 19}, 'tn': {'Size-20%': 140, 'Size-40%': 137, 'Size-60%': 109, 'Size-80%': 135, 'Size-100%': 101}, 'acc': {'Size-20%': 0.56314, 'Size-40%': 0.66553, 'Size-60%': 0.77816, 'Size-80%': 0.74744, 'Size-100%': 0.79522}, 'f1': {'Size-20%': 0.2809, 'Size-40%': 0.54206, 'Size-60%': 0.78548, 'Size-80%': 0.69421, 'Size-100%': 0.81481}, 'ppv': {'Size-20%': 0.92593, 'Size-40%': 0.92063, 'Size-60%': 0.78289, 'Size-80%': 0.92308, 'Size-100%': 0.76301}, 'tpr': {'Size-20%': 0.16556, 'Size-40%': 0.38411, 'Size-60%': 0.78808, 'Size-80%': 0.55629, 'Size-100%': 0.87417}, 'fpr': {'Size-20%': 0.01408, 'Size-40%': 0.03521, 'Size-60%': 0.23239, 'Size-80%': 0.0493, 'Size-100%': 0.28873}, 'fnr': {'Size-20%': 0.83444, 'Size-40%': 0.61589, 'Size-60%': 0.21192, 'Size-80%': 0.44371, 'Size-100%': 0.12583}, 'tnr': {'Size-20%': 0.98592, 'Size-40%': 0.96479, 'Size-60%': 0.76761, 'Size-80%': 0.9507, 'Size-100%': 0.71127}, 'npv': {'Size-20%': 0.52632, 'Size-40%': 0.59565, 'Size-60%': 0.77305, 'Size-80%': 0.66832, 'Size-100%': 0.84167}, 'fdr': {'Size-20%': 0.07407, 'Size-40%': 0.07937, 'Size-60%': 0.21711, 'Size-80%': 0.07692, 'Size-100%': 0.23699}, 'mcc': {'Size-20%': 0.26173, 'Size-40%': 0.42442, 'Size-60%': 0.55581, 'Size-80%': 0.54757, 'Size-100%': 0.59498}}\n",
        "    Exp9_metrics = {'tp': {'Size-20%': 52, 'Size-40%': 43, 'Size-60%': 103, 'Size-80%': 70, 'Size-100%': 94}, 'fp': {'Size-20%': 3, 'Size-40%': 5, 'Size-60%': 31, 'Size-80%': 7, 'Size-100%': 22}, 'fn': {'Size-20%': 99, 'Size-40%': 108, 'Size-60%': 48, 'Size-80%': 81, 'Size-100%': 57}, 'tn': {'Size-20%': 140, 'Size-40%': 138, 'Size-60%': 112, 'Size-80%': 136, 'Size-100%': 121}, 'acc': {'Size-20%': 0.65306, 'Size-40%': 0.61565, 'Size-60%': 0.73129, 'Size-80%': 0.70068, 'Size-100%': 0.73129}, 'f1': {'Size-20%': 0.50485, 'Size-40%': 0.43216, 'Size-60%': 0.72281, 'Size-80%': 0.61404, 'Size-100%': 0.70412}, 'ppv': {'Size-20%': 0.94545, 'Size-40%': 0.89583, 'Size-60%': 0.76866, 'Size-80%': 0.90909, 'Size-100%': 0.81034}, 'tpr': {'Size-20%': 0.34437, 'Size-40%': 0.28477, 'Size-60%': 0.68212, 'Size-80%': 0.46358, 'Size-100%': 0.62252}, 'fpr': {'Size-20%': 0.02098, 'Size-40%': 0.03497, 'Size-60%': 0.21678, 'Size-80%': 0.04895, 'Size-100%': 0.15385}, 'fnr': {'Size-20%': 0.65563, 'Size-40%': 0.71523, 'Size-60%': 0.31788, 'Size-80%': 0.53642, 'Size-100%': 0.37748}, 'tnr': {'Size-20%': 0.97902, 'Size-40%': 0.96503, 'Size-60%': 0.78322, 'Size-80%': 0.95105, 'Size-100%': 0.84615}, 'npv': {'Size-20%': 0.58577, 'Size-40%': 0.56098, 'Size-60%': 0.7, 'Size-80%': 0.62673, 'Size-100%': 0.67978}, 'fdr': {'Size-20%': 0.05455, 'Size-40%': 0.10417, 'Size-60%': 0.23134, 'Size-80%': 0.09091, 'Size-100%': 0.18966}, 'mcc': {'Size-20%': 0.41448, 'Size-40%': 0.33781, 'Size-60%': 0.46699, 'Size-80%': 0.47134, 'Size-100%': 0.47928}}\n",
        "    Exp10_metrics = {'tp': {'Size-20%': 107, 'Size-40%': 72, 'Size-60%': 106, 'Size-80%': 89, 'Size-100%': 106}, 'fp': {'Size-20%': 21, 'Size-40%': 10, 'Size-60%': 40, 'Size-80%': 17, 'Size-100%': 17}, 'fn': {'Size-20%': 44, 'Size-40%': 79, 'Size-60%': 45, 'Size-80%': 62, 'Size-100%': 45}, 'tn': {'Size-20%': 122, 'Size-40%': 133, 'Size-60%': 103, 'Size-80%': 126, 'Size-100%': 126}, 'acc': {'Size-20%': 0.77891, 'Size-40%': 0.69728, 'Size-60%': 0.71088, 'Size-80%': 0.73129, 'Size-100%': 0.78912}, 'f1': {'Size-20%': 0.76703, 'Size-40%': 0.61803, 'Size-60%': 0.7138, 'Size-80%': 0.69261, 'Size-100%': 0.77372}, 'ppv': {'Size-20%': 0.83594, 'Size-40%': 0.87805, 'Size-60%': 0.72603, 'Size-80%': 0.83962, 'Size-100%': 0.86179}, 'tpr': {'Size-20%': 0.70861, 'Size-40%': 0.47682, 'Size-60%': 0.70199, 'Size-80%': 0.5894, 'Size-100%': 0.70199}, 'fpr': {'Size-20%': 0.14685, 'Size-40%': 0.06993, 'Size-60%': 0.27972, 'Size-80%': 0.11888, 'Size-100%': 0.11888}, 'fnr': {'Size-20%': 0.29139, 'Size-40%': 0.52318, 'Size-60%': 0.29801, 'Size-80%': 0.4106, 'Size-100%': 0.29801}, 'tnr': {'Size-20%': 0.85315, 'Size-40%': 0.93007, 'Size-60%': 0.72028, 'Size-80%': 0.88112, 'Size-100%': 0.88112}, 'npv': {'Size-20%': 0.73494, 'Size-40%': 0.62736, 'Size-60%': 0.69595, 'Size-80%': 0.67021, 'Size-100%': 0.73684}, 'fdr': {'Size-20%': 0.16406, 'Size-40%': 0.12195, 'Size-60%': 0.27397, 'Size-80%': 0.16038, 'Size-100%': 0.13821}, 'mcc': {'Size-20%': 0.5663, 'Size-40%': 0.45348, 'Size-60%': 0.42212, 'Size-80%': 0.48978, 'Size-100%': 0.59082}}\n",
        "    Metric_stats = {k: {\n",
        "        metric: get_stats([exp[k][metric] for exp in [\n",
        "            Exp1_metrics, Exp2_metrics, Exp3_metrics, Exp4_metrics, Exp5_metrics,\n",
        "            Exp6_metrics, Exp7_metrics, Exp8_metrics, Exp9_metrics, Exp10_metrics\n",
        "            ]]) for metric in Exp1_metrics[k]} for k in Exp1_metrics}\n",
        "    return Metric_stats"
      ]
    },
    {
      "cell_type": "code",
      "execution_count": null,
      "metadata": {
        "id": "HgMoaMjdyidE",
        "colab": {
          "base_uri": "https://localhost:8080/"
        },
        "outputId": "110c2f46-f3e9-4962-a8f1-2995cdfbd868"
      },
      "outputs": [
        {
          "output_type": "execute_result",
          "data": {
            "text/plain": [
              "{'tp': {'Size-20%': {'range': (14, 136), 'avg': 76.4, 'std_dev': 40.64808},\n",
              "  'Size-40%': {'range': (43, 142), 'avg': 81.2, 'std_dev': 31.21538},\n",
              "  'Size-60%': {'range': (75, 125), 'avg': 97.5, 'std_dev': 17.07662},\n",
              "  'Size-80%': {'range': (70, 126), 'avg': 97.5, 'std_dev': 19.75545},\n",
              "  'Size-100%': {'range': (70, 139), 'avg': 116.0, 'std_dev': 22.67157}},\n",
              " 'fp': {'Size-20%': {'range': (0, 75), 'avg': 17.0, 'std_dev': 22.84732},\n",
              "  'Size-40%': {'range': (1, 73), 'avg': 15.8, 'std_dev': 21.53963},\n",
              "  'Size-60%': {'range': (8, 40), 'avg': 20.9, 'std_dev': 11.63758},\n",
              "  'Size-80%': {'range': (7, 43), 'avg': 20.6, 'std_dev': 14.18293},\n",
              "  'Size-100%': {'range': (7, 53), 'avg': 31.9, 'std_dev': 16.23747}},\n",
              " 'fn': {'Size-20%': {'range': (15, 137), 'avg': 74.6, 'std_dev': 40.64808},\n",
              "  'Size-40%': {'range': (9, 108), 'avg': 69.8, 'std_dev': 31.21538},\n",
              "  'Size-60%': {'range': (26, 76), 'avg': 53.5, 'std_dev': 17.07662},\n",
              "  'Size-80%': {'range': (25, 81), 'avg': 53.5, 'std_dev': 19.75545},\n",
              "  'Size-100%': {'range': (12, 81), 'avg': 35.0, 'std_dev': 22.67157}},\n",
              " 'tn': {'Size-20%': {'range': (67, 143), 'avg': 125.3, 'std_dev': 22.79888},\n",
              "  'Size-40%': {'range': (69, 140), 'avg': 126.5, 'std_dev': 21.74218},\n",
              "  'Size-60%': {'range': (103, 135), 'avg': 121.4, 'std_dev': 11.52003},\n",
              "  'Size-80%': {'range': (100, 136), 'avg': 121.7, 'std_dev': 14.5224},\n",
              "  'Size-100%': {'range': (90, 135), 'avg': 110.4, 'std_dev': 16.35169}},\n",
              " 'acc': {'Size-20%': {'range': (0.53401, 0.80952),\n",
              "   'avg': 0.68767,\n",
              "   'std_dev': 0.08764},\n",
              "  'Size-40%': {'range': (0.61565, 0.79452),\n",
              "   'avg': 0.70815,\n",
              "   'std_dev': 0.05948},\n",
              "  'Size-60%': {'range': (0.70648, 0.82653),\n",
              "   'avg': 0.74634,\n",
              "   'std_dev': 0.03987},\n",
              "  'Size-80%': {'range': (0.70068, 0.78082),\n",
              "   'avg': 0.74741,\n",
              "   'std_dev': 0.02517},\n",
              "  'Size-100%': {'range': (0.69966, 0.80546),\n",
              "   'avg': 0.77191,\n",
              "   'std_dev': 0.03292}},\n",
              " 'f1': {'Size-20%': {'range': (0.1697, 0.82051),\n",
              "   'avg': 0.58441,\n",
              "   'std_dev': 0.21383},\n",
              "  'Size-40%': {'range': (0.43216, 0.8), 'avg': 0.636, 'std_dev': 0.12562},\n",
              "  'Size-60%': {'range': (0.63866, 0.83056),\n",
              "   'avg': 0.71936,\n",
              "   'std_dev': 0.06167},\n",
              "  'Size-80%': {'range': (0.61404, 0.79747),\n",
              "   'avg': 0.71847,\n",
              "   'std_dev': 0.05928},\n",
              "  'Size-100%': {'range': (0.61404, 0.82985),\n",
              "   'avg': 0.76957,\n",
              "   'std_dev': 0.06505}},\n",
              " 'ppv': {'Size-20%': {'range': (0.64455, 1.0),\n",
              "   'avg': 0.87425,\n",
              "   'std_dev': 0.10096},\n",
              "  'Size-40%': {'range': (0.66047, 0.98), 'avg': 0.87482, 'std_dev': 0.09005},\n",
              "  'Size-60%': {'range': (0.72603, 0.91176),\n",
              "   'avg': 0.83415,\n",
              "   'std_dev': 0.06541},\n",
              "  'Size-80%': {'range': (0.7362, 0.92308), 'avg': 0.84263, 'std_dev': 0.06894},\n",
              "  'Size-100%': {'range': (0.72251, 0.90909),\n",
              "   'avg': 0.79888,\n",
              "   'std_dev': 0.06634}},\n",
              " 'tpr': {'Size-20%': {'range': (0.09272, 0.90066),\n",
              "   'avg': 0.50596,\n",
              "   'std_dev': 0.26919},\n",
              "  'Size-40%': {'range': (0.28477, 0.9404), 'avg': 0.53775, 'std_dev': 0.20672},\n",
              "  'Size-60%': {'range': (0.49669, 0.82781), 'avg': 0.6457, 'std_dev': 0.11309},\n",
              "  'Size-80%': {'range': (0.46358, 0.83444), 'avg': 0.6457, 'std_dev': 0.13083},\n",
              "  'Size-100%': {'range': (0.46358, 0.92053),\n",
              "   'avg': 0.76821,\n",
              "   'std_dev': 0.15014}},\n",
              " 'fpr': {'Size-20%': {'range': (0.0, 0.52817),\n",
              "   'avg': 0.1194,\n",
              "   'std_dev': 0.16073},\n",
              "  'Size-40%': {'range': (0.00709, 0.51408),\n",
              "   'avg': 0.11122,\n",
              "   'std_dev': 0.15185},\n",
              "  'Size-60%': {'range': (0.05594, 0.27972), 'avg': 0.1468, 'std_dev': 0.08152},\n",
              "  'Size-80%': {'range': (0.04895, 0.3007), 'avg': 0.14497, 'std_dev': 0.09999},\n",
              "  'Size-100%': {'range': (0.0493, 0.37063),\n",
              "   'avg': 0.22425,\n",
              "   'std_dev': 0.11406}},\n",
              " 'fnr': {'Size-20%': {'range': (0.09934, 0.90728),\n",
              "   'avg': 0.49404,\n",
              "   'std_dev': 0.26919},\n",
              "  'Size-40%': {'range': (0.0596, 0.71523), 'avg': 0.46225, 'std_dev': 0.20672},\n",
              "  'Size-60%': {'range': (0.17219, 0.50331),\n",
              "   'avg': 0.35431,\n",
              "   'std_dev': 0.11309},\n",
              "  'Size-80%': {'range': (0.16556, 0.53642), 'avg': 0.3543, 'std_dev': 0.13083},\n",
              "  'Size-100%': {'range': (0.07947, 0.53642),\n",
              "   'avg': 0.23179,\n",
              "   'std_dev': 0.15014}},\n",
              " 'tnr': {'Size-20%': {'range': (0.47183, 1.0),\n",
              "   'avg': 0.8806,\n",
              "   'std_dev': 0.16073},\n",
              "  'Size-40%': {'range': (0.48592, 0.99291),\n",
              "   'avg': 0.88879,\n",
              "   'std_dev': 0.15185},\n",
              "  'Size-60%': {'range': (0.72028, 0.94406), 'avg': 0.8532, 'std_dev': 0.08152},\n",
              "  'Size-80%': {'range': (0.6993, 0.95105), 'avg': 0.85503, 'std_dev': 0.09999},\n",
              "  'Size-100%': {'range': (0.62937, 0.9507),\n",
              "   'avg': 0.77575,\n",
              "   'std_dev': 0.11406}},\n",
              " 'npv': {'Size-20%': {'range': (0.51071, 0.82707),\n",
              "   'avg': 0.65615,\n",
              "   'std_dev': 0.11042},\n",
              "  'Size-40%': {'range': (0.56098, 0.88462),\n",
              "   'avg': 0.66767,\n",
              "   'std_dev': 0.10113},\n",
              "  'Size-60%': {'range': (0.63592, 0.81944),\n",
              "   'avg': 0.70069,\n",
              "   'std_dev': 0.05843},\n",
              "  'Size-80%': {'range': (0.62673, 0.80315),\n",
              "   'avg': 0.70481,\n",
              "   'std_dev': 0.05926},\n",
              "  'Size-100%': {'range': (0.625, 0.88991),\n",
              "   'avg': 0.77965,\n",
              "   'std_dev': 0.08841}},\n",
              " 'fdr': {'Size-20%': {'range': (0.0, 0.35545),\n",
              "   'avg': 0.12575,\n",
              "   'std_dev': 0.10096},\n",
              "  'Size-40%': {'range': (0.02, 0.33953), 'avg': 0.12518, 'std_dev': 0.09005},\n",
              "  'Size-60%': {'range': (0.08824, 0.27397),\n",
              "   'avg': 0.16585,\n",
              "   'std_dev': 0.06541},\n",
              "  'Size-80%': {'range': (0.07692, 0.2638), 'avg': 0.15737, 'std_dev': 0.06894},\n",
              "  'Size-100%': {'range': (0.09091, 0.27749),\n",
              "   'avg': 0.20112,\n",
              "   'std_dev': 0.06634}},\n",
              " 'mcc': {'Size-20%': {'range': (0.2176, 0.6195),\n",
              "   'avg': 0.44322,\n",
              "   'std_dev': 0.1269},\n",
              "  'Size-40%': {'range': (0.33781, 0.61594),\n",
              "   'avg': 0.47908,\n",
              "   'std_dev': 0.08779},\n",
              "  'Size-60%': {'range': (0.42212, 0.65288),\n",
              "   'avg': 0.51617,\n",
              "   'std_dev': 0.07213},\n",
              "  'Size-80%': {'range': (0.47134, 0.5623), 'avg': 0.52312, 'std_dev': 0.03279},\n",
              "  'Size-100%': {'range': (0.47039, 0.62414),\n",
              "   'avg': 0.56069,\n",
              "   'std_dev': 0.05244}}}"
            ]
          },
          "metadata": {},
          "execution_count": 10
        }
      ],
      "source": [
        "Metric_stats = end_of_exp()\n",
        "Metric_stats"
      ]
    },
    {
      "cell_type": "markdown",
      "metadata": {
        "id": "a5x5WXZArqkb"
      },
      "source": [
        "## Performance Graphs - Means and Ranges"
      ]
    },
    {
      "cell_type": "code",
      "execution_count": null,
      "metadata": {
        "id": "W8KJyXoZswhk"
      },
      "outputs": [],
      "source": [
        "def graph_metric(metric):\n",
        "\n",
        "    data = Metric_stats[metric]\n",
        "\n",
        "    # Extract data from the dictionary\n",
        "    strategies = list(data.keys())\n",
        "    averages = [data[strategy]['avg'] for strategy in strategies]\n",
        "    min_values = [data[strategy]['range'][0] for strategy in strategies]\n",
        "    max_values = [data[strategy]['range'][1] for strategy in strategies]\n",
        "    errors = [np.subtract(averages, min_values), np.subtract(max_values, averages)]\n",
        "    colors = ['C{}'.format(i) for i in range(len(data))]  # One color for each strategy\n",
        "\n",
        "    # using tuple unpacking to grab fig and axes\n",
        "    fig, ax = plt.subplots(figsize=(16, 6))\n",
        "\n",
        "    # plotting the bar plot\n",
        "    plt.plot(strategies, averages, 'o-', color='black', label=strategies)\n",
        "    # ax.bar(strategies, averages, alpha = 0)\n",
        "\n",
        "    # Plot error bars\n",
        "    for i, (strategy, avg) in enumerate(zip(strategies, averages)):\n",
        "        y_err_lower = errors[0][i]\n",
        "        y_err_upper = errors[1][i]\n",
        "        y_err = [[y_err_lower], [y_err_upper]]\n",
        "        ax.errorbar(strategy, avg, yerr=y_err, fmt='o', lw=2, capsize=4, capthick=2, color=colors[i])\n",
        "\n",
        "    # Set plot details\n",
        "    plt.title('Effect of different query set sizes on: {} [YouTube Data]'.format(metric_dict[metric]))\n",
        "    plt.xlabel('Selection Strategy')\n",
        "    plt.ylabel('Average (with range)')\n",
        "    plt.show()"
      ]
    },
    {
      "cell_type": "markdown",
      "metadata": {
        "id": "x50RWvZg4v5R"
      },
      "source": [
        "### Accuracy Graph"
      ]
    },
    {
      "cell_type": "code",
      "execution_count": null,
      "metadata": {
        "id": "e3c-VI_KzQQV",
        "colab": {
          "base_uri": "https://localhost:8080/",
          "height": 564
        },
        "outputId": "89eeb9a4-c9ef-496f-9857-f062a93078b7"
      },
      "outputs": [
        {
          "output_type": "display_data",
          "data": {
            "text/plain": [
              "<Figure size 1600x600 with 1 Axes>"
            ],
            "image/png": "[encoded data removed]"
          },
          "metadata": {}
        }
      ],
      "source": [
        "graph_metric('acc')"
      ]
    },
    {
      "cell_type": "markdown",
      "metadata": {
        "id": "q_sWQ9JU42mt"
      },
      "source": [
        "### F-1 Score Graph"
      ]
    },
    {
      "cell_type": "code",
      "execution_count": null,
      "metadata": {
        "id": "Pww-b5Sp41_e",
        "colab": {
          "base_uri": "https://localhost:8080/",
          "height": 564
        },
        "outputId": "a43c487d-3e46-42ba-9789-a227ed5dd585"
      },
      "outputs": [
        {
          "output_type": "display_data",
          "data": {
            "text/plain": [
              "<Figure size 1600x600 with 1 Axes>"
            ],
            "image/png": "[encoded data removed]"
          },
          "metadata": {}
        }
      ],
      "source": [
        "graph_metric('f1')"
      ]
    },
    {
      "cell_type": "markdown",
      "metadata": {
        "id": "38g1Y0aU5Kig"
      },
      "source": [
        "### Precision Graphs"
      ]
    },
    {
      "cell_type": "code",
      "execution_count": null,
      "metadata": {
        "id": "o3yhuCw048iy",
        "colab": {
          "base_uri": "https://localhost:8080/",
          "height": 564
        },
        "outputId": "72c904ea-5b80-4930-f548-1a2b3ffbbbf4"
      },
      "outputs": [
        {
          "output_type": "display_data",
          "data": {
            "text/plain": [
              "<Figure size 1600x600 with 1 Axes>"
            ],
            "image/png": "[encoded data removed]"
          },
          "metadata": {}
        }
      ],
      "source": [
        "graph_metric('ppv')"
      ]
    },
    {
      "cell_type": "markdown",
      "metadata": {
        "id": "Osb1Ursj5NwO"
      },
      "source": [
        "### Recall Graphs"
      ]
    },
    {
      "cell_type": "code",
      "execution_count": null,
      "metadata": {
        "id": "fRtEKs8x5Pjy",
        "colab": {
          "base_uri": "https://localhost:8080/",
          "height": 564
        },
        "outputId": "8550881c-d1c1-4417-de15-86702642b968"
      },
      "outputs": [
        {
          "output_type": "display_data",
          "data": {
            "text/plain": [
              "<Figure size 1600x600 with 1 Axes>"
            ],
            "image/png": "[encoded data removed]"
          },
          "metadata": {}
        }
      ],
      "source": [
        "graph_metric('tpr')"
      ]
    },
    {
      "cell_type": "markdown",
      "metadata": {
        "id": "Tiidxoog5dPI"
      },
      "source": [
        "### Matthews Correlation Coefficient Graphs"
      ]
    },
    {
      "cell_type": "code",
      "execution_count": null,
      "metadata": {
        "id": "a1oWvKp05hSY",
        "colab": {
          "base_uri": "https://localhost:8080/",
          "height": 564
        },
        "outputId": "696b5a19-7f34-4d63-f1ad-9f6b26f21c75"
      },
      "outputs": [
        {
          "output_type": "display_data",
          "data": {
            "text/plain": [
              "<Figure size 1600x600 with 1 Axes>"
            ],
            "image/png": "[encoded data removed]"
          },
          "metadata": {}
        }
      ],
      "source": [
        "graph_metric('mcc')"
      ]
    },
    {
      "cell_type": "markdown",
      "source": [
        "## Performance Graphs - Metric Variations"
      ],
      "metadata": {
        "id": "CbZ8aq8fUcb9"
      }
    },
    {
      "cell_type": "code",
      "source": [
        "def graph_variance(metric):\n",
        "\n",
        "    data = Metric_stats[metric]\n",
        "\n",
        "    # Extract data from the dictionary\n",
        "    strategies = list(data.keys())\n",
        "    averages = [data[strategy]['avg'] for strategy in strategies]\n",
        "    std_devs = [data[strategy]['std_dev']/2 for strategy in strategies]\n",
        "    colors = ['C{}'.format(i) for i in range(len(data))]  # One color for each strategy\n",
        "\n",
        "    plt.figure(figsize=(16, 6))\n",
        "    plt.bar(strategies, averages, yerr=std_devs, alpha = 0.3, capsize=5, color=colors)\n",
        "    plt.xlabel('Selection Strategy')\n",
        "    plt.ylabel('Average (with standard deviation)')\n",
        "    plt.title('Variation caused by different query set sizes on: {} [YouTube Data]'.format(metric_dict[metric]))\n",
        "    plt.show()"
      ],
      "metadata": {
        "id": "ldmcIpoQUi0T"
      },
      "execution_count": null,
      "outputs": []
    },
    {
      "cell_type": "markdown",
      "source": [
        "### Accuracy Variation"
      ],
      "metadata": {
        "id": "7i7St8uhUiry"
      }
    },
    {
      "cell_type": "code",
      "source": [
        "graph_variance('acc')"
      ],
      "metadata": {
        "id": "3xzXAGyvUihT",
        "colab": {
          "base_uri": "https://localhost:8080/",
          "height": 564
        },
        "outputId": "b902a1f8-25ed-4d02-f46b-5b8a272d3ec4"
      },
      "execution_count": null,
      "outputs": [
        {
          "output_type": "display_data",
          "data": {
            "text/plain": [
              "<Figure size 1600x600 with 1 Axes>"
            ],
            "image/png": "[encoded data removed]"
          },
          "metadata": {}
        }
      ]
    },
    {
      "cell_type": "markdown",
      "source": [
        "### F1-Score Variation"
      ],
      "metadata": {
        "id": "R_KHtwkWUiZP"
      }
    },
    {
      "cell_type": "code",
      "source": [
        "graph_variance('f1')"
      ],
      "metadata": {
        "id": "_Zic-DJwUiQb",
        "colab": {
          "base_uri": "https://localhost:8080/",
          "height": 564
        },
        "outputId": "36bbe49f-da4a-426c-f97d-15a00da51b08"
      },
      "execution_count": null,
      "outputs": [
        {
          "output_type": "display_data",
          "data": {
            "text/plain": [
              "<Figure size 1600x600 with 1 Axes>"
            ],
            "image/png": "[encoded data removed]"
          },
          "metadata": {}
        }
      ]
    },
    {
      "cell_type": "markdown",
      "source": [
        "### Precision Variation"
      ],
      "metadata": {
        "id": "4Bz9tLAEUiIM"
      }
    },
    {
      "cell_type": "code",
      "source": [
        "graph_variance('ppv')"
      ],
      "metadata": {
        "id": "zfaUJFiQUh8E",
        "colab": {
          "base_uri": "https://localhost:8080/",
          "height": 564
        },
        "outputId": "a199c83b-8e0c-47f2-d1ad-55507655c85f"
      },
      "execution_count": null,
      "outputs": [
        {
          "output_type": "display_data",
          "data": {
            "text/plain": [
              "<Figure size 1600x600 with 1 Axes>"
            ],
            "image/png": "[encoded data removed]"
          },
          "metadata": {}
        }
      ]
    },
    {
      "cell_type": "markdown",
      "source": [
        "### Recall Variation"
      ],
      "metadata": {
        "id": "ciE3KnhAUhm7"
      }
    },
    {
      "cell_type": "code",
      "source": [
        "graph_variance('tpr')"
      ],
      "metadata": {
        "id": "YnJerCUyUheO",
        "colab": {
          "base_uri": "https://localhost:8080/",
          "height": 564
        },
        "outputId": "9819b1e0-28fa-44f6-e3ca-e0792427fadf"
      },
      "execution_count": null,
      "outputs": [
        {
          "output_type": "display_data",
          "data": {
            "text/plain": [
              "<Figure size 1600x600 with 1 Axes>"
            ],
            "image/png": "[encoded data removed]"
          },
          "metadata": {}
        }
      ]
    },
    {
      "cell_type": "markdown",
      "source": [
        "### Matthews Correlation Coefficient Variation"
      ],
      "metadata": {
        "id": "_4WEQEyRUhA9"
      }
    },
    {
      "cell_type": "code",
      "source": [
        "graph_variance('mcc')"
      ],
      "metadata": {
        "id": "GgfovrzfUgwX",
        "colab": {
          "base_uri": "https://localhost:8080/",
          "height": 564
        },
        "outputId": "e1d330f7-c826-4156-9e41-234542ad7267"
      },
      "execution_count": null,
      "outputs": [
        {
          "output_type": "display_data",
          "data": {
            "text/plain": [
              "<Figure size 1600x600 with 1 Axes>"
            ],
            "image/png": "[encoded data removed]"
          },
          "metadata": {}
        }
      ]
    }
  ],
  "metadata": {
    "colab": {
      "provenance": [],
      "toc_visible": true
    },
    "kernelspec": {
      "display_name": "Python 3",
      "name": "python3"
    },
    "language_info": {
      "name": "python"
    }
  },
  "nbformat": 4,
  "nbformat_minor": 0
}